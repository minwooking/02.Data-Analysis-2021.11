{
  "nbformat": 4,
  "nbformat_minor": 0,
  "metadata": {
    "kernelspec": {
      "display_name": "Python 3",
      "language": "python",
      "name": "python3"
    },
    "language_info": {
      "codemirror_mode": {
        "name": "ipython",
        "version": 3
      },
      "file_extension": ".py",
      "mimetype": "text/x-python",
      "name": "python",
      "nbconvert_exporter": "python",
      "pygments_lexer": "ipython3",
      "version": "3.7.6"
    },
    "toc": {
      "base_numbering": 1,
      "nav_menu": {},
      "number_sections": true,
      "sideBar": true,
      "skip_h1_title": false,
      "title_cell": "Table of Contents",
      "title_sidebar": "Contents",
      "toc_cell": false,
      "toc_position": {},
      "toc_section_display": true,
      "toc_window_display": false
    },
    "varInspector": {
      "cols": {
        "lenName": 16,
        "lenType": 16,
        "lenVar": 40
      },
      "kernels_config": {
        "python": {
          "delete_cmd_postfix": "",
          "delete_cmd_prefix": "del ",
          "library": "var_list.py",
          "varRefreshCmd": "print(var_dic_list())"
        },
        "r": {
          "delete_cmd_postfix": ") ",
          "delete_cmd_prefix": "rm(",
          "library": "var_list.r",
          "varRefreshCmd": "cat(var_dic_list()) "
        }
      },
      "types_to_exclude": [
        "module",
        "function",
        "builtin_function_or_method",
        "instance",
        "_Feature"
      ],
      "window_display": false
    },
    "colab": {
      "name": "03.02.iris.ipynb",
      "provenance": [],
      "collapsed_sections": [],
      "include_colab_link": true
    }
  },
  "cells": [
    {
      "cell_type": "markdown",
      "metadata": {
        "id": "view-in-github",
        "colab_type": "text"
      },
      "source": [
        "<a href=\"https://colab.research.google.com/github/minwooking/Data-Analysis-2021.11/blob/main/03_02_iris.ipynb\" target=\"_parent\"><img src=\"https://colab.research.google.com/assets/colab-badge.svg\" alt=\"Open In Colab\"/></a>"
      ]
    },
    {
      "cell_type": "markdown",
      "metadata": {
        "id": "GEEhcRmHtJJT"
      },
      "source": [
        "## 2.1 iris 데이터 불러오기"
      ]
    },
    {
      "cell_type": "code",
      "metadata": {
        "colab": {
          "base_uri": "https://localhost:8080/"
        },
        "id": "TR-wcuortJJf",
        "outputId": "4d9511be-0e23-4ba8-8dde-ae4da7e7a691"
      },
      "source": [
        "from sklearn.datasets import load_iris\n",
        "data = load_iris()\n",
        "data.keys()"
      ],
      "execution_count": 1,
      "outputs": [
        {
          "output_type": "execute_result",
          "data": {
            "text/plain": [
              "dict_keys(['data', 'target', 'frame', 'target_names', 'DESCR', 'feature_names', 'filename', 'data_module'])"
            ]
          },
          "metadata": {},
          "execution_count": 1
        }
      ]
    },
    {
      "cell_type": "code",
      "metadata": {
        "colab": {
          "base_uri": "https://localhost:8080/"
        },
        "id": "9SKIGjjutJJg",
        "outputId": "70850d5a-1cd2-4af0-dd35-aef6f0a9b67a"
      },
      "source": [
        "print(data.data.shape, data.target.shape)\n",
        "print(data.target_names, data.feature_names)"
      ],
      "execution_count": 2,
      "outputs": [
        {
          "output_type": "stream",
          "name": "stdout",
          "text": [
            "(150, 4) (150,)\n",
            "['setosa' 'versicolor' 'virginica'] ['sepal length (cm)', 'sepal width (cm)', 'petal length (cm)', 'petal width (cm)']\n"
          ]
        }
      ]
    },
    {
      "cell_type": "code",
      "metadata": {
        "colab": {
          "base_uri": "https://localhost:8080/"
        },
        "id": "hzG1-jmAtJJh",
        "outputId": "2e70b261-ff13-43ab-bd7f-04517270f0c7"
      },
      "source": [
        "print(data.DESCR)"
      ],
      "execution_count": 3,
      "outputs": [
        {
          "output_type": "stream",
          "name": "stdout",
          "text": [
            ".. _iris_dataset:\n",
            "\n",
            "Iris plants dataset\n",
            "--------------------\n",
            "\n",
            "**Data Set Characteristics:**\n",
            "\n",
            "    :Number of Instances: 150 (50 in each of three classes)\n",
            "    :Number of Attributes: 4 numeric, predictive attributes and the class\n",
            "    :Attribute Information:\n",
            "        - sepal length in cm\n",
            "        - sepal width in cm\n",
            "        - petal length in cm\n",
            "        - petal width in cm\n",
            "        - class:\n",
            "                - Iris-Setosa\n",
            "                - Iris-Versicolour\n",
            "                - Iris-Virginica\n",
            "                \n",
            "    :Summary Statistics:\n",
            "\n",
            "    ============== ==== ==== ======= ===== ====================\n",
            "                    Min  Max   Mean    SD   Class Correlation\n",
            "    ============== ==== ==== ======= ===== ====================\n",
            "    sepal length:   4.3  7.9   5.84   0.83    0.7826\n",
            "    sepal width:    2.0  4.4   3.05   0.43   -0.4194\n",
            "    petal length:   1.0  6.9   3.76   1.76    0.9490  (high!)\n",
            "    petal width:    0.1  2.5   1.20   0.76    0.9565  (high!)\n",
            "    ============== ==== ==== ======= ===== ====================\n",
            "\n",
            "    :Missing Attribute Values: None\n",
            "    :Class Distribution: 33.3% for each of 3 classes.\n",
            "    :Creator: R.A. Fisher\n",
            "    :Donor: Michael Marshall (MARSHALL%PLU@io.arc.nasa.gov)\n",
            "    :Date: July, 1988\n",
            "\n",
            "The famous Iris database, first used by Sir R.A. Fisher. The dataset is taken\n",
            "from Fisher's paper. Note that it's the same as in R, but not as in the UCI\n",
            "Machine Learning Repository, which has two wrong data points.\n",
            "\n",
            "This is perhaps the best known database to be found in the\n",
            "pattern recognition literature.  Fisher's paper is a classic in the field and\n",
            "is referenced frequently to this day.  (See Duda & Hart, for example.)  The\n",
            "data set contains 3 classes of 50 instances each, where each class refers to a\n",
            "type of iris plant.  One class is linearly separable from the other 2; the\n",
            "latter are NOT linearly separable from each other.\n",
            "\n",
            ".. topic:: References\n",
            "\n",
            "   - Fisher, R.A. \"The use of multiple measurements in taxonomic problems\"\n",
            "     Annual Eugenics, 7, Part II, 179-188 (1936); also in \"Contributions to\n",
            "     Mathematical Statistics\" (John Wiley, NY, 1950).\n",
            "   - Duda, R.O., & Hart, P.E. (1973) Pattern Classification and Scene Analysis.\n",
            "     (Q327.D83) John Wiley & Sons.  ISBN 0-471-22361-1.  See page 218.\n",
            "   - Dasarathy, B.V. (1980) \"Nosing Around the Neighborhood: A New System\n",
            "     Structure and Classification Rule for Recognition in Partially Exposed\n",
            "     Environments\".  IEEE Transactions on Pattern Analysis and Machine\n",
            "     Intelligence, Vol. PAMI-2, No. 1, 67-71.\n",
            "   - Gates, G.W. (1972) \"The Reduced Nearest Neighbor Rule\".  IEEE Transactions\n",
            "     on Information Theory, May 1972, 431-433.\n",
            "   - See also: 1988 MLC Proceedings, 54-64.  Cheeseman et al\"s AUTOCLASS II\n",
            "     conceptual clustering system finds 3 classes in the data.\n",
            "   - Many, many more ...\n"
          ]
        }
      ]
    },
    {
      "cell_type": "code",
      "metadata": {
        "colab": {
          "base_uri": "https://localhost:8080/"
        },
        "id": "QnR2VOGwvIpW",
        "outputId": "4d4d029c-f87e-410f-a7ad-188b067ec85f"
      },
      "source": [
        "data.target"
      ],
      "execution_count": 4,
      "outputs": [
        {
          "output_type": "execute_result",
          "data": {
            "text/plain": [
              "array([0, 0, 0, 0, 0, 0, 0, 0, 0, 0, 0, 0, 0, 0, 0, 0, 0, 0, 0, 0, 0, 0,\n",
              "       0, 0, 0, 0, 0, 0, 0, 0, 0, 0, 0, 0, 0, 0, 0, 0, 0, 0, 0, 0, 0, 0,\n",
              "       0, 0, 0, 0, 0, 0, 1, 1, 1, 1, 1, 1, 1, 1, 1, 1, 1, 1, 1, 1, 1, 1,\n",
              "       1, 1, 1, 1, 1, 1, 1, 1, 1, 1, 1, 1, 1, 1, 1, 1, 1, 1, 1, 1, 1, 1,\n",
              "       1, 1, 1, 1, 1, 1, 1, 1, 1, 1, 1, 1, 2, 2, 2, 2, 2, 2, 2, 2, 2, 2,\n",
              "       2, 2, 2, 2, 2, 2, 2, 2, 2, 2, 2, 2, 2, 2, 2, 2, 2, 2, 2, 2, 2, 2,\n",
              "       2, 2, 2, 2, 2, 2, 2, 2, 2, 2, 2, 2, 2, 2, 2, 2, 2, 2])"
            ]
          },
          "metadata": {},
          "execution_count": 4
        }
      ]
    },
    {
      "cell_type": "markdown",
      "metadata": {
        "id": "iIxfyBOxtJJh"
      },
      "source": [
        "[Quiz] DecisionTreeClassifier를 이용하여 iris 데이터 분류모델을 작성하여 test에 대한 score를 계산하자."
      ]
    },
    {
      "cell_type": "code",
      "metadata": {
        "colab": {
          "base_uri": "https://localhost:8080/"
        },
        "id": "3YCfHsSctJJh",
        "outputId": "a3b91125-ebb7-4c87-a93e-559c66a1e15a"
      },
      "source": [
        "from sklearn.model_selection import train_test_split\n",
        "from sklearn.tree import DecisionTreeClassifier\n",
        "\n",
        "X_train, X_test, y_train, y_test = train_test_split(data.data, data.target, random_state=42)\n",
        "model = DecisionTreeClassifier(criterion='entropy')\n",
        "model.fit(X_train, y_train)\n",
        "model.score(X_test, y_test)"
      ],
      "execution_count": 5,
      "outputs": [
        {
          "output_type": "execute_result",
          "data": {
            "text/plain": [
              "0.9736842105263158"
            ]
          },
          "metadata": {},
          "execution_count": 5
        }
      ]
    },
    {
      "cell_type": "code",
      "metadata": {
        "colab": {
          "base_uri": "https://localhost:8080/",
          "height": 131
        },
        "id": "94psZO51tJJi",
        "outputId": "d71babdf-b892-4358-8a16-ca70e190f457"
      },
      "source": [
        "best= {}\n",
        "best['score'] = 0\n",
        "mds = [3,4,5]\n",
        "msls = range(2, 11)\n",
        "mlns = range(7, 12)\n",
        "for md in mds:\n",
        "    for msl in msls:\n",
        "        for mln in mlns:\n",
        "            m = DecisionTreeClassifier(criterion='entropy', max_depth=md, \n",
        "                                       min_samples_leaf=msl, max_leaf_nodes=mln)\n",
        "            m.fit(X_train, y_train)\n",
        "            score = m.score(X_test, y_test)\n",
        "            print(f\"current score is {score} at md={md}, msl={msl}, mln={mln}\")\n",
        "            if score > best['score']:\n",
        "                print(f\"current best score is {score} at md={md}, msl={msl}, mln={mln}\")\n",
        "                best['score'], best['md'], best['msl'], best['mln'], best['model'] = score, md, msl, mln, m\n",
        "print(best)"
      ],
      "execution_count": 80,
      "outputs": [
        {
          "output_type": "error",
          "ename": "SyntaxError",
          "evalue": "ignored",
          "traceback": [
            "\u001b[0;36m  File \u001b[0;32m\"<ipython-input-80-ae50a2fa006d>\"\u001b[0;36m, line \u001b[0;32m4\u001b[0m\n\u001b[0;31m    msls = range(2, 11)dddd\u001b[0m\n\u001b[0m                          ^\u001b[0m\n\u001b[0;31mSyntaxError\u001b[0m\u001b[0;31m:\u001b[0m invalid syntax\n"
          ]
        }
      ]
    },
    {
      "cell_type": "code",
      "metadata": {
        "id": "m7lr0NpdtJJi",
        "colab": {
          "base_uri": "https://localhost:8080/"
        },
        "outputId": "d6c6d006-fc02-4824-9f33-75a23597062f"
      },
      "source": [
        "best"
      ],
      "execution_count": 7,
      "outputs": [
        {
          "output_type": "execute_result",
          "data": {
            "text/plain": [
              "{'md': 4,\n",
              " 'mln': 7,\n",
              " 'model': DecisionTreeClassifier(criterion='entropy', max_depth=4, max_leaf_nodes=7,\n",
              "                        min_samples_leaf=2),\n",
              " 'msl': 2,\n",
              " 'score': 1.0}"
            ]
          },
          "metadata": {},
          "execution_count": 7
        }
      ]
    },
    {
      "cell_type": "code",
      "metadata": {
        "colab": {
          "base_uri": "https://localhost:8080/"
        },
        "id": "z_E8Lo7HtJJj",
        "outputId": "3667e0e8-15f9-4a98-ace9-e31d4d4ce4c4"
      },
      "source": [
        "model = DecisionTreeClassifier(criterion='entropy', max_depth=4)\n",
        "model.fit(X_train, y_train)\n",
        "model.score(X_test, y_test)"
      ],
      "execution_count": 8,
      "outputs": [
        {
          "output_type": "execute_result",
          "data": {
            "text/plain": [
              "1.0"
            ]
          },
          "metadata": {},
          "execution_count": 8
        }
      ]
    },
    {
      "cell_type": "code",
      "metadata": {
        "colab": {
          "base_uri": "https://localhost:8080/",
          "height": 757
        },
        "id": "fJiorksntJJj",
        "outputId": "d3e62c5e-c980-429e-e20e-63f0c35c1015"
      },
      "source": [
        "tree = model.tree_\n",
        "import graphviz\n",
        "from sklearn.tree import export_graphviz, plot_tree\n",
        "\n",
        "dot_data = export_graphviz(model, out_file=None, \n",
        "                     feature_names=data.feature_names,  \n",
        "                     class_names=data.target_names,  \n",
        "                     filled=True, rounded=True,  \n",
        "                     special_characters=True)  \n",
        "graph = graphviz.Source(dot_data)  \n",
        "graph"
      ],
      "execution_count": 9,
      "outputs": [
        {
          "output_type": "execute_result",
          "data": {
            "text/plain": [
              "<graphviz.files.Source at 0x7fc431e0fc90>"
            ],
            "image/svg+xml": "<?xml version=\"1.0\" encoding=\"UTF-8\" standalone=\"no\"?>\n<!DOCTYPE svg PUBLIC \"-//W3C//DTD SVG 1.1//EN\"\n \"http://www.w3.org/Graphics/SVG/1.1/DTD/svg11.dtd\">\n<!-- Generated by graphviz version 2.40.1 (20161225.0304)\n -->\n<!-- Title: Tree Pages: 1 -->\n<svg width=\"606pt\" height=\"552pt\"\n viewBox=\"0.00 0.00 605.50 552.00\" xmlns=\"http://www.w3.org/2000/svg\" xmlns:xlink=\"http://www.w3.org/1999/xlink\">\n<g id=\"graph0\" class=\"graph\" transform=\"scale(1 1) rotate(0) translate(4 548)\">\n<title>Tree</title>\n<polygon fill=\"#ffffff\" stroke=\"transparent\" points=\"-4,4 -4,-548 601.5,-548 601.5,4 -4,4\"/>\n<!-- 0 -->\n<g id=\"node1\" class=\"node\">\n<title>0</title>\n<path fill=\"#fcfffd\" stroke=\"#000000\" d=\"M280.5,-544C280.5,-544 137.5,-544 137.5,-544 131.5,-544 125.5,-538 125.5,-532 125.5,-532 125.5,-473 125.5,-473 125.5,-467 131.5,-461 137.5,-461 137.5,-461 280.5,-461 280.5,-461 286.5,-461 292.5,-467 292.5,-473 292.5,-473 292.5,-532 292.5,-532 292.5,-538 286.5,-544 280.5,-544\"/>\n<text text-anchor=\"start\" x=\"133.5\" y=\"-528.8\" font-family=\"Helvetica,sans-Serif\" font-size=\"14.00\" fill=\"#000000\">petal length (cm) ≤ 2.45</text>\n<text text-anchor=\"start\" x=\"158\" y=\"-513.8\" font-family=\"Helvetica,sans-Serif\" font-size=\"14.00\" fill=\"#000000\">entropy = 1.583</text>\n<text text-anchor=\"start\" x=\"161\" y=\"-498.8\" font-family=\"Helvetica,sans-Serif\" font-size=\"14.00\" fill=\"#000000\">samples = 112</text>\n<text text-anchor=\"start\" x=\"147\" y=\"-483.8\" font-family=\"Helvetica,sans-Serif\" font-size=\"14.00\" fill=\"#000000\">value = [35, 39, 38]</text>\n<text text-anchor=\"start\" x=\"153\" y=\"-468.8\" font-family=\"Helvetica,sans-Serif\" font-size=\"14.00\" fill=\"#000000\">class = versicolor</text>\n</g>\n<!-- 1 -->\n<g id=\"node2\" class=\"node\">\n<title>1</title>\n<path fill=\"#e58139\" stroke=\"#000000\" d=\"M177.5,-417.5C177.5,-417.5 78.5,-417.5 78.5,-417.5 72.5,-417.5 66.5,-411.5 66.5,-405.5 66.5,-405.5 66.5,-361.5 66.5,-361.5 66.5,-355.5 72.5,-349.5 78.5,-349.5 78.5,-349.5 177.5,-349.5 177.5,-349.5 183.5,-349.5 189.5,-355.5 189.5,-361.5 189.5,-361.5 189.5,-405.5 189.5,-405.5 189.5,-411.5 183.5,-417.5 177.5,-417.5\"/>\n<text text-anchor=\"start\" x=\"85.5\" y=\"-402.3\" font-family=\"Helvetica,sans-Serif\" font-size=\"14.00\" fill=\"#000000\">entropy = 0.0</text>\n<text text-anchor=\"start\" x=\"84\" y=\"-387.3\" font-family=\"Helvetica,sans-Serif\" font-size=\"14.00\" fill=\"#000000\">samples = 35</text>\n<text text-anchor=\"start\" x=\"74.5\" y=\"-372.3\" font-family=\"Helvetica,sans-Serif\" font-size=\"14.00\" fill=\"#000000\">value = [35, 0, 0]</text>\n<text text-anchor=\"start\" x=\"81\" y=\"-357.3\" font-family=\"Helvetica,sans-Serif\" font-size=\"14.00\" fill=\"#000000\">class = setosa</text>\n</g>\n<!-- 0&#45;&gt;1 -->\n<g id=\"edge1\" class=\"edge\">\n<title>0&#45;&gt;1</title>\n<path fill=\"none\" stroke=\"#000000\" d=\"M180.6701,-460.8796C173.0357,-449.6636 164.7652,-437.5131 157.0901,-426.2372\"/>\n<polygon fill=\"#000000\" stroke=\"#000000\" points=\"159.8775,-424.1122 151.3572,-417.8149 154.0908,-428.0511 159.8775,-424.1122\"/>\n<text text-anchor=\"middle\" x=\"146.6907\" y=\"-438.6755\" font-family=\"Helvetica,sans-Serif\" font-size=\"14.00\" fill=\"#000000\">True</text>\n</g>\n<!-- 2 -->\n<g id=\"node3\" class=\"node\">\n<title>2</title>\n<path fill=\"#fafefc\" stroke=\"#000000\" d=\"M362.5,-425C362.5,-425 219.5,-425 219.5,-425 213.5,-425 207.5,-419 207.5,-413 207.5,-413 207.5,-354 207.5,-354 207.5,-348 213.5,-342 219.5,-342 219.5,-342 362.5,-342 362.5,-342 368.5,-342 374.5,-348 374.5,-354 374.5,-354 374.5,-413 374.5,-413 374.5,-419 368.5,-425 362.5,-425\"/>\n<text text-anchor=\"start\" x=\"215.5\" y=\"-409.8\" font-family=\"Helvetica,sans-Serif\" font-size=\"14.00\" fill=\"#000000\">petal length (cm) ≤ 4.75</text>\n<text text-anchor=\"start\" x=\"248.5\" y=\"-394.8\" font-family=\"Helvetica,sans-Serif\" font-size=\"14.00\" fill=\"#000000\">entropy = 1.0</text>\n<text text-anchor=\"start\" x=\"247\" y=\"-379.8\" font-family=\"Helvetica,sans-Serif\" font-size=\"14.00\" fill=\"#000000\">samples = 77</text>\n<text text-anchor=\"start\" x=\"233.5\" y=\"-364.8\" font-family=\"Helvetica,sans-Serif\" font-size=\"14.00\" fill=\"#000000\">value = [0, 39, 38]</text>\n<text text-anchor=\"start\" x=\"235\" y=\"-349.8\" font-family=\"Helvetica,sans-Serif\" font-size=\"14.00\" fill=\"#000000\">class = versicolor</text>\n</g>\n<!-- 0&#45;&gt;2 -->\n<g id=\"edge2\" class=\"edge\">\n<title>0&#45;&gt;2</title>\n<path fill=\"none\" stroke=\"#000000\" d=\"M237.6796,-460.8796C243.7615,-452.0534 250.2422,-442.6485 256.5141,-433.5466\"/>\n<polygon fill=\"#000000\" stroke=\"#000000\" points=\"259.4059,-435.5184 262.198,-425.2981 253.6418,-431.5465 259.4059,-435.5184\"/>\n<text text-anchor=\"middle\" x=\"266.7239\" y=\"-446.185\" font-family=\"Helvetica,sans-Serif\" font-size=\"14.00\" fill=\"#000000\">False</text>\n</g>\n<!-- 3 -->\n<g id=\"node4\" class=\"node\">\n<title>3</title>\n<path fill=\"#3fe685\" stroke=\"#000000\" d=\"M268.5,-306C268.5,-306 131.5,-306 131.5,-306 125.5,-306 119.5,-300 119.5,-294 119.5,-294 119.5,-235 119.5,-235 119.5,-229 125.5,-223 131.5,-223 131.5,-223 268.5,-223 268.5,-223 274.5,-223 280.5,-229 280.5,-235 280.5,-235 280.5,-294 280.5,-294 280.5,-300 274.5,-306 268.5,-306\"/>\n<text text-anchor=\"start\" x=\"127.5\" y=\"-290.8\" font-family=\"Helvetica,sans-Serif\" font-size=\"14.00\" fill=\"#000000\">petal width (cm) ≤ 1.65</text>\n<text text-anchor=\"start\" x=\"149\" y=\"-275.8\" font-family=\"Helvetica,sans-Serif\" font-size=\"14.00\" fill=\"#000000\">entropy = 0.187</text>\n<text text-anchor=\"start\" x=\"156\" y=\"-260.8\" font-family=\"Helvetica,sans-Serif\" font-size=\"14.00\" fill=\"#000000\">samples = 35</text>\n<text text-anchor=\"start\" x=\"146.5\" y=\"-245.8\" font-family=\"Helvetica,sans-Serif\" font-size=\"14.00\" fill=\"#000000\">value = [0, 34, 1]</text>\n<text text-anchor=\"start\" x=\"144\" y=\"-230.8\" font-family=\"Helvetica,sans-Serif\" font-size=\"14.00\" fill=\"#000000\">class = versicolor</text>\n</g>\n<!-- 2&#45;&gt;3 -->\n<g id=\"edge3\" class=\"edge\">\n<title>2&#45;&gt;3</title>\n<path fill=\"none\" stroke=\"#000000\" d=\"M259.1726,-341.8796C252.3543,-332.9633 245.0844,-323.4565 238.0579,-314.268\"/>\n<polygon fill=\"#000000\" stroke=\"#000000\" points=\"240.818,-312.1156 231.9632,-306.2981 235.2575,-316.3678 240.818,-312.1156\"/>\n</g>\n<!-- 6 -->\n<g id=\"node7\" class=\"node\">\n<title>6</title>\n<path fill=\"#9254e9\" stroke=\"#000000\" d=\"M453.5,-306C453.5,-306 310.5,-306 310.5,-306 304.5,-306 298.5,-300 298.5,-294 298.5,-294 298.5,-235 298.5,-235 298.5,-229 304.5,-223 310.5,-223 310.5,-223 453.5,-223 453.5,-223 459.5,-223 465.5,-229 465.5,-235 465.5,-235 465.5,-294 465.5,-294 465.5,-300 459.5,-306 453.5,-306\"/>\n<text text-anchor=\"start\" x=\"306.5\" y=\"-290.8\" font-family=\"Helvetica,sans-Serif\" font-size=\"14.00\" fill=\"#000000\">petal length (cm) ≤ 5.15</text>\n<text text-anchor=\"start\" x=\"331\" y=\"-275.8\" font-family=\"Helvetica,sans-Serif\" font-size=\"14.00\" fill=\"#000000\">entropy = 0.527</text>\n<text text-anchor=\"start\" x=\"338\" y=\"-260.8\" font-family=\"Helvetica,sans-Serif\" font-size=\"14.00\" fill=\"#000000\">samples = 42</text>\n<text text-anchor=\"start\" x=\"328.5\" y=\"-245.8\" font-family=\"Helvetica,sans-Serif\" font-size=\"14.00\" fill=\"#000000\">value = [0, 5, 37]</text>\n<text text-anchor=\"start\" x=\"330.5\" y=\"-230.8\" font-family=\"Helvetica,sans-Serif\" font-size=\"14.00\" fill=\"#000000\">class = virginica</text>\n</g>\n<!-- 2&#45;&gt;6 -->\n<g id=\"edge6\" class=\"edge\">\n<title>2&#45;&gt;6</title>\n<path fill=\"none\" stroke=\"#000000\" d=\"M322.8274,-341.8796C329.6457,-332.9633 336.9156,-323.4565 343.9421,-314.268\"/>\n<polygon fill=\"#000000\" stroke=\"#000000\" points=\"346.7425,-316.3678 350.0368,-306.2981 341.182,-312.1156 346.7425,-316.3678\"/>\n</g>\n<!-- 4 -->\n<g id=\"node5\" class=\"node\">\n<title>4</title>\n<path fill=\"#39e581\" stroke=\"#000000\" d=\"M116,-179.5C116,-179.5 12,-179.5 12,-179.5 6,-179.5 0,-173.5 0,-167.5 0,-167.5 0,-123.5 0,-123.5 0,-117.5 6,-111.5 12,-111.5 12,-111.5 116,-111.5 116,-111.5 122,-111.5 128,-117.5 128,-123.5 128,-123.5 128,-167.5 128,-167.5 128,-173.5 122,-179.5 116,-179.5\"/>\n<text text-anchor=\"start\" x=\"21.5\" y=\"-164.3\" font-family=\"Helvetica,sans-Serif\" font-size=\"14.00\" fill=\"#000000\">entropy = 0.0</text>\n<text text-anchor=\"start\" x=\"20\" y=\"-149.3\" font-family=\"Helvetica,sans-Serif\" font-size=\"14.00\" fill=\"#000000\">samples = 34</text>\n<text text-anchor=\"start\" x=\"10.5\" y=\"-134.3\" font-family=\"Helvetica,sans-Serif\" font-size=\"14.00\" fill=\"#000000\">value = [0, 34, 0]</text>\n<text text-anchor=\"start\" x=\"8\" y=\"-119.3\" font-family=\"Helvetica,sans-Serif\" font-size=\"14.00\" fill=\"#000000\">class = versicolor</text>\n</g>\n<!-- 3&#45;&gt;4 -->\n<g id=\"edge4\" class=\"edge\">\n<title>3&#45;&gt;4</title>\n<path fill=\"none\" stroke=\"#000000\" d=\"M152.4338,-222.8796C138.9872,-211.1138 124.3653,-198.3197 110.9549,-186.5855\"/>\n<polygon fill=\"#000000\" stroke=\"#000000\" points=\"113.0476,-183.766 103.2171,-179.8149 108.4381,-189.034 113.0476,-183.766\"/>\n</g>\n<!-- 5 -->\n<g id=\"node6\" class=\"node\">\n<title>5</title>\n<path fill=\"#8139e5\" stroke=\"#000000\" d=\"M253.5,-179.5C253.5,-179.5 158.5,-179.5 158.5,-179.5 152.5,-179.5 146.5,-173.5 146.5,-167.5 146.5,-167.5 146.5,-123.5 146.5,-123.5 146.5,-117.5 152.5,-111.5 158.5,-111.5 158.5,-111.5 253.5,-111.5 253.5,-111.5 259.5,-111.5 265.5,-117.5 265.5,-123.5 265.5,-123.5 265.5,-167.5 265.5,-167.5 265.5,-173.5 259.5,-179.5 253.5,-179.5\"/>\n<text text-anchor=\"start\" x=\"163.5\" y=\"-164.3\" font-family=\"Helvetica,sans-Serif\" font-size=\"14.00\" fill=\"#000000\">entropy = 0.0</text>\n<text text-anchor=\"start\" x=\"166.5\" y=\"-149.3\" font-family=\"Helvetica,sans-Serif\" font-size=\"14.00\" fill=\"#000000\">samples = 1</text>\n<text text-anchor=\"start\" x=\"156.5\" y=\"-134.3\" font-family=\"Helvetica,sans-Serif\" font-size=\"14.00\" fill=\"#000000\">value = [0, 0, 1]</text>\n<text text-anchor=\"start\" x=\"154.5\" y=\"-119.3\" font-family=\"Helvetica,sans-Serif\" font-size=\"14.00\" fill=\"#000000\">class = virginica</text>\n</g>\n<!-- 3&#45;&gt;5 -->\n<g id=\"edge5\" class=\"edge\">\n<title>3&#45;&gt;5</title>\n<path fill=\"none\" stroke=\"#000000\" d=\"M202.0985,-222.8796C202.6363,-212.2134 203.2167,-200.7021 203.7613,-189.9015\"/>\n<polygon fill=\"#000000\" stroke=\"#000000\" points=\"207.2617,-189.9785 204.2698,-179.8149 200.2706,-189.626 207.2617,-189.9785\"/>\n</g>\n<!-- 7 -->\n<g id=\"node8\" class=\"node\">\n<title>7</title>\n<path fill=\"#ba93f1\" stroke=\"#000000\" d=\"M444.5,-187C444.5,-187 307.5,-187 307.5,-187 301.5,-187 295.5,-181 295.5,-175 295.5,-175 295.5,-116 295.5,-116 295.5,-110 301.5,-104 307.5,-104 307.5,-104 444.5,-104 444.5,-104 450.5,-104 456.5,-110 456.5,-116 456.5,-116 456.5,-175 456.5,-175 456.5,-181 450.5,-187 444.5,-187\"/>\n<text text-anchor=\"start\" x=\"303.5\" y=\"-171.8\" font-family=\"Helvetica,sans-Serif\" font-size=\"14.00\" fill=\"#000000\">petal width (cm) ≤ 1.75</text>\n<text text-anchor=\"start\" x=\"325\" y=\"-156.8\" font-family=\"Helvetica,sans-Serif\" font-size=\"14.00\" fill=\"#000000\">entropy = 0.896</text>\n<text text-anchor=\"start\" x=\"332\" y=\"-141.8\" font-family=\"Helvetica,sans-Serif\" font-size=\"14.00\" fill=\"#000000\">samples = 16</text>\n<text text-anchor=\"start\" x=\"322.5\" y=\"-126.8\" font-family=\"Helvetica,sans-Serif\" font-size=\"14.00\" fill=\"#000000\">value = [0, 5, 11]</text>\n<text text-anchor=\"start\" x=\"324.5\" y=\"-111.8\" font-family=\"Helvetica,sans-Serif\" font-size=\"14.00\" fill=\"#000000\">class = virginica</text>\n</g>\n<!-- 6&#45;&gt;7 -->\n<g id=\"edge7\" class=\"edge\">\n<title>6&#45;&gt;7</title>\n<path fill=\"none\" stroke=\"#000000\" d=\"M379.9015,-222.8796C379.4883,-214.6838 379.0499,-205.9891 378.6219,-197.5013\"/>\n<polygon fill=\"#000000\" stroke=\"#000000\" points=\"382.1067,-197.1091 378.1075,-187.2981 375.1156,-197.4617 382.1067,-197.1091\"/>\n</g>\n<!-- 10 -->\n<g id=\"node11\" class=\"node\">\n<title>10</title>\n<path fill=\"#8139e5\" stroke=\"#000000\" d=\"M585.5,-179.5C585.5,-179.5 486.5,-179.5 486.5,-179.5 480.5,-179.5 474.5,-173.5 474.5,-167.5 474.5,-167.5 474.5,-123.5 474.5,-123.5 474.5,-117.5 480.5,-111.5 486.5,-111.5 486.5,-111.5 585.5,-111.5 585.5,-111.5 591.5,-111.5 597.5,-117.5 597.5,-123.5 597.5,-123.5 597.5,-167.5 597.5,-167.5 597.5,-173.5 591.5,-179.5 585.5,-179.5\"/>\n<text text-anchor=\"start\" x=\"493.5\" y=\"-164.3\" font-family=\"Helvetica,sans-Serif\" font-size=\"14.00\" fill=\"#000000\">entropy = 0.0</text>\n<text text-anchor=\"start\" x=\"492\" y=\"-149.3\" font-family=\"Helvetica,sans-Serif\" font-size=\"14.00\" fill=\"#000000\">samples = 26</text>\n<text text-anchor=\"start\" x=\"482.5\" y=\"-134.3\" font-family=\"Helvetica,sans-Serif\" font-size=\"14.00\" fill=\"#000000\">value = [0, 0, 26]</text>\n<text text-anchor=\"start\" x=\"484.5\" y=\"-119.3\" font-family=\"Helvetica,sans-Serif\" font-size=\"14.00\" fill=\"#000000\">class = virginica</text>\n</g>\n<!-- 6&#45;&gt;10 -->\n<g id=\"edge10\" class=\"edge\">\n<title>6&#45;&gt;10</title>\n<path fill=\"none\" stroke=\"#000000\" d=\"M435.8617,-222.8796C451.2304,-211.0038 467.9547,-198.0804 483.2559,-186.2568\"/>\n<polygon fill=\"#000000\" stroke=\"#000000\" points=\"485.8196,-188.699 491.5924,-179.8149 481.5395,-183.1599 485.8196,-188.699\"/>\n</g>\n<!-- 8 -->\n<g id=\"node9\" class=\"node\">\n<title>8</title>\n<path fill=\"#9cf2c0\" stroke=\"#000000\" d=\"M357,-68C357,-68 253,-68 253,-68 247,-68 241,-62 241,-56 241,-56 241,-12 241,-12 241,-6 247,0 253,0 253,0 357,0 357,0 363,0 369,-6 369,-12 369,-12 369,-56 369,-56 369,-62 363,-68 357,-68\"/>\n<text text-anchor=\"start\" x=\"254\" y=\"-52.8\" font-family=\"Helvetica,sans-Serif\" font-size=\"14.00\" fill=\"#000000\">entropy = 0.918</text>\n<text text-anchor=\"start\" x=\"265.5\" y=\"-37.8\" font-family=\"Helvetica,sans-Serif\" font-size=\"14.00\" fill=\"#000000\">samples = 6</text>\n<text text-anchor=\"start\" x=\"255.5\" y=\"-22.8\" font-family=\"Helvetica,sans-Serif\" font-size=\"14.00\" fill=\"#000000\">value = [0, 4, 2]</text>\n<text text-anchor=\"start\" x=\"249\" y=\"-7.8\" font-family=\"Helvetica,sans-Serif\" font-size=\"14.00\" fill=\"#000000\">class = versicolor</text>\n</g>\n<!-- 7&#45;&gt;8 -->\n<g id=\"edge8\" class=\"edge\">\n<title>7&#45;&gt;8</title>\n<path fill=\"none\" stroke=\"#000000\" d=\"M349.5622,-103.9815C343.944,-95.1585 338.0012,-85.8258 332.3497,-76.9506\"/>\n<polygon fill=\"#000000\" stroke=\"#000000\" points=\"335.1416,-74.8188 326.8181,-68.2637 329.2371,-78.5787 335.1416,-74.8188\"/>\n</g>\n<!-- 9 -->\n<g id=\"node10\" class=\"node\">\n<title>9</title>\n<path fill=\"#8f4fe8\" stroke=\"#000000\" d=\"M494.5,-68C494.5,-68 399.5,-68 399.5,-68 393.5,-68 387.5,-62 387.5,-56 387.5,-56 387.5,-12 387.5,-12 387.5,-6 393.5,0 399.5,0 399.5,0 494.5,0 494.5,0 500.5,0 506.5,-6 506.5,-12 506.5,-12 506.5,-56 506.5,-56 506.5,-62 500.5,-68 494.5,-68\"/>\n<text text-anchor=\"start\" x=\"396\" y=\"-52.8\" font-family=\"Helvetica,sans-Serif\" font-size=\"14.00\" fill=\"#000000\">entropy = 0.469</text>\n<text text-anchor=\"start\" x=\"403\" y=\"-37.8\" font-family=\"Helvetica,sans-Serif\" font-size=\"14.00\" fill=\"#000000\">samples = 10</text>\n<text text-anchor=\"start\" x=\"397.5\" y=\"-22.8\" font-family=\"Helvetica,sans-Serif\" font-size=\"14.00\" fill=\"#000000\">value = [0, 1, 9]</text>\n<text text-anchor=\"start\" x=\"395.5\" y=\"-7.8\" font-family=\"Helvetica,sans-Serif\" font-size=\"14.00\" fill=\"#000000\">class = virginica</text>\n</g>\n<!-- 7&#45;&gt;9 -->\n<g id=\"edge9\" class=\"edge\">\n<title>7&#45;&gt;9</title>\n<path fill=\"none\" stroke=\"#000000\" d=\"M402.4378,-103.9815C408.056,-95.1585 413.9988,-85.8258 419.6503,-76.9506\"/>\n<polygon fill=\"#000000\" stroke=\"#000000\" points=\"422.7629,-78.5787 425.1819,-68.2637 416.8584,-74.8188 422.7629,-78.5787\"/>\n</g>\n</g>\n</svg>\n"
          },
          "metadata": {},
          "execution_count": 9
        }
      ]
    },
    {
      "cell_type": "markdown",
      "metadata": {
        "id": "GYTKt-dDtJJk"
      },
      "source": [
        "## 2.2 EDA 및 전처리"
      ]
    },
    {
      "cell_type": "code",
      "metadata": {
        "id": "RcRzIF6vtJJk"
      },
      "source": [
        "import pandas as pd\n",
        "import seaborn as sns\n",
        "import numpy as np\n",
        "import matplotlib.pyplot as plt"
      ],
      "execution_count": 10,
      "outputs": []
    },
    {
      "cell_type": "code",
      "metadata": {
        "colab": {
          "base_uri": "https://localhost:8080/",
          "height": 363
        },
        "id": "R-OY2QR5tJJk",
        "outputId": "d3fa7b91-2715-4028-e98e-d15cd285a138"
      },
      "source": [
        "iris = pd.DataFrame(data.data, columns=data.feature_names)\n",
        "iris.head(10)"
      ],
      "execution_count": 11,
      "outputs": [
        {
          "output_type": "execute_result",
          "data": {
            "text/html": [
              "\n",
              "  <div id=\"df-afd20292-249a-47f9-b25b-dc7d4eb0afc4\">\n",
              "    <div class=\"colab-df-container\">\n",
              "      <div>\n",
              "<style scoped>\n",
              "    .dataframe tbody tr th:only-of-type {\n",
              "        vertical-align: middle;\n",
              "    }\n",
              "\n",
              "    .dataframe tbody tr th {\n",
              "        vertical-align: top;\n",
              "    }\n",
              "\n",
              "    .dataframe thead th {\n",
              "        text-align: right;\n",
              "    }\n",
              "</style>\n",
              "<table border=\"1\" class=\"dataframe\">\n",
              "  <thead>\n",
              "    <tr style=\"text-align: right;\">\n",
              "      <th></th>\n",
              "      <th>sepal length (cm)</th>\n",
              "      <th>sepal width (cm)</th>\n",
              "      <th>petal length (cm)</th>\n",
              "      <th>petal width (cm)</th>\n",
              "    </tr>\n",
              "  </thead>\n",
              "  <tbody>\n",
              "    <tr>\n",
              "      <th>0</th>\n",
              "      <td>5.1</td>\n",
              "      <td>3.5</td>\n",
              "      <td>1.4</td>\n",
              "      <td>0.2</td>\n",
              "    </tr>\n",
              "    <tr>\n",
              "      <th>1</th>\n",
              "      <td>4.9</td>\n",
              "      <td>3.0</td>\n",
              "      <td>1.4</td>\n",
              "      <td>0.2</td>\n",
              "    </tr>\n",
              "    <tr>\n",
              "      <th>2</th>\n",
              "      <td>4.7</td>\n",
              "      <td>3.2</td>\n",
              "      <td>1.3</td>\n",
              "      <td>0.2</td>\n",
              "    </tr>\n",
              "    <tr>\n",
              "      <th>3</th>\n",
              "      <td>4.6</td>\n",
              "      <td>3.1</td>\n",
              "      <td>1.5</td>\n",
              "      <td>0.2</td>\n",
              "    </tr>\n",
              "    <tr>\n",
              "      <th>4</th>\n",
              "      <td>5.0</td>\n",
              "      <td>3.6</td>\n",
              "      <td>1.4</td>\n",
              "      <td>0.2</td>\n",
              "    </tr>\n",
              "    <tr>\n",
              "      <th>5</th>\n",
              "      <td>5.4</td>\n",
              "      <td>3.9</td>\n",
              "      <td>1.7</td>\n",
              "      <td>0.4</td>\n",
              "    </tr>\n",
              "    <tr>\n",
              "      <th>6</th>\n",
              "      <td>4.6</td>\n",
              "      <td>3.4</td>\n",
              "      <td>1.4</td>\n",
              "      <td>0.3</td>\n",
              "    </tr>\n",
              "    <tr>\n",
              "      <th>7</th>\n",
              "      <td>5.0</td>\n",
              "      <td>3.4</td>\n",
              "      <td>1.5</td>\n",
              "      <td>0.2</td>\n",
              "    </tr>\n",
              "    <tr>\n",
              "      <th>8</th>\n",
              "      <td>4.4</td>\n",
              "      <td>2.9</td>\n",
              "      <td>1.4</td>\n",
              "      <td>0.2</td>\n",
              "    </tr>\n",
              "    <tr>\n",
              "      <th>9</th>\n",
              "      <td>4.9</td>\n",
              "      <td>3.1</td>\n",
              "      <td>1.5</td>\n",
              "      <td>0.1</td>\n",
              "    </tr>\n",
              "  </tbody>\n",
              "</table>\n",
              "</div>\n",
              "      <button class=\"colab-df-convert\" onclick=\"convertToInteractive('df-afd20292-249a-47f9-b25b-dc7d4eb0afc4')\"\n",
              "              title=\"Convert this dataframe to an interactive table.\"\n",
              "              style=\"display:none;\">\n",
              "        \n",
              "  <svg xmlns=\"http://www.w3.org/2000/svg\" height=\"24px\"viewBox=\"0 0 24 24\"\n",
              "       width=\"24px\">\n",
              "    <path d=\"M0 0h24v24H0V0z\" fill=\"none\"/>\n",
              "    <path d=\"M18.56 5.44l.94 2.06.94-2.06 2.06-.94-2.06-.94-.94-2.06-.94 2.06-2.06.94zm-11 1L8.5 8.5l.94-2.06 2.06-.94-2.06-.94L8.5 2.5l-.94 2.06-2.06.94zm10 10l.94 2.06.94-2.06 2.06-.94-2.06-.94-.94-2.06-.94 2.06-2.06.94z\"/><path d=\"M17.41 7.96l-1.37-1.37c-.4-.4-.92-.59-1.43-.59-.52 0-1.04.2-1.43.59L10.3 9.45l-7.72 7.72c-.78.78-.78 2.05 0 2.83L4 21.41c.39.39.9.59 1.41.59.51 0 1.02-.2 1.41-.59l7.78-7.78 2.81-2.81c.8-.78.8-2.07 0-2.86zM5.41 20L4 18.59l7.72-7.72 1.47 1.35L5.41 20z\"/>\n",
              "  </svg>\n",
              "      </button>\n",
              "      \n",
              "  <style>\n",
              "    .colab-df-container {\n",
              "      display:flex;\n",
              "      flex-wrap:wrap;\n",
              "      gap: 12px;\n",
              "    }\n",
              "\n",
              "    .colab-df-convert {\n",
              "      background-color: #E8F0FE;\n",
              "      border: none;\n",
              "      border-radius: 50%;\n",
              "      cursor: pointer;\n",
              "      display: none;\n",
              "      fill: #1967D2;\n",
              "      height: 32px;\n",
              "      padding: 0 0 0 0;\n",
              "      width: 32px;\n",
              "    }\n",
              "\n",
              "    .colab-df-convert:hover {\n",
              "      background-color: #E2EBFA;\n",
              "      box-shadow: 0px 1px 2px rgba(60, 64, 67, 0.3), 0px 1px 3px 1px rgba(60, 64, 67, 0.15);\n",
              "      fill: #174EA6;\n",
              "    }\n",
              "\n",
              "    [theme=dark] .colab-df-convert {\n",
              "      background-color: #3B4455;\n",
              "      fill: #D2E3FC;\n",
              "    }\n",
              "\n",
              "    [theme=dark] .colab-df-convert:hover {\n",
              "      background-color: #434B5C;\n",
              "      box-shadow: 0px 1px 3px 1px rgba(0, 0, 0, 0.15);\n",
              "      filter: drop-shadow(0px 1px 2px rgba(0, 0, 0, 0.3));\n",
              "      fill: #FFFFFF;\n",
              "    }\n",
              "  </style>\n",
              "\n",
              "      <script>\n",
              "        const buttonEl =\n",
              "          document.querySelector('#df-afd20292-249a-47f9-b25b-dc7d4eb0afc4 button.colab-df-convert');\n",
              "        buttonEl.style.display =\n",
              "          google.colab.kernel.accessAllowed ? 'block' : 'none';\n",
              "\n",
              "        async function convertToInteractive(key) {\n",
              "          const element = document.querySelector('#df-afd20292-249a-47f9-b25b-dc7d4eb0afc4');\n",
              "          const dataTable =\n",
              "            await google.colab.kernel.invokeFunction('convertToInteractive',\n",
              "                                                     [key], {});\n",
              "          if (!dataTable) return;\n",
              "\n",
              "          const docLinkHtml = 'Like what you see? Visit the ' +\n",
              "            '<a target=\"_blank\" href=https://colab.research.google.com/notebooks/data_table.ipynb>data table notebook</a>'\n",
              "            + ' to learn more about interactive tables.';\n",
              "          element.innerHTML = '';\n",
              "          dataTable['output_type'] = 'display_data';\n",
              "          await google.colab.output.renderOutput(dataTable, element);\n",
              "          const docLink = document.createElement('div');\n",
              "          docLink.innerHTML = docLinkHtml;\n",
              "          element.appendChild(docLink);\n",
              "        }\n",
              "      </script>\n",
              "    </div>\n",
              "  </div>\n",
              "  "
            ],
            "text/plain": [
              "   sepal length (cm)  sepal width (cm)  petal length (cm)  petal width (cm)\n",
              "0                5.1               3.5                1.4               0.2\n",
              "1                4.9               3.0                1.4               0.2\n",
              "2                4.7               3.2                1.3               0.2\n",
              "3                4.6               3.1                1.5               0.2\n",
              "4                5.0               3.6                1.4               0.2\n",
              "5                5.4               3.9                1.7               0.4\n",
              "6                4.6               3.4                1.4               0.3\n",
              "7                5.0               3.4                1.5               0.2\n",
              "8                4.4               2.9                1.4               0.2\n",
              "9                4.9               3.1                1.5               0.1"
            ]
          },
          "metadata": {},
          "execution_count": 11
        }
      ]
    },
    {
      "cell_type": "code",
      "metadata": {
        "colab": {
          "base_uri": "https://localhost:8080/",
          "height": 299
        },
        "id": "w3cvX9uYU7yv",
        "outputId": "be0d4dfc-84a9-4737-a84d-fa5383637eed"
      },
      "source": [
        "colnames = iris.columns\n",
        "iris.plot.scatter(colnames[0], colnames[1])"
      ],
      "execution_count": 12,
      "outputs": [
        {
          "output_type": "execute_result",
          "data": {
            "text/plain": [
              "<matplotlib.axes._subplots.AxesSubplot at 0x7fc430055a90>"
            ]
          },
          "metadata": {},
          "execution_count": 12
        },
        {
          "output_type": "display_data",
          "data": {
            "image/png": "[encoded data removed]",
            "text/plain": [
              "<Figure size 432x288 with 1 Axes>"
            ]
          },
          "metadata": {
            "needs_background": "light"
          }
        }
      ]
    },
    {
      "cell_type": "code",
      "metadata": {
        "id": "yjk9opYNThZA",
        "colab": {
          "base_uri": "https://localhost:8080/"
        },
        "outputId": "74e3c220-d4b2-4a7d-c2f8-a0cca0e2119c"
      },
      "source": [
        "iris.values"
      ],
      "execution_count": 13,
      "outputs": [
        {
          "output_type": "execute_result",
          "data": {
            "text/plain": [
              "array([[5.1, 3.5, 1.4, 0.2],\n",
              "       [4.9, 3. , 1.4, 0.2],\n",
              "       [4.7, 3.2, 1.3, 0.2],\n",
              "       [4.6, 3.1, 1.5, 0.2],\n",
              "       [5. , 3.6, 1.4, 0.2],\n",
              "       [5.4, 3.9, 1.7, 0.4],\n",
              "       [4.6, 3.4, 1.4, 0.3],\n",
              "       [5. , 3.4, 1.5, 0.2],\n",
              "       [4.4, 2.9, 1.4, 0.2],\n",
              "       [4.9, 3.1, 1.5, 0.1],\n",
              "       [5.4, 3.7, 1.5, 0.2],\n",
              "       [4.8, 3.4, 1.6, 0.2],\n",
              "       [4.8, 3. , 1.4, 0.1],\n",
              "       [4.3, 3. , 1.1, 0.1],\n",
              "       [5.8, 4. , 1.2, 0.2],\n",
              "       [5.7, 4.4, 1.5, 0.4],\n",
              "       [5.4, 3.9, 1.3, 0.4],\n",
              "       [5.1, 3.5, 1.4, 0.3],\n",
              "       [5.7, 3.8, 1.7, 0.3],\n",
              "       [5.1, 3.8, 1.5, 0.3],\n",
              "       [5.4, 3.4, 1.7, 0.2],\n",
              "       [5.1, 3.7, 1.5, 0.4],\n",
              "       [4.6, 3.6, 1. , 0.2],\n",
              "       [5.1, 3.3, 1.7, 0.5],\n",
              "       [4.8, 3.4, 1.9, 0.2],\n",
              "       [5. , 3. , 1.6, 0.2],\n",
              "       [5. , 3.4, 1.6, 0.4],\n",
              "       [5.2, 3.5, 1.5, 0.2],\n",
              "       [5.2, 3.4, 1.4, 0.2],\n",
              "       [4.7, 3.2, 1.6, 0.2],\n",
              "       [4.8, 3.1, 1.6, 0.2],\n",
              "       [5.4, 3.4, 1.5, 0.4],\n",
              "       [5.2, 4.1, 1.5, 0.1],\n",
              "       [5.5, 4.2, 1.4, 0.2],\n",
              "       [4.9, 3.1, 1.5, 0.2],\n",
              "       [5. , 3.2, 1.2, 0.2],\n",
              "       [5.5, 3.5, 1.3, 0.2],\n",
              "       [4.9, 3.6, 1.4, 0.1],\n",
              "       [4.4, 3. , 1.3, 0.2],\n",
              "       [5.1, 3.4, 1.5, 0.2],\n",
              "       [5. , 3.5, 1.3, 0.3],\n",
              "       [4.5, 2.3, 1.3, 0.3],\n",
              "       [4.4, 3.2, 1.3, 0.2],\n",
              "       [5. , 3.5, 1.6, 0.6],\n",
              "       [5.1, 3.8, 1.9, 0.4],\n",
              "       [4.8, 3. , 1.4, 0.3],\n",
              "       [5.1, 3.8, 1.6, 0.2],\n",
              "       [4.6, 3.2, 1.4, 0.2],\n",
              "       [5.3, 3.7, 1.5, 0.2],\n",
              "       [5. , 3.3, 1.4, 0.2],\n",
              "       [7. , 3.2, 4.7, 1.4],\n",
              "       [6.4, 3.2, 4.5, 1.5],\n",
              "       [6.9, 3.1, 4.9, 1.5],\n",
              "       [5.5, 2.3, 4. , 1.3],\n",
              "       [6.5, 2.8, 4.6, 1.5],\n",
              "       [5.7, 2.8, 4.5, 1.3],\n",
              "       [6.3, 3.3, 4.7, 1.6],\n",
              "       [4.9, 2.4, 3.3, 1. ],\n",
              "       [6.6, 2.9, 4.6, 1.3],\n",
              "       [5.2, 2.7, 3.9, 1.4],\n",
              "       [5. , 2. , 3.5, 1. ],\n",
              "       [5.9, 3. , 4.2, 1.5],\n",
              "       [6. , 2.2, 4. , 1. ],\n",
              "       [6.1, 2.9, 4.7, 1.4],\n",
              "       [5.6, 2.9, 3.6, 1.3],\n",
              "       [6.7, 3.1, 4.4, 1.4],\n",
              "       [5.6, 3. , 4.5, 1.5],\n",
              "       [5.8, 2.7, 4.1, 1. ],\n",
              "       [6.2, 2.2, 4.5, 1.5],\n",
              "       [5.6, 2.5, 3.9, 1.1],\n",
              "       [5.9, 3.2, 4.8, 1.8],\n",
              "       [6.1, 2.8, 4. , 1.3],\n",
              "       [6.3, 2.5, 4.9, 1.5],\n",
              "       [6.1, 2.8, 4.7, 1.2],\n",
              "       [6.4, 2.9, 4.3, 1.3],\n",
              "       [6.6, 3. , 4.4, 1.4],\n",
              "       [6.8, 2.8, 4.8, 1.4],\n",
              "       [6.7, 3. , 5. , 1.7],\n",
              "       [6. , 2.9, 4.5, 1.5],\n",
              "       [5.7, 2.6, 3.5, 1. ],\n",
              "       [5.5, 2.4, 3.8, 1.1],\n",
              "       [5.5, 2.4, 3.7, 1. ],\n",
              "       [5.8, 2.7, 3.9, 1.2],\n",
              "       [6. , 2.7, 5.1, 1.6],\n",
              "       [5.4, 3. , 4.5, 1.5],\n",
              "       [6. , 3.4, 4.5, 1.6],\n",
              "       [6.7, 3.1, 4.7, 1.5],\n",
              "       [6.3, 2.3, 4.4, 1.3],\n",
              "       [5.6, 3. , 4.1, 1.3],\n",
              "       [5.5, 2.5, 4. , 1.3],\n",
              "       [5.5, 2.6, 4.4, 1.2],\n",
              "       [6.1, 3. , 4.6, 1.4],\n",
              "       [5.8, 2.6, 4. , 1.2],\n",
              "       [5. , 2.3, 3.3, 1. ],\n",
              "       [5.6, 2.7, 4.2, 1.3],\n",
              "       [5.7, 3. , 4.2, 1.2],\n",
              "       [5.7, 2.9, 4.2, 1.3],\n",
              "       [6.2, 2.9, 4.3, 1.3],\n",
              "       [5.1, 2.5, 3. , 1.1],\n",
              "       [5.7, 2.8, 4.1, 1.3],\n",
              "       [6.3, 3.3, 6. , 2.5],\n",
              "       [5.8, 2.7, 5.1, 1.9],\n",
              "       [7.1, 3. , 5.9, 2.1],\n",
              "       [6.3, 2.9, 5.6, 1.8],\n",
              "       [6.5, 3. , 5.8, 2.2],\n",
              "       [7.6, 3. , 6.6, 2.1],\n",
              "       [4.9, 2.5, 4.5, 1.7],\n",
              "       [7.3, 2.9, 6.3, 1.8],\n",
              "       [6.7, 2.5, 5.8, 1.8],\n",
              "       [7.2, 3.6, 6.1, 2.5],\n",
              "       [6.5, 3.2, 5.1, 2. ],\n",
              "       [6.4, 2.7, 5.3, 1.9],\n",
              "       [6.8, 3. , 5.5, 2.1],\n",
              "       [5.7, 2.5, 5. , 2. ],\n",
              "       [5.8, 2.8, 5.1, 2.4],\n",
              "       [6.4, 3.2, 5.3, 2.3],\n",
              "       [6.5, 3. , 5.5, 1.8],\n",
              "       [7.7, 3.8, 6.7, 2.2],\n",
              "       [7.7, 2.6, 6.9, 2.3],\n",
              "       [6. , 2.2, 5. , 1.5],\n",
              "       [6.9, 3.2, 5.7, 2.3],\n",
              "       [5.6, 2.8, 4.9, 2. ],\n",
              "       [7.7, 2.8, 6.7, 2. ],\n",
              "       [6.3, 2.7, 4.9, 1.8],\n",
              "       [6.7, 3.3, 5.7, 2.1],\n",
              "       [7.2, 3.2, 6. , 1.8],\n",
              "       [6.2, 2.8, 4.8, 1.8],\n",
              "       [6.1, 3. , 4.9, 1.8],\n",
              "       [6.4, 2.8, 5.6, 2.1],\n",
              "       [7.2, 3. , 5.8, 1.6],\n",
              "       [7.4, 2.8, 6.1, 1.9],\n",
              "       [7.9, 3.8, 6.4, 2. ],\n",
              "       [6.4, 2.8, 5.6, 2.2],\n",
              "       [6.3, 2.8, 5.1, 1.5],\n",
              "       [6.1, 2.6, 5.6, 1.4],\n",
              "       [7.7, 3. , 6.1, 2.3],\n",
              "       [6.3, 3.4, 5.6, 2.4],\n",
              "       [6.4, 3.1, 5.5, 1.8],\n",
              "       [6. , 3. , 4.8, 1.8],\n",
              "       [6.9, 3.1, 5.4, 2.1],\n",
              "       [6.7, 3.1, 5.6, 2.4],\n",
              "       [6.9, 3.1, 5.1, 2.3],\n",
              "       [5.8, 2.7, 5.1, 1.9],\n",
              "       [6.8, 3.2, 5.9, 2.3],\n",
              "       [6.7, 3.3, 5.7, 2.5],\n",
              "       [6.7, 3. , 5.2, 2.3],\n",
              "       [6.3, 2.5, 5. , 1.9],\n",
              "       [6.5, 3. , 5.2, 2. ],\n",
              "       [6.2, 3.4, 5.4, 2.3],\n",
              "       [5.9, 3. , 5.1, 1.8]])"
            ]
          },
          "metadata": {},
          "execution_count": 13
        }
      ]
    },
    {
      "cell_type": "code",
      "metadata": {
        "colab": {
          "base_uri": "https://localhost:8080/"
        },
        "id": "xfQDa1AltJJk",
        "outputId": "b7f8dff7-9616-40a4-bfb7-34cc0082e46e"
      },
      "source": [
        "np.unique(data.target, return_counts=True)"
      ],
      "execution_count": 14,
      "outputs": [
        {
          "output_type": "execute_result",
          "data": {
            "text/plain": [
              "(array([0, 1, 2]), array([50, 50, 50]))"
            ]
          },
          "metadata": {},
          "execution_count": 14
        }
      ]
    },
    {
      "cell_type": "code",
      "metadata": {
        "colab": {
          "base_uri": "https://localhost:8080/"
        },
        "id": "VcEynKdLSFJO",
        "outputId": "d42aa13f-a829-4169-95aa-6b2ca2020059"
      },
      "source": [
        "Species = pd.Series(data.target)\n",
        "Species.value_counts()"
      ],
      "execution_count": 15,
      "outputs": [
        {
          "output_type": "execute_result",
          "data": {
            "text/plain": [
              "2    50\n",
              "1    50\n",
              "0    50\n",
              "dtype: int64"
            ]
          },
          "metadata": {},
          "execution_count": 15
        }
      ]
    },
    {
      "cell_type": "code",
      "metadata": {
        "id": "-5vGW1GAtJJl",
        "colab": {
          "base_uri": "https://localhost:8080/"
        },
        "outputId": "6c01bc11-9b85-4e22-edd7-5f45dcde65de"
      },
      "source": [
        "print(data.target_names.shape, data.target_names[data.target].shape)"
      ],
      "execution_count": 16,
      "outputs": [
        {
          "output_type": "stream",
          "name": "stdout",
          "text": [
            "(3,) (150,)\n"
          ]
        }
      ]
    },
    {
      "cell_type": "code",
      "metadata": {
        "id": "UBzyIroCtJJl",
        "colab": {
          "base_uri": "https://localhost:8080/"
        },
        "outputId": "f7195549-a326-48ef-826d-ac26255a2acf"
      },
      "source": [
        "np.hstack((data.target.reshape(-1,1), data.target_names[data.target].reshape(-1,1)))"
      ],
      "execution_count": 17,
      "outputs": [
        {
          "output_type": "execute_result",
          "data": {
            "text/plain": [
              "array([['0', 'setosa'],\n",
              "       ['0', 'setosa'],\n",
              "       ['0', 'setosa'],\n",
              "       ['0', 'setosa'],\n",
              "       ['0', 'setosa'],\n",
              "       ['0', 'setosa'],\n",
              "       ['0', 'setosa'],\n",
              "       ['0', 'setosa'],\n",
              "       ['0', 'setosa'],\n",
              "       ['0', 'setosa'],\n",
              "       ['0', 'setosa'],\n",
              "       ['0', 'setosa'],\n",
              "       ['0', 'setosa'],\n",
              "       ['0', 'setosa'],\n",
              "       ['0', 'setosa'],\n",
              "       ['0', 'setosa'],\n",
              "       ['0', 'setosa'],\n",
              "       ['0', 'setosa'],\n",
              "       ['0', 'setosa'],\n",
              "       ['0', 'setosa'],\n",
              "       ['0', 'setosa'],\n",
              "       ['0', 'setosa'],\n",
              "       ['0', 'setosa'],\n",
              "       ['0', 'setosa'],\n",
              "       ['0', 'setosa'],\n",
              "       ['0', 'setosa'],\n",
              "       ['0', 'setosa'],\n",
              "       ['0', 'setosa'],\n",
              "       ['0', 'setosa'],\n",
              "       ['0', 'setosa'],\n",
              "       ['0', 'setosa'],\n",
              "       ['0', 'setosa'],\n",
              "       ['0', 'setosa'],\n",
              "       ['0', 'setosa'],\n",
              "       ['0', 'setosa'],\n",
              "       ['0', 'setosa'],\n",
              "       ['0', 'setosa'],\n",
              "       ['0', 'setosa'],\n",
              "       ['0', 'setosa'],\n",
              "       ['0', 'setosa'],\n",
              "       ['0', 'setosa'],\n",
              "       ['0', 'setosa'],\n",
              "       ['0', 'setosa'],\n",
              "       ['0', 'setosa'],\n",
              "       ['0', 'setosa'],\n",
              "       ['0', 'setosa'],\n",
              "       ['0', 'setosa'],\n",
              "       ['0', 'setosa'],\n",
              "       ['0', 'setosa'],\n",
              "       ['0', 'setosa'],\n",
              "       ['1', 'versicolor'],\n",
              "       ['1', 'versicolor'],\n",
              "       ['1', 'versicolor'],\n",
              "       ['1', 'versicolor'],\n",
              "       ['1', 'versicolor'],\n",
              "       ['1', 'versicolor'],\n",
              "       ['1', 'versicolor'],\n",
              "       ['1', 'versicolor'],\n",
              "       ['1', 'versicolor'],\n",
              "       ['1', 'versicolor'],\n",
              "       ['1', 'versicolor'],\n",
              "       ['1', 'versicolor'],\n",
              "       ['1', 'versicolor'],\n",
              "       ['1', 'versicolor'],\n",
              "       ['1', 'versicolor'],\n",
              "       ['1', 'versicolor'],\n",
              "       ['1', 'versicolor'],\n",
              "       ['1', 'versicolor'],\n",
              "       ['1', 'versicolor'],\n",
              "       ['1', 'versicolor'],\n",
              "       ['1', 'versicolor'],\n",
              "       ['1', 'versicolor'],\n",
              "       ['1', 'versicolor'],\n",
              "       ['1', 'versicolor'],\n",
              "       ['1', 'versicolor'],\n",
              "       ['1', 'versicolor'],\n",
              "       ['1', 'versicolor'],\n",
              "       ['1', 'versicolor'],\n",
              "       ['1', 'versicolor'],\n",
              "       ['1', 'versicolor'],\n",
              "       ['1', 'versicolor'],\n",
              "       ['1', 'versicolor'],\n",
              "       ['1', 'versicolor'],\n",
              "       ['1', 'versicolor'],\n",
              "       ['1', 'versicolor'],\n",
              "       ['1', 'versicolor'],\n",
              "       ['1', 'versicolor'],\n",
              "       ['1', 'versicolor'],\n",
              "       ['1', 'versicolor'],\n",
              "       ['1', 'versicolor'],\n",
              "       ['1', 'versicolor'],\n",
              "       ['1', 'versicolor'],\n",
              "       ['1', 'versicolor'],\n",
              "       ['1', 'versicolor'],\n",
              "       ['1', 'versicolor'],\n",
              "       ['1', 'versicolor'],\n",
              "       ['1', 'versicolor'],\n",
              "       ['1', 'versicolor'],\n",
              "       ['1', 'versicolor'],\n",
              "       ['1', 'versicolor'],\n",
              "       ['2', 'virginica'],\n",
              "       ['2', 'virginica'],\n",
              "       ['2', 'virginica'],\n",
              "       ['2', 'virginica'],\n",
              "       ['2', 'virginica'],\n",
              "       ['2', 'virginica'],\n",
              "       ['2', 'virginica'],\n",
              "       ['2', 'virginica'],\n",
              "       ['2', 'virginica'],\n",
              "       ['2', 'virginica'],\n",
              "       ['2', 'virginica'],\n",
              "       ['2', 'virginica'],\n",
              "       ['2', 'virginica'],\n",
              "       ['2', 'virginica'],\n",
              "       ['2', 'virginica'],\n",
              "       ['2', 'virginica'],\n",
              "       ['2', 'virginica'],\n",
              "       ['2', 'virginica'],\n",
              "       ['2', 'virginica'],\n",
              "       ['2', 'virginica'],\n",
              "       ['2', 'virginica'],\n",
              "       ['2', 'virginica'],\n",
              "       ['2', 'virginica'],\n",
              "       ['2', 'virginica'],\n",
              "       ['2', 'virginica'],\n",
              "       ['2', 'virginica'],\n",
              "       ['2', 'virginica'],\n",
              "       ['2', 'virginica'],\n",
              "       ['2', 'virginica'],\n",
              "       ['2', 'virginica'],\n",
              "       ['2', 'virginica'],\n",
              "       ['2', 'virginica'],\n",
              "       ['2', 'virginica'],\n",
              "       ['2', 'virginica'],\n",
              "       ['2', 'virginica'],\n",
              "       ['2', 'virginica'],\n",
              "       ['2', 'virginica'],\n",
              "       ['2', 'virginica'],\n",
              "       ['2', 'virginica'],\n",
              "       ['2', 'virginica'],\n",
              "       ['2', 'virginica'],\n",
              "       ['2', 'virginica'],\n",
              "       ['2', 'virginica'],\n",
              "       ['2', 'virginica'],\n",
              "       ['2', 'virginica'],\n",
              "       ['2', 'virginica'],\n",
              "       ['2', 'virginica'],\n",
              "       ['2', 'virginica'],\n",
              "       ['2', 'virginica'],\n",
              "       ['2', 'virginica']], dtype='<U21')"
            ]
          },
          "metadata": {},
          "execution_count": 17
        }
      ]
    },
    {
      "cell_type": "code",
      "metadata": {
        "id": "gXOPRN0GtJJl",
        "colab": {
          "base_uri": "https://localhost:8080/",
          "height": 206
        },
        "outputId": "f318ffd2-6001-4b9e-c324-47b04ee65d68"
      },
      "source": [
        "iris.columns = ['sl', 'sw', 'pl', 'pw']\n",
        "iris['Species'] = data.target_names[data.target]\n",
        "iris.head()"
      ],
      "execution_count": 18,
      "outputs": [
        {
          "output_type": "execute_result",
          "data": {
            "text/html": [
              "\n",
              "  <div id=\"df-cfe5a069-29a6-4795-86fd-70cac11563ab\">\n",
              "    <div class=\"colab-df-container\">\n",
              "      <div>\n",
              "<style scoped>\n",
              "    .dataframe tbody tr th:only-of-type {\n",
              "        vertical-align: middle;\n",
              "    }\n",
              "\n",
              "    .dataframe tbody tr th {\n",
              "        vertical-align: top;\n",
              "    }\n",
              "\n",
              "    .dataframe thead th {\n",
              "        text-align: right;\n",
              "    }\n",
              "</style>\n",
              "<table border=\"1\" class=\"dataframe\">\n",
              "  <thead>\n",
              "    <tr style=\"text-align: right;\">\n",
              "      <th></th>\n",
              "      <th>sl</th>\n",
              "      <th>sw</th>\n",
              "      <th>pl</th>\n",
              "      <th>pw</th>\n",
              "      <th>Species</th>\n",
              "    </tr>\n",
              "  </thead>\n",
              "  <tbody>\n",
              "    <tr>\n",
              "      <th>0</th>\n",
              "      <td>5.1</td>\n",
              "      <td>3.5</td>\n",
              "      <td>1.4</td>\n",
              "      <td>0.2</td>\n",
              "      <td>setosa</td>\n",
              "    </tr>\n",
              "    <tr>\n",
              "      <th>1</th>\n",
              "      <td>4.9</td>\n",
              "      <td>3.0</td>\n",
              "      <td>1.4</td>\n",
              "      <td>0.2</td>\n",
              "      <td>setosa</td>\n",
              "    </tr>\n",
              "    <tr>\n",
              "      <th>2</th>\n",
              "      <td>4.7</td>\n",
              "      <td>3.2</td>\n",
              "      <td>1.3</td>\n",
              "      <td>0.2</td>\n",
              "      <td>setosa</td>\n",
              "    </tr>\n",
              "    <tr>\n",
              "      <th>3</th>\n",
              "      <td>4.6</td>\n",
              "      <td>3.1</td>\n",
              "      <td>1.5</td>\n",
              "      <td>0.2</td>\n",
              "      <td>setosa</td>\n",
              "    </tr>\n",
              "    <tr>\n",
              "      <th>4</th>\n",
              "      <td>5.0</td>\n",
              "      <td>3.6</td>\n",
              "      <td>1.4</td>\n",
              "      <td>0.2</td>\n",
              "      <td>setosa</td>\n",
              "    </tr>\n",
              "  </tbody>\n",
              "</table>\n",
              "</div>\n",
              "      <button class=\"colab-df-convert\" onclick=\"convertToInteractive('df-cfe5a069-29a6-4795-86fd-70cac11563ab')\"\n",
              "              title=\"Convert this dataframe to an interactive table.\"\n",
              "              style=\"display:none;\">\n",
              "        \n",
              "  <svg xmlns=\"http://www.w3.org/2000/svg\" height=\"24px\"viewBox=\"0 0 24 24\"\n",
              "       width=\"24px\">\n",
              "    <path d=\"M0 0h24v24H0V0z\" fill=\"none\"/>\n",
              "    <path d=\"M18.56 5.44l.94 2.06.94-2.06 2.06-.94-2.06-.94-.94-2.06-.94 2.06-2.06.94zm-11 1L8.5 8.5l.94-2.06 2.06-.94-2.06-.94L8.5 2.5l-.94 2.06-2.06.94zm10 10l.94 2.06.94-2.06 2.06-.94-2.06-.94-.94-2.06-.94 2.06-2.06.94z\"/><path d=\"M17.41 7.96l-1.37-1.37c-.4-.4-.92-.59-1.43-.59-.52 0-1.04.2-1.43.59L10.3 9.45l-7.72 7.72c-.78.78-.78 2.05 0 2.83L4 21.41c.39.39.9.59 1.41.59.51 0 1.02-.2 1.41-.59l7.78-7.78 2.81-2.81c.8-.78.8-2.07 0-2.86zM5.41 20L4 18.59l7.72-7.72 1.47 1.35L5.41 20z\"/>\n",
              "  </svg>\n",
              "      </button>\n",
              "      \n",
              "  <style>\n",
              "    .colab-df-container {\n",
              "      display:flex;\n",
              "      flex-wrap:wrap;\n",
              "      gap: 12px;\n",
              "    }\n",
              "\n",
              "    .colab-df-convert {\n",
              "      background-color: #E8F0FE;\n",
              "      border: none;\n",
              "      border-radius: 50%;\n",
              "      cursor: pointer;\n",
              "      display: none;\n",
              "      fill: #1967D2;\n",
              "      height: 32px;\n",
              "      padding: 0 0 0 0;\n",
              "      width: 32px;\n",
              "    }\n",
              "\n",
              "    .colab-df-convert:hover {\n",
              "      background-color: #E2EBFA;\n",
              "      box-shadow: 0px 1px 2px rgba(60, 64, 67, 0.3), 0px 1px 3px 1px rgba(60, 64, 67, 0.15);\n",
              "      fill: #174EA6;\n",
              "    }\n",
              "\n",
              "    [theme=dark] .colab-df-convert {\n",
              "      background-color: #3B4455;\n",
              "      fill: #D2E3FC;\n",
              "    }\n",
              "\n",
              "    [theme=dark] .colab-df-convert:hover {\n",
              "      background-color: #434B5C;\n",
              "      box-shadow: 0px 1px 3px 1px rgba(0, 0, 0, 0.15);\n",
              "      filter: drop-shadow(0px 1px 2px rgba(0, 0, 0, 0.3));\n",
              "      fill: #FFFFFF;\n",
              "    }\n",
              "  </style>\n",
              "\n",
              "      <script>\n",
              "        const buttonEl =\n",
              "          document.querySelector('#df-cfe5a069-29a6-4795-86fd-70cac11563ab button.colab-df-convert');\n",
              "        buttonEl.style.display =\n",
              "          google.colab.kernel.accessAllowed ? 'block' : 'none';\n",
              "\n",
              "        async function convertToInteractive(key) {\n",
              "          const element = document.querySelector('#df-cfe5a069-29a6-4795-86fd-70cac11563ab');\n",
              "          const dataTable =\n",
              "            await google.colab.kernel.invokeFunction('convertToInteractive',\n",
              "                                                     [key], {});\n",
              "          if (!dataTable) return;\n",
              "\n",
              "          const docLinkHtml = 'Like what you see? Visit the ' +\n",
              "            '<a target=\"_blank\" href=https://colab.research.google.com/notebooks/data_table.ipynb>data table notebook</a>'\n",
              "            + ' to learn more about interactive tables.';\n",
              "          element.innerHTML = '';\n",
              "          dataTable['output_type'] = 'display_data';\n",
              "          await google.colab.output.renderOutput(dataTable, element);\n",
              "          const docLink = document.createElement('div');\n",
              "          docLink.innerHTML = docLinkHtml;\n",
              "          element.appendChild(docLink);\n",
              "        }\n",
              "      </script>\n",
              "    </div>\n",
              "  </div>\n",
              "  "
            ],
            "text/plain": [
              "    sl   sw   pl   pw Species\n",
              "0  5.1  3.5  1.4  0.2  setosa\n",
              "1  4.9  3.0  1.4  0.2  setosa\n",
              "2  4.7  3.2  1.3  0.2  setosa\n",
              "3  4.6  3.1  1.5  0.2  setosa\n",
              "4  5.0  3.6  1.4  0.2  setosa"
            ]
          },
          "metadata": {},
          "execution_count": 18
        }
      ]
    },
    {
      "cell_type": "code",
      "metadata": {
        "id": "y5TfYlhatJJm",
        "colab": {
          "base_uri": "https://localhost:8080/"
        },
        "outputId": "d320cc76-6f50-4dca-ffd0-fe6d414c02a1"
      },
      "source": [
        "iris.isna().sum()"
      ],
      "execution_count": 19,
      "outputs": [
        {
          "output_type": "execute_result",
          "data": {
            "text/plain": [
              "sl         0\n",
              "sw         0\n",
              "pl         0\n",
              "pw         0\n",
              "Species    0\n",
              "dtype: int64"
            ]
          },
          "metadata": {},
          "execution_count": 19
        }
      ]
    },
    {
      "cell_type": "markdown",
      "metadata": {
        "id": "JPZAcq_XtJJm"
      },
      "source": [
        "결측값 처리 방법:\n",
        "1. 결측값 제거: dropna\n",
        "2. 결측값 대체:\n",
        " - fillna\n",
        " - interpolate\n",
        " \n",
        "### 2.2.1 EDA"
      ]
    },
    {
      "cell_type": "code",
      "metadata": {
        "id": "HVrX_W7AtJJm",
        "colab": {
          "base_uri": "https://localhost:8080/"
        },
        "outputId": "1c6a3421-3294-4f47-cb4f-586de58364c0"
      },
      "source": [
        "iris.info()"
      ],
      "execution_count": 20,
      "outputs": [
        {
          "output_type": "stream",
          "name": "stdout",
          "text": [
            "<class 'pandas.core.frame.DataFrame'>\n",
            "RangeIndex: 150 entries, 0 to 149\n",
            "Data columns (total 5 columns):\n",
            " #   Column   Non-Null Count  Dtype  \n",
            "---  ------   --------------  -----  \n",
            " 0   sl       150 non-null    float64\n",
            " 1   sw       150 non-null    float64\n",
            " 2   pl       150 non-null    float64\n",
            " 3   pw       150 non-null    float64\n",
            " 4   Species  150 non-null    object \n",
            "dtypes: float64(4), object(1)\n",
            "memory usage: 6.0+ KB\n"
          ]
        }
      ]
    },
    {
      "cell_type": "code",
      "metadata": {
        "id": "eosUFNvktJJm",
        "colab": {
          "base_uri": "https://localhost:8080/",
          "height": 300
        },
        "outputId": "8bf1f33e-2207-4413-aaa4-0630c481f090"
      },
      "source": [
        "iris.describe()"
      ],
      "execution_count": 21,
      "outputs": [
        {
          "output_type": "execute_result",
          "data": {
            "text/html": [
              "\n",
              "  <div id=\"df-9eddca98-8835-4308-958a-2df2c320699f\">\n",
              "    <div class=\"colab-df-container\">\n",
              "      <div>\n",
              "<style scoped>\n",
              "    .dataframe tbody tr th:only-of-type {\n",
              "        vertical-align: middle;\n",
              "    }\n",
              "\n",
              "    .dataframe tbody tr th {\n",
              "        vertical-align: top;\n",
              "    }\n",
              "\n",
              "    .dataframe thead th {\n",
              "        text-align: right;\n",
              "    }\n",
              "</style>\n",
              "<table border=\"1\" class=\"dataframe\">\n",
              "  <thead>\n",
              "    <tr style=\"text-align: right;\">\n",
              "      <th></th>\n",
              "      <th>sl</th>\n",
              "      <th>sw</th>\n",
              "      <th>pl</th>\n",
              "      <th>pw</th>\n",
              "    </tr>\n",
              "  </thead>\n",
              "  <tbody>\n",
              "    <tr>\n",
              "      <th>count</th>\n",
              "      <td>150.000000</td>\n",
              "      <td>150.000000</td>\n",
              "      <td>150.000000</td>\n",
              "      <td>150.000000</td>\n",
              "    </tr>\n",
              "    <tr>\n",
              "      <th>mean</th>\n",
              "      <td>5.843333</td>\n",
              "      <td>3.057333</td>\n",
              "      <td>3.758000</td>\n",
              "      <td>1.199333</td>\n",
              "    </tr>\n",
              "    <tr>\n",
              "      <th>std</th>\n",
              "      <td>0.828066</td>\n",
              "      <td>0.435866</td>\n",
              "      <td>1.765298</td>\n",
              "      <td>0.762238</td>\n",
              "    </tr>\n",
              "    <tr>\n",
              "      <th>min</th>\n",
              "      <td>4.300000</td>\n",
              "      <td>2.000000</td>\n",
              "      <td>1.000000</td>\n",
              "      <td>0.100000</td>\n",
              "    </tr>\n",
              "    <tr>\n",
              "      <th>25%</th>\n",
              "      <td>5.100000</td>\n",
              "      <td>2.800000</td>\n",
              "      <td>1.600000</td>\n",
              "      <td>0.300000</td>\n",
              "    </tr>\n",
              "    <tr>\n",
              "      <th>50%</th>\n",
              "      <td>5.800000</td>\n",
              "      <td>3.000000</td>\n",
              "      <td>4.350000</td>\n",
              "      <td>1.300000</td>\n",
              "    </tr>\n",
              "    <tr>\n",
              "      <th>75%</th>\n",
              "      <td>6.400000</td>\n",
              "      <td>3.300000</td>\n",
              "      <td>5.100000</td>\n",
              "      <td>1.800000</td>\n",
              "    </tr>\n",
              "    <tr>\n",
              "      <th>max</th>\n",
              "      <td>7.900000</td>\n",
              "      <td>4.400000</td>\n",
              "      <td>6.900000</td>\n",
              "      <td>2.500000</td>\n",
              "    </tr>\n",
              "  </tbody>\n",
              "</table>\n",
              "</div>\n",
              "      <button class=\"colab-df-convert\" onclick=\"convertToInteractive('df-9eddca98-8835-4308-958a-2df2c320699f')\"\n",
              "              title=\"Convert this dataframe to an interactive table.\"\n",
              "              style=\"display:none;\">\n",
              "        \n",
              "  <svg xmlns=\"http://www.w3.org/2000/svg\" height=\"24px\"viewBox=\"0 0 24 24\"\n",
              "       width=\"24px\">\n",
              "    <path d=\"M0 0h24v24H0V0z\" fill=\"none\"/>\n",
              "    <path d=\"M18.56 5.44l.94 2.06.94-2.06 2.06-.94-2.06-.94-.94-2.06-.94 2.06-2.06.94zm-11 1L8.5 8.5l.94-2.06 2.06-.94-2.06-.94L8.5 2.5l-.94 2.06-2.06.94zm10 10l.94 2.06.94-2.06 2.06-.94-2.06-.94-.94-2.06-.94 2.06-2.06.94z\"/><path d=\"M17.41 7.96l-1.37-1.37c-.4-.4-.92-.59-1.43-.59-.52 0-1.04.2-1.43.59L10.3 9.45l-7.72 7.72c-.78.78-.78 2.05 0 2.83L4 21.41c.39.39.9.59 1.41.59.51 0 1.02-.2 1.41-.59l7.78-7.78 2.81-2.81c.8-.78.8-2.07 0-2.86zM5.41 20L4 18.59l7.72-7.72 1.47 1.35L5.41 20z\"/>\n",
              "  </svg>\n",
              "      </button>\n",
              "      \n",
              "  <style>\n",
              "    .colab-df-container {\n",
              "      display:flex;\n",
              "      flex-wrap:wrap;\n",
              "      gap: 12px;\n",
              "    }\n",
              "\n",
              "    .colab-df-convert {\n",
              "      background-color: #E8F0FE;\n",
              "      border: none;\n",
              "      border-radius: 50%;\n",
              "      cursor: pointer;\n",
              "      display: none;\n",
              "      fill: #1967D2;\n",
              "      height: 32px;\n",
              "      padding: 0 0 0 0;\n",
              "      width: 32px;\n",
              "    }\n",
              "\n",
              "    .colab-df-convert:hover {\n",
              "      background-color: #E2EBFA;\n",
              "      box-shadow: 0px 1px 2px rgba(60, 64, 67, 0.3), 0px 1px 3px 1px rgba(60, 64, 67, 0.15);\n",
              "      fill: #174EA6;\n",
              "    }\n",
              "\n",
              "    [theme=dark] .colab-df-convert {\n",
              "      background-color: #3B4455;\n",
              "      fill: #D2E3FC;\n",
              "    }\n",
              "\n",
              "    [theme=dark] .colab-df-convert:hover {\n",
              "      background-color: #434B5C;\n",
              "      box-shadow: 0px 1px 3px 1px rgba(0, 0, 0, 0.15);\n",
              "      filter: drop-shadow(0px 1px 2px rgba(0, 0, 0, 0.3));\n",
              "      fill: #FFFFFF;\n",
              "    }\n",
              "  </style>\n",
              "\n",
              "      <script>\n",
              "        const buttonEl =\n",
              "          document.querySelector('#df-9eddca98-8835-4308-958a-2df2c320699f button.colab-df-convert');\n",
              "        buttonEl.style.display =\n",
              "          google.colab.kernel.accessAllowed ? 'block' : 'none';\n",
              "\n",
              "        async function convertToInteractive(key) {\n",
              "          const element = document.querySelector('#df-9eddca98-8835-4308-958a-2df2c320699f');\n",
              "          const dataTable =\n",
              "            await google.colab.kernel.invokeFunction('convertToInteractive',\n",
              "                                                     [key], {});\n",
              "          if (!dataTable) return;\n",
              "\n",
              "          const docLinkHtml = 'Like what you see? Visit the ' +\n",
              "            '<a target=\"_blank\" href=https://colab.research.google.com/notebooks/data_table.ipynb>data table notebook</a>'\n",
              "            + ' to learn more about interactive tables.';\n",
              "          element.innerHTML = '';\n",
              "          dataTable['output_type'] = 'display_data';\n",
              "          await google.colab.output.renderOutput(dataTable, element);\n",
              "          const docLink = document.createElement('div');\n",
              "          docLink.innerHTML = docLinkHtml;\n",
              "          element.appendChild(docLink);\n",
              "        }\n",
              "      </script>\n",
              "    </div>\n",
              "  </div>\n",
              "  "
            ],
            "text/plain": [
              "               sl          sw          pl          pw\n",
              "count  150.000000  150.000000  150.000000  150.000000\n",
              "mean     5.843333    3.057333    3.758000    1.199333\n",
              "std      0.828066    0.435866    1.765298    0.762238\n",
              "min      4.300000    2.000000    1.000000    0.100000\n",
              "25%      5.100000    2.800000    1.600000    0.300000\n",
              "50%      5.800000    3.000000    4.350000    1.300000\n",
              "75%      6.400000    3.300000    5.100000    1.800000\n",
              "max      7.900000    4.400000    6.900000    2.500000"
            ]
          },
          "metadata": {},
          "execution_count": 21
        }
      ]
    },
    {
      "cell_type": "code",
      "metadata": {
        "id": "oZYY4DGotJJn",
        "colab": {
          "base_uri": "https://localhost:8080/"
        },
        "outputId": "1924f467-49c4-4ff0-b296-f16845edc0ae"
      },
      "source": [
        "iris.groupby('Species').size()"
      ],
      "execution_count": 22,
      "outputs": [
        {
          "output_type": "execute_result",
          "data": {
            "text/plain": [
              "Species\n",
              "setosa        50\n",
              "versicolor    50\n",
              "virginica     50\n",
              "dtype: int64"
            ]
          },
          "metadata": {},
          "execution_count": 22
        }
      ]
    },
    {
      "cell_type": "code",
      "metadata": {
        "id": "qoqCiitttJJn",
        "colab": {
          "base_uri": "https://localhost:8080/"
        },
        "outputId": "38bda5ad-37aa-4e15-9ec7-298288e18321"
      },
      "source": [
        "iris.Species.value_counts()"
      ],
      "execution_count": 23,
      "outputs": [
        {
          "output_type": "execute_result",
          "data": {
            "text/plain": [
              "setosa        50\n",
              "virginica     50\n",
              "versicolor    50\n",
              "Name: Species, dtype: int64"
            ]
          },
          "metadata": {},
          "execution_count": 23
        }
      ]
    },
    {
      "cell_type": "markdown",
      "metadata": {
        "id": "2OQ5Tkk_tJJn"
      },
      "source": [
        "### 2.2.2 시각화"
      ]
    },
    {
      "cell_type": "code",
      "metadata": {
        "id": "qU5iENCDtJJn",
        "colab": {
          "base_uri": "https://localhost:8080/",
          "height": 540
        },
        "outputId": "91cc0fe6-8f83-40cf-f7c3-36ffb82e41a7"
      },
      "source": [
        "def boxplot_iris(feature_names, dataset):\n",
        "    i = 1\n",
        "    plt.figure(figsize=(11,9))\n",
        "    for col in feature_names:\n",
        "        plt.subplot(2,2,i)\n",
        "        plt.axis('on')\n",
        "        plt.tick_params(axis='both', left=True, top=False,\n",
        "                       right=False, bottom=True, labelleft=False,\n",
        "                       labeltop=False, labelright=False, labelbottom=False)\n",
        "        dataset[col].plot(kind='box', subplots=True, sharex=False, sharey=False)\n",
        "        plt.title(col)\n",
        "        i += 1\n",
        "    plt.show()\n",
        "    \n",
        "boxplot_iris(iris.columns[:-1], iris)"
      ],
      "execution_count": 24,
      "outputs": [
        {
          "output_type": "display_data",
          "data": {
            "image/png": "[encoded data removed]",
            "text/plain": [
              "<Figure size 792x648 with 4 Axes>"
            ]
          },
          "metadata": {}
        }
      ]
    },
    {
      "cell_type": "code",
      "metadata": {
        "id": "wVmuiU3DtJJo",
        "colab": {
          "base_uri": "https://localhost:8080/",
          "height": 206
        },
        "outputId": "b722b9ed-84f3-42fb-8cb6-d4078fb711c8"
      },
      "source": [
        "iris.head()"
      ],
      "execution_count": 25,
      "outputs": [
        {
          "output_type": "execute_result",
          "data": {
            "text/html": [
              "\n",
              "  <div id=\"df-c2b1d534-77ec-46d3-8f3f-f016a90a5760\">\n",
              "    <div class=\"colab-df-container\">\n",
              "      <div>\n",
              "<style scoped>\n",
              "    .dataframe tbody tr th:only-of-type {\n",
              "        vertical-align: middle;\n",
              "    }\n",
              "\n",
              "    .dataframe tbody tr th {\n",
              "        vertical-align: top;\n",
              "    }\n",
              "\n",
              "    .dataframe thead th {\n",
              "        text-align: right;\n",
              "    }\n",
              "</style>\n",
              "<table border=\"1\" class=\"dataframe\">\n",
              "  <thead>\n",
              "    <tr style=\"text-align: right;\">\n",
              "      <th></th>\n",
              "      <th>sl</th>\n",
              "      <th>sw</th>\n",
              "      <th>pl</th>\n",
              "      <th>pw</th>\n",
              "      <th>Species</th>\n",
              "    </tr>\n",
              "  </thead>\n",
              "  <tbody>\n",
              "    <tr>\n",
              "      <th>0</th>\n",
              "      <td>5.1</td>\n",
              "      <td>3.5</td>\n",
              "      <td>1.4</td>\n",
              "      <td>0.2</td>\n",
              "      <td>setosa</td>\n",
              "    </tr>\n",
              "    <tr>\n",
              "      <th>1</th>\n",
              "      <td>4.9</td>\n",
              "      <td>3.0</td>\n",
              "      <td>1.4</td>\n",
              "      <td>0.2</td>\n",
              "      <td>setosa</td>\n",
              "    </tr>\n",
              "    <tr>\n",
              "      <th>2</th>\n",
              "      <td>4.7</td>\n",
              "      <td>3.2</td>\n",
              "      <td>1.3</td>\n",
              "      <td>0.2</td>\n",
              "      <td>setosa</td>\n",
              "    </tr>\n",
              "    <tr>\n",
              "      <th>3</th>\n",
              "      <td>4.6</td>\n",
              "      <td>3.1</td>\n",
              "      <td>1.5</td>\n",
              "      <td>0.2</td>\n",
              "      <td>setosa</td>\n",
              "    </tr>\n",
              "    <tr>\n",
              "      <th>4</th>\n",
              "      <td>5.0</td>\n",
              "      <td>3.6</td>\n",
              "      <td>1.4</td>\n",
              "      <td>0.2</td>\n",
              "      <td>setosa</td>\n",
              "    </tr>\n",
              "  </tbody>\n",
              "</table>\n",
              "</div>\n",
              "      <button class=\"colab-df-convert\" onclick=\"convertToInteractive('df-c2b1d534-77ec-46d3-8f3f-f016a90a5760')\"\n",
              "              title=\"Convert this dataframe to an interactive table.\"\n",
              "              style=\"display:none;\">\n",
              "        \n",
              "  <svg xmlns=\"http://www.w3.org/2000/svg\" height=\"24px\"viewBox=\"0 0 24 24\"\n",
              "       width=\"24px\">\n",
              "    <path d=\"M0 0h24v24H0V0z\" fill=\"none\"/>\n",
              "    <path d=\"M18.56 5.44l.94 2.06.94-2.06 2.06-.94-2.06-.94-.94-2.06-.94 2.06-2.06.94zm-11 1L8.5 8.5l.94-2.06 2.06-.94-2.06-.94L8.5 2.5l-.94 2.06-2.06.94zm10 10l.94 2.06.94-2.06 2.06-.94-2.06-.94-.94-2.06-.94 2.06-2.06.94z\"/><path d=\"M17.41 7.96l-1.37-1.37c-.4-.4-.92-.59-1.43-.59-.52 0-1.04.2-1.43.59L10.3 9.45l-7.72 7.72c-.78.78-.78 2.05 0 2.83L4 21.41c.39.39.9.59 1.41.59.51 0 1.02-.2 1.41-.59l7.78-7.78 2.81-2.81c.8-.78.8-2.07 0-2.86zM5.41 20L4 18.59l7.72-7.72 1.47 1.35L5.41 20z\"/>\n",
              "  </svg>\n",
              "      </button>\n",
              "      \n",
              "  <style>\n",
              "    .colab-df-container {\n",
              "      display:flex;\n",
              "      flex-wrap:wrap;\n",
              "      gap: 12px;\n",
              "    }\n",
              "\n",
              "    .colab-df-convert {\n",
              "      background-color: #E8F0FE;\n",
              "      border: none;\n",
              "      border-radius: 50%;\n",
              "      cursor: pointer;\n",
              "      display: none;\n",
              "      fill: #1967D2;\n",
              "      height: 32px;\n",
              "      padding: 0 0 0 0;\n",
              "      width: 32px;\n",
              "    }\n",
              "\n",
              "    .colab-df-convert:hover {\n",
              "      background-color: #E2EBFA;\n",
              "      box-shadow: 0px 1px 2px rgba(60, 64, 67, 0.3), 0px 1px 3px 1px rgba(60, 64, 67, 0.15);\n",
              "      fill: #174EA6;\n",
              "    }\n",
              "\n",
              "    [theme=dark] .colab-df-convert {\n",
              "      background-color: #3B4455;\n",
              "      fill: #D2E3FC;\n",
              "    }\n",
              "\n",
              "    [theme=dark] .colab-df-convert:hover {\n",
              "      background-color: #434B5C;\n",
              "      box-shadow: 0px 1px 3px 1px rgba(0, 0, 0, 0.15);\n",
              "      filter: drop-shadow(0px 1px 2px rgba(0, 0, 0, 0.3));\n",
              "      fill: #FFFFFF;\n",
              "    }\n",
              "  </style>\n",
              "\n",
              "      <script>\n",
              "        const buttonEl =\n",
              "          document.querySelector('#df-c2b1d534-77ec-46d3-8f3f-f016a90a5760 button.colab-df-convert');\n",
              "        buttonEl.style.display =\n",
              "          google.colab.kernel.accessAllowed ? 'block' : 'none';\n",
              "\n",
              "        async function convertToInteractive(key) {\n",
              "          const element = document.querySelector('#df-c2b1d534-77ec-46d3-8f3f-f016a90a5760');\n",
              "          const dataTable =\n",
              "            await google.colab.kernel.invokeFunction('convertToInteractive',\n",
              "                                                     [key], {});\n",
              "          if (!dataTable) return;\n",
              "\n",
              "          const docLinkHtml = 'Like what you see? Visit the ' +\n",
              "            '<a target=\"_blank\" href=https://colab.research.google.com/notebooks/data_table.ipynb>data table notebook</a>'\n",
              "            + ' to learn more about interactive tables.';\n",
              "          element.innerHTML = '';\n",
              "          dataTable['output_type'] = 'display_data';\n",
              "          await google.colab.output.renderOutput(dataTable, element);\n",
              "          const docLink = document.createElement('div');\n",
              "          docLink.innerHTML = docLinkHtml;\n",
              "          element.appendChild(docLink);\n",
              "        }\n",
              "      </script>\n",
              "    </div>\n",
              "  </div>\n",
              "  "
            ],
            "text/plain": [
              "    sl   sw   pl   pw Species\n",
              "0  5.1  3.5  1.4  0.2  setosa\n",
              "1  4.9  3.0  1.4  0.2  setosa\n",
              "2  4.7  3.2  1.3  0.2  setosa\n",
              "3  4.6  3.1  1.5  0.2  setosa\n",
              "4  5.0  3.6  1.4  0.2  setosa"
            ]
          },
          "metadata": {},
          "execution_count": 25
        }
      ]
    },
    {
      "cell_type": "code",
      "metadata": {
        "id": "MSJXNv1ztJJo",
        "outputId": "94b8ef10-427f-49c5-ea65-5865acb063d8",
        "colab": {
          "base_uri": "https://localhost:8080/",
          "height": 553
        }
      },
      "source": [
        "fig, axes = plt.subplots(2,2, figsize=(11, 9), sharey=True)\n",
        "axes = axes.ravel()\n",
        "for i, ax in enumerate(axes):\n",
        "    iris.iloc[:, i].plot(kind='box', ax=ax)\n",
        "    ax.set_title(iris.columns[i])\n",
        "plt.show()"
      ],
      "execution_count": 26,
      "outputs": [
        {
          "output_type": "display_data",
          "data": {
            "image/png": "[encoded data removed]",
            "text/plain": [
              "<Figure size 792x648 with 4 Axes>"
            ]
          },
          "metadata": {
            "needs_background": "light"
          }
        }
      ]
    },
    {
      "cell_type": "code",
      "metadata": {
        "id": "8m_ENMQotJJo",
        "outputId": "28f1fcf2-5dde-4110-b085-438c570de5eb",
        "colab": {
          "base_uri": "https://localhost:8080/",
          "height": 536
        }
      },
      "source": [
        "def histogram_iris(feature_names, dataset):\n",
        "    i = 1\n",
        "    plt.figure(figsize=(11,9))\n",
        "    for col in feature_names:\n",
        "        plt.subplot(2,2,i)\n",
        "        plt.axis('on')\n",
        "        plt.tick_params(axis='both', left=True, top=False,\n",
        "                       right=False, bottom=False, labelleft=False,\n",
        "                       labeltop=False, labelright=False, labelbottom=False)\n",
        "        dataset[col].hist()\n",
        "        plt.title(col)\n",
        "        i += 1\n",
        "    plt.show()\n",
        "    \n",
        "histogram_iris(iris.columns[:-1], iris)"
      ],
      "execution_count": 27,
      "outputs": [
        {
          "output_type": "display_data",
          "data": {
            "image/png": "[encoded data removed]",
            "text/plain": [
              "<Figure size 792x648 with 4 Axes>"
            ]
          },
          "metadata": {}
        }
      ]
    },
    {
      "cell_type": "markdown",
      "metadata": {
        "id": "C2bxyPtitJJp"
      },
      "source": [
        "[Quiz] 아래 코드를 수정하여 위와 같은 그래프를 작성하자."
      ]
    },
    {
      "cell_type": "code",
      "metadata": {
        "id": "qmY_3VqetJJp",
        "outputId": "cb7953d0-27e4-43f0-f7d0-0826787ac16d",
        "colab": {
          "base_uri": "https://localhost:8080/",
          "height": 553
        }
      },
      "source": [
        "fig, axes = plt.subplots(2,2, figsize=(11, 9), sharey=True)\n",
        "axes = axes.ravel()\n",
        "for i, ax in enumerate(axes):\n",
        "    iris.iloc[:, i].plot(kind='hist', ax=ax)\n",
        "    ax.set_title(iris.columns[i])\n",
        "plt.show()"
      ],
      "execution_count": 28,
      "outputs": [
        {
          "output_type": "display_data",
          "data": {
            "image/png": "[encoded data removed]",
            "text/plain": [
              "<Figure size 792x648 with 4 Axes>"
            ]
          },
          "metadata": {
            "needs_background": "light"
          }
        }
      ]
    },
    {
      "cell_type": "code",
      "metadata": {
        "id": "X4YPGBKutJJp",
        "outputId": "d50b3b56-3dfe-46c0-8255-a35607d79edc",
        "colab": {
          "base_uri": "https://localhost:8080/",
          "height": 537
        }
      },
      "source": [
        "corr = iris.corr()\n",
        "cmap = sns.diverging_palette(220, 10, as_cmap=True)\n",
        "\n",
        "plt.figure(figsize=(11,9))\n",
        "sns.heatmap(corr, cmap=cmap, vmax=1.0, vmin=-1.0, center=0,\n",
        "           square=True, linewidths=.5, cbar_kws={'shrink':.5})\n",
        "plt.show()"
      ],
      "execution_count": 29,
      "outputs": [
        {
          "output_type": "display_data",
          "data": {
            "image/png": "[encoded data removed]",
            "text/plain": [
              "<Figure size 792x648 with 2 Axes>"
            ]
          },
          "metadata": {
            "needs_background": "light"
          }
        }
      ]
    },
    {
      "cell_type": "code",
      "metadata": {
        "id": "v6hKi2EQtJJp",
        "outputId": "e9b70286-080a-4c16-f963-c18cf9ec9d50",
        "colab": {
          "base_uri": "https://localhost:8080/",
          "height": 175
        }
      },
      "source": [
        "corr"
      ],
      "execution_count": 30,
      "outputs": [
        {
          "output_type": "execute_result",
          "data": {
            "text/html": [
              "\n",
              "  <div id=\"df-8d581bfa-787f-486f-90aa-40d90cbf3f58\">\n",
              "    <div class=\"colab-df-container\">\n",
              "      <div>\n",
              "<style scoped>\n",
              "    .dataframe tbody tr th:only-of-type {\n",
              "        vertical-align: middle;\n",
              "    }\n",
              "\n",
              "    .dataframe tbody tr th {\n",
              "        vertical-align: top;\n",
              "    }\n",
              "\n",
              "    .dataframe thead th {\n",
              "        text-align: right;\n",
              "    }\n",
              "</style>\n",
              "<table border=\"1\" class=\"dataframe\">\n",
              "  <thead>\n",
              "    <tr style=\"text-align: right;\">\n",
              "      <th></th>\n",
              "      <th>sl</th>\n",
              "      <th>sw</th>\n",
              "      <th>pl</th>\n",
              "      <th>pw</th>\n",
              "    </tr>\n",
              "  </thead>\n",
              "  <tbody>\n",
              "    <tr>\n",
              "      <th>sl</th>\n",
              "      <td>1.000000</td>\n",
              "      <td>-0.117570</td>\n",
              "      <td>0.871754</td>\n",
              "      <td>0.817941</td>\n",
              "    </tr>\n",
              "    <tr>\n",
              "      <th>sw</th>\n",
              "      <td>-0.117570</td>\n",
              "      <td>1.000000</td>\n",
              "      <td>-0.428440</td>\n",
              "      <td>-0.366126</td>\n",
              "    </tr>\n",
              "    <tr>\n",
              "      <th>pl</th>\n",
              "      <td>0.871754</td>\n",
              "      <td>-0.428440</td>\n",
              "      <td>1.000000</td>\n",
              "      <td>0.962865</td>\n",
              "    </tr>\n",
              "    <tr>\n",
              "      <th>pw</th>\n",
              "      <td>0.817941</td>\n",
              "      <td>-0.366126</td>\n",
              "      <td>0.962865</td>\n",
              "      <td>1.000000</td>\n",
              "    </tr>\n",
              "  </tbody>\n",
              "</table>\n",
              "</div>\n",
              "      <button class=\"colab-df-convert\" onclick=\"convertToInteractive('df-8d581bfa-787f-486f-90aa-40d90cbf3f58')\"\n",
              "              title=\"Convert this dataframe to an interactive table.\"\n",
              "              style=\"display:none;\">\n",
              "        \n",
              "  <svg xmlns=\"http://www.w3.org/2000/svg\" height=\"24px\"viewBox=\"0 0 24 24\"\n",
              "       width=\"24px\">\n",
              "    <path d=\"M0 0h24v24H0V0z\" fill=\"none\"/>\n",
              "    <path d=\"M18.56 5.44l.94 2.06.94-2.06 2.06-.94-2.06-.94-.94-2.06-.94 2.06-2.06.94zm-11 1L8.5 8.5l.94-2.06 2.06-.94-2.06-.94L8.5 2.5l-.94 2.06-2.06.94zm10 10l.94 2.06.94-2.06 2.06-.94-2.06-.94-.94-2.06-.94 2.06-2.06.94z\"/><path d=\"M17.41 7.96l-1.37-1.37c-.4-.4-.92-.59-1.43-.59-.52 0-1.04.2-1.43.59L10.3 9.45l-7.72 7.72c-.78.78-.78 2.05 0 2.83L4 21.41c.39.39.9.59 1.41.59.51 0 1.02-.2 1.41-.59l7.78-7.78 2.81-2.81c.8-.78.8-2.07 0-2.86zM5.41 20L4 18.59l7.72-7.72 1.47 1.35L5.41 20z\"/>\n",
              "  </svg>\n",
              "      </button>\n",
              "      \n",
              "  <style>\n",
              "    .colab-df-container {\n",
              "      display:flex;\n",
              "      flex-wrap:wrap;\n",
              "      gap: 12px;\n",
              "    }\n",
              "\n",
              "    .colab-df-convert {\n",
              "      background-color: #E8F0FE;\n",
              "      border: none;\n",
              "      border-radius: 50%;\n",
              "      cursor: pointer;\n",
              "      display: none;\n",
              "      fill: #1967D2;\n",
              "      height: 32px;\n",
              "      padding: 0 0 0 0;\n",
              "      width: 32px;\n",
              "    }\n",
              "\n",
              "    .colab-df-convert:hover {\n",
              "      background-color: #E2EBFA;\n",
              "      box-shadow: 0px 1px 2px rgba(60, 64, 67, 0.3), 0px 1px 3px 1px rgba(60, 64, 67, 0.15);\n",
              "      fill: #174EA6;\n",
              "    }\n",
              "\n",
              "    [theme=dark] .colab-df-convert {\n",
              "      background-color: #3B4455;\n",
              "      fill: #D2E3FC;\n",
              "    }\n",
              "\n",
              "    [theme=dark] .colab-df-convert:hover {\n",
              "      background-color: #434B5C;\n",
              "      box-shadow: 0px 1px 3px 1px rgba(0, 0, 0, 0.15);\n",
              "      filter: drop-shadow(0px 1px 2px rgba(0, 0, 0, 0.3));\n",
              "      fill: #FFFFFF;\n",
              "    }\n",
              "  </style>\n",
              "\n",
              "      <script>\n",
              "        const buttonEl =\n",
              "          document.querySelector('#df-8d581bfa-787f-486f-90aa-40d90cbf3f58 button.colab-df-convert');\n",
              "        buttonEl.style.display =\n",
              "          google.colab.kernel.accessAllowed ? 'block' : 'none';\n",
              "\n",
              "        async function convertToInteractive(key) {\n",
              "          const element = document.querySelector('#df-8d581bfa-787f-486f-90aa-40d90cbf3f58');\n",
              "          const dataTable =\n",
              "            await google.colab.kernel.invokeFunction('convertToInteractive',\n",
              "                                                     [key], {});\n",
              "          if (!dataTable) return;\n",
              "\n",
              "          const docLinkHtml = 'Like what you see? Visit the ' +\n",
              "            '<a target=\"_blank\" href=https://colab.research.google.com/notebooks/data_table.ipynb>data table notebook</a>'\n",
              "            + ' to learn more about interactive tables.';\n",
              "          element.innerHTML = '';\n",
              "          dataTable['output_type'] = 'display_data';\n",
              "          await google.colab.output.renderOutput(dataTable, element);\n",
              "          const docLink = document.createElement('div');\n",
              "          docLink.innerHTML = docLinkHtml;\n",
              "          element.appendChild(docLink);\n",
              "        }\n",
              "      </script>\n",
              "    </div>\n",
              "  </div>\n",
              "  "
            ],
            "text/plain": [
              "          sl        sw        pl        pw\n",
              "sl  1.000000 -0.117570  0.871754  0.817941\n",
              "sw -0.117570  1.000000 -0.428440 -0.366126\n",
              "pl  0.871754 -0.428440  1.000000  0.962865\n",
              "pw  0.817941 -0.366126  0.962865  1.000000"
            ]
          },
          "metadata": {},
          "execution_count": 30
        }
      ]
    },
    {
      "cell_type": "code",
      "metadata": {
        "scrolled": true,
        "id": "J8wBy7sWtJJp",
        "outputId": "79e54ad0-7e3c-4ef1-99c1-e9cb0f385b29",
        "colab": {
          "base_uri": "https://localhost:8080/",
          "height": 726
        }
      },
      "source": [
        "sns.pairplot(iris, hue='Species')\n",
        "plt.show()"
      ],
      "execution_count": 31,
      "outputs": [
        {
          "output_type": "display_data",
          "data": {
            "image/png": "[encoded data removed]",
            "text/plain": [
              "<Figure size 804.75x720 with 20 Axes>"
            ]
          },
          "metadata": {
            "needs_background": "light"
          }
        }
      ]
    },
    {
      "cell_type": "code",
      "metadata": {
        "scrolled": true,
        "id": "QmOMfVC6tJJq",
        "colab": {
          "base_uri": "https://localhost:8080/",
          "height": 255
        },
        "outputId": "cb4cd942-7112-414a-af2a-482f6fd1cb6a"
      },
      "source": [
        "def piechart_iris(feature_names, target, dataset):\n",
        "    i = 1\n",
        "    plt.figure(figsize=(11,9))\n",
        "    for colName in [target]:\n",
        "        labels = []; sizes = []\n",
        "        df = dataset.groupby(colName).size()\n",
        "        for key in df.keys():\n",
        "            labels.append(key)\n",
        "            sizes.append(df[key])\n",
        "        plt.subplot(2,2,i)\n",
        "        plt.axis('on')\n",
        "        plt.tick_params(axis='both', left=False, top=False,\n",
        "                       right=False, bottom=False, labelleft=True,\n",
        "                       labeltop=True, labelright=False, labelbottom=False)\n",
        "        plt.pie(sizes, labels=labels, autopct='%1.1f%%',\n",
        "               shadow=True, startangle=140)\n",
        "        plt.axis('equal')\n",
        "        i += 1\n",
        "    plt.show()\n",
        "    \n",
        "piechart_iris(iris.columns[:-1], iris.Species, iris)"
      ],
      "execution_count": 32,
      "outputs": [
        {
          "output_type": "display_data",
          "data": {
            "image/png": "[encoded data removed]",
            "text/plain": [
              "<Figure size 792x648 with 1 Axes>"
            ]
          },
          "metadata": {}
        }
      ]
    },
    {
      "cell_type": "code",
      "metadata": {
        "id": "wQLzM3ywtJJq",
        "colab": {
          "base_uri": "https://localhost:8080/"
        },
        "outputId": "4e153ec7-8800-4736-d0f2-b468cc1e9492"
      },
      "source": [
        "iris.groupby('Species').size().keys()"
      ],
      "execution_count": 33,
      "outputs": [
        {
          "output_type": "execute_result",
          "data": {
            "text/plain": [
              "Index(['setosa', 'versicolor', 'virginica'], dtype='object', name='Species')"
            ]
          },
          "metadata": {},
          "execution_count": 33
        }
      ]
    },
    {
      "cell_type": "code",
      "metadata": {
        "id": "ufVH108MtJJq",
        "colab": {
          "base_uri": "https://localhost:8080/"
        },
        "outputId": "2480239a-9d0e-4fdf-f968-19f477ee9892"
      },
      "source": [
        "iris.groupby('Species').size()['setosa']"
      ],
      "execution_count": 34,
      "outputs": [
        {
          "output_type": "execute_result",
          "data": {
            "text/plain": [
              "50"
            ]
          },
          "metadata": {},
          "execution_count": 34
        }
      ]
    },
    {
      "cell_type": "markdown",
      "metadata": {
        "id": "lKyg8fjptJJr"
      },
      "source": [
        "### 2.2.3 data split"
      ]
    },
    {
      "cell_type": "code",
      "metadata": {
        "id": "9Wnf7eJ9tJJr"
      },
      "source": [
        "from sklearn.model_selection import train_test_split\n",
        "\n",
        "X_train, X_test, y_train, y_test = train_test_split(\n",
        "    iris.iloc[:, :-1], iris.iloc[:, -1], test_size=0.33, random_state=42\n",
        ")"
      ],
      "execution_count": 35,
      "outputs": []
    },
    {
      "cell_type": "markdown",
      "metadata": {
        "id": "vmaU9XdHtJJr"
      },
      "source": [
        "## 2.3 모델 학습\n",
        "### 2.3.1 base 모델"
      ]
    },
    {
      "cell_type": "code",
      "metadata": {
        "id": "6Wey6qpltJJr"
      },
      "source": [
        "from sklearn.tree import DecisionTreeClassifier\n",
        "model = DecisionTreeClassifier(random_state=42)"
      ],
      "execution_count": 36,
      "outputs": []
    },
    {
      "cell_type": "code",
      "metadata": {
        "id": "fLubXsmHtJJr",
        "colab": {
          "base_uri": "https://localhost:8080/"
        },
        "outputId": "b698868a-2ddf-447b-b831-bc846c9e0542"
      },
      "source": [
        "model.fit(X_train, y_train)\n",
        "model.score(X_test, y_test)"
      ],
      "execution_count": 37,
      "outputs": [
        {
          "output_type": "execute_result",
          "data": {
            "text/plain": [
              "0.98"
            ]
          },
          "metadata": {},
          "execution_count": 37
        }
      ]
    },
    {
      "cell_type": "markdown",
      "metadata": {
        "id": "jTdeqyiHtJJs"
      },
      "source": [
        "### 2.3.2 모델 일반화를 위한 cross-validation\n",
        "이때, cross_val_score는 hyper-parameter를 선택하는 데 사용하고, 직접적으로 학습된 모델을 변환시키지는 않는다. 따라서 cross_val_score에서 사용된 모델은 한번 더 학습을 시켜야한다. \n",
        "#### 1) KFold"
      ]
    },
    {
      "cell_type": "code",
      "metadata": {
        "id": "TvV0X8eYtJJs",
        "colab": {
          "base_uri": "https://localhost:8080/"
        },
        "outputId": "31051760-7cf8-4e00-c033-997a0e5fdbd5"
      },
      "source": [
        "from sklearn.model_selection import cross_val_score, KFold\n",
        "\n",
        "cv = KFold(n_splits=10, shuffle=True, random_state=42)\n",
        "results =cross_val_score(model, X_train, y_train, cv=cv)\n",
        "fin_result = results.mean()\n",
        "\n",
        "for i, r in enumerate(results):\n",
        "    print(f\"{i}번째 교차검증 정확도: {r}\")\n",
        "    \n",
        "print(f\"\\n교차검증 최종 정확도: {fin_result}\")"
      ],
      "execution_count": 38,
      "outputs": [
        {
          "output_type": "stream",
          "name": "stdout",
          "text": [
            "0번째 교차검증 정확도: 0.9\n",
            "1번째 교차검증 정확도: 1.0\n",
            "2번째 교차검증 정확도: 0.8\n",
            "3번째 교차검증 정확도: 1.0\n",
            "4번째 교차검증 정확도: 0.8\n",
            "5번째 교차검증 정확도: 0.9\n",
            "6번째 교차검증 정확도: 1.0\n",
            "7번째 교차검증 정확도: 0.9\n",
            "8번째 교차검증 정확도: 1.0\n",
            "9번째 교차검증 정확도: 1.0\n",
            "\n",
            "교차검증 최종 정확도: 0.93\n"
          ]
        }
      ]
    },
    {
      "cell_type": "markdown",
      "metadata": {
        "id": "zLaM0GrltJJs"
      },
      "source": [
        "#### StratifiedKFold"
      ]
    },
    {
      "cell_type": "code",
      "metadata": {
        "id": "RVb3s6fjtJJt",
        "colab": {
          "base_uri": "https://localhost:8080/"
        },
        "outputId": "df1eb66c-45ba-4415-eb2a-11dd830c5d6a"
      },
      "source": [
        "from sklearn.model_selection import StratifiedKFold\n",
        "\n",
        "cv = StratifiedKFold(n_splits=10, shuffle=True, random_state=42)\n",
        "results =cross_val_score(model, X_train, y_train, cv=cv)\n",
        "fin_result = results.mean()\n",
        "\n",
        "for i, r in enumerate(results):\n",
        "    print(f\"{i}번째 교차검증 정확도: {r}\")\n",
        "    \n",
        "print(f\"\\n교차검증 최종 정확도: {fin_result}\")"
      ],
      "execution_count": 39,
      "outputs": [
        {
          "output_type": "stream",
          "name": "stdout",
          "text": [
            "0번째 교차검증 정확도: 0.9\n",
            "1번째 교차검증 정확도: 0.9\n",
            "2번째 교차검증 정확도: 0.8\n",
            "3번째 교차검증 정확도: 0.9\n",
            "4번째 교차검증 정확도: 1.0\n",
            "5번째 교차검증 정확도: 1.0\n",
            "6번째 교차검증 정확도: 0.9\n",
            "7번째 교차검증 정확도: 0.8\n",
            "8번째 교차검증 정확도: 1.0\n",
            "9번째 교차검증 정확도: 1.0\n",
            "\n",
            "교차검증 최종 정확도: 0.9199999999999999\n"
          ]
        }
      ]
    },
    {
      "cell_type": "markdown",
      "metadata": {
        "id": "huBeiIJKtJJt"
      },
      "source": [
        "[Quiz] 튜닝할 hyper-parameter를 다양하게 조정해서 각 튜닝 모델의 평가 정확도를 진지하게 알아보기 위해 kFold를 적용하여 가장 정확도가 높은 파라미터를 탐색해보자."
      ]
    },
    {
      "cell_type": "code",
      "metadata": {
        "id": "MXTZiTYrtJJt",
        "colab": {
          "base_uri": "https://localhost:8080/"
        },
        "outputId": "c8d557b2-71f7-41d2-dc6e-691475e9e29e"
      },
      "source": [
        "best= {}\n",
        "best['score'] = 0\n",
        "mds = [3,4,5]\n",
        "msls = range(2, 11)\n",
        "mlns = range(7, 12)\n",
        "\n",
        "cv = KFold(n_splits=3, shuffle=True, random_state=42)\n",
        "\n",
        "for md in mds:\n",
        "    for msl in msls:\n",
        "        for mln in mlns:\n",
        "            m = DecisionTreeClassifier(criterion='entropy', max_depth=md, \n",
        "                                       min_samples_leaf=msl, max_leaf_nodes=mln)\n",
        "            results = cross_val_score(m, X_train, y_train, cv=cv)\n",
        "            score = results.mean()\n",
        "            print(f\"current val score is {score} at md={md}, msl={msl}, mln={mln}\")\n",
        "            if score > best['score']:\n",
        "                print(f\"current best val score is {score} at md={md}, msl={msl}, mln={mln}\")\n",
        "                best['score'], best['md'], best['msl'], best['mln'], best['model'] = score, md, msl, mln, m\n",
        "\n",
        "print(f\"\\n\\n best val score is {best['score']} at md={best['md']}, msl={best['msl']}, mln={best['mln']}\")\n",
        "m = best['model'].fit(X_train, y_train)\n",
        "testScrore = best['model'].score(X_test, y_test)\n",
        "print(f\"real Test score is {testScrore}\")"
      ],
      "execution_count": 40,
      "outputs": [
        {
          "output_type": "stream",
          "name": "stdout",
          "text": [
            "current val score is 0.9105763517528223 at md=3, msl=2, mln=7\n",
            "current best val score is 0.9105763517528223 at md=3, msl=2, mln=7\n",
            "current val score is 0.9105763517528223 at md=3, msl=2, mln=8\n",
            "current val score is 0.9105763517528223 at md=3, msl=2, mln=9\n",
            "current val score is 0.9105763517528223 at md=3, msl=2, mln=10\n",
            "current val score is 0.9105763517528223 at md=3, msl=2, mln=11\n",
            "current val score is 0.9105763517528223 at md=3, msl=3, mln=7\n",
            "current val score is 0.9105763517528223 at md=3, msl=3, mln=8\n",
            "current val score is 0.9105763517528223 at md=3, msl=3, mln=9\n",
            "current val score is 0.9105763517528223 at md=3, msl=3, mln=10\n",
            "current val score is 0.9105763517528223 at md=3, msl=3, mln=11\n",
            "current val score is 0.9105763517528223 at md=3, msl=4, mln=7\n",
            "current val score is 0.9105763517528223 at md=3, msl=4, mln=8\n",
            "current val score is 0.9105763517528223 at md=3, msl=4, mln=9\n",
            "current val score is 0.9105763517528223 at md=3, msl=4, mln=10\n",
            "current val score is 0.9105763517528223 at md=3, msl=4, mln=11\n",
            "current val score is 0.9105763517528223 at md=3, msl=5, mln=7\n",
            "current val score is 0.9105763517528223 at md=3, msl=5, mln=8\n",
            "current val score is 0.9105763517528223 at md=3, msl=5, mln=9\n",
            "current val score is 0.9105763517528223 at md=3, msl=5, mln=10\n",
            "current val score is 0.9105763517528223 at md=3, msl=5, mln=11\n",
            "current val score is 0.9105763517528223 at md=3, msl=6, mln=7\n",
            "current val score is 0.9105763517528223 at md=3, msl=6, mln=8\n",
            "current val score is 0.9105763517528223 at md=3, msl=6, mln=9\n",
            "current val score is 0.9105763517528223 at md=3, msl=6, mln=10\n",
            "current val score is 0.9105763517528223 at md=3, msl=6, mln=11\n",
            "current val score is 0.9105763517528223 at md=3, msl=7, mln=7\n",
            "current val score is 0.9105763517528223 at md=3, msl=7, mln=8\n",
            "current val score is 0.9105763517528223 at md=3, msl=7, mln=9\n",
            "current val score is 0.9105763517528223 at md=3, msl=7, mln=10\n",
            "current val score is 0.9105763517528223 at md=3, msl=7, mln=11\n",
            "current val score is 0.9105763517528223 at md=3, msl=8, mln=7\n",
            "current val score is 0.9105763517528223 at md=3, msl=8, mln=8\n",
            "current val score is 0.9105763517528223 at md=3, msl=8, mln=9\n",
            "current val score is 0.9105763517528223 at md=3, msl=8, mln=10\n",
            "current val score is 0.9105763517528223 at md=3, msl=8, mln=11\n",
            "current val score is 0.9105763517528223 at md=3, msl=9, mln=7\n",
            "current val score is 0.9105763517528223 at md=3, msl=9, mln=8\n",
            "current val score is 0.9105763517528223 at md=3, msl=9, mln=9\n",
            "current val score is 0.9105763517528223 at md=3, msl=9, mln=10\n",
            "current val score is 0.9105763517528223 at md=3, msl=9, mln=11\n",
            "current val score is 0.9105763517528223 at md=3, msl=10, mln=7\n",
            "current val score is 0.9105763517528223 at md=3, msl=10, mln=8\n",
            "current val score is 0.9105763517528223 at md=3, msl=10, mln=9\n",
            "current val score is 0.9105763517528223 at md=3, msl=10, mln=10\n",
            "current val score is 0.9105763517528223 at md=3, msl=10, mln=11\n",
            "current val score is 0.9298871063576946 at md=4, msl=2, mln=7\n",
            "current best val score is 0.9298871063576946 at md=4, msl=2, mln=7\n",
            "current val score is 0.9102792632204397 at md=4, msl=2, mln=8\n",
            "current val score is 0.9102792632204397 at md=4, msl=2, mln=9\n",
            "current val score is 0.9102792632204397 at md=4, msl=2, mln=10\n",
            "current val score is 0.9102792632204397 at md=4, msl=2, mln=11\n",
            "current val score is 0.9105763517528223 at md=4, msl=3, mln=7\n",
            "current val score is 0.9105763517528223 at md=4, msl=3, mln=8\n",
            "current val score is 0.9105763517528223 at md=4, msl=3, mln=9\n",
            "current val score is 0.9105763517528223 at md=4, msl=3, mln=10\n",
            "current val score is 0.9105763517528223 at md=4, msl=3, mln=11\n",
            "current val score is 0.890374331550802 at md=4, msl=4, mln=7\n",
            "current val score is 0.9105763517528223 at md=4, msl=4, mln=8\n",
            "current val score is 0.890374331550802 at md=4, msl=4, mln=9\n",
            "current val score is 0.9105763517528223 at md=4, msl=4, mln=10\n",
            "current val score is 0.890374331550802 at md=4, msl=4, mln=11\n",
            "current val score is 0.9105763517528223 at md=4, msl=5, mln=7\n",
            "current val score is 0.9105763517528223 at md=4, msl=5, mln=8\n",
            "current val score is 0.9105763517528223 at md=4, msl=5, mln=9\n",
            "current val score is 0.9105763517528223 at md=4, msl=5, mln=10\n",
            "current val score is 0.9105763517528223 at md=4, msl=5, mln=11\n",
            "current val score is 0.9105763517528223 at md=4, msl=6, mln=7\n",
            "current val score is 0.9105763517528223 at md=4, msl=6, mln=8\n",
            "current val score is 0.9105763517528223 at md=4, msl=6, mln=9\n",
            "current val score is 0.9105763517528223 at md=4, msl=6, mln=10\n",
            "current val score is 0.9105763517528223 at md=4, msl=6, mln=11\n",
            "current val score is 0.9105763517528223 at md=4, msl=7, mln=7\n",
            "current val score is 0.9105763517528223 at md=4, msl=7, mln=8\n",
            "current val score is 0.9105763517528223 at md=4, msl=7, mln=9\n",
            "current val score is 0.9105763517528223 at md=4, msl=7, mln=10\n",
            "current val score is 0.9105763517528223 at md=4, msl=7, mln=11\n",
            "current val score is 0.9105763517528223 at md=4, msl=8, mln=7\n",
            "current val score is 0.9105763517528223 at md=4, msl=8, mln=8\n",
            "current val score is 0.9105763517528223 at md=4, msl=8, mln=9\n",
            "current val score is 0.9105763517528223 at md=4, msl=8, mln=10\n",
            "current val score is 0.9105763517528223 at md=4, msl=8, mln=11\n",
            "current val score is 0.9105763517528223 at md=4, msl=9, mln=7\n",
            "current val score is 0.9105763517528223 at md=4, msl=9, mln=8\n",
            "current val score is 0.9105763517528223 at md=4, msl=9, mln=9\n",
            "current val score is 0.9105763517528223 at md=4, msl=9, mln=10\n",
            "current val score is 0.9105763517528223 at md=4, msl=9, mln=11\n",
            "current val score is 0.9105763517528223 at md=4, msl=10, mln=7\n",
            "current val score is 0.9105763517528223 at md=4, msl=10, mln=8\n",
            "current val score is 0.9105763517528223 at md=4, msl=10, mln=9\n",
            "current val score is 0.9105763517528223 at md=4, msl=10, mln=10\n",
            "current val score is 0.9105763517528223 at md=4, msl=10, mln=11\n",
            "current val score is 0.9203802733214498 at md=5, msl=2, mln=7\n",
            "current val score is 0.9203802733214498 at md=5, msl=2, mln=8\n",
            "current val score is 0.9203802733214498 at md=5, msl=2, mln=9\n",
            "current val score is 0.9203802733214498 at md=5, msl=2, mln=10\n",
            "current val score is 0.9203802733214498 at md=5, msl=2, mln=11\n",
            "current val score is 0.9105763517528223 at md=5, msl=3, mln=7\n",
            "current val score is 0.9105763517528223 at md=5, msl=3, mln=8\n",
            "current val score is 0.9105763517528223 at md=5, msl=3, mln=9\n",
            "current val score is 0.9105763517528223 at md=5, msl=3, mln=10\n",
            "current val score is 0.9105763517528223 at md=5, msl=3, mln=11\n",
            "current val score is 0.9105763517528223 at md=5, msl=4, mln=7\n",
            "current val score is 0.890374331550802 at md=5, msl=4, mln=8\n",
            "current val score is 0.9004753416518122 at md=5, msl=4, mln=9\n",
            "current val score is 0.890374331550802 at md=5, msl=4, mln=10\n",
            "current val score is 0.890374331550802 at md=5, msl=4, mln=11\n",
            "current val score is 0.9105763517528223 at md=5, msl=5, mln=7\n",
            "current val score is 0.9105763517528223 at md=5, msl=5, mln=8\n",
            "current val score is 0.9105763517528223 at md=5, msl=5, mln=9\n",
            "current val score is 0.9105763517528223 at md=5, msl=5, mln=10\n",
            "current val score is 0.9105763517528223 at md=5, msl=5, mln=11\n",
            "current val score is 0.9105763517528223 at md=5, msl=6, mln=7\n",
            "current val score is 0.9105763517528223 at md=5, msl=6, mln=8\n",
            "current val score is 0.9105763517528223 at md=5, msl=6, mln=9\n",
            "current val score is 0.9105763517528223 at md=5, msl=6, mln=10\n",
            "current val score is 0.9105763517528223 at md=5, msl=6, mln=11\n",
            "current val score is 0.9105763517528223 at md=5, msl=7, mln=7\n",
            "current val score is 0.9105763517528223 at md=5, msl=7, mln=8\n",
            "current val score is 0.9105763517528223 at md=5, msl=7, mln=9\n",
            "current val score is 0.9105763517528223 at md=5, msl=7, mln=10\n",
            "current val score is 0.9105763517528223 at md=5, msl=7, mln=11\n",
            "current val score is 0.9105763517528223 at md=5, msl=8, mln=7\n",
            "current val score is 0.9105763517528223 at md=5, msl=8, mln=8\n",
            "current val score is 0.9105763517528223 at md=5, msl=8, mln=9\n",
            "current val score is 0.9105763517528223 at md=5, msl=8, mln=10\n",
            "current val score is 0.9105763517528223 at md=5, msl=8, mln=11\n",
            "current val score is 0.9105763517528223 at md=5, msl=9, mln=7\n",
            "current val score is 0.9105763517528223 at md=5, msl=9, mln=8\n",
            "current val score is 0.9105763517528223 at md=5, msl=9, mln=9\n",
            "current val score is 0.9105763517528223 at md=5, msl=9, mln=10\n",
            "current val score is 0.9105763517528223 at md=5, msl=9, mln=11\n",
            "current val score is 0.9105763517528223 at md=5, msl=10, mln=7\n",
            "current val score is 0.9105763517528223 at md=5, msl=10, mln=8\n",
            "current val score is 0.9105763517528223 at md=5, msl=10, mln=9\n",
            "current val score is 0.9105763517528223 at md=5, msl=10, mln=10\n",
            "current val score is 0.9105763517528223 at md=5, msl=10, mln=11\n",
            "\n",
            "\n",
            " best val score is 0.9298871063576946 at md=4, msl=2, mln=7\n",
            "real Test score is 0.98\n"
          ]
        }
      ]
    },
    {
      "cell_type": "markdown",
      "metadata": {
        "id": "OonHW9lGtJJt"
      },
      "source": [
        "### 2.3.3 learning curve\n",
        "학습데이터 증가에 따른 모델 성능 곡선을 그려보기 위해 scikit-plot을 아래와 같이 설치한다.\n",
        "```bash\n",
        "!pip install scikit-plot\n",
        "```\n",
        "\n",
        "학습데이터에 대해 지나치게 overfit하는 모델보다는 규제가 있는 모델이 더 좋다. 그러나, 어떤 규제를 얼마만큼 줘야하는 지는 모르죠. 따라서 규제 정도를 선택하기 위해 모델을 튜닝하는 것이다."
      ]
    },
    {
      "cell_type": "code",
      "metadata": {
        "colab": {
          "base_uri": "https://localhost:8080/"
        },
        "id": "I49rRJSp5yNA",
        "outputId": "0fcaf272-9cfa-43a6-ac62-1fc37002e864"
      },
      "source": [
        "!pip install scikit-plot"
      ],
      "execution_count": 41,
      "outputs": [
        {
          "output_type": "stream",
          "name": "stdout",
          "text": [
            "Collecting scikit-plot\n",
            "  Downloading scikit_plot-0.3.7-py3-none-any.whl (33 kB)\n",
            "Requirement already satisfied: scikit-learn>=0.18 in /usr/local/lib/python3.7/dist-packages (from scikit-plot) (1.0.1)\n",
            "Requirement already satisfied: matplotlib>=1.4.0 in /usr/local/lib/python3.7/dist-packages (from scikit-plot) (3.2.2)\n",
            "Requirement already satisfied: scipy>=0.9 in /usr/local/lib/python3.7/dist-packages (from scikit-plot) (1.4.1)\n",
            "Requirement already satisfied: joblib>=0.10 in /usr/local/lib/python3.7/dist-packages (from scikit-plot) (1.1.0)\n",
            "Requirement already satisfied: numpy>=1.11 in /usr/local/lib/python3.7/dist-packages (from matplotlib>=1.4.0->scikit-plot) (1.19.5)\n",
            "Requirement already satisfied: python-dateutil>=2.1 in /usr/local/lib/python3.7/dist-packages (from matplotlib>=1.4.0->scikit-plot) (2.8.2)\n",
            "Requirement already satisfied: cycler>=0.10 in /usr/local/lib/python3.7/dist-packages (from matplotlib>=1.4.0->scikit-plot) (0.11.0)\n",
            "Requirement already satisfied: kiwisolver>=1.0.1 in /usr/local/lib/python3.7/dist-packages (from matplotlib>=1.4.0->scikit-plot) (1.3.2)\n",
            "Requirement already satisfied: pyparsing!=2.0.4,!=2.1.2,!=2.1.6,>=2.0.1 in /usr/local/lib/python3.7/dist-packages (from matplotlib>=1.4.0->scikit-plot) (3.0.6)\n",
            "Requirement already satisfied: six>=1.5 in /usr/local/lib/python3.7/dist-packages (from python-dateutil>=2.1->matplotlib>=1.4.0->scikit-plot) (1.15.0)\n",
            "Requirement already satisfied: threadpoolctl>=2.0.0 in /usr/local/lib/python3.7/dist-packages (from scikit-learn>=0.18->scikit-plot) (3.0.0)\n",
            "Installing collected packages: scikit-plot\n",
            "Successfully installed scikit-plot-0.3.7\n"
          ]
        }
      ]
    },
    {
      "cell_type": "code",
      "metadata": {
        "id": "ZsuleQ4stJJu",
        "colab": {
          "base_uri": "https://localhost:8080/",
          "height": 404
        },
        "outputId": "28933f98-9f96-4122-ca16-12967590271b"
      },
      "source": [
        "import scikitplot as skplt\n",
        "skplt.estimators.plot_learning_curve(model, X_train, y_train, figsize=(6,6),\n",
        "                                    random_state=42)\n",
        "plt.show()"
      ],
      "execution_count": 42,
      "outputs": [
        {
          "output_type": "display_data",
          "data": {
            "image/png": "[encoded data removed]",
            "text/plain": [
              "<Figure size 432x432 with 1 Axes>"
            ]
          },
          "metadata": {
            "needs_background": "light"
          }
        }
      ]
    },
    {
      "cell_type": "code",
      "metadata": {
        "id": "Wbm4dYEItJJu",
        "colab": {
          "base_uri": "https://localhost:8080/",
          "height": 404
        },
        "outputId": "c3580a88-df15-4417-f45f-faef86757985"
      },
      "source": [
        "import scikitplot as skplt\n",
        "skplt.estimators.plot_learning_curve(m, X_train, y_train, figsize=(6,6),\n",
        "                                    random_state=42)\n",
        "plt.show()"
      ],
      "execution_count": 43,
      "outputs": [
        {
          "output_type": "display_data",
          "data": {
            "image/png": "[encoded data removed]",
            "text/plain": [
              "<Figure size 432x432 with 1 Axes>"
            ]
          },
          "metadata": {
            "needs_background": "light"
          }
        }
      ]
    },
    {
      "cell_type": "markdown",
      "metadata": {
        "id": "NAk5qsv0tJJu"
      },
      "source": [
        "### 2.3.4 모델 튜닝"
      ]
    },
    {
      "cell_type": "code",
      "metadata": {
        "scrolled": true,
        "id": "01DnGWOptJJu",
        "colab": {
          "base_uri": "https://localhost:8080/"
        },
        "outputId": "c8d59051-a23d-4064-e09b-27cd93d779ff"
      },
      "source": [
        "from sklearn.model_selection import GridSearchCV\n",
        "estimator = DecisionTreeClassifier()\n",
        "params= {'max_depth':range(4, 13, 2),\n",
        "        'criterion':['gini', 'entropy'],\n",
        "        'splitter':['best', 'random'],\n",
        "        'random_state':[7, 23, 42, 78, 142],\n",
        "        'min_impurity_decrease':[0., 0.05, 0.1, 0.2]}\n",
        "model = GridSearchCV(estimator, params, cv=cv, verbose=1,\n",
        "                    n_jobs=-1, refit=True)\n",
        "\n",
        "# refit=True인 경우라면 재학습은 불필요하다. \n",
        "model.fit(X_train, y_train)"
      ],
      "execution_count": 44,
      "outputs": [
        {
          "output_type": "stream",
          "name": "stdout",
          "text": [
            "Fitting 3 folds for each of 400 candidates, totalling 1200 fits\n"
          ]
        },
        {
          "output_type": "execute_result",
          "data": {
            "text/plain": [
              "GridSearchCV(cv=KFold(n_splits=3, random_state=42, shuffle=True),\n",
              "             estimator=DecisionTreeClassifier(), n_jobs=-1,\n",
              "             param_grid={'criterion': ['gini', 'entropy'],\n",
              "                         'max_depth': range(4, 13, 2),\n",
              "                         'min_impurity_decrease': [0.0, 0.05, 0.1, 0.2],\n",
              "                         'random_state': [7, 23, 42, 78, 142],\n",
              "                         'splitter': ['best', 'random']},\n",
              "             verbose=1)"
            ]
          },
          "metadata": {},
          "execution_count": 44
        }
      ]
    },
    {
      "cell_type": "code",
      "metadata": {
        "id": "dt1TrOGhtJJv",
        "colab": {
          "base_uri": "https://localhost:8080/"
        },
        "outputId": "7486b5de-a4be-4003-afe9-50b2434768e0"
      },
      "source": [
        "print(f\"Best Estimator: {model.best_estimator_}\\n\")\n",
        "print(f\"Best Params: {model.best_params_}\\n\")\n",
        "print(f\"Best Scorer: {model.best_score_}\\n\")"
      ],
      "execution_count": 45,
      "outputs": [
        {
          "output_type": "stream",
          "name": "stdout",
          "text": [
            "Best Estimator: DecisionTreeClassifier(max_depth=4, random_state=78, splitter='random')\n",
            "\n",
            "Best Params: {'criterion': 'gini', 'max_depth': 4, 'min_impurity_decrease': 0.0, 'random_state': 78, 'splitter': 'random'}\n",
            "\n",
            "Best Scorer: 0.9607843137254902\n",
            "\n"
          ]
        }
      ]
    },
    {
      "cell_type": "code",
      "metadata": {
        "id": "l6kfHBJ7tJJv",
        "colab": {
          "base_uri": "https://localhost:8080/"
        },
        "outputId": "a4632d41-dbb6-4284-a52e-25be5c9d1d3f"
      },
      "source": [
        "model.score(X_test, y_test)"
      ],
      "execution_count": 46,
      "outputs": [
        {
          "output_type": "execute_result",
          "data": {
            "text/plain": [
              "0.94"
            ]
          },
          "metadata": {},
          "execution_count": 46
        }
      ]
    },
    {
      "cell_type": "markdown",
      "metadata": {
        "id": "HSkJUIhqtJJv"
      },
      "source": [
        "[Quiz] GridSearchCV를 사용하여, 튜닝하는데, 이전과 같이 max_depth, min_samples_split, min_samples_leaf, max_leaf_nodes 등을 사용 좀 더 좋은 성능을 갖는 best 모델을 생성해보자."
      ]
    },
    {
      "cell_type": "code",
      "metadata": {
        "id": "06alXLjWtJJw",
        "colab": {
          "base_uri": "https://localhost:8080/"
        },
        "outputId": "23981e7b-618a-4735-bd35-e9723ad0f6ee"
      },
      "source": [
        "estimator = DecisionTreeClassifier()\n",
        "params= {'max_depth':[3, 4, 5, 6],\n",
        "        'min_samples_split':range(2, 11),\n",
        "        'max_leaf_nodes':range(7, 12)}\n",
        "m2 = GridSearchCV(estimator, params, cv=cv, verbose=1,\n",
        "                    n_jobs=-1, refit=True)\n",
        "\n",
        "# refit=True인 경우라면 재학습은 불필요하다. \n",
        "m2.fit(X_train, y_train)\n",
        "\n",
        "print(f\"Best Estimator: {m2.best_estimator_}\\n\")\n",
        "print(f\"Best Params: {m2.best_params_}\\n\")\n",
        "print(f\"Best Scorer: {m2.best_score_}\\n\")"
      ],
      "execution_count": 47,
      "outputs": [
        {
          "output_type": "stream",
          "name": "stdout",
          "text": [
            "Fitting 3 folds for each of 180 candidates, totalling 540 fits\n",
            "Best Estimator: DecisionTreeClassifier(max_depth=4, max_leaf_nodes=11)\n",
            "\n",
            "Best Params: {'max_depth': 4, 'max_leaf_nodes': 11, 'min_samples_split': 2}\n",
            "\n",
            "Best Scorer: 0.9206773618538325\n",
            "\n"
          ]
        }
      ]
    },
    {
      "cell_type": "code",
      "metadata": {
        "id": "imkjMz_7tJJw",
        "outputId": "d8e38a20-9753-4a0a-da28-c50b6b09d932",
        "colab": {
          "base_uri": "https://localhost:8080/"
        }
      },
      "source": [
        "m2.score(X_test, y_test)"
      ],
      "execution_count": 48,
      "outputs": [
        {
          "output_type": "execute_result",
          "data": {
            "text/plain": [
              "0.98"
            ]
          },
          "metadata": {},
          "execution_count": 48
        }
      ]
    },
    {
      "cell_type": "markdown",
      "metadata": {
        "id": "l-wjgxAetJJw"
      },
      "source": [
        "## 2.4 평가지표 및 모델 평가\n",
        "### 2.4.1 정확도의 함정"
      ]
    },
    {
      "cell_type": "code",
      "metadata": {
        "id": "oxoUE-vjtJJw",
        "colab": {
          "base_uri": "https://localhost:8080/"
        },
        "outputId": "a422a18f-5c73-4089-cff6-abd659d73ab3"
      },
      "source": [
        "from sklearn.metrics import accuracy_score\n",
        "\n",
        "pred = model.predict(X_test)\n",
        "acc = accuracy_score(y_test, pred)\n",
        "print(f'Accuracy : {acc}')"
      ],
      "execution_count": 49,
      "outputs": [
        {
          "output_type": "stream",
          "name": "stdout",
          "text": [
            "Accuracy : 0.94\n"
          ]
        }
      ]
    },
    {
      "cell_type": "code",
      "metadata": {
        "id": "APgCAxgxtJJx",
        "colab": {
          "base_uri": "https://localhost:8080/"
        },
        "outputId": "79842d77-b9dc-49a9-ffb8-26c7aa94fa7f"
      },
      "source": [
        "model.score(X_test, y_test)"
      ],
      "execution_count": 50,
      "outputs": [
        {
          "output_type": "execute_result",
          "data": {
            "text/plain": [
              "0.94"
            ]
          },
          "metadata": {},
          "execution_count": 50
        }
      ]
    },
    {
      "cell_type": "markdown",
      "metadata": {
        "id": "wxN2_VS_tJJx"
      },
      "source": [
        "### 2.4.2 Confusion Matrix"
      ]
    },
    {
      "cell_type": "code",
      "metadata": {
        "id": "Rvd_Sn47tJJx",
        "colab": {
          "base_uri": "https://localhost:8080/"
        },
        "outputId": "cc78c252-8793-41ae-a8ee-9981074ad858"
      },
      "source": [
        "from sklearn.metrics import confusion_matrix\n",
        "confMatrix = confusion_matrix(y_test, pred)\n",
        "print(f\"Confusion Matrix : \\n{confMatrix}\")"
      ],
      "execution_count": 51,
      "outputs": [
        {
          "output_type": "stream",
          "name": "stdout",
          "text": [
            "Confusion Matrix : \n",
            "[[19  0  0]\n",
            " [ 0 13  2]\n",
            " [ 0  1 15]]\n"
          ]
        }
      ]
    },
    {
      "cell_type": "code",
      "metadata": {
        "id": "8d_hnomStJJx",
        "colab": {
          "base_uri": "https://localhost:8080/"
        },
        "outputId": "466220a0-beb4-49ff-e7cb-0fcf20f61aa1"
      },
      "source": [
        "print(f\"Accuracy : \\n{confMatrix.trace()/confMatrix.sum()}\")"
      ],
      "execution_count": 52,
      "outputs": [
        {
          "output_type": "stream",
          "name": "stdout",
          "text": [
            "Accuracy : \n",
            "0.94\n"
          ]
        }
      ]
    },
    {
      "cell_type": "markdown",
      "metadata": {
        "id": "nAcHZzZMtJJx"
      },
      "source": [
        "1. 실제:\n",
        " - setosa: 19\n",
        " - versicolor: 15\n",
        " - verginica: 16\n",
        "2. 예측:\n",
        " - setosa: 19\n",
        " - versicolor: 16\n",
        " - verginica: 15"
      ]
    },
    {
      "cell_type": "code",
      "metadata": {
        "id": "_4dZxNL4tJJx",
        "colab": {
          "base_uri": "https://localhost:8080/"
        },
        "outputId": "38873cab-65c5-4fad-d9b5-e0024674d68e"
      },
      "source": [
        "print(f'실제 타겟값의 수: {confMatrix.sum(axis=1)}')\n",
        "print(f'예측 타겟값의 수: {confMatrix.sum(axis=0)}')"
      ],
      "execution_count": 53,
      "outputs": [
        {
          "output_type": "stream",
          "name": "stdout",
          "text": [
            "실제 타겟값의 수: [19 15 16]\n",
            "예측 타겟값의 수: [19 14 17]\n"
          ]
        }
      ]
    },
    {
      "cell_type": "code",
      "metadata": {
        "id": "y8q0bl7-tJJy",
        "colab": {
          "base_uri": "https://localhost:8080/",
          "height": 404
        },
        "outputId": "fc21c26f-47bc-4c0c-b944-54c3c1723875"
      },
      "source": [
        "skplt.metrics.plot_confusion_matrix(y_test, pred, figsize=(8,6))\n",
        "plt.show()"
      ],
      "execution_count": 54,
      "outputs": [
        {
          "output_type": "display_data",
          "data": {
            "image/png": "[encoded data removed]",
            "text/plain": [
              "<Figure size 576x432 with 2 Axes>"
            ]
          },
          "metadata": {
            "needs_background": "light"
          }
        }
      ]
    },
    {
      "cell_type": "markdown",
      "metadata": {
        "id": "akztEUNetJJy"
      },
      "source": [
        "### 2.4.3 precision/ recall/ f-score"
      ]
    },
    {
      "cell_type": "code",
      "metadata": {
        "id": "eQA9Xo_-tJJy",
        "colab": {
          "base_uri": "https://localhost:8080/"
        },
        "outputId": "7d1223b6-9d33-4135-99e6-a3b47e54485e"
      },
      "source": [
        "from sklearn.metrics import precision_score\n",
        "\n",
        "precisions = precision_score(y_test, pred, average=None)\n",
        "for target, score in zip(data.target_names, precisions):\n",
        "    print(f\"{target}의 정밀도: {score}\")"
      ],
      "execution_count": 55,
      "outputs": [
        {
          "output_type": "stream",
          "name": "stdout",
          "text": [
            "setosa의 정밀도: 1.0\n",
            "versicolor의 정밀도: 0.9285714285714286\n",
            "virginica의 정밀도: 0.8823529411764706\n"
          ]
        }
      ]
    },
    {
      "cell_type": "code",
      "metadata": {
        "id": "XgROIOBxtJJy",
        "colab": {
          "base_uri": "https://localhost:8080/"
        },
        "outputId": "2e9ba2dd-84c9-4937-86e2-a9df9bf60cef"
      },
      "source": [
        "confMatrix"
      ],
      "execution_count": 56,
      "outputs": [
        {
          "output_type": "execute_result",
          "data": {
            "text/plain": [
              "array([[19,  0,  0],\n",
              "       [ 0, 13,  2],\n",
              "       [ 0,  1, 15]])"
            ]
          },
          "metadata": {},
          "execution_count": 56
        }
      ]
    },
    {
      "cell_type": "markdown",
      "metadata": {
        "id": "LQVmxWnutJJz"
      },
      "source": [
        "[Quiz] confMatrix를 이용해 각각의 범주별로 precisions 및 recalls 등을 계산해보자.\n",
        "- recall(재현율): 실제 Positive인 것 중에서 Positive로 예측한 비율\n",
        "- precision(정밀도): Positive라 주장한 것 중에서 실제 Positive인 비율\n",
        "- specification(특이도): 실제 Negative인 것 중에서 Negative로 예측한 비율"
      ]
    },
    {
      "cell_type": "code",
      "metadata": {
        "id": "x7SputTrtJJz",
        "colab": {
          "base_uri": "https://localhost:8080/"
        },
        "outputId": "6730790a-7fb6-40f8-e80b-de15c5bef80b"
      },
      "source": [
        "precs = []\n",
        "rcls = []\n",
        "specs = []\n",
        "for i in range(3):\n",
        "    TP = confMatrix[i, i]\n",
        "    FN = confMatrix[i].sum() - TP\n",
        "    FP = confMatrix[:,i].sum() - TP\n",
        "    TN = confMatrix.sum() - TP - FN - FP\n",
        "#     TN = confMatrix.trace() - TP\n",
        "    precs.append(TP/(TP+FP))\n",
        "    rcls.append(TP/(TP+FN))\n",
        "    specs.append(TN/(TN+FP))\n",
        "    \n",
        "precs = np.array(precs)\n",
        "rcls = np.array(rcls)\n",
        "specs = np.array(specs)\n",
        "fall_outs = 1 - specs\n",
        "\n",
        "print(precs)\n",
        "print(rcls)\n",
        "print(specs)\n",
        "print(fall_outs)"
      ],
      "execution_count": 57,
      "outputs": [
        {
          "output_type": "stream",
          "name": "stdout",
          "text": [
            "[1.         0.92857143 0.88235294]\n",
            "[1.         0.86666667 0.9375    ]\n",
            "[1.         0.97142857 0.94117647]\n",
            "[0.         0.02857143 0.05882353]\n"
          ]
        }
      ]
    },
    {
      "cell_type": "markdown",
      "metadata": {
        "id": "nCTBbv7TtJJz"
      },
      "source": [
        "4가지 새로운 개념과 전체 Count:\n",
        "1. Real Count\n",
        " - RP: 실제 Positive. TP + FN\n",
        " - RN: 실제 Negative. TN + FP\n",
        "2. Predict Count\n",
        " - PP: 예측 Positive. TP + FP\n",
        " - PN: 예측 Negative. TN + FN\n",
        "3. 전체 Count\n",
        " - TC = TP + FN + FP + TN = RP + PP - TP + TN\n",
        " - TN = TC - RP - PP + TP"
      ]
    },
    {
      "cell_type": "code",
      "metadata": {
        "id": "RVVLcULytJJz",
        "colab": {
          "base_uri": "https://localhost:8080/"
        },
        "outputId": "adfc5f39-fa00-47fd-f605-0e38d1729c48"
      },
      "source": [
        "precs = []\n",
        "rcls = []\n",
        "specs = []\n",
        "for i in range(3):\n",
        "    TP = confMatrix[i, i]\n",
        "    RP = confMatrix[i].sum()\n",
        "    PP = confMatrix[:,i].sum()\n",
        "    TN = confMatrix.sum() - RP - PP + TP\n",
        "    precs.append(TP/PP)\n",
        "    rcls.append(TP/RP)\n",
        "    specs.append(TN/(confMatrix.sum() - RP))\n",
        "    \n",
        "precs = np.array(precs)\n",
        "rcls = np.array(rcls)\n",
        "specs = np.array(specs)\n",
        "fall_outs = 1 - specs\n",
        "\n",
        "print(precs)\n",
        "print(rcls)\n",
        "print(specs)\n",
        "print(fall_outs)"
      ],
      "execution_count": 58,
      "outputs": [
        {
          "output_type": "stream",
          "name": "stdout",
          "text": [
            "[1.         0.92857143 0.88235294]\n",
            "[1.         0.86666667 0.9375    ]\n",
            "[1.         0.97142857 0.94117647]\n",
            "[0.         0.02857143 0.05882353]\n"
          ]
        }
      ]
    },
    {
      "cell_type": "markdown",
      "metadata": {
        "id": "4jmmlBA3tJJz"
      },
      "source": [
        "당연히 confMatrix를 이용해 recall을 계산해볼 수 있다."
      ]
    },
    {
      "cell_type": "code",
      "metadata": {
        "id": "jpNUdjIetJJ0",
        "colab": {
          "base_uri": "https://localhost:8080/"
        },
        "outputId": "c00132b2-5beb-486a-d79e-474febec53df"
      },
      "source": [
        "from sklearn.metrics import recall_score\n",
        "\n",
        "recalls = recall_score(y_test, pred, average=None)\n",
        "for target, score in zip(data.target_names, recalls):\n",
        "    print(f\"{target}의 재현율: {score}\")"
      ],
      "execution_count": 59,
      "outputs": [
        {
          "output_type": "stream",
          "name": "stdout",
          "text": [
            "setosa의 재현율: 1.0\n",
            "versicolor의 재현율: 0.8666666666666667\n",
            "virginica의 재현율: 0.9375\n"
          ]
        }
      ]
    },
    {
      "cell_type": "markdown",
      "metadata": {
        "id": "1QaMp4JQtJJ0"
      },
      "source": [
        "F-스코어는 정밀도와 재현율의 가중조화평균이다. 보통은 등가중평균인 F1-스코어를 주로 사용한다."
      ]
    },
    {
      "cell_type": "code",
      "metadata": {
        "id": "PRj9pslXtJJ0",
        "colab": {
          "base_uri": "https://localhost:8080/"
        },
        "outputId": "88407bf8-f9b4-4024-e744-71aa3f554e5e"
      },
      "source": [
        "from sklearn.metrics import f1_score\n",
        "\n",
        "F1scores = f1_score(y_test, pred, average=None)\n",
        "for target, score in zip(data.target_names, F1scores):\n",
        "    print(f\"{target}의 F1점수: {score}\")"
      ],
      "execution_count": 60,
      "outputs": [
        {
          "output_type": "stream",
          "name": "stdout",
          "text": [
            "setosa의 F1점수: 1.0\n",
            "versicolor의 F1점수: 0.896551724137931\n",
            "virginica의 F1점수: 0.9090909090909091\n"
          ]
        }
      ]
    },
    {
      "cell_type": "markdown",
      "metadata": {
        "id": "MxdFhZKQtJJ0"
      },
      "source": [
        "[Quiz] Confusion Matrix를 F-1 스코어를 계산해보자.\n",
        "$$F1 = \\cfrac {2}{\\cfrac{1}{P} + \\cfrac{1}{R}} = \\cfrac {2TP}{RP + PP} = \\cfrac {2TP}{2TP + FP + FN}$$"
      ]
    },
    {
      "cell_type": "code",
      "metadata": {
        "id": "_jJ9lUEhtJJ0",
        "colab": {
          "base_uri": "https://localhost:8080/"
        },
        "outputId": "5b9e8a97-b841-4041-eb6e-4f54ea1f84f4"
      },
      "source": [
        "F1 = 2 / (1/precs + 1/rcls)\n",
        "F1"
      ],
      "execution_count": 61,
      "outputs": [
        {
          "output_type": "execute_result",
          "data": {
            "text/plain": [
              "array([1.        , 0.89655172, 0.90909091])"
            ]
          },
          "metadata": {},
          "execution_count": 61
        }
      ]
    },
    {
      "cell_type": "code",
      "metadata": {
        "id": "jgNROwQ5tJJ0",
        "colab": {
          "base_uri": "https://localhost:8080/"
        },
        "outputId": "b273bade-55e3-44fc-c655-de0ae69deb48"
      },
      "source": [
        "TParr = confMatrix.diagonal()\n",
        "RParr = confMatrix.sum(axis=1)\n",
        "PParr = confMatrix.sum(axis=0)\n",
        "F1 = 2*TParr / (RParr + PParr)\n",
        "F1"
      ],
      "execution_count": 62,
      "outputs": [
        {
          "output_type": "execute_result",
          "data": {
            "text/plain": [
              "array([1.        , 0.89655172, 0.90909091])"
            ]
          },
          "metadata": {},
          "execution_count": 62
        }
      ]
    },
    {
      "cell_type": "markdown",
      "metadata": {
        "id": "YCqd-nBbtJJ1"
      },
      "source": [
        "#### classification_report\n",
        "정확도, 정밀도, 재현율, 지지도, f1 스코어를 모두 측정하여 출력해준다."
      ]
    },
    {
      "cell_type": "code",
      "metadata": {
        "id": "nOgVHht9tJJ1",
        "colab": {
          "base_uri": "https://localhost:8080/"
        },
        "outputId": "0d54ca38-dd82-4cf1-c62f-a4d52a3499c8"
      },
      "source": [
        "confMatrix"
      ],
      "execution_count": 63,
      "outputs": [
        {
          "output_type": "execute_result",
          "data": {
            "text/plain": [
              "array([[19,  0,  0],\n",
              "       [ 0, 13,  2],\n",
              "       [ 0,  1, 15]])"
            ]
          },
          "metadata": {},
          "execution_count": 63
        }
      ]
    },
    {
      "cell_type": "code",
      "metadata": {
        "id": "rJi09piYtJJ1",
        "colab": {
          "base_uri": "https://localhost:8080/"
        },
        "outputId": "7de85e06-00e6-448d-eeda-25a47086ab4d"
      },
      "source": [
        "from sklearn.metrics import classification_report\n",
        "\n",
        "classReport = classification_report(y_test, pred)\n",
        "print(f\"Classification Report : \\n{classReport}\")"
      ],
      "execution_count": 64,
      "outputs": [
        {
          "output_type": "stream",
          "name": "stdout",
          "text": [
            "Classification Report : \n",
            "              precision    recall  f1-score   support\n",
            "\n",
            "      setosa       1.00      1.00      1.00        19\n",
            "  versicolor       0.93      0.87      0.90        15\n",
            "   virginica       0.88      0.94      0.91        16\n",
            "\n",
            "    accuracy                           0.94        50\n",
            "   macro avg       0.94      0.93      0.94        50\n",
            "weighted avg       0.94      0.94      0.94        50\n",
            "\n"
          ]
        }
      ]
    },
    {
      "cell_type": "markdown",
      "metadata": {
        "id": "moNwoDbHtJJ1"
      },
      "source": [
        "- macro avg: 3개의 class들에 대한 산술 평균\n",
        "- weighted avg: support로 weighting한 가중 평균값\n",
        "\n",
        "[Quiz] Support(지지도)는 무엇을 의미할까요?"
      ]
    },
    {
      "cell_type": "code",
      "metadata": {
        "id": "yCt_EID1tJJ1",
        "colab": {
          "base_uri": "https://localhost:8080/"
        },
        "outputId": "92a696ae-1e31-44cf-f2be-1e65fca0d9fc"
      },
      "source": [
        "y_test.value_counts()"
      ],
      "execution_count": 65,
      "outputs": [
        {
          "output_type": "execute_result",
          "data": {
            "text/plain": [
              "setosa        19\n",
              "virginica     16\n",
              "versicolor    15\n",
              "Name: Species, dtype: int64"
            ]
          },
          "metadata": {},
          "execution_count": 65
        }
      ]
    },
    {
      "cell_type": "markdown",
      "metadata": {
        "id": "XsMafgkBtJJ2"
      },
      "source": [
        "### 2.4.4 ROC curve 와 AUC\n",
        "이전과 달리 예측값이 아닌 예측 확률을 이용한다.\n",
        "- R, P, F : 예측한 범주(yhat = 0, 1, 2)의 수를 이용하였다.\n",
        "- ROC, AUC: 범주에 대한 예측확률(yhat = P(y=0), P(y=1), P(y=2))을 이용한다.\n",
        "\n",
        "특정 class 별로 class에 대한 예측확률이 높은 순으로 데이터를 재정렬한다.\n",
        "\n",
        "예를 들면 setosa에 대해:\n",
        "1. setosa에 대한 예측 확률이 높은 순으로 정렬한다.\n",
        "2. 각 정렬순으로 해당 확률값을 classification의 threshold값으로 정한다.\n",
        "3. 이때의 TPR과 FPR를 구해서 점을 찍는다.\n",
        "4. 1 ~ 3의 과정을 모든 데이터에 대해 반복하면서 점을 찍으면 curve가 완성된다.\n",
        "\n",
        "TPR(Sensitivity, 민감도) = Recall : 실제 Positive인 것 중에서 Positive로 예측한 비율\n",
        "- Recall : 새로운 Positive 데이터로 측정할 때, 동일하게 Positive로 판정할 확률\n",
        "- Sensitivity: Positive로 아슬아슬하게 판정되는 Positive를 Positive로 판정할 확률\n",
        "\n",
        "FPR(Fall-out, 위양성률) : 실제 Negative인 것 중에서 Positive로 잘못 예측한 비율"
      ]
    },
    {
      "cell_type": "code",
      "metadata": {
        "id": "X4CCXlAGtJJ2",
        "outputId": "02da0b94-adf1-462c-aacb-b6217448c413",
        "colab": {
          "base_uri": "https://localhost:8080/"
        }
      },
      "source": [
        "pred[:10]"
      ],
      "execution_count": 66,
      "outputs": [
        {
          "output_type": "execute_result",
          "data": {
            "text/plain": [
              "array(['versicolor', 'setosa', 'virginica', 'versicolor', 'versicolor',\n",
              "       'setosa', 'versicolor', 'virginica', 'versicolor', 'versicolor'],\n",
              "      dtype=object)"
            ]
          },
          "metadata": {},
          "execution_count": 66
        }
      ]
    },
    {
      "cell_type": "markdown",
      "metadata": {
        "id": "0ItMTURTtJJ2"
      },
      "source": [
        "pred_proba는 (n, d) shape을 가지며, 각 sample이 d 개의 클래스에 속할 확률을 갖는다."
      ]
    },
    {
      "cell_type": "code",
      "metadata": {
        "id": "RdUlPSf6tJJ2",
        "outputId": "3e8f4916-2414-4206-cdcf-c8588e208c5f",
        "colab": {
          "base_uri": "https://localhost:8080/"
        }
      },
      "source": [
        "pred_proba = model.predict_proba(X_test)\n",
        "pred_proba[:10]"
      ],
      "execution_count": 67,
      "outputs": [
        {
          "output_type": "execute_result",
          "data": {
            "text/plain": [
              "array([[0.        , 1.        , 0.        ],\n",
              "       [1.        , 0.        , 0.        ],\n",
              "       [0.        , 0.        , 1.        ],\n",
              "       [0.        , 1.        , 0.        ],\n",
              "       [0.        , 1.        , 0.        ],\n",
              "       [1.        , 0.        , 0.        ],\n",
              "       [0.        , 1.        , 0.        ],\n",
              "       [0.        , 0.11764706, 0.88235294],\n",
              "       [0.        , 1.        , 0.        ],\n",
              "       [0.        , 1.        , 0.        ]])"
            ]
          },
          "metadata": {},
          "execution_count": 67
        }
      ]
    },
    {
      "cell_type": "code",
      "metadata": {
        "id": "3wDPoMHCtJJ2",
        "outputId": "c3dc342e-6ed9-407a-cdbc-ac4ef47f5d2c",
        "colab": {
          "base_uri": "https://localhost:8080/"
        }
      },
      "source": [
        "y_test[:10]"
      ],
      "execution_count": 68,
      "outputs": [
        {
          "output_type": "execute_result",
          "data": {
            "text/plain": [
              "73     versicolor\n",
              "18         setosa\n",
              "118     virginica\n",
              "78     versicolor\n",
              "76     versicolor\n",
              "31         setosa\n",
              "64     versicolor\n",
              "141     virginica\n",
              "68     versicolor\n",
              "82     versicolor\n",
              "Name: Species, dtype: object"
            ]
          },
          "metadata": {},
          "execution_count": 68
        }
      ]
    },
    {
      "cell_type": "code",
      "metadata": {
        "id": "rdqxScr-tJJ3",
        "outputId": "e86af165-4773-4fcf-9f51-5da6f8c7669a",
        "colab": {
          "base_uri": "https://localhost:8080/"
        }
      },
      "source": [
        "viewPoint = np.hstack((pred_proba, y_test.values.reshape(-1, 1)))\n",
        "viewPoint[:10]"
      ],
      "execution_count": 69,
      "outputs": [
        {
          "output_type": "execute_result",
          "data": {
            "text/plain": [
              "array([[0.0, 1.0, 0.0, 'versicolor'],\n",
              "       [1.0, 0.0, 0.0, 'setosa'],\n",
              "       [0.0, 0.0, 1.0, 'virginica'],\n",
              "       [0.0, 1.0, 0.0, 'versicolor'],\n",
              "       [0.0, 1.0, 0.0, 'versicolor'],\n",
              "       [1.0, 0.0, 0.0, 'setosa'],\n",
              "       [0.0, 1.0, 0.0, 'versicolor'],\n",
              "       [0.0, 0.11764705882352941, 0.8823529411764706, 'virginica'],\n",
              "       [0.0, 1.0, 0.0, 'versicolor'],\n",
              "       [0.0, 1.0, 0.0, 'versicolor']], dtype=object)"
            ]
          },
          "metadata": {},
          "execution_count": 69
        }
      ]
    },
    {
      "cell_type": "markdown",
      "metadata": {
        "id": "VttploxotJJ3"
      },
      "source": [
        "Setosa일 확률이 높은 순으로 정렬할 때:"
      ]
    },
    {
      "cell_type": "code",
      "metadata": {
        "id": "8ekFf_e1tJJ3",
        "outputId": "9d274a24-016b-43dd-ab47-6334c927a13b",
        "colab": {
          "base_uri": "https://localhost:8080/"
        }
      },
      "source": [
        "viewPoint[np.argsort(pred_proba[:,0])[::-1]]"
      ],
      "execution_count": 70,
      "outputs": [
        {
          "output_type": "execute_result",
          "data": {
            "text/plain": [
              "array([[1.0, 0.0, 0.0, 'setosa'],\n",
              "       [1.0, 0.0, 0.0, 'setosa'],\n",
              "       [1.0, 0.0, 0.0, 'setosa'],\n",
              "       [1.0, 0.0, 0.0, 'setosa'],\n",
              "       [1.0, 0.0, 0.0, 'setosa'],\n",
              "       [1.0, 0.0, 0.0, 'setosa'],\n",
              "       [1.0, 0.0, 0.0, 'setosa'],\n",
              "       [1.0, 0.0, 0.0, 'setosa'],\n",
              "       [1.0, 0.0, 0.0, 'setosa'],\n",
              "       [1.0, 0.0, 0.0, 'setosa'],\n",
              "       [1.0, 0.0, 0.0, 'setosa'],\n",
              "       [1.0, 0.0, 0.0, 'setosa'],\n",
              "       [1.0, 0.0, 0.0, 'setosa'],\n",
              "       [1.0, 0.0, 0.0, 'setosa'],\n",
              "       [1.0, 0.0, 0.0, 'setosa'],\n",
              "       [1.0, 0.0, 0.0, 'setosa'],\n",
              "       [1.0, 0.0, 0.0, 'setosa'],\n",
              "       [1.0, 0.0, 0.0, 'setosa'],\n",
              "       [1.0, 0.0, 0.0, 'setosa'],\n",
              "       [0.0, 0.0, 1.0, 'versicolor'],\n",
              "       [0.0, 0.11764705882352941, 0.8823529411764706, 'virginica'],\n",
              "       [0.0, 0.0, 1.0, 'virginica'],\n",
              "       [0.0, 1.0, 0.0, 'versicolor'],\n",
              "       [0.0, 1.0, 0.0, 'versicolor'],\n",
              "       [0.0, 1.0, 0.0, 'versicolor'],\n",
              "       [0.0, 0.11764705882352941, 0.8823529411764706, 'virginica'],\n",
              "       [0.0, 1.0, 0.0, 'versicolor'],\n",
              "       [0.0, 1.0, 0.0, 'versicolor'],\n",
              "       [0.0, 1.0, 0.0, 'versicolor'],\n",
              "       [0.0, 0.0, 1.0, 'virginica'],\n",
              "       [0.0, 0.0, 1.0, 'virginica'],\n",
              "       [0.0, 0.0, 1.0, 'virginica'],\n",
              "       [0.0, 1.0, 0.0, 'versicolor'],\n",
              "       [0.0, 0.0, 1.0, 'virginica'],\n",
              "       [0.0, 0.11764705882352941, 0.8823529411764706, 'virginica'],\n",
              "       [0.0, 1.0, 0.0, 'virginica'],\n",
              "       [0.0, 1.0, 0.0, 'versicolor'],\n",
              "       [0.0, 1.0, 0.0, 'versicolor'],\n",
              "       [0.0, 0.0, 1.0, 'versicolor'],\n",
              "       [0.0, 0.11764705882352941, 0.8823529411764706, 'virginica'],\n",
              "       [0.0, 1.0, 0.0, 'versicolor'],\n",
              "       [0.0, 0.11764705882352941, 0.8823529411764706, 'virginica'],\n",
              "       [0.0, 1.0, 0.0, 'versicolor'],\n",
              "       [0.0, 0.0, 1.0, 'virginica'],\n",
              "       [0.0, 0.0, 1.0, 'virginica'],\n",
              "       [0.0, 0.11764705882352941, 0.8823529411764706, 'virginica'],\n",
              "       [0.0, 1.0, 0.0, 'versicolor'],\n",
              "       [0.0, 0.0, 1.0, 'virginica'],\n",
              "       [0.0, 0.11764705882352941, 0.8823529411764706, 'virginica'],\n",
              "       [0.0, 1.0, 0.0, 'versicolor']], dtype=object)"
            ]
          },
          "metadata": {},
          "execution_count": 70
        }
      ]
    },
    {
      "cell_type": "markdown",
      "metadata": {
        "id": "L6HBw-catJJ3"
      },
      "source": [
        "versicolor일 확률이 높은 순으로 정렬할 때:"
      ]
    },
    {
      "cell_type": "code",
      "metadata": {
        "id": "80LBjUYWtJJ3",
        "outputId": "77673be1-00e6-4e1c-aa2d-2e0d37b634ce",
        "colab": {
          "base_uri": "https://localhost:8080/"
        }
      },
      "source": [
        "viewPoint[np.argsort(pred_proba[:,1])[::-1]]"
      ],
      "execution_count": 71,
      "outputs": [
        {
          "output_type": "execute_result",
          "data": {
            "text/plain": [
              "array([[0.0, 1.0, 0.0, 'versicolor'],\n",
              "       [0.0, 1.0, 0.0, 'versicolor'],\n",
              "       [0.0, 1.0, 0.0, 'versicolor'],\n",
              "       [0.0, 1.0, 0.0, 'versicolor'],\n",
              "       [0.0, 1.0, 0.0, 'versicolor'],\n",
              "       [0.0, 1.0, 0.0, 'versicolor'],\n",
              "       [0.0, 1.0, 0.0, 'versicolor'],\n",
              "       [0.0, 1.0, 0.0, 'versicolor'],\n",
              "       [0.0, 1.0, 0.0, 'versicolor'],\n",
              "       [0.0, 1.0, 0.0, 'versicolor'],\n",
              "       [0.0, 1.0, 0.0, 'versicolor'],\n",
              "       [0.0, 1.0, 0.0, 'versicolor'],\n",
              "       [0.0, 1.0, 0.0, 'versicolor'],\n",
              "       [0.0, 1.0, 0.0, 'virginica'],\n",
              "       [0.0, 0.11764705882352941, 0.8823529411764706, 'virginica'],\n",
              "       [0.0, 0.11764705882352941, 0.8823529411764706, 'virginica'],\n",
              "       [0.0, 0.11764705882352941, 0.8823529411764706, 'virginica'],\n",
              "       [0.0, 0.11764705882352941, 0.8823529411764706, 'virginica'],\n",
              "       [0.0, 0.11764705882352941, 0.8823529411764706, 'virginica'],\n",
              "       [0.0, 0.11764705882352941, 0.8823529411764706, 'virginica'],\n",
              "       [0.0, 0.11764705882352941, 0.8823529411764706, 'virginica'],\n",
              "       [1.0, 0.0, 0.0, 'setosa'],\n",
              "       [1.0, 0.0, 0.0, 'setosa'],\n",
              "       [1.0, 0.0, 0.0, 'setosa'],\n",
              "       [1.0, 0.0, 0.0, 'setosa'],\n",
              "       [1.0, 0.0, 0.0, 'setosa'],\n",
              "       [0.0, 0.0, 1.0, 'virginica'],\n",
              "       [0.0, 0.0, 1.0, 'versicolor'],\n",
              "       [0.0, 0.0, 1.0, 'virginica'],\n",
              "       [1.0, 0.0, 0.0, 'setosa'],\n",
              "       [0.0, 0.0, 1.0, 'virginica'],\n",
              "       [0.0, 0.0, 1.0, 'virginica'],\n",
              "       [1.0, 0.0, 0.0, 'setosa'],\n",
              "       [1.0, 0.0, 0.0, 'setosa'],\n",
              "       [1.0, 0.0, 0.0, 'setosa'],\n",
              "       [0.0, 0.0, 1.0, 'versicolor'],\n",
              "       [1.0, 0.0, 0.0, 'setosa'],\n",
              "       [1.0, 0.0, 0.0, 'setosa'],\n",
              "       [1.0, 0.0, 0.0, 'setosa'],\n",
              "       [1.0, 0.0, 0.0, 'setosa'],\n",
              "       [1.0, 0.0, 0.0, 'setosa'],\n",
              "       [1.0, 0.0, 0.0, 'setosa'],\n",
              "       [1.0, 0.0, 0.0, 'setosa'],\n",
              "       [1.0, 0.0, 0.0, 'setosa'],\n",
              "       [1.0, 0.0, 0.0, 'setosa'],\n",
              "       [0.0, 0.0, 1.0, 'virginica'],\n",
              "       [0.0, 0.0, 1.0, 'virginica'],\n",
              "       [0.0, 0.0, 1.0, 'virginica'],\n",
              "       [1.0, 0.0, 0.0, 'setosa'],\n",
              "       [0.0, 0.0, 1.0, 'virginica']], dtype=object)"
            ]
          },
          "metadata": {},
          "execution_count": 71
        }
      ]
    },
    {
      "cell_type": "markdown",
      "metadata": {
        "id": "BucneoictJJ4"
      },
      "source": [
        "virginica일 확률이 높은 순으로 정렬할 때:"
      ]
    },
    {
      "cell_type": "code",
      "metadata": {
        "id": "poM1dInttJJ4",
        "outputId": "3fa609ac-6108-4a7d-8c52-36f60ab7f024",
        "colab": {
          "base_uri": "https://localhost:8080/"
        }
      },
      "source": [
        "viewPoint[np.argsort(pred_proba[:,2])[::-1]]"
      ],
      "execution_count": 72,
      "outputs": [
        {
          "output_type": "execute_result",
          "data": {
            "text/plain": [
              "array([[0.0, 0.0, 1.0, 'virginica'],\n",
              "       [0.0, 0.0, 1.0, 'virginica'],\n",
              "       [0.0, 0.0, 1.0, 'virginica'],\n",
              "       [0.0, 0.0, 1.0, 'versicolor'],\n",
              "       [0.0, 0.0, 1.0, 'virginica'],\n",
              "       [0.0, 0.0, 1.0, 'virginica'],\n",
              "       [0.0, 0.0, 1.0, 'virginica'],\n",
              "       [0.0, 0.0, 1.0, 'virginica'],\n",
              "       [0.0, 0.0, 1.0, 'virginica'],\n",
              "       [0.0, 0.0, 1.0, 'versicolor'],\n",
              "       [0.0, 0.11764705882352941, 0.8823529411764706, 'virginica'],\n",
              "       [0.0, 0.11764705882352941, 0.8823529411764706, 'virginica'],\n",
              "       [0.0, 0.11764705882352941, 0.8823529411764706, 'virginica'],\n",
              "       [0.0, 0.11764705882352941, 0.8823529411764706, 'virginica'],\n",
              "       [0.0, 0.11764705882352941, 0.8823529411764706, 'virginica'],\n",
              "       [0.0, 0.11764705882352941, 0.8823529411764706, 'virginica'],\n",
              "       [0.0, 0.11764705882352941, 0.8823529411764706, 'virginica'],\n",
              "       [0.0, 1.0, 0.0, 'virginica'],\n",
              "       [1.0, 0.0, 0.0, 'setosa'],\n",
              "       [1.0, 0.0, 0.0, 'setosa'],\n",
              "       [1.0, 0.0, 0.0, 'setosa'],\n",
              "       [1.0, 0.0, 0.0, 'setosa'],\n",
              "       [0.0, 1.0, 0.0, 'versicolor'],\n",
              "       [0.0, 1.0, 0.0, 'versicolor'],\n",
              "       [0.0, 1.0, 0.0, 'versicolor'],\n",
              "       [0.0, 1.0, 0.0, 'versicolor'],\n",
              "       [1.0, 0.0, 0.0, 'setosa'],\n",
              "       [0.0, 1.0, 0.0, 'versicolor'],\n",
              "       [0.0, 1.0, 0.0, 'versicolor'],\n",
              "       [1.0, 0.0, 0.0, 'setosa'],\n",
              "       [0.0, 1.0, 0.0, 'versicolor'],\n",
              "       [1.0, 0.0, 0.0, 'setosa'],\n",
              "       [0.0, 1.0, 0.0, 'versicolor'],\n",
              "       [1.0, 0.0, 0.0, 'setosa'],\n",
              "       [1.0, 0.0, 0.0, 'setosa'],\n",
              "       [1.0, 0.0, 0.0, 'setosa'],\n",
              "       [0.0, 1.0, 0.0, 'versicolor'],\n",
              "       [1.0, 0.0, 0.0, 'setosa'],\n",
              "       [1.0, 0.0, 0.0, 'setosa'],\n",
              "       [0.0, 1.0, 0.0, 'versicolor'],\n",
              "       [1.0, 0.0, 0.0, 'setosa'],\n",
              "       [1.0, 0.0, 0.0, 'setosa'],\n",
              "       [1.0, 0.0, 0.0, 'setosa'],\n",
              "       [1.0, 0.0, 0.0, 'setosa'],\n",
              "       [0.0, 1.0, 0.0, 'versicolor'],\n",
              "       [0.0, 1.0, 0.0, 'versicolor'],\n",
              "       [1.0, 0.0, 0.0, 'setosa'],\n",
              "       [1.0, 0.0, 0.0, 'setosa'],\n",
              "       [1.0, 0.0, 0.0, 'setosa'],\n",
              "       [0.0, 1.0, 0.0, 'versicolor']], dtype=object)"
            ]
          },
          "metadata": {},
          "execution_count": 72
        }
      ]
    },
    {
      "cell_type": "code",
      "metadata": {
        "id": "Ma8b8Q4StJJ4",
        "outputId": "e4f0a2a1-7d53-44bd-c1cb-7f5888c40a8a",
        "colab": {
          "base_uri": "https://localhost:8080/",
          "height": 404
        }
      },
      "source": [
        "skplt.metrics.plot_roc(y_test, pred_proba, figsize=(8, 6))\n",
        "plt.show()"
      ],
      "execution_count": 73,
      "outputs": [
        {
          "output_type": "display_data",
          "data": {
            "image/png": "[encoded data removed]",
            "text/plain": [
              "<Figure size 576x432 with 1 Axes>"
            ]
          },
          "metadata": {
            "needs_background": "light"
          }
        }
      ]
    },
    {
      "cell_type": "code",
      "metadata": {
        "id": "yDw41pBDtJJ4",
        "outputId": "8be82922-f58e-4dd8-a69c-17fbbfc43cb3",
        "colab": {
          "base_uri": "https://localhost:8080/"
        }
      },
      "source": [
        "from sklearn.metrics import roc_auc_score\n",
        "\n",
        "# multi-class에 대해서 현재 각 class 별로 AUC를 제공하지 못함.\n",
        "aucs = roc_auc_score(y_test, pred_proba, multi_class='ovr')\n",
        "print(f\"ROC-AUC score is meaned with : \\n{aucs}\")"
      ],
      "execution_count": 74,
      "outputs": [
        {
          "output_type": "stream",
          "name": "stdout",
          "text": [
            "ROC-AUC score is meaned with : \n",
            "0.9440616246498599\n"
          ]
        }
      ]
    },
    {
      "cell_type": "code",
      "metadata": {
        "id": "FqnTgScNtJJ4",
        "outputId": "6c3c0437-308a-4b01-abbc-a8361481aaff",
        "colab": {
          "base_uri": "https://localhost:8080/",
          "height": 206
        }
      },
      "source": [
        "iris.head()"
      ],
      "execution_count": 75,
      "outputs": [
        {
          "output_type": "execute_result",
          "data": {
            "text/html": [
              "\n",
              "  <div id=\"df-d7e4b9df-84e4-4f55-85af-d30624ae4041\">\n",
              "    <div class=\"colab-df-container\">\n",
              "      <div>\n",
              "<style scoped>\n",
              "    .dataframe tbody tr th:only-of-type {\n",
              "        vertical-align: middle;\n",
              "    }\n",
              "\n",
              "    .dataframe tbody tr th {\n",
              "        vertical-align: top;\n",
              "    }\n",
              "\n",
              "    .dataframe thead th {\n",
              "        text-align: right;\n",
              "    }\n",
              "</style>\n",
              "<table border=\"1\" class=\"dataframe\">\n",
              "  <thead>\n",
              "    <tr style=\"text-align: right;\">\n",
              "      <th></th>\n",
              "      <th>sl</th>\n",
              "      <th>sw</th>\n",
              "      <th>pl</th>\n",
              "      <th>pw</th>\n",
              "      <th>Species</th>\n",
              "    </tr>\n",
              "  </thead>\n",
              "  <tbody>\n",
              "    <tr>\n",
              "      <th>0</th>\n",
              "      <td>5.1</td>\n",
              "      <td>3.5</td>\n",
              "      <td>1.4</td>\n",
              "      <td>0.2</td>\n",
              "      <td>setosa</td>\n",
              "    </tr>\n",
              "    <tr>\n",
              "      <th>1</th>\n",
              "      <td>4.9</td>\n",
              "      <td>3.0</td>\n",
              "      <td>1.4</td>\n",
              "      <td>0.2</td>\n",
              "      <td>setosa</td>\n",
              "    </tr>\n",
              "    <tr>\n",
              "      <th>2</th>\n",
              "      <td>4.7</td>\n",
              "      <td>3.2</td>\n",
              "      <td>1.3</td>\n",
              "      <td>0.2</td>\n",
              "      <td>setosa</td>\n",
              "    </tr>\n",
              "    <tr>\n",
              "      <th>3</th>\n",
              "      <td>4.6</td>\n",
              "      <td>3.1</td>\n",
              "      <td>1.5</td>\n",
              "      <td>0.2</td>\n",
              "      <td>setosa</td>\n",
              "    </tr>\n",
              "    <tr>\n",
              "      <th>4</th>\n",
              "      <td>5.0</td>\n",
              "      <td>3.6</td>\n",
              "      <td>1.4</td>\n",
              "      <td>0.2</td>\n",
              "      <td>setosa</td>\n",
              "    </tr>\n",
              "  </tbody>\n",
              "</table>\n",
              "</div>\n",
              "      <button class=\"colab-df-convert\" onclick=\"convertToInteractive('df-d7e4b9df-84e4-4f55-85af-d30624ae4041')\"\n",
              "              title=\"Convert this dataframe to an interactive table.\"\n",
              "              style=\"display:none;\">\n",
              "        \n",
              "  <svg xmlns=\"http://www.w3.org/2000/svg\" height=\"24px\"viewBox=\"0 0 24 24\"\n",
              "       width=\"24px\">\n",
              "    <path d=\"M0 0h24v24H0V0z\" fill=\"none\"/>\n",
              "    <path d=\"M18.56 5.44l.94 2.06.94-2.06 2.06-.94-2.06-.94-.94-2.06-.94 2.06-2.06.94zm-11 1L8.5 8.5l.94-2.06 2.06-.94-2.06-.94L8.5 2.5l-.94 2.06-2.06.94zm10 10l.94 2.06.94-2.06 2.06-.94-2.06-.94-.94-2.06-.94 2.06-2.06.94z\"/><path d=\"M17.41 7.96l-1.37-1.37c-.4-.4-.92-.59-1.43-.59-.52 0-1.04.2-1.43.59L10.3 9.45l-7.72 7.72c-.78.78-.78 2.05 0 2.83L4 21.41c.39.39.9.59 1.41.59.51 0 1.02-.2 1.41-.59l7.78-7.78 2.81-2.81c.8-.78.8-2.07 0-2.86zM5.41 20L4 18.59l7.72-7.72 1.47 1.35L5.41 20z\"/>\n",
              "  </svg>\n",
              "      </button>\n",
              "      \n",
              "  <style>\n",
              "    .colab-df-container {\n",
              "      display:flex;\n",
              "      flex-wrap:wrap;\n",
              "      gap: 12px;\n",
              "    }\n",
              "\n",
              "    .colab-df-convert {\n",
              "      background-color: #E8F0FE;\n",
              "      border: none;\n",
              "      border-radius: 50%;\n",
              "      cursor: pointer;\n",
              "      display: none;\n",
              "      fill: #1967D2;\n",
              "      height: 32px;\n",
              "      padding: 0 0 0 0;\n",
              "      width: 32px;\n",
              "    }\n",
              "\n",
              "    .colab-df-convert:hover {\n",
              "      background-color: #E2EBFA;\n",
              "      box-shadow: 0px 1px 2px rgba(60, 64, 67, 0.3), 0px 1px 3px 1px rgba(60, 64, 67, 0.15);\n",
              "      fill: #174EA6;\n",
              "    }\n",
              "\n",
              "    [theme=dark] .colab-df-convert {\n",
              "      background-color: #3B4455;\n",
              "      fill: #D2E3FC;\n",
              "    }\n",
              "\n",
              "    [theme=dark] .colab-df-convert:hover {\n",
              "      background-color: #434B5C;\n",
              "      box-shadow: 0px 1px 3px 1px rgba(0, 0, 0, 0.15);\n",
              "      filter: drop-shadow(0px 1px 2px rgba(0, 0, 0, 0.3));\n",
              "      fill: #FFFFFF;\n",
              "    }\n",
              "  </style>\n",
              "\n",
              "      <script>\n",
              "        const buttonEl =\n",
              "          document.querySelector('#df-d7e4b9df-84e4-4f55-85af-d30624ae4041 button.colab-df-convert');\n",
              "        buttonEl.style.display =\n",
              "          google.colab.kernel.accessAllowed ? 'block' : 'none';\n",
              "\n",
              "        async function convertToInteractive(key) {\n",
              "          const element = document.querySelector('#df-d7e4b9df-84e4-4f55-85af-d30624ae4041');\n",
              "          const dataTable =\n",
              "            await google.colab.kernel.invokeFunction('convertToInteractive',\n",
              "                                                     [key], {});\n",
              "          if (!dataTable) return;\n",
              "\n",
              "          const docLinkHtml = 'Like what you see? Visit the ' +\n",
              "            '<a target=\"_blank\" href=https://colab.research.google.com/notebooks/data_table.ipynb>data table notebook</a>'\n",
              "            + ' to learn more about interactive tables.';\n",
              "          element.innerHTML = '';\n",
              "          dataTable['output_type'] = 'display_data';\n",
              "          await google.colab.output.renderOutput(dataTable, element);\n",
              "          const docLink = document.createElement('div');\n",
              "          docLink.innerHTML = docLinkHtml;\n",
              "          element.appendChild(docLink);\n",
              "        }\n",
              "      </script>\n",
              "    </div>\n",
              "  </div>\n",
              "  "
            ],
            "text/plain": [
              "    sl   sw   pl   pw Species\n",
              "0  5.1  3.5  1.4  0.2  setosa\n",
              "1  4.9  3.0  1.4  0.2  setosa\n",
              "2  4.7  3.2  1.3  0.2  setosa\n",
              "3  4.6  3.1  1.5  0.2  setosa\n",
              "4  5.0  3.6  1.4  0.2  setosa"
            ]
          },
          "metadata": {},
          "execution_count": 75
        }
      ]
    },
    {
      "cell_type": "markdown",
      "metadata": {
        "id": "IYdOadLBtJJ5"
      },
      "source": [
        "이제까지의 작업절차:\n",
        "1. train과 test를 분리하고\n",
        "2. train에서 10Fold로 CrossValidation을 하여 최적의 DecisionTreeClassifier의 하이퍼파라미터를 선정하여 best_estimator를 구함\n",
        "3. 이 best_estimator는 오직 train으로부터만 학습하고 평가되었으므로 \n",
        " - 최종 평가를 위해 Accuracy, Recall, Precision, F1, ROC_AUC를 test 데이터로 검증\n",
        "4. 최종적으로 소율하고 있는 모든 데이터로 학습하여 최종 모델을 생성"
      ]
    },
    {
      "cell_type": "code",
      "metadata": {
        "id": "ApWQDHzItJJ5",
        "outputId": "2255a3e0-8576-46e6-c9e3-cbfbfa6a6b25",
        "colab": {
          "base_uri": "https://localhost:8080/"
        }
      },
      "source": [
        "model.fit(iris.iloc[:,:-1], iris.iloc[:,-1])"
      ],
      "execution_count": 76,
      "outputs": [
        {
          "output_type": "stream",
          "name": "stdout",
          "text": [
            "Fitting 3 folds for each of 400 candidates, totalling 1200 fits\n"
          ]
        },
        {
          "output_type": "execute_result",
          "data": {
            "text/plain": [
              "GridSearchCV(cv=KFold(n_splits=3, random_state=42, shuffle=True),\n",
              "             estimator=DecisionTreeClassifier(), n_jobs=-1,\n",
              "             param_grid={'criterion': ['gini', 'entropy'],\n",
              "                         'max_depth': range(4, 13, 2),\n",
              "                         'min_impurity_decrease': [0.0, 0.05, 0.1, 0.2],\n",
              "                         'random_state': [7, 23, 42, 78, 142],\n",
              "                         'splitter': ['best', 'random']},\n",
              "             verbose=1)"
            ]
          },
          "metadata": {},
          "execution_count": 76
        }
      ]
    },
    {
      "cell_type": "code",
      "metadata": {
        "id": "HgccVAtktJJ5"
      },
      "source": [
        "import pickle\n",
        "\n",
        "with open('final_model.pickle', 'wb') as fp:\n",
        "    pickle.dump(model, fp)"
      ],
      "execution_count": 77,
      "outputs": []
    },
    {
      "cell_type": "code",
      "metadata": {
        "id": "5yJM3L1jtJJ5"
      },
      "source": [
        "f = open('final_model.pickle', 'rb')\n",
        "model = pickle.load(f); f.close()\n",
        "\n",
        "predicts = model.predict(iris.iloc[:, :-1])\n",
        "iris['preds'] = predicts\n",
        "iris.to_csv('FinalResult.csv', index=False)"
      ],
      "execution_count": 78,
      "outputs": []
    },
    {
      "cell_type": "code",
      "metadata": {
        "id": "pDp_afOStJJ5",
        "outputId": "05a15458-9575-4061-d0f9-beb39bbff453",
        "colab": {
          "base_uri": "https://localhost:8080/"
        }
      },
      "source": [
        "(iris['Species'] == iris['preds']).mean()"
      ],
      "execution_count": 79,
      "outputs": [
        {
          "output_type": "execute_result",
          "data": {
            "text/plain": [
              "0.98"
            ]
          },
          "metadata": {},
          "execution_count": 79
        }
      ]
    },
    {
      "cell_type": "code",
      "metadata": {
        "id": "EYNKDmHqtJJ6"
      },
      "source": [
        ""
      ],
      "execution_count": 79,
      "outputs": []
    }
  ]
}