{
 "cells": [
  {
   "cell_type": "markdown",
   "metadata": {},
   "source": [
    "# 1. 넘파이를 사용하여 다음과 같은 행렬을 만드시오."
   ]
  },
  {
   "cell_type": "code",
   "execution_count": 6,
   "metadata": {},
   "outputs": [],
   "source": [
    "import numpy as np\n",
    "\n",
    "a = np.arange(10,90,10).reshape(2,4)\n",
    "# a = np.arange(1,9).reshape(2,4)*10 한줄에쓰는법 \n"
   ]
  },
  {
   "cell_type": "markdown",
   "metadata": {},
   "source": [
    "# 2. 다음 행렬과 같은 행렬이 있다."
   ]
  },
  {
   "cell_type": "code",
   "execution_count": 4,
   "metadata": {},
   "outputs": [],
   "source": [
    "m = np.arange(0,15,1).reshape(3,5)"
   ]
  },
  {
   "cell_type": "code",
   "execution_count": null,
   "metadata": {},
   "outputs": [],
   "source": [
    "m[1][2],m[-1][-1]"
   ]
  },
  {
   "cell_type": "code",
   "execution_count": 5,
   "metadata": {},
   "outputs": [
    {
     "data": {
      "text/plain": [
       "array([6, 7])"
      ]
     },
     "execution_count": 5,
     "metadata": {},
     "output_type": "execute_result"
    }
   ],
   "source": [
    "m[1][1:3]  # 양쪽이 슬라이스면 2차원 한쪽이 인덱스면 값이 하나가 나온다. 유의할것"
   ]
  },
  {
   "cell_type": "code",
   "execution_count": 8,
   "metadata": {},
   "outputs": [
    {
     "data": {
      "text/plain": [
       "array([[ 7, 12]])"
      ]
     },
     "execution_count": 8,
     "metadata": {},
     "output_type": "execute_result"
    }
   ],
   "source": [
    "m[1:,[2]].reshape(1,-1)"
   ]
  },
  {
   "cell_type": "code",
   "execution_count": 7,
   "metadata": {},
   "outputs": [
    {
     "data": {
      "text/plain": [
       "array([[5, 6, 7, 8, 9]])"
      ]
     },
     "execution_count": 7,
     "metadata": {},
     "output_type": "execute_result"
    }
   ],
   "source": [
    "m[1:-1]"
   ]
  },
  {
   "cell_type": "code",
   "execution_count": 9,
   "metadata": {},
   "outputs": [
    {
     "data": {
      "text/plain": [
       "array([[3, 4],\n",
       "       [8, 9]])"
      ]
     },
     "execution_count": 9,
     "metadata": {},
     "output_type": "execute_result"
    }
   ],
   "source": [
    "# m[0][-2:],m[1][-2:]\n",
    "# m[:-1, 3:] << 좀 더 정답에 가까움 "
   ]
  },
  {
   "cell_type": "markdown",
   "metadata": {},
   "source": [
    "# 3번"
   ]
  },
  {
   "cell_type": "code",
   "execution_count": 10,
   "metadata": {},
   "outputs": [
    {
     "data": {
      "text/plain": [
       "array([9])"
      ]
     },
     "execution_count": 10,
     "metadata": {},
     "output_type": "execute_result"
    }
   ],
   "source": [
    "m = np.arange(0,15,1).reshape(3,5)\n",
    "m1 = m.flatten()\n",
    "# [m1[i] for i in range(len(m1)) if m1[i] % 3 == 0]\n",
    "m1[(m1 % 3==0)]\n",
    "# [ m1[i] for i in range(len(m1)) if m1[i] % 4 == 1 or m[i] % 3 == 0]\n",
    "m1[(m1 % 4==1)]\n",
    "m1[np.logical_and(m1 % 4==1 , m1 % 3 == 0)]"
   ]
  },
  {
   "cell_type": "markdown",
   "metadata": {},
   "source": [
    "# 4번"
   ]
  },
  {
   "cell_type": "code",
   "execution_count": 15,
   "metadata": {},
   "outputs": [
    {
     "data": {
      "text/plain": [
       "array([[2, 1, 0, 0, 0],\n",
       "       [3, 2, 1, 0, 0],\n",
       "       [0, 3, 2, 1, 0],\n",
       "       [0, 0, 3, 2, 1],\n",
       "       [0, 0, 0, 3, 2]])"
      ]
     },
     "execution_count": 15,
     "metadata": {},
     "output_type": "execute_result"
    }
   ],
   "source": [
    "c = 2 * np.identity(5,int) + np.eye(5,5,1,int) + 3* np.eye(5,5,-1,int) # 데이터 타입 정수타입으로줘야함\n",
    "c"
   ]
  },
  {
   "cell_type": "markdown",
   "metadata": {},
   "source": [
    "# 5번"
   ]
  },
  {
   "cell_type": "code",
   "execution_count": 45,
   "metadata": {},
   "outputs": [
    {
     "name": "stdout",
     "output_type": "stream",
     "text": [
      "9.9724\n",
      "29.1637\n",
      "9.9724\n",
      "25.3385\n",
      "7.8431\n",
      "38.0722\n",
      "9.6384\n",
      "23.6387\n",
      "5.743\n",
      "32.0221\n",
      "8.231\n",
      "29.053700000000003\n",
      "1.7899\n",
      "29.503300000000003\n",
      "3.7116\n",
      "18.576999999999998\n",
      "0.8663\n",
      "26.832\n",
      "2.0185\n",
      "30.121900000000004\n",
      "0.9689\n",
      "14.147300000000001\n",
      "0.5857\n"
     ]
    }
   ],
   "source": [
    "import random as rd\n",
    "np.random.seed(2021)\n",
    "d =np.random.uniform(0,10,30).reshape(5,6).round(4)\n",
    "print(d.max()) # 전체의 최대값\n",
    "# axis = 1 행일때 \n",
    "for i in range(5):\n",
    "    print(f'{d[[i],:].sum():.4f}') # 각 행의 합\n",
    "    print(d[[i],:].max())\n",
    "for i in range(6):\n",
    "    print(d[:,[i]].sum())\n",
    "    print(d[:,[i]].min())\n"
   ]
  },
  {
   "cell_type": "markdown",
   "metadata": {},
   "source": [
    "# 6번"
   ]
  },
  {
   "cell_type": "code",
   "execution_count": 39,
   "metadata": {},
   "outputs": [
    {
     "data": {
      "text/plain": [
       "array([[  3,   2,   4,   1],\n",
       "       [100,  99,  71,  46],\n",
       "       [ 90,  59, 100,  81]])"
      ]
     },
     "execution_count": 39,
     "metadata": {},
     "output_type": "execute_result"
    }
   ],
   "source": [
    "e = np.array([[ 1, 2, 3, 4],[ 46, 99, 100, 71], [ 81, 59, 90, 100]])\n",
    "f = e.tolist()\n",
    "h = f[0][:]\n",
    "f[0][:] = f[1][:]\n",
    "f[1][:] = h\n",
    "\n",
    "np.array(f)\n",
    "\n",
    "# 영어 성적을 argsort()\n",
    "indices = np.argsort(e[1])  # 매트릭스는 행 데이터 프레임은 열이 기본 \n",
    "indices\n",
    "# 내림차순\n",
    "indices[::-1]\n",
    "e[: , indices[::-1]]\n"
   ]
  },
  {
   "cell_type": "code",
   "execution_count": 42,
   "metadata": {},
   "outputs": [
    {
     "data": {
      "text/plain": [
       "array([[  3,   2,   4,   1],\n",
       "       [100,  99,  71,  46],\n",
       "       [ 90,  59, 100,  81]])"
      ]
     },
     "execution_count": 42,
     "metadata": {},
     "output_type": "execute_result"
    }
   ],
   "source": [
    "# 모든 행을 영어성적 내림차순 기준으로 정\n",
    "e[:,np.argsort(e[1])[::-1]]"
   ]
  },
  {
   "cell_type": "markdown",
   "metadata": {},
   "source": [
    "# 7번 "
   ]
  },
  {
   "cell_type": "code",
   "execution_count": 53,
   "metadata": {},
   "outputs": [
    {
     "data": {
      "text/plain": [
       "array([1, 2, 3, 4, 5, 6])"
      ]
     },
     "execution_count": 53,
     "metadata": {},
     "output_type": "execute_result"
    }
   ],
   "source": [
    "import random\n",
    "np.random.seed(2021)\n",
    "a = np.random.randint(1,7,100) # 7포함 7포함아님 \n",
    "# np.average(a)\n",
    "np.mean(a)\n",
    "\n"
   ]
  },
  {
   "cell_type": "code",
   "execution_count": 54,
   "metadata": {},
   "outputs": [
    {
     "data": {
      "text/plain": [
       "array([1, 2, 3, 4, 5, 6])"
      ]
     },
     "execution_count": 54,
     "metadata": {},
     "output_type": "execute_result"
    }
   ],
   "source": [
    "# dice array에서의 고유값\n",
    "np.unique(a)"
   ]
  },
  {
   "cell_type": "code",
   "execution_count": 55,
   "metadata": {},
   "outputs": [
    {
     "data": {
      "text/plain": [
       "(array([1, 2, 3, 4, 5, 6]), array([ 8, 21, 19, 18, 13, 21], dtype=int64))"
      ]
     },
     "execution_count": 55,
     "metadata": {},
     "output_type": "execute_result"
    }
   ],
   "source": [
    "# dice array에서의 고유값 및 그개수 \n",
    "np.unique(a, return_counts=True) # 몇이 몇개 나왔는지 알려주는 함수... "
   ]
  },
  {
   "cell_type": "code",
   "execution_count": 57,
   "metadata": {},
   "outputs": [
    {
     "data": {
      "text/plain": [
       "{1: 8, 2: 21, 3: 19, 4: 18, 5: 13, 6: 21}"
      ]
     },
     "execution_count": 57,
     "metadata": {},
     "output_type": "execute_result"
    }
   ],
   "source": [
    "unique, counts = np.unique(a, return_counts=True)\n",
    "dict(zip(unique, counts))"
   ]
  },
  {
   "cell_type": "markdown",
   "metadata": {},
   "source": [
    "# 8번"
   ]
  },
  {
   "cell_type": "code",
   "execution_count": 61,
   "metadata": {},
   "outputs": [],
   "source": [
    "# b = (np.random.uniform(-1,1,250) / 100) * 10000 + 10000 # \n",
    " \n"
   ]
  },
  {
   "cell_type": "code",
   "execution_count": null,
   "metadata": {},
   "outputs": [],
   "source": [
    "# 5개 테스트\n",
    "import random\n",
    "np.random.seed(2021)\n",
    "rate = np.random.normal(0,0.01,250) # 평균이 0이고 표준편차가 0.01 인거 5개\n",
    "price = 10000\n",
    "price_list = []\n",
    "for i in range(250):\n",
    "    price = np.round(price * (1 + rate[i])) \n",
    "    price_list.append(int(price))\n",
    "price_list"
   ]
  },
  {
   "cell_type": "code",
   "execution_count": 76,
   "metadata": {},
   "outputs": [],
   "source": [
    "import numpy as np\n",
    "b = (np.random.normal(-1,1,250) / 100) * 10000 + 10000\n"
   ]
  },
  {
   "cell_type": "code",
   "execution_count": 77,
   "metadata": {},
   "outputs": [
    {
     "data": {
      "text/plain": [
       "array([12072, 12210, 12255, 12359, 12292, 12262, 12136, 12010, 11984,\n",
       "       12113])"
      ]
     },
     "execution_count": 77,
     "metadata": {},
     "output_type": "execute_result"
    }
   ],
   "source": [
    "np.random.seed(2021)\n",
    "rate = np.random.normal(0, 0.01,250)\n",
    "price = 10000\n",
    "price_list = []\n",
    "for i in range(250):\n",
    "    price = price + np.round(price*rate[i])\n",
    "    price_list.append(price)\n",
    "price_array = np.array(price_list, dtype=np.int32)\n",
    "price_array[-10:]    "
   ]
  },
  {
   "cell_type": "code",
   "execution_count": 79,
   "metadata": {},
   "outputs": [
    {
     "data": {
      "text/plain": [
       "array([12072, 12210, 12255, 12359, 12292, 12262, 12136, 12010, 11984,\n",
       "       12113])"
      ]
     },
     "execution_count": 79,
     "metadata": {},
     "output_type": "execute_result"
    }
   ],
   "source": [
    "np.random.seed(2021)\n",
    "rate = np.random.normal(0, 0.01,250)\n",
    "price = 10000\n",
    "price_array = np.empty(250,dtype=np.int32)  # 빈어레이를 미리 만들어서 하는방법\n",
    "\n",
    "for i in range(250):\n",
    "    price = price + np.round(price*rate[i])\n",
    "    price_array[i] = price \n",
    "price_array[-10:]"
   ]
  },
  {
   "cell_type": "code",
   "execution_count": null,
   "metadata": {},
   "outputs": [],
   "source": [
    "\n"
   ]
  }
 ],
 "metadata": {
  "interpreter": {
   "hash": "01028a136781fc040f4ca2fc342be4af38db445d6d6e41b2bf3d0a768d20aeda"
  },
  "kernelspec": {
   "display_name": "Python 3.8.8 64-bit (conda)",
   "language": "python",
   "name": "python3"
  },
  "language_info": {
   "codemirror_mode": {
    "name": "ipython",
    "version": 3
   },
   "file_extension": ".py",
   "mimetype": "text/x-python",
   "name": "python",
   "nbconvert_exporter": "python",
   "pygments_lexer": "ipython3",
   "version": "3.8.8"
  },
  "orig_nbformat": 4
 },
 "nbformat": 4,
 "nbformat_minor": 2
}
