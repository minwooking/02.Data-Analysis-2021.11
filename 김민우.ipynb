{
 "cells": [
  {
   "cell_type": "markdown",
   "metadata": {},
   "source": [
    "# 1. 넘파이를 사용하여 다음과 같은 행렬을 만드시오."
   ]
  },
  {
   "cell_type": "code",
   "execution_count": 6,
   "metadata": {},
   "outputs": [],
   "source": [
    "import numpy as np\n",
    "\n",
    "a = np.arange(10,90,10).reshape(2,4)\n",
    "# a = np.arange(1,9).reshape(2,4)*10 한줄에쓰는법 \n"
   ]
  },
  {
   "cell_type": "markdown",
   "metadata": {},
   "source": [
    "# 2. 다음 행렬과 같은 행렬이 있다."
   ]
  },
  {
   "cell_type": "code",
   "execution_count": 4,
   "metadata": {},
   "outputs": [],
   "source": [
    "m = np.arange(0,15,1).reshape(3,5)"
   ]
  },
  {
   "cell_type": "code",
   "execution_count": null,
   "metadata": {},
   "outputs": [],
   "source": [
    "m[1][2],m[-1][-1]"
   ]
  },
  {
   "cell_type": "code",
   "execution_count": 5,
   "metadata": {},
   "outputs": [
    {
     "data": {
      "text/plain": [
       "array([6, 7])"
      ]
     },
     "execution_count": 5,
     "metadata": {},
     "output_type": "execute_result"
    }
   ],
   "source": [
    "m[1][1:3]  # 양쪽이 슬라이스면 2차원 한쪽이 인덱스면 값이 하나가 나온다. 유의할것"
   ]
  },
  {
   "cell_type": "code",
   "execution_count": 8,
   "metadata": {},
   "outputs": [
    {
     "data": {
      "text/plain": [
       "array([[ 7, 12]])"
      ]
     },
     "execution_count": 8,
     "metadata": {},
     "output_type": "execute_result"
    }
   ],
   "source": [
    "m[1:,[2]].reshape(1,-1)"
   ]
  },
  {
   "cell_type": "code",
   "execution_count": 7,
   "metadata": {},
   "outputs": [
    {
     "data": {
      "text/plain": [
       "array([[5, 6, 7, 8, 9]])"
      ]
     },
     "execution_count": 7,
     "metadata": {},
     "output_type": "execute_result"
    }
   ],
   "source": [
    "m[1:-1]"
   ]
  },
  {
   "cell_type": "code",
   "execution_count": 9,
   "metadata": {},
   "outputs": [
    {
     "data": {
      "text/plain": [
       "array([[3, 4],\n",
       "       [8, 9]])"
      ]
     },
     "execution_count": 9,
     "metadata": {},
     "output_type": "execute_result"
    }
   ],
   "source": [
    "# m[0][-2:],m[1][-2:]\n",
    "# m[:-1, 3:] << 좀 더 정답에 가까움 "
   ]
  },
  {
   "cell_type": "markdown",
   "metadata": {},
   "source": [
    "# 3번"
   ]
  },
  {
   "cell_type": "code",
   "execution_count": 10,
   "metadata": {},
   "outputs": [
    {
     "data": {
      "text/plain": [
       "array([9])"
      ]
     },
     "execution_count": 10,
     "metadata": {},
     "output_type": "execute_result"
    }
   ],
   "source": [
    "m = np.arange(0,15,1).reshape(3,5)\n",
    "m1 = m.flatten()\n",
    "# [m1[i] for i in range(len(m1)) if m1[i] % 3 == 0]\n",
    "m1[(m1 % 3==0)]\n",
    "# [ m1[i] for i in range(len(m1)) if m1[i] % 4 == 1 or m[i] % 3 == 0]\n",
    "m1[(m1 % 4==1)]\n",
    "m1[np.logical_and(m1 % 4==1 , m1 % 3 == 0)]"
   ]
  },
  {
   "cell_type": "markdown",
   "metadata": {},
   "source": [
    "# 4번"
   ]
  },
  {
   "cell_type": "code",
   "execution_count": 15,
   "metadata": {},
   "outputs": [
    {
     "data": {
      "text/plain": [
       "array([[2, 1, 0, 0, 0],\n",
       "       [3, 2, 1, 0, 0],\n",
       "       [0, 3, 2, 1, 0],\n",
       "       [0, 0, 3, 2, 1],\n",
       "       [0, 0, 0, 3, 2]])"
      ]
     },
     "execution_count": 15,
     "metadata": {},
     "output_type": "execute_result"
    }
   ],
   "source": [
    "c = 2 * np.identity(5,int) + np.eye(5,5,1,int) + 3* np.eye(5,5,-1,int) # 데이터 타입 정수타입으로줘야함\n",
    "c"
   ]
  },
  {
   "cell_type": "markdown",
   "metadata": {},
   "source": [
    "# 5번"
   ]
  },
  {
   "cell_type": "code",
   "execution_count": 45,
   "metadata": {},
   "outputs": [
    {
     "name": "stdout",
     "output_type": "stream",
     "text": [
      "9.9724\n",
      "29.1637\n",
      "9.9724\n",
      "25.3385\n",
      "7.8431\n",
      "38.0722\n",
      "9.6384\n",
      "23.6387\n",
      "5.743\n",
      "32.0221\n",
      "8.231\n",
      "29.053700000000003\n",
      "1.7899\n",
      "29.503300000000003\n",
      "3.7116\n",
      "18.576999999999998\n",
      "0.8663\n",
      "26.832\n",
      "2.0185\n",
      "30.121900000000004\n",
      "0.9689\n",
      "14.147300000000001\n",
      "0.5857\n"
     ]
    }
   ],
   "source": [
    "import random as rd\n",
    "np.random.seed(2021)\n",
    "d =np.random.uniform(0,10,30).reshape(5,6).round(4)\n",
    "print(d.max()) # 전체의 최대값\n",
    "# axis = 1 행일때 \n",
    "for i in range(5):\n",
    "    print(f'{d[[i],:].sum():.4f}') # 각 행의 합\n",
    "    print(d[[i],:].max())\n",
    "for i in range(6):\n",
    "    print(d[:,[i]].sum())\n",
    "    print(d[:,[i]].min())\n"
   ]
  },
  {
   "cell_type": "markdown",
   "metadata": {},
   "source": [
    "# 6번"
   ]
  },
  {
   "cell_type": "code",
   "execution_count": 39,
   "metadata": {},
   "outputs": [
    {
     "data": {
      "text/plain": [
       "array([[  3,   2,   4,   1],\n",
       "       [100,  99,  71,  46],\n",
       "       [ 90,  59, 100,  81]])"
      ]
     },
     "execution_count": 39,
     "metadata": {},
     "output_type": "execute_result"
    }
   ],
   "source": [
    "e = np.array([[ 1, 2, 3, 4],[ 46, 99, 100, 71], [ 81, 59, 90, 100]])\n",
    "f = e.tolist()\n",
    "h = f[0][:]\n",
    "f[0][:] = f[1][:]\n",
    "f[1][:] = h\n",
    "\n",
    "np.array(f)\n",
    "\n",
    "# 영어 성적을 argsort()\n",
    "indices = np.argsort(e[1])  # 매트릭스는 행 데이터 프레임은 열이 기본 \n",
    "indices\n",
    "# 내림차순\n",
    "indices[::-1]\n",
    "e[: , indices[::-1]]\n"
   ]
  },
  {
   "cell_type": "code",
   "execution_count": 42,
   "metadata": {},
   "outputs": [
    {
     "data": {
      "text/plain": [
       "array([[  3,   2,   4,   1],\n",
       "       [100,  99,  71,  46],\n",
       "       [ 90,  59, 100,  81]])"
      ]
     },
     "execution_count": 42,
     "metadata": {},
     "output_type": "execute_result"
    }
   ],
   "source": [
    "# 모든 행을 영어성적 내림차순 기준으로 정\n",
    "e[:,np.argsort(e[1])[::-1]]"
   ]
  },
  {
   "cell_type": "markdown",
   "metadata": {},
   "source": [
    "# 7번 "
   ]
  },
  {
   "cell_type": "code",
   "execution_count": 53,
   "metadata": {},
   "outputs": [
    {
     "data": {
      "text/plain": [
       "array([1, 2, 3, 4, 5, 6])"
      ]
     },
     "execution_count": 53,
     "metadata": {},
     "output_type": "execute_result"
    }
   ],
   "source": [
    "import random\n",
    "np.random.seed(2021)\n",
    "a = np.random.randint(1,7,100) # 7포함 7포함아님 \n",
    "# np.average(a)\n",
    "np.mean(a)\n",
    "\n"
   ]
  },
  {
   "cell_type": "code",
   "execution_count": 54,
   "metadata": {},
   "outputs": [
    {
     "data": {
      "text/plain": [
       "array([1, 2, 3, 4, 5, 6])"
      ]
     },
     "execution_count": 54,
     "metadata": {},
     "output_type": "execute_result"
    }
   ],
   "source": [
    "# dice array에서의 고유값\n",
    "np.unique(a)"
   ]
  },
  {
   "cell_type": "code",
   "execution_count": 55,
   "metadata": {},
   "outputs": [
    {
     "data": {
      "text/plain": [
       "(array([1, 2, 3, 4, 5, 6]), array([ 8, 21, 19, 18, 13, 21], dtype=int64))"
      ]
     },
     "execution_count": 55,
     "metadata": {},
     "output_type": "execute_result"
    }
   ],
   "source": [
    "# dice array에서의 고유값 및 그개수 \n",
    "np.unique(a, return_counts=True) # 몇이 몇개 나왔는지 알려주는 함수... "
   ]
  },
  {
   "cell_type": "code",
   "execution_count": 57,
   "metadata": {},
   "outputs": [
    {
     "data": {
      "text/plain": [
       "{1: 8, 2: 21, 3: 19, 4: 18, 5: 13, 6: 21}"
      ]
     },
     "execution_count": 57,
     "metadata": {},
     "output_type": "execute_result"
    }
   ],
   "source": [
    "unique, counts = np.unique(a, return_counts=True)\n",
    "dict(zip(unique, counts))"
   ]
  },
  {
   "cell_type": "markdown",
   "metadata": {},
   "source": [
    "# 8번"
   ]
  },
  {
   "cell_type": "code",
   "execution_count": 61,
   "metadata": {},
   "outputs": [],
   "source": [
    "# b = (np.random.uniform(-1,1,250) / 100) * 10000 + 10000 # \n",
    " \n"
   ]
  },
  {
   "cell_type": "code",
   "execution_count": 64,
   "metadata": {},
   "outputs": [
    {
     "name": "stdout",
     "output_type": "stream",
     "text": [
      "9882 10071 9963 10042 9944 "
     ]
    }
   ],
   "source": [
    "# 5개 테스트\n",
    "import random\n",
    "np.random.seed(2001)\n",
    "rate = np.random.normal(0,0.01,5) # 평균이 0이고 표준편차가 0.01 인거 5개\n",
    "price = 10000\n",
    "for i in range(5):\n",
    "    price = np.round(price * (1 + rate[i])) \n",
    "    print(int(price),end= ' ')"
   ]
  },
  {
   "cell_type": "code",
   "execution_count": 3,
   "metadata": {},
   "outputs": [
    {
     "data": {
      "text/plain": [
       "array([10065.65942791,  9989.88676471,  9829.70166996,  9794.66323007,\n",
       "        9836.89294883,  9920.95752449, 10017.90077613,  9982.03746989,\n",
       "       10033.05484938,  9868.91165752,  9865.56451349,  9861.09628407,\n",
       "        9923.56470379,  9865.88710622,  9940.81649453,  9882.24330651,\n",
       "        9938.74944548, 10137.04104045,  9772.18932825,  9965.87166897,\n",
       "        9797.65799504, 10007.36563463, 10020.34632594,  9810.89095765,\n",
       "        9857.04653821, 10012.72176953,  9706.15281794,  9891.41058509,\n",
       "        9755.71008233,  9833.62577692, 10067.84542591,  9942.63028132,\n",
       "        9946.01088131, 10037.31096279,  9786.48675275,  9883.94744112,\n",
       "        9759.9538871 ,  9881.72374346,  9871.40846947,  9903.88026735,\n",
       "        9817.89875876,  9904.21472221,  9878.16253264,  9958.51356225,\n",
       "        9884.46614556,  9849.96263388,  9989.49080617,  9759.47961525,\n",
       "        9954.3682249 ,  9846.45951368,  9895.71601256,  9842.42317409,\n",
       "       10133.27259041,  9941.41866208, 10085.35597647,  9846.60028101,\n",
       "        9885.57645298,  9781.00916099,  9777.18244603,  9949.51455391,\n",
       "        9963.0434307 ,  9772.16552207, 10084.61169513,  9895.9531683 ,\n",
       "        9742.20348517,  9904.46475146, 10026.27411876,  9904.10300919,\n",
       "        9960.74340891,  9942.70334692, 10028.45265567,  9940.25788481,\n",
       "       10023.34638511,  9918.08337932,  9859.24728649,  9743.71585671,\n",
       "        9814.35649348,  9929.08037753,  9909.73265946,  9903.91582197,\n",
       "        9972.6696905 ,  9780.69864351, 10085.40752188,  9851.00538425,\n",
       "        9948.34723191,  9977.42905872,  9804.03185831,  9815.0837041 ,\n",
       "        9947.24247546, 10110.2130281 ,  9836.18157555,  9981.78181241,\n",
       "        9990.80796782,  9963.93646932,  9805.34493624,  9947.46140061,\n",
       "       10057.35719422, 10010.33298109,  9768.64660289,  9878.68745583,\n",
       "       10110.59395025,  9891.90379421,  9974.49530457, 10017.83847164,\n",
       "        9678.65115412,  9808.48724698,  9865.11613337,  9951.86540121,\n",
       "        9923.0599921 ,  9953.66479294, 10123.24398765, 10008.76229063,\n",
       "        9963.24671497,  9952.68265759,  9862.17872912,  9964.69764605,\n",
       "        9818.21703804,  9807.73171625,  9953.53120412,  9897.91033142,\n",
       "       10130.07398619,  9909.22930747,  9827.37660166,  9890.54283788,\n",
       "        9844.7041524 ,  9973.2973803 ,  9887.40454858, 10055.30075682,\n",
       "        9940.7390259 , 10040.79333364,  9912.69198977,  9782.47563374,\n",
       "        9948.71720287,  9831.07126791,  9794.7646172 ,  9871.28803268,\n",
       "        9942.82416557, 10024.01724344,  9871.40785863,  9931.87852487,\n",
       "        9981.15268228,  9948.28979201,  9761.92047455,  9953.8633228 ,\n",
       "        9885.02480317, 10018.39687993, 10016.85618884, 10003.67640851,\n",
       "        9793.47991583,  9859.37907602,  9939.856412  ,  9946.4784711 ,\n",
       "        9767.54897594,  9945.51898968,  9897.02751072,  9823.74111448,\n",
       "       10099.23703207,  9861.9889698 ,  9837.70125422, 10029.42263788,\n",
       "       10008.59841463,  9894.58018139, 10248.43292652,  9746.00676884,\n",
       "        9862.35144627, 10021.78674653,  9925.35166754, 10023.33166738,\n",
       "        9832.96619505,  9796.14152964,  9930.41041123, 10072.9333087 ,\n",
       "        9910.69959761,  9820.21669316,  9906.1592119 ,  9934.77884923,\n",
       "        9648.6279652 ,  9973.83490015,  9808.18574333,  9992.64095219,\n",
       "        9986.81894977,  9985.56527806,  9933.06361593,  9815.90545115,\n",
       "       10032.68358102,  9810.24569044,  9805.37175028,  9791.16503036,\n",
       "        9877.07351344,  9708.23992386,  9890.35140447,  9747.43800622,\n",
       "        9845.59429255, 10202.93989201, 10057.70636283, 10018.8112195 ,\n",
       "        9966.18880674,  9977.16323579,  9966.79055314,  9920.77320376,\n",
       "        9964.64876416,  9846.88327368, 10101.41514127,  9848.68187533,\n",
       "        9954.72535951,  9860.64017314,  9816.71887811,  9832.07722248,\n",
       "        9983.68197133, 10081.54643453,  9914.16508606,  9922.49791821,\n",
       "        9825.59095473,  9922.12860266,  9738.32460327,  9806.17302358,\n",
       "        9957.05467464,  9757.54067967,  9901.24965271,  9873.155233  ,\n",
       "        9953.69491192,  9706.93133459,  9801.70288402,  9900.06648588,\n",
       "        9983.05711424,  9826.00044546,  9897.77630765, 10020.54917061,\n",
       "        9997.91359871,  9740.64124484,  9837.34993373,  9818.68966616,\n",
       "        9767.39952898,  9841.82932653,  9909.00748824,  9936.96004832,\n",
       "        9839.69359311,  9864.77518552, 10006.84508097,  9816.28381376,\n",
       "        9786.46666208,  9882.81119351,  9967.22144096,  9838.99805241,\n",
       "        9898.3052204 ,  9850.99446172,  9867.50344653,  9998.16482036,\n",
       "        9881.45939514,  9894.87503469])"
      ]
     },
     "execution_count": 3,
     "metadata": {},
     "output_type": "execute_result"
    }
   ],
   "source": [
    "import numpy as np\n",
    "b = (np.random.normal(-1,1,250) / 100) * 10000 + 10000\n",
    "b\n"
   ]
  },
  {
   "cell_type": "code",
   "execution_count": null,
   "metadata": {},
   "outputs": [],
   "source": []
  }
 ],
 "metadata": {
  "interpreter": {
   "hash": "01028a136781fc040f4ca2fc342be4af38db445d6d6e41b2bf3d0a768d20aeda"
  },
  "kernelspec": {
   "display_name": "Python 3.8.8 64-bit (conda)",
   "language": "python",
   "name": "python3"
  },
  "language_info": {
   "codemirror_mode": {
    "name": "ipython",
    "version": 3
   },
   "file_extension": ".py",
   "mimetype": "text/x-python",
   "name": "python",
   "nbconvert_exporter": "python",
   "pygments_lexer": "ipython3",
   "version": "3.8.8"
  },
  "orig_nbformat": 4
 },
 "nbformat": 4,
 "nbformat_minor": 2
}
