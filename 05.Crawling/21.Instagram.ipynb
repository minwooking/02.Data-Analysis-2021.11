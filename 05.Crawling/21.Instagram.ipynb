{
 "cells": [
  {
   "cell_type": "code",
   "execution_count": 4,
   "metadata": {},
   "outputs": [],
   "source": [
    "from selenium import webdriver\n",
    "from bs4 import BeautifulSoup\n",
    "import time\n",
    "import pandas as pd \n",
    "from urllib.parse import quote"
   ]
  },
  {
   "cell_type": "code",
   "execution_count": 3,
   "metadata": {},
   "outputs": [],
   "source": [
    "import unicodedata\n",
    "import re\n",
    "from tqdm.notebook import tqdm"
   ]
  },
  {
   "cell_type": "code",
   "execution_count": 5,
   "metadata": {},
   "outputs": [],
   "source": [
    "insta_url = 'https://www.instagram.com'\n",
    "driver = webdriver.Chrome('chromedriver')\n",
    "driver.get(insta_url)\n",
    "time.sleep(1)"
   ]
  },
  {
   "cell_type": "code",
   "execution_count": 28,
   "metadata": {},
   "outputs": [],
   "source": [
    "with open('password.txt') as f:\n",
    "    password = f.read()"
   ]
  },
  {
   "cell_type": "code",
   "execution_count": 29,
   "metadata": {},
   "outputs": [],
   "source": [
    "email = 'minu7972'\n",
    "input_email = driver.find_element_by_css_selector('._2hvTZ.pexuQ.zyHYP')\n",
    "input_email.clear()\n",
    "input_email.send_keys(email)"
   ]
  },
  {
   "cell_type": "code",
   "execution_count": 30,
   "metadata": {},
   "outputs": [],
   "source": [
    "input_pwd = driver.find_element_by_name('password')\n",
    "input_pwd.clear()\n",
    "input_pwd.send_keys(password)\n",
    "input_pwd.submit()\n",
    "time.sleep(1)"
   ]
  },
  {
   "cell_type": "code",
   "execution_count": 31,
   "metadata": {},
   "outputs": [],
   "source": [
    "# 로그인 정보 저장 - 나중에 하기\n",
    "try:\n",
    "    driver.find_element_by_css_selector('.sqdOP.yWX7d.y3zKF').click()\n",
    "    time.sleep(1)\n",
    "except:\n",
    "    pass"
   ]
  },
  {
   "cell_type": "code",
   "execution_count": 32,
   "metadata": {},
   "outputs": [],
   "source": [
    "# 알림 설정 - 나중에 하기\n",
    "try:\n",
    "    driver.find_element_by_css_selector('.aOOlW.HoLwm').click()\n",
    "    time.sleep(1)\n",
    "except:\n",
    "    pass"
   ]
  },
  {
   "cell_type": "code",
   "execution_count": 33,
   "metadata": {},
   "outputs": [
    {
     "data": {
      "text/plain": [
       "'https://www.instagram.com/explore/tags/%EC%A0%9C%EC%A3%BC%EB%8F%84%EB%A7%9B%EC%A7%91'"
      ]
     },
     "execution_count": 33,
     "metadata": {},
     "output_type": "execute_result"
    }
   ],
   "source": [
    "keyword = '제주도맛집'\n",
    "search_url = 'https://www.instagram.com/explore/tags/'\n",
    "url = f'{search_url}{quote(keyword)}'\n",
    "url"
   ]
  },
  {
   "cell_type": "code",
   "execution_count": 34,
   "metadata": {},
   "outputs": [],
   "source": [
    "driver.get(url)\n",
    "time.sleep(5)"
   ]
  },
  {
   "cell_type": "code",
   "execution_count": 35,
   "metadata": {},
   "outputs": [],
   "source": [
    "driver.find_element_by_css_selector('div._9AhH0').click()\n",
    "time.sleep(1)"
   ]
  },
  {
   "cell_type": "code",
   "execution_count": 36,
   "metadata": {},
   "outputs": [],
   "source": [
    "html = driver.page_source\n",
    "soup = BeautifulSoup(html, 'html.parser')"
   ]
  },
  {
   "cell_type": "code",
   "execution_count": 37,
   "metadata": {},
   "outputs": [
    {
     "data": {
      "text/plain": [
       "'#리그램 - @gunwoo_o942021. 11. 30 제주 1일❤️..또 가고싶다!!..........................................@gunwoo_o94 님의 멋진 사진 너무 감사합니다♥️역시 찬 바람 불 땐 스튜🙃오늘도 변함없이 맛있게 준비해서 11시에 오픈합니다🙆\\u200d♀️전 메뉴 포장 가능하며,도착 30분 전 전화주시면 시간 맞춰 포장 도와드리겠습니다🙋\\u200d♀️오늘도 #안녕하샌'"
      ]
     },
     "execution_count": 37,
     "metadata": {},
     "output_type": "execute_result"
    }
   ],
   "source": [
    "# 1) 본문 내용 가져오기\n",
    "\n",
    "try:\n",
    "    content = soup.select_one('div.C4VMK > span').text\n",
    "    content = unicodedata.normalize('NFC', content)\n",
    "except:\n",
    "    content = ' '\n",
    "content"
   ]
  },
  {
   "cell_type": "code",
   "execution_count": 38,
   "metadata": {},
   "outputs": [
    {
     "data": {
      "text/plain": [
       "['#리그램', '#안녕하샌']"
      ]
     },
     "execution_count": 38,
     "metadata": {},
     "output_type": "execute_result"
    }
   ],
   "source": [
    "# 2) 본문 내용에서 해쉬태그 가져오기, '#[^\\s#,\\\\]+'\n",
    "tags = re.findall(r'#[^\\s#,\\\\]+', content)\n",
    "tags"
   ]
  },
  {
   "cell_type": "code",
   "execution_count": 39,
   "metadata": {},
   "outputs": [
    {
     "data": {
      "text/plain": [
       "'2021-12-07'"
      ]
     },
     "execution_count": 39,
     "metadata": {},
     "output_type": "execute_result"
    }
   ],
   "source": [
    "# 3) 작성일자 정보 가져오기\n",
    "date = soup.select_one('time.FH9sR.Nzb55')['datetime'][:10]\n",
    "date"
   ]
  },
  {
   "cell_type": "code",
   "execution_count": 40,
   "metadata": {},
   "outputs": [
    {
     "data": {
      "text/plain": [
       "'328'"
      ]
     },
     "execution_count": 40,
     "metadata": {},
     "output_type": "execute_result"
    }
   ],
   "source": [
    "# 4) 좋아요 수 가져오기: 좋아요 1,296개\n",
    "try:\n",
    "    like = soup.select_one('div.Nm9Fw').text[4:-1]\n",
    "except:\n",
    "    like = 0\n",
    "like"
   ]
  },
  {
   "cell_type": "code",
   "execution_count": 41,
   "metadata": {},
   "outputs": [
    {
     "data": {
      "text/plain": [
       "'월정리해변'"
      ]
     },
     "execution_count": 41,
     "metadata": {},
     "output_type": "execute_result"
    }
   ],
   "source": [
    "# 5) 위치정보 가져오기\n",
    "try:\n",
    "    place = soup.select('div.M30cS')[0].text\n",
    "    place = unicodedata.normalize('NFC', place)\n",
    "except:\n",
    "    place = ''\n",
    "place"
   ]
  },
  {
   "cell_type": "code",
   "execution_count": 42,
   "metadata": {},
   "outputs": [],
   "source": [
    "row = [content, date, like, place, tags]"
   ]
  },
  {
   "cell_type": "code",
   "execution_count": 43,
   "metadata": {},
   "outputs": [],
   "source": [
    "driver.find_element_by_xpath('/html/body/div[6]/div[1]/div/div/div/button/div/span').click()\n",
    "time.sleep(2)"
   ]
  },
  {
   "cell_type": "code",
   "execution_count": 44,
   "metadata": {},
   "outputs": [],
   "source": [
    "# 6을 하기 위해 popup 화면을 없앰(즉, X 를 클릭)\n",
    "driver.find_element_by_xpath('/html/body/div[6]/div[3]/button').click()"
   ]
  },
  {
   "cell_type": "code",
   "execution_count": 45,
   "metadata": {},
   "outputs": [],
   "source": [
    "def get_content(driver):\n",
    "    html = driver.page_source\n",
    "    soup = BeautifulSoup(html, 'html.parser')\n",
    "    \n",
    "    try:\n",
    "        content = soup.select_one('div.C4VMK > span').text\n",
    "        content = unicodedata.normalize('NFC', content)\n",
    "    except:\n",
    "        content = ' '\n",
    "    tags = re.findall(r'#[^\\s#,\\\\]+', content)\n",
    "    date = soup.select_one('time.FH9sR.Nzb55')['datetime'][:10]\n",
    "\n",
    "    try:\n",
    "        like = soup.select_one('div.Nm9Fw').text[4:-1]\n",
    "    except:\n",
    "        like = 0\n",
    "    try:\n",
    "        place = soup.select('div.M30cS')[0].text\n",
    "        place = unicodedata.normalize('NFC', place)\n",
    "    except:\n",
    "        place = ''\n",
    "\n",
    "    return [content, date, like, place, tags]"
   ]
  },
  {
   "cell_type": "code",
   "execution_count": 46,
   "metadata": {},
   "outputs": [],
   "source": [
    "driver.find_element_by_css_selector('div._9AhH0').click()\n",
    "time.sleep(1)"
   ]
  },
  {
   "cell_type": "code",
   "execution_count": 47,
   "metadata": {},
   "outputs": [
    {
     "data": {
      "application/vnd.jupyter.widget-view+json": {
       "model_id": "0f1b298556e1493a9a1ce290a99829a6",
       "version_major": 2,
       "version_minor": 0
      },
      "text/plain": [
       "  0%|          | 0/500 [00:00<?, ?it/s]"
      ]
     },
     "metadata": {},
     "output_type": "display_data"
    }
   ],
   "source": [
    "results = []\n",
    "for _ in tqdm(range(500)):\n",
    "    try:\n",
    "        row = get_content(driver)\n",
    "        results.append(row)\n",
    "        driver.find_element_by_xpath('/html/body/div[6]/div[1]/div/div/div[2]/button/div/span').click()\n",
    "        time.sleep(5)\n",
    "    except:\n",
    "        time.sleep(5)\n",
    "        driver.find_element_by_xpath('/html/body/div[6]/div[1]/div/div/div/button/div/span').click()\n",
    "        time.sleep(5)"
   ]
  },
  {
   "cell_type": "code",
   "execution_count": 65,
   "metadata": {},
   "outputs": [
    {
     "data": {
      "text/html": [
       "<div>\n",
       "<style scoped>\n",
       "    .dataframe tbody tr th:only-of-type {\n",
       "        vertical-align: middle;\n",
       "    }\n",
       "\n",
       "    .dataframe tbody tr th {\n",
       "        vertical-align: top;\n",
       "    }\n",
       "\n",
       "    .dataframe thead th {\n",
       "        text-align: right;\n",
       "    }\n",
       "</style>\n",
       "<table border=\"1\" class=\"dataframe\">\n",
       "  <thead>\n",
       "    <tr style=\"text-align: right;\">\n",
       "      <th></th>\n",
       "      <th>0</th>\n",
       "      <th>1</th>\n",
       "      <th>2</th>\n",
       "      <th>3</th>\n",
       "      <th>4</th>\n",
       "    </tr>\n",
       "  </thead>\n",
       "  <tbody>\n",
       "    <tr>\n",
       "      <th>0</th>\n",
       "      <td>#리그램 - @gunwoo_o942021. 11. 30 제주 1일❤️..또 가고싶다...</td>\n",
       "      <td>2021-12-07</td>\n",
       "      <td>328</td>\n",
       "      <td>월정리해변</td>\n",
       "      <td>[#리그램, #안녕하샌]</td>\n",
       "    </tr>\n",
       "    <tr>\n",
       "      <th>1</th>\n",
       "      <td>아침부터 스튜 포장이 많네요🙋‍♀️스튜는 마늘빵과 함께 제공해드리고 있으며,마늘빵 ...</td>\n",
       "      <td>2021-12-08</td>\n",
       "      <td>440</td>\n",
       "      <td>월정리해변</td>\n",
       "      <td>[#안녕하샌]</td>\n",
       "    </tr>\n",
       "    <tr>\n",
       "      <th>2</th>\n",
       "      <td>.🍺삼도동 집아페🍺나만 알고 싶은 아담한 로컬 이자카야 찐맛집둘이 가도 좋고 혼술 ...</td>\n",
       "      <td>2021-12-06</td>\n",
       "      <td>1,180</td>\n",
       "      <td></td>\n",
       "      <td>[#제주맛집, #제주도맛집, #제주공항근처맛집, #제주시맛집, #애월맛집, #중문맛...</td>\n",
       "    </tr>\n",
       "    <tr>\n",
       "      <th>3</th>\n",
       "      <td>항상 멋진 오션뷰와 맛있는 음식애월하미에 한번 오시면 재방문의사 200%!!!!! ...</td>\n",
       "      <td>2021-12-08</td>\n",
       "      <td>415</td>\n",
       "      <td>애월하미</td>\n",
       "      <td>[#천상의바다, #애월북서길54, #애월횟집, #애월읍횟집, #제주도횟집, #제주도...</td>\n",
       "    </tr>\n",
       "    <tr>\n",
       "      <th>4</th>\n",
       "      <td>🎀 제주에 진짜 맛집 🎀⁣⁣문개항아리 (づ￣ 3￣)づ⁣⁣⁣직접 잡아오는 제주도 자연...</td>\n",
       "      <td>2021-12-07</td>\n",
       "      <td>0</td>\n",
       "      <td></td>\n",
       "      <td>[#제주도맛집, #문어라면, #애월해물라면, #애월해산물맛집, #제주애월맛집추천, ...</td>\n",
       "    </tr>\n",
       "    <tr>\n",
       "      <th>...</th>\n",
       "      <td>...</td>\n",
       "      <td>...</td>\n",
       "      <td>...</td>\n",
       "      <td>...</td>\n",
       "      <td>...</td>\n",
       "    </tr>\n",
       "    <tr>\n",
       "      <th>467</th>\n",
       "      <td>항상찍는자리</td>\n",
       "      <td>2021-12-08</td>\n",
       "      <td>186</td>\n",
       "      <td>정신없는 제주공항 어딘가</td>\n",
       "      <td>[]</td>\n",
       "    </tr>\n",
       "    <tr>\n",
       "      <th>468</th>\n",
       "      <td>오늘도 날씨 맑음 수요일 퐁당카레 시작했습니다!!.🏖#퐁당카레🏖.⏰점심영업 AM 1...</td>\n",
       "      <td>2021-12-08</td>\n",
       "      <td>20</td>\n",
       "      <td>퐁당카레</td>\n",
       "      <td>[#퐁당카레🏖.⏰점심영업]</td>\n",
       "    </tr>\n",
       "    <tr>\n",
       "      <th>469</th>\n",
       "      <td>예전에 맛있게 먹은 기억때문에 또 재방문했어요.입맛 까다로운 부모님 모시고 왔는데 ...</td>\n",
       "      <td>2021-12-08</td>\n",
       "      <td>161</td>\n",
       "      <td></td>\n",
       "      <td>[#색달식당중문본점*제주, #색달식당중문본점, #제주도갈치조림, #제주도맛집, #서...</td>\n",
       "    </tr>\n",
       "    <tr>\n",
       "      <th>470</th>\n",
       "      <td>여기는 노형수퍼마켙이라는곳인데마켓  시옷받침이 아니라서 주소검색하기 헷갈렸음.아르떼...</td>\n",
       "      <td>2021-12-08</td>\n",
       "      <td>35</td>\n",
       "      <td>제주 노형수퍼마켙</td>\n",
       "      <td>[#제주여행, #제주카라반노지캠, #제주공항, #제주숙소, #제주핫플, #카라반라이...</td>\n",
       "    </tr>\n",
       "    <tr>\n",
       "      <th>471</th>\n",
       "      <td>마쥬 테디 코트FUR-EFFECT COATㆍ상품번호 : 132346ㆍ모델번호 : M...</td>\n",
       "      <td>2021-12-08</td>\n",
       "      <td>저 좋아요를 눌러보세</td>\n",
       "      <td></td>\n",
       "      <td>[#마쥬신상, #마쥬코트, #명품코트, #코트추천, #테디코트추천, #윤곽수술, #...</td>\n",
       "    </tr>\n",
       "  </tbody>\n",
       "</table>\n",
       "<p>472 rows × 5 columns</p>\n",
       "</div>"
      ],
      "text/plain": [
       "                                                     0           1  \\\n",
       "0    #리그램 - @gunwoo_o942021. 11. 30 제주 1일❤️..또 가고싶다...  2021-12-07   \n",
       "1    아침부터 스튜 포장이 많네요🙋‍♀️스튜는 마늘빵과 함께 제공해드리고 있으며,마늘빵 ...  2021-12-08   \n",
       "2    .🍺삼도동 집아페🍺나만 알고 싶은 아담한 로컬 이자카야 찐맛집둘이 가도 좋고 혼술 ...  2021-12-06   \n",
       "3    항상 멋진 오션뷰와 맛있는 음식애월하미에 한번 오시면 재방문의사 200%!!!!! ...  2021-12-08   \n",
       "4    🎀 제주에 진짜 맛집 🎀⁣⁣문개항아리 (づ￣ 3￣)づ⁣⁣⁣직접 잡아오는 제주도 자연...  2021-12-07   \n",
       "..                                                 ...         ...   \n",
       "467                                             항상찍는자리  2021-12-08   \n",
       "468  오늘도 날씨 맑음 수요일 퐁당카레 시작했습니다!!.🏖#퐁당카레🏖.⏰점심영업 AM 1...  2021-12-08   \n",
       "469  예전에 맛있게 먹은 기억때문에 또 재방문했어요.입맛 까다로운 부모님 모시고 왔는데 ...  2021-12-08   \n",
       "470  여기는 노형수퍼마켙이라는곳인데마켓  시옷받침이 아니라서 주소검색하기 헷갈렸음.아르떼...  2021-12-08   \n",
       "471  마쥬 테디 코트FUR-EFFECT COATㆍ상품번호 : 132346ㆍ모델번호 : M...  2021-12-08   \n",
       "\n",
       "               2              3  \\\n",
       "0            328          월정리해변   \n",
       "1            440          월정리해변   \n",
       "2          1,180                  \n",
       "3            415           애월하미   \n",
       "4              0                  \n",
       "..           ...            ...   \n",
       "467          186  정신없는 제주공항 어딘가   \n",
       "468           20           퐁당카레   \n",
       "469          161                  \n",
       "470           35      제주 노형수퍼마켙   \n",
       "471  저 좋아요를 눌러보세                  \n",
       "\n",
       "                                                     4  \n",
       "0                                        [#리그램, #안녕하샌]  \n",
       "1                                              [#안녕하샌]  \n",
       "2    [#제주맛집, #제주도맛집, #제주공항근처맛집, #제주시맛집, #애월맛집, #중문맛...  \n",
       "3    [#천상의바다, #애월북서길54, #애월횟집, #애월읍횟집, #제주도횟집, #제주도...  \n",
       "4    [#제주도맛집, #문어라면, #애월해물라면, #애월해산물맛집, #제주애월맛집추천, ...  \n",
       "..                                                 ...  \n",
       "467                                                 []  \n",
       "468                                     [#퐁당카레🏖.⏰점심영업]  \n",
       "469  [#색달식당중문본점*제주, #색달식당중문본점, #제주도갈치조림, #제주도맛집, #서...  \n",
       "470  [#제주여행, #제주카라반노지캠, #제주공항, #제주숙소, #제주핫플, #카라반라이...  \n",
       "471  [#마쥬신상, #마쥬코트, #명품코트, #코트추천, #테디코트추천, #윤곽수술, #...  \n",
       "\n",
       "[472 rows x 5 columns]"
      ]
     },
     "execution_count": 65,
     "metadata": {},
     "output_type": "execute_result"
    }
   ],
   "source": [
    "df = pd.DataFrame(results)\n",
    "df"
   ]
  },
  {
   "cell_type": "code",
   "execution_count": 67,
   "metadata": {},
   "outputs": [
    {
     "data": {
      "text/html": [
       "<div>\n",
       "<style scoped>\n",
       "    .dataframe tbody tr th:only-of-type {\n",
       "        vertical-align: middle;\n",
       "    }\n",
       "\n",
       "    .dataframe tbody tr th {\n",
       "        vertical-align: top;\n",
       "    }\n",
       "\n",
       "    .dataframe thead th {\n",
       "        text-align: right;\n",
       "    }\n",
       "</style>\n",
       "<table border=\"1\" class=\"dataframe\">\n",
       "  <thead>\n",
       "    <tr style=\"text-align: right;\">\n",
       "      <th></th>\n",
       "      <th>0</th>\n",
       "      <th>1</th>\n",
       "      <th>2</th>\n",
       "      <th>3</th>\n",
       "      <th>4</th>\n",
       "    </tr>\n",
       "  </thead>\n",
       "  <tbody>\n",
       "    <tr>\n",
       "      <th>0</th>\n",
       "      <td>#리그램 - @gunwoo_o942021. 11. 30 제주 1일❤️..또 가고싶다...</td>\n",
       "      <td>2021-12-07</td>\n",
       "      <td>328</td>\n",
       "      <td>월정리해변</td>\n",
       "      <td>[#리그램, #안녕하샌]</td>\n",
       "    </tr>\n",
       "    <tr>\n",
       "      <th>1</th>\n",
       "      <td>아침부터 스튜 포장이 많네요🙋‍♀️스튜는 마늘빵과 함께 제공해드리고 있으며,마늘빵 ...</td>\n",
       "      <td>2021-12-08</td>\n",
       "      <td>440</td>\n",
       "      <td>월정리해변</td>\n",
       "      <td>[#안녕하샌]</td>\n",
       "    </tr>\n",
       "    <tr>\n",
       "      <th>2</th>\n",
       "      <td>.🍺삼도동 집아페🍺나만 알고 싶은 아담한 로컬 이자카야 찐맛집둘이 가도 좋고 혼술 ...</td>\n",
       "      <td>2021-12-06</td>\n",
       "      <td>1,180</td>\n",
       "      <td></td>\n",
       "      <td>[#제주맛집, #제주도맛집, #제주공항근처맛집, #제주시맛집, #애월맛집, #중문맛...</td>\n",
       "    </tr>\n",
       "    <tr>\n",
       "      <th>3</th>\n",
       "      <td>항상 멋진 오션뷰와 맛있는 음식애월하미에 한번 오시면 재방문의사 200%!!!!! ...</td>\n",
       "      <td>2021-12-08</td>\n",
       "      <td>415</td>\n",
       "      <td>애월하미</td>\n",
       "      <td>[#천상의바다, #애월북서길54, #애월횟집, #애월읍횟집, #제주도횟집, #제주도...</td>\n",
       "    </tr>\n",
       "    <tr>\n",
       "      <th>4</th>\n",
       "      <td>🎀 제주에 진짜 맛집 🎀⁣⁣문개항아리 (づ￣ 3￣)づ⁣⁣⁣직접 잡아오는 제주도 자연...</td>\n",
       "      <td>2021-12-07</td>\n",
       "      <td>0</td>\n",
       "      <td></td>\n",
       "      <td>[#제주도맛집, #문어라면, #애월해물라면, #애월해산물맛집, #제주애월맛집추천, ...</td>\n",
       "    </tr>\n",
       "    <tr>\n",
       "      <th>...</th>\n",
       "      <td>...</td>\n",
       "      <td>...</td>\n",
       "      <td>...</td>\n",
       "      <td>...</td>\n",
       "      <td>...</td>\n",
       "    </tr>\n",
       "    <tr>\n",
       "      <th>467</th>\n",
       "      <td>항상찍는자리</td>\n",
       "      <td>2021-12-08</td>\n",
       "      <td>186</td>\n",
       "      <td>정신없는 제주공항 어딘가</td>\n",
       "      <td>[]</td>\n",
       "    </tr>\n",
       "    <tr>\n",
       "      <th>468</th>\n",
       "      <td>오늘도 날씨 맑음 수요일 퐁당카레 시작했습니다!!.🏖#퐁당카레🏖.⏰점심영업 AM 1...</td>\n",
       "      <td>2021-12-08</td>\n",
       "      <td>20</td>\n",
       "      <td>퐁당카레</td>\n",
       "      <td>[#퐁당카레🏖.⏰점심영업]</td>\n",
       "    </tr>\n",
       "    <tr>\n",
       "      <th>469</th>\n",
       "      <td>예전에 맛있게 먹은 기억때문에 또 재방문했어요.입맛 까다로운 부모님 모시고 왔는데 ...</td>\n",
       "      <td>2021-12-08</td>\n",
       "      <td>161</td>\n",
       "      <td></td>\n",
       "      <td>[#색달식당중문본점*제주, #색달식당중문본점, #제주도갈치조림, #제주도맛집, #서...</td>\n",
       "    </tr>\n",
       "    <tr>\n",
       "      <th>470</th>\n",
       "      <td>여기는 노형수퍼마켙이라는곳인데마켓  시옷받침이 아니라서 주소검색하기 헷갈렸음.아르떼...</td>\n",
       "      <td>2021-12-08</td>\n",
       "      <td>35</td>\n",
       "      <td>제주 노형수퍼마켙</td>\n",
       "      <td>[#제주여행, #제주카라반노지캠, #제주공항, #제주숙소, #제주핫플, #카라반라이...</td>\n",
       "    </tr>\n",
       "    <tr>\n",
       "      <th>471</th>\n",
       "      <td>마쥬 테디 코트FUR-EFFECT COATㆍ상품번호 : 132346ㆍ모델번호 : M...</td>\n",
       "      <td>2021-12-08</td>\n",
       "      <td>저 좋아요를 눌러보세</td>\n",
       "      <td></td>\n",
       "      <td>[#마쥬신상, #마쥬코트, #명품코트, #코트추천, #테디코트추천, #윤곽수술, #...</td>\n",
       "    </tr>\n",
       "  </tbody>\n",
       "</table>\n",
       "<p>291 rows × 5 columns</p>\n",
       "</div>"
      ],
      "text/plain": [
       "                                                     0           1  \\\n",
       "0    #리그램 - @gunwoo_o942021. 11. 30 제주 1일❤️..또 가고싶다...  2021-12-07   \n",
       "1    아침부터 스튜 포장이 많네요🙋‍♀️스튜는 마늘빵과 함께 제공해드리고 있으며,마늘빵 ...  2021-12-08   \n",
       "2    .🍺삼도동 집아페🍺나만 알고 싶은 아담한 로컬 이자카야 찐맛집둘이 가도 좋고 혼술 ...  2021-12-06   \n",
       "3    항상 멋진 오션뷰와 맛있는 음식애월하미에 한번 오시면 재방문의사 200%!!!!! ...  2021-12-08   \n",
       "4    🎀 제주에 진짜 맛집 🎀⁣⁣문개항아리 (づ￣ 3￣)づ⁣⁣⁣직접 잡아오는 제주도 자연...  2021-12-07   \n",
       "..                                                 ...         ...   \n",
       "467                                             항상찍는자리  2021-12-08   \n",
       "468  오늘도 날씨 맑음 수요일 퐁당카레 시작했습니다!!.🏖#퐁당카레🏖.⏰점심영업 AM 1...  2021-12-08   \n",
       "469  예전에 맛있게 먹은 기억때문에 또 재방문했어요.입맛 까다로운 부모님 모시고 왔는데 ...  2021-12-08   \n",
       "470  여기는 노형수퍼마켙이라는곳인데마켓  시옷받침이 아니라서 주소검색하기 헷갈렸음.아르떼...  2021-12-08   \n",
       "471  마쥬 테디 코트FUR-EFFECT COATㆍ상품번호 : 132346ㆍ모델번호 : M...  2021-12-08   \n",
       "\n",
       "               2              3  \\\n",
       "0            328          월정리해변   \n",
       "1            440          월정리해변   \n",
       "2          1,180                  \n",
       "3            415           애월하미   \n",
       "4              0                  \n",
       "..           ...            ...   \n",
       "467          186  정신없는 제주공항 어딘가   \n",
       "468           20           퐁당카레   \n",
       "469          161                  \n",
       "470           35      제주 노형수퍼마켙   \n",
       "471  저 좋아요를 눌러보세                  \n",
       "\n",
       "                                                     4  \n",
       "0                                        [#리그램, #안녕하샌]  \n",
       "1                                              [#안녕하샌]  \n",
       "2    [#제주맛집, #제주도맛집, #제주공항근처맛집, #제주시맛집, #애월맛집, #중문맛...  \n",
       "3    [#천상의바다, #애월북서길54, #애월횟집, #애월읍횟집, #제주도횟집, #제주도...  \n",
       "4    [#제주도맛집, #문어라면, #애월해물라면, #애월해산물맛집, #제주애월맛집추천, ...  \n",
       "..                                                 ...  \n",
       "467                                                 []  \n",
       "468                                     [#퐁당카레🏖.⏰점심영업]  \n",
       "469  [#색달식당중문본점*제주, #색달식당중문본점, #제주도갈치조림, #제주도맛집, #서...  \n",
       "470  [#제주여행, #제주카라반노지캠, #제주공항, #제주숙소, #제주핫플, #카라반라이...  \n",
       "471  [#마쥬신상, #마쥬코트, #명품코트, #코트추천, #테디코트추천, #윤곽수술, #...  \n",
       "\n",
       "[291 rows x 5 columns]"
      ]
     },
     "execution_count": 67,
     "metadata": {},
     "output_type": "execute_result"
    }
   ],
   "source": [
    "df.drop_duplicates(subset=0,inplace=True)\n",
    "df"
   ]
  },
  {
   "cell_type": "code",
   "execution_count": null,
   "metadata": {},
   "outputs": [],
   "source": [
    "df[3].isin('')"
   ]
  },
  {
   "cell_type": "code",
   "execution_count": null,
   "metadata": {},
   "outputs": [],
   "source": []
  },
  {
   "cell_type": "code",
   "execution_count": 92,
   "metadata": {},
   "outputs": [],
   "source": [
    "df.columns = ['내용','날짜','조회수','장소','테그']"
   ]
  },
  {
   "cell_type": "code",
   "execution_count": 93,
   "metadata": {},
   "outputs": [
    {
     "data": {
      "text/plain": [
       "Index(['내용', '날짜', '조회수', '장소', '테그'], dtype='object')"
      ]
     },
     "execution_count": 93,
     "metadata": {},
     "output_type": "execute_result"
    }
   ],
   "source": [
    "df.columns"
   ]
  },
  {
   "cell_type": "code",
   "execution_count": 102,
   "metadata": {},
   "outputs": [],
   "source": [
    "df.to_csv('인스타그램 맛집.csv',index=False)"
   ]
  },
  {
   "cell_type": "code",
   "execution_count": 6,
   "metadata": {},
   "outputs": [
    {
     "ename": "WebDriverException",
     "evalue": "Message: chrome not reachable\n  (Session info: chrome=96.0.4664.93)\n",
     "output_type": "error",
     "traceback": [
      "\u001b[1;31m---------------------------------------------------------------------------\u001b[0m",
      "\u001b[1;31mWebDriverException\u001b[0m                        Traceback (most recent call last)",
      "\u001b[1;32m<ipython-input-6-ad0c9a213c39>\u001b[0m in \u001b[0;36m<module>\u001b[1;34m\u001b[0m\n\u001b[1;32m----> 1\u001b[1;33m \u001b[0mdriver\u001b[0m\u001b[1;33m.\u001b[0m\u001b[0mclose\u001b[0m\u001b[1;33m(\u001b[0m\u001b[1;33m)\u001b[0m\u001b[1;33m\u001b[0m\u001b[1;33m\u001b[0m\u001b[0m\n\u001b[0m",
      "\u001b[1;32mC:\\ProgramData\\Anaconda3\\lib\\site-packages\\selenium\\webdriver\\remote\\webdriver.py\u001b[0m in \u001b[0;36mclose\u001b[1;34m(self)\u001b[0m\n\u001b[0;32m    686\u001b[0m             \u001b[0mdriver\u001b[0m\u001b[1;33m.\u001b[0m\u001b[0mclose\u001b[0m\u001b[1;33m(\u001b[0m\u001b[1;33m)\u001b[0m\u001b[1;33m\u001b[0m\u001b[1;33m\u001b[0m\u001b[0m\n\u001b[0;32m    687\u001b[0m         \"\"\"\n\u001b[1;32m--> 688\u001b[1;33m         \u001b[0mself\u001b[0m\u001b[1;33m.\u001b[0m\u001b[0mexecute\u001b[0m\u001b[1;33m(\u001b[0m\u001b[0mCommand\u001b[0m\u001b[1;33m.\u001b[0m\u001b[0mCLOSE\u001b[0m\u001b[1;33m)\u001b[0m\u001b[1;33m\u001b[0m\u001b[1;33m\u001b[0m\u001b[0m\n\u001b[0m\u001b[0;32m    689\u001b[0m \u001b[1;33m\u001b[0m\u001b[0m\n\u001b[0;32m    690\u001b[0m     \u001b[1;32mdef\u001b[0m \u001b[0mquit\u001b[0m\u001b[1;33m(\u001b[0m\u001b[0mself\u001b[0m\u001b[1;33m)\u001b[0m\u001b[1;33m:\u001b[0m\u001b[1;33m\u001b[0m\u001b[1;33m\u001b[0m\u001b[0m\n",
      "\u001b[1;32mC:\\ProgramData\\Anaconda3\\lib\\site-packages\\selenium\\webdriver\\remote\\webdriver.py\u001b[0m in \u001b[0;36mexecute\u001b[1;34m(self, driver_command, params)\u001b[0m\n\u001b[0;32m    319\u001b[0m         \u001b[0mresponse\u001b[0m \u001b[1;33m=\u001b[0m \u001b[0mself\u001b[0m\u001b[1;33m.\u001b[0m\u001b[0mcommand_executor\u001b[0m\u001b[1;33m.\u001b[0m\u001b[0mexecute\u001b[0m\u001b[1;33m(\u001b[0m\u001b[0mdriver_command\u001b[0m\u001b[1;33m,\u001b[0m \u001b[0mparams\u001b[0m\u001b[1;33m)\u001b[0m\u001b[1;33m\u001b[0m\u001b[1;33m\u001b[0m\u001b[0m\n\u001b[0;32m    320\u001b[0m         \u001b[1;32mif\u001b[0m \u001b[0mresponse\u001b[0m\u001b[1;33m:\u001b[0m\u001b[1;33m\u001b[0m\u001b[1;33m\u001b[0m\u001b[0m\n\u001b[1;32m--> 321\u001b[1;33m             \u001b[0mself\u001b[0m\u001b[1;33m.\u001b[0m\u001b[0merror_handler\u001b[0m\u001b[1;33m.\u001b[0m\u001b[0mcheck_response\u001b[0m\u001b[1;33m(\u001b[0m\u001b[0mresponse\u001b[0m\u001b[1;33m)\u001b[0m\u001b[1;33m\u001b[0m\u001b[1;33m\u001b[0m\u001b[0m\n\u001b[0m\u001b[0;32m    322\u001b[0m             response['value'] = self._unwrap_value(\n\u001b[0;32m    323\u001b[0m                 response.get('value', None))\n",
      "\u001b[1;32mC:\\ProgramData\\Anaconda3\\lib\\site-packages\\selenium\\webdriver\\remote\\errorhandler.py\u001b[0m in \u001b[0;36mcheck_response\u001b[1;34m(self, response)\u001b[0m\n\u001b[0;32m    240\u001b[0m                 \u001b[0malert_text\u001b[0m \u001b[1;33m=\u001b[0m \u001b[0mvalue\u001b[0m\u001b[1;33m[\u001b[0m\u001b[1;34m'alert'\u001b[0m\u001b[1;33m]\u001b[0m\u001b[1;33m.\u001b[0m\u001b[0mget\u001b[0m\u001b[1;33m(\u001b[0m\u001b[1;34m'text'\u001b[0m\u001b[1;33m)\u001b[0m\u001b[1;33m\u001b[0m\u001b[1;33m\u001b[0m\u001b[0m\n\u001b[0;32m    241\u001b[0m             \u001b[1;32mraise\u001b[0m \u001b[0mexception_class\u001b[0m\u001b[1;33m(\u001b[0m\u001b[0mmessage\u001b[0m\u001b[1;33m,\u001b[0m \u001b[0mscreen\u001b[0m\u001b[1;33m,\u001b[0m \u001b[0mstacktrace\u001b[0m\u001b[1;33m,\u001b[0m \u001b[0malert_text\u001b[0m\u001b[1;33m)\u001b[0m\u001b[1;33m\u001b[0m\u001b[1;33m\u001b[0m\u001b[0m\n\u001b[1;32m--> 242\u001b[1;33m         \u001b[1;32mraise\u001b[0m \u001b[0mexception_class\u001b[0m\u001b[1;33m(\u001b[0m\u001b[0mmessage\u001b[0m\u001b[1;33m,\u001b[0m \u001b[0mscreen\u001b[0m\u001b[1;33m,\u001b[0m \u001b[0mstacktrace\u001b[0m\u001b[1;33m)\u001b[0m\u001b[1;33m\u001b[0m\u001b[1;33m\u001b[0m\u001b[0m\n\u001b[0m\u001b[0;32m    243\u001b[0m \u001b[1;33m\u001b[0m\u001b[0m\n\u001b[0;32m    244\u001b[0m     \u001b[1;32mdef\u001b[0m \u001b[0m_value_or_default\u001b[0m\u001b[1;33m(\u001b[0m\u001b[0mself\u001b[0m\u001b[1;33m,\u001b[0m \u001b[0mobj\u001b[0m\u001b[1;33m,\u001b[0m \u001b[0mkey\u001b[0m\u001b[1;33m,\u001b[0m \u001b[0mdefault\u001b[0m\u001b[1;33m)\u001b[0m\u001b[1;33m:\u001b[0m\u001b[1;33m\u001b[0m\u001b[1;33m\u001b[0m\u001b[0m\n",
      "\u001b[1;31mWebDriverException\u001b[0m: Message: chrome not reachable\n  (Session info: chrome=96.0.4664.93)\n"
     ]
    }
   ],
   "source": [
    "driver.close()"
   ]
  },
  {
   "cell_type": "code",
   "execution_count": null,
   "metadata": {},
   "outputs": [],
   "source": []
  }
 ],
 "metadata": {
  "interpreter": {
   "hash": "b25c465b1c18d956483426a8691b47b486d8d9b6837da05c7a56549aad74826f"
  },
  "kernelspec": {
   "display_name": "Python 3.8.8 64-bit ('base': conda)",
   "language": "python",
   "name": "python3"
  },
  "language_info": {
   "codemirror_mode": {
    "name": "ipython",
    "version": 3
   },
   "file_extension": ".py",
   "mimetype": "text/x-python",
   "name": "python",
   "nbconvert_exporter": "python",
   "pygments_lexer": "ipython3",
   "version": "3.8.8"
  },
  "orig_nbformat": 4
 },
 "nbformat": 4,
 "nbformat_minor": 2
}
