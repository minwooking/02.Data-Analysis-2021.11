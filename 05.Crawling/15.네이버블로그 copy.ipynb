{
 "cells": [
  {
   "cell_type": "markdown",
   "metadata": {},
   "source": [
    "# 네이버 블로그 크롤링 - 제주맛집"
   ]
  },
  {
   "cell_type": "code",
   "execution_count": 4,
   "metadata": {},
   "outputs": [],
   "source": [
    "from selenium import webdriver\n",
    "from bs4 import BeautifulSoup\n",
    "import time\n",
    "import pandas as pd\n",
    "from urllib.parse import quote ## 검색맛집이 들어가기 때문에 변환해주는게 필요하다. "
   ]
  },
  {
   "cell_type": "code",
   "execution_count": 5,
   "metadata": {},
   "outputs": [],
   "source": [
    "url = f'https://search.naver.com/search.naver?where=view&sm=tab_jum&query={quote(\"제주맛집\")}'\n",
    "driver = webdriver.Chrome('chromedriver.exe')\n",
    "driver.get(url)\n",
    "time.sleep(2)"
   ]
  },
  {
   "cell_type": "code",
   "execution_count": 6,
   "metadata": {},
   "outputs": [],
   "source": [
    "from selenium.webdriver.common.keys import Keys\n",
    "\n",
    "body = driver.find_element_by_tag_name('body')\n",
    "for _ in range(30):\n",
    "    body.send_keys(Keys.PAGE_DOWN)\n",
    "    time.sleep(1)"
   ]
  },
  {
   "cell_type": "code",
   "execution_count": 7,
   "metadata": {},
   "outputs": [
    {
     "data": {
      "text/plain": [
       "30"
      ]
     },
     "execution_count": 7,
     "metadata": {},
     "output_type": "execute_result"
    }
   ],
   "source": [
    "soup = BeautifulSoup(driver.page_source)\n",
    "lis = soup.select('.bx._svp_item')\n",
    "len(lis)"
   ]
  },
  {
   "cell_type": "markdown",
   "metadata": {},
   "source": [
    "# 제목 "
   ]
  },
  {
   "cell_type": "code",
   "execution_count": 8,
   "metadata": {},
   "outputs": [
    {
     "data": {
      "text/plain": [
       "'만족뿐인 제주 맛집 공유'"
      ]
     },
     "execution_count": 8,
     "metadata": {},
     "output_type": "execute_result"
    }
   ],
   "source": [
    "li = lis[0]\n",
    "title = li.select_one('.api_txt_lines.total_tit._cross_trigger').get_text().strip()\n",
    "title"
   ]
  },
  {
   "cell_type": "markdown",
   "metadata": {},
   "source": [
    "날짜 "
   ]
  },
  {
   "cell_type": "code",
   "execution_count": 9,
   "metadata": {},
   "outputs": [
    {
     "data": {
      "text/plain": [
       "'2021.11.19.'"
      ]
     },
     "execution_count": 9,
     "metadata": {},
     "output_type": "execute_result"
    }
   ],
   "source": [
    "date = li.select_one('.sub_time.sub_txt').get_text().strip()\n",
    "date"
   ]
  },
  {
   "cell_type": "markdown",
   "metadata": {},
   "source": [
    "# 내용"
   ]
  },
  {
   "cell_type": "code",
   "execution_count": 10,
   "metadata": {},
   "outputs": [
    {
     "data": {
      "text/plain": [
       "'지난 주말 친구들과 제주여행을 떠났다가 이름알려진 제주 맛집에 갔다왔어요. 전복뚝배기부터 고등어조림,쌈밥 등 풍성한 음식에 아름다운 바다풍경까지 감상할 수 있었던 식당으로 만족스러웠던 곳이랍니다. 1....'"
      ]
     },
     "execution_count": 10,
     "metadata": {},
     "output_type": "execute_result"
    }
   ],
   "source": [
    "desc = li.select_one('.api_txt_lines.dsc_txt').get_text().strip()\n",
    "desc"
   ]
  },
  {
   "cell_type": "markdown",
   "metadata": {},
   "source": [
    "# 하이퍼링크"
   ]
  },
  {
   "cell_type": "code",
   "execution_count": 11,
   "metadata": {},
   "outputs": [],
   "source": [
    "href = li.select_one('.total_dsc._cross_trigger')['href']\n"
   ]
  },
  {
   "cell_type": "markdown",
   "metadata": {},
   "source": [
    "- 날짜처리|"
   ]
  },
  {
   "cell_type": "code",
   "execution_count": 12,
   "metadata": {},
   "outputs": [
    {
     "data": {
      "text/plain": [
       "datetime.datetime(2021, 12, 8, 11, 56, 42, 528572)"
      ]
     },
     "execution_count": 12,
     "metadata": {},
     "output_type": "execute_result"
    }
   ],
   "source": [
    "from datetime import datetime, timedelta\n",
    "\n",
    "today = datetime.now()\n",
    "today"
   ]
  },
  {
   "cell_type": "code",
   "execution_count": 13,
   "metadata": {},
   "outputs": [
    {
     "data": {
      "text/plain": [
       "(2021, 12, 8)"
      ]
     },
     "execution_count": 13,
     "metadata": {},
     "output_type": "execute_result"
    }
   ],
   "source": [
    "today.year,today.month,today.day"
   ]
  },
  {
   "cell_type": "code",
   "execution_count": 14,
   "metadata": {},
   "outputs": [
    {
     "data": {
      "text/plain": [
       "'2021.12.7'"
      ]
     },
     "execution_count": 14,
     "metadata": {},
     "output_type": "execute_result"
    }
   ],
   "source": [
    "# 어제\n",
    "date = today - timedelta(1)\n",
    "f'{date.year}.{date.month}.{date.day}'"
   ]
  },
  {
   "cell_type": "code",
   "execution_count": 15,
   "metadata": {},
   "outputs": [
    {
     "ename": "SyntaxError",
     "evalue": "invalid syntax (<ipython-input-15-3feefcf3c248>, line 4)",
     "output_type": "error",
     "traceback": [
      "\u001b[1;36m  File \u001b[1;32m\"<ipython-input-15-3feefcf3c248>\"\u001b[1;36m, line \u001b[1;32m4\u001b[0m\n\u001b[1;33m    13시간 전\u001b[0m\n\u001b[1;37m      ^\u001b[0m\n\u001b[1;31mSyntaxError\u001b[0m\u001b[1;31m:\u001b[0m invalid syntax\n"
     ]
    }
   ],
   "source": [
    "# 6일 전 \n",
    "# date = today - timedelta(6)\n",
    "# f'{date.year}.{date.month}.{date.day}'\n",
    "# 13시간 전\n",
    "# date = today - timedelta(hours=13)\n",
    "# f'{date.year}.{date.month}.{date.day}'\n",
    "# 45분전\n",
    "# date = today - timedelta(minutes=45)\n",
    "# f'{date.year}.{date.month:02d}.{date.day:02d}'"
   ]
  },
  {
   "cell_type": "code",
   "execution_count": 16,
   "metadata": {},
   "outputs": [],
   "source": [
    "# s = input()\n",
    "def convert_date(s):\n",
    "   if len(s) == 11:\n",
    "      return s           \n",
    "   if '어제' in s:\n",
    "      date = datetime.now()- timedelta(1)\n",
    "   if '시간' in s:\n",
    "      date = datetime.now() - timedelta(hours=int(s.replace('시간 전','')))\n",
    "   if '일' in s:\n",
    "      date = datetime.now()- timedelta(int(s.replace('일 전','')))\n",
    "   if '분' in s:\n",
    "      date = datetime.now() - timedelta(minutes=int(s.replace('분 전','').split()))\n",
    "\n",
    "   return f'{date.year}.{date.month:02d}.{date.day:02d}'\n"
   ]
  },
  {
   "cell_type": "code",
   "execution_count": 17,
   "metadata": {},
   "outputs": [
    {
     "ename": "ValueError",
     "evalue": "invalid literal for int() with base 10: '1시간전'",
     "output_type": "error",
     "traceback": [
      "\u001b[1;31m---------------------------------------------------------------------------\u001b[0m",
      "\u001b[1;31mValueError\u001b[0m                                Traceback (most recent call last)",
      "\u001b[1;32m<ipython-input-17-78e044a821e7>\u001b[0m in \u001b[0;36m<module>\u001b[1;34m\u001b[0m\n\u001b[0;32m      1\u001b[0m \u001b[0ms\u001b[0m \u001b[1;33m=\u001b[0m \u001b[1;34m'1시간전'\u001b[0m\u001b[1;33m\u001b[0m\u001b[1;33m\u001b[0m\u001b[0m\n\u001b[1;32m----> 2\u001b[1;33m \u001b[0mconvert_date\u001b[0m\u001b[1;33m(\u001b[0m\u001b[0ms\u001b[0m\u001b[1;33m)\u001b[0m\u001b[1;33m\u001b[0m\u001b[1;33m\u001b[0m\u001b[0m\n\u001b[0m",
      "\u001b[1;32m<ipython-input-16-3e15176f276f>\u001b[0m in \u001b[0;36mconvert_date\u001b[1;34m(s)\u001b[0m\n\u001b[0;32m      6\u001b[0m       \u001b[0mdate\u001b[0m \u001b[1;33m=\u001b[0m \u001b[0mdatetime\u001b[0m\u001b[1;33m.\u001b[0m\u001b[0mnow\u001b[0m\u001b[1;33m(\u001b[0m\u001b[1;33m)\u001b[0m\u001b[1;33m-\u001b[0m \u001b[0mtimedelta\u001b[0m\u001b[1;33m(\u001b[0m\u001b[1;36m1\u001b[0m\u001b[1;33m)\u001b[0m\u001b[1;33m\u001b[0m\u001b[1;33m\u001b[0m\u001b[0m\n\u001b[0;32m      7\u001b[0m    \u001b[1;32mif\u001b[0m \u001b[1;34m'시간'\u001b[0m \u001b[1;32min\u001b[0m \u001b[0ms\u001b[0m\u001b[1;33m:\u001b[0m\u001b[1;33m\u001b[0m\u001b[1;33m\u001b[0m\u001b[0m\n\u001b[1;32m----> 8\u001b[1;33m       \u001b[0mdate\u001b[0m \u001b[1;33m=\u001b[0m \u001b[0mdatetime\u001b[0m\u001b[1;33m.\u001b[0m\u001b[0mnow\u001b[0m\u001b[1;33m(\u001b[0m\u001b[1;33m)\u001b[0m \u001b[1;33m-\u001b[0m \u001b[0mtimedelta\u001b[0m\u001b[1;33m(\u001b[0m\u001b[0mhours\u001b[0m\u001b[1;33m=\u001b[0m\u001b[0mint\u001b[0m\u001b[1;33m(\u001b[0m\u001b[0ms\u001b[0m\u001b[1;33m.\u001b[0m\u001b[0mreplace\u001b[0m\u001b[1;33m(\u001b[0m\u001b[1;34m'시간 전'\u001b[0m\u001b[1;33m,\u001b[0m\u001b[1;34m''\u001b[0m\u001b[1;33m)\u001b[0m\u001b[1;33m)\u001b[0m\u001b[1;33m)\u001b[0m\u001b[1;33m\u001b[0m\u001b[1;33m\u001b[0m\u001b[0m\n\u001b[0m\u001b[0;32m      9\u001b[0m    \u001b[1;32mif\u001b[0m \u001b[1;34m'일'\u001b[0m \u001b[1;32min\u001b[0m \u001b[0ms\u001b[0m\u001b[1;33m:\u001b[0m\u001b[1;33m\u001b[0m\u001b[1;33m\u001b[0m\u001b[0m\n\u001b[0;32m     10\u001b[0m       \u001b[0mdate\u001b[0m \u001b[1;33m=\u001b[0m \u001b[0mdatetime\u001b[0m\u001b[1;33m.\u001b[0m\u001b[0mnow\u001b[0m\u001b[1;33m(\u001b[0m\u001b[1;33m)\u001b[0m\u001b[1;33m-\u001b[0m \u001b[0mtimedelta\u001b[0m\u001b[1;33m(\u001b[0m\u001b[0mint\u001b[0m\u001b[1;33m(\u001b[0m\u001b[0ms\u001b[0m\u001b[1;33m.\u001b[0m\u001b[0mreplace\u001b[0m\u001b[1;33m(\u001b[0m\u001b[1;34m'일 전'\u001b[0m\u001b[1;33m,\u001b[0m\u001b[1;34m''\u001b[0m\u001b[1;33m)\u001b[0m\u001b[1;33m)\u001b[0m\u001b[1;33m)\u001b[0m\u001b[1;33m\u001b[0m\u001b[1;33m\u001b[0m\u001b[0m\n",
      "\u001b[1;31mValueError\u001b[0m: invalid literal for int() with base 10: '1시간전'"
     ]
    }
   ],
   "source": [
    "s = '1시간전'\n",
    "convert_date(s)"
   ]
  },
  {
   "cell_type": "code",
   "execution_count": 19,
   "metadata": {},
   "outputs": [],
   "source": [
    "lines = []\n",
    "for li in lis:\n",
    "    title = li.select_one('.api_txt_lines.total_tit._cross_trigger').get_text().strip()\n",
    "    date = li.select_one('.sub_time.sub_txt').get_text().strip()\n",
    "    desc = li.select_one('.api_txt_lines.dsc_txt').get_text().strip()\n",
    "    href = li.select_one('.total_dsc._cross_trigger')['href']\n",
    "    lines.append([title,convert_date(date),desc,href])\n"
   ]
  },
  {
   "cell_type": "code",
   "execution_count": 21,
   "metadata": {},
   "outputs": [],
   "source": [
    "df1 = pd.DataFrame(lines,columns=['제목','날짜','내용','href'])\n",
    "df2 = df1[['제목','날짜','내용']]"
   ]
  },
  {
   "cell_type": "code",
   "execution_count": 22,
   "metadata": {},
   "outputs": [],
   "source": [
    "df1.to_csv('네이버-제주맛집.csv',index=False)"
   ]
  },
  {
   "cell_type": "code",
   "execution_count": 23,
   "metadata": {},
   "outputs": [
    {
     "data": {
      "text/html": [
       "<div>\n",
       "<style scoped>\n",
       "    .dataframe tbody tr th:only-of-type {\n",
       "        vertical-align: middle;\n",
       "    }\n",
       "\n",
       "    .dataframe tbody tr th {\n",
       "        vertical-align: top;\n",
       "    }\n",
       "\n",
       "    .dataframe thead th {\n",
       "        text-align: right;\n",
       "    }\n",
       "</style>\n",
       "<table border=\"1\" class=\"dataframe\">\n",
       "  <thead>\n",
       "    <tr style=\"text-align: right;\">\n",
       "      <th></th>\n",
       "      <th>제목</th>\n",
       "      <th>날짜</th>\n",
       "      <th>내용</th>\n",
       "      <th>href</th>\n",
       "    </tr>\n",
       "  </thead>\n",
       "  <tbody>\n",
       "    <tr>\n",
       "      <th>0</th>\n",
       "      <td>만족뿐인 제주 맛집 공유</td>\n",
       "      <td>2021.11.19.</td>\n",
       "      <td>지난 주말 친구들과 제주여행을 떠났다가 이름알려진 제주 맛집에 갔다왔어요. 전복뚝배...</td>\n",
       "      <td>https://blog.naver.com/tok4/222573156818</td>\n",
       "    </tr>\n",
       "    <tr>\n",
       "      <th>1</th>\n",
       "      <td>또 생각났던 제주 맛집</td>\n",
       "      <td>2021.12.02</td>\n",
       "      <td>제가 시킨 제주 비빔국수는 갖은 야채들이 그릇에 알록달록 예쁘게 가득 채워져 있었는...</td>\n",
       "      <td>https://cafe.naver.com/ungsangstory/940466</td>\n",
       "    </tr>\n",
       "    <tr>\n",
       "      <th>2</th>\n",
       "      <td>북적였던 제주 맛집 리스트</td>\n",
       "      <td>2021.11.13.</td>\n",
       "      <td>무엇보다 비린내 한번 느껴지지 않아 배가 부른 상태였음에도 쉽사리 남길 수가 없었던...</td>\n",
       "      <td>https://blog.naver.com/caucommando/222564796496</td>\n",
       "    </tr>\n",
       "    <tr>\n",
       "      <th>3</th>\n",
       "      <td>감격했던 제주 맛집 소개</td>\n",
       "      <td>2021.11.15.</td>\n",
       "      <td>얼마 전 친구들과 제주로 여행갔다가 현지인께 추천받은 제주 맛집에 다녀왔어요. 갓 ...</td>\n",
       "      <td>https://blog.naver.com/topnotchlady/222568948674</td>\n",
       "    </tr>\n",
       "    <tr>\n",
       "      <th>4</th>\n",
       "      <td>제주도 가볼만한곳 제주 맛집</td>\n",
       "      <td>2021.12.01</td>\n",
       "      <td>제주도 가볼만한곳 제주 맛집은 깔끔한 메뉴가 푸짐하게 나오기로 소문 난 곳이라 부담...</td>\n",
       "      <td>https://cafe.naver.com/gangmok/1543161</td>\n",
       "    </tr>\n",
       "    <tr>\n",
       "      <th>5</th>\n",
       "      <td>예찬했던 소노캄 제주 맛집 모음</td>\n",
       "      <td>2021.11.12.</td>\n",
       "      <td>또 해산물은 매장에서 먹었던 것과 동일한 신선도를 자랑해 역시 소문난 소노캄 제주 ...</td>\n",
       "      <td>https://blog.naver.com/monopoly15/222565611847</td>\n",
       "    </tr>\n",
       "    <tr>\n",
       "      <th>6</th>\n",
       "      <td>현지인이 소개해준 제주 맛집 추천드려보아요~</td>\n",
       "      <td>2021.11.30.</td>\n",
       "      <td>위드코로나가 시작되고 지겨웠던 가택구금에서 해방되어 씩씩하게 제주도 구석구석을 돌아...</td>\n",
       "      <td>https://cafe.naver.com/cosmania/33668111</td>\n",
       "    </tr>\n",
       "    <tr>\n",
       "      <th>7</th>\n",
       "      <td>끊임없던 제주 맛집 리스트</td>\n",
       "      <td>2021.10.01.</td>\n",
       "      <td>#제주맛집 #스시오타루 2. 참맛나김밥 ⊙ 열무국수 8,000원 / 햄김밥 3,50...</td>\n",
       "      <td>https://blog.naver.com/hloveh01/222521358271</td>\n",
       "    </tr>\n",
       "    <tr>\n",
       "      <th>8</th>\n",
       "      <td>쓱싹한 제주 맛집 공유</td>\n",
       "      <td>2021.11.09.</td>\n",
       "      <td>지난 주에는 지인들이 제주에 놀러와 유명한 제주 맛집에 데려갔어요. 선도 높은 신선...</td>\n",
       "      <td>https://blog.naver.com/mysalangiran/222563134415</td>\n",
       "    </tr>\n",
       "    <tr>\n",
       "      <th>9</th>\n",
       "      <td>참신했던 소노캄 제주 맛집</td>\n",
       "      <td>2021.12.07</td>\n",
       "      <td>소노캄 제주 맛집에서 주문한 흑돼지모둠은 제주돼지의 다양한 부위를 한 번에 맛볼 수...</td>\n",
       "      <td>https://blog.naver.com/dbfl8103/222589039029</td>\n",
       "    </tr>\n",
       "    <tr>\n",
       "      <th>10</th>\n",
       "      <td>고퀄이었던 제주 맛집 리스트</td>\n",
       "      <td>2021.10.08.</td>\n",
       "      <td>지난 연휴 때 친구들과 제주도에 놀러 갔을 때 요즘 인기있는 제주 맛집에 방문했어요...</td>\n",
       "      <td>https://blog.naver.com/p1ayme/222530052850</td>\n",
       "    </tr>\n",
       "    <tr>\n",
       "      <th>11</th>\n",
       "      <td>신박했던 제주 맛집 목록</td>\n",
       "      <td>2021.12.06</td>\n",
       "      <td>이처럼 다른 식당과는 차원이 다른 제주 맛집이라 조만간 또 들를 예정이랍니다. 2....</td>\n",
       "      <td>https://blog.naver.com/mcm2922/222588391988</td>\n",
       "    </tr>\n",
       "    <tr>\n",
       "      <th>12</th>\n",
       "      <td>만족할만한 제주 맛집 추천</td>\n",
       "      <td>2021.10.30.</td>\n",
       "      <td>만족할만한 제주 맛집 추천 몇일전 제주로 가을 나들이를 다녀왔어요. 멋진 풍경들을 ...</td>\n",
       "      <td>https://blog.naver.com/startsh8022/222553687200</td>\n",
       "    </tr>\n",
       "    <tr>\n",
       "      <th>13</th>\n",
       "      <td>출중했던 제주 맛집 소개</td>\n",
       "      <td>2021.08.01.</td>\n",
       "      <td>지난달 친구들과 다녀온 제주도 여행에서는 스시오마카세로 유명한 제주 맛집에 들러 알...</td>\n",
       "      <td>https://blog.naver.com/lightsout/222452878630</td>\n",
       "    </tr>\n",
       "    <tr>\n",
       "      <th>14</th>\n",
       "      <td>탁월했던 제주 맛집 추천</td>\n",
       "      <td>2021.11.12.</td>\n",
       "      <td>싱싱한 쌈채소에 가득 싸서 먹는 제주 맛집 쌈은 역시 이번 제주여행에서 가장 기억에...</td>\n",
       "      <td>https://blog.naver.com/asas0957/222565400656</td>\n",
       "    </tr>\n",
       "    <tr>\n",
       "      <th>15</th>\n",
       "      <td>제주 맛집 한경가든</td>\n",
       "      <td>2021.11.25.</td>\n",
       "      <td>오시는곳이구나 맛집의 스멜이 확! 역시 제 감이 맞았답니다 제주맛집 한경가든 은갈치...</td>\n",
       "      <td>https://cafe.naver.com/secretcontessa/149953</td>\n",
       "    </tr>\n",
       "    <tr>\n",
       "      <th>16</th>\n",
       "      <td>제주도 가볼만한곳 제주 맛집</td>\n",
       "      <td>2021.11.19.</td>\n",
       "      <td>얼마 전 지인들과 협재로 나들이 갔다오는 길에 미리 생각해 두었던 제주도 가볼만한곳...</td>\n",
       "      <td>https://cafe.naver.com/newkidsbattle/460293</td>\n",
       "    </tr>\n",
       "    <tr>\n",
       "      <th>17</th>\n",
       "      <td>쏠쏠했던 제주 맛집 소개</td>\n",
       "      <td>2021.09.24.</td>\n",
       "      <td>소스에 콕 찍어 음미하니 겉바속촉의 질감까지 제대로라 마지막까지 완벽했던 제주 맛집...</td>\n",
       "      <td>https://blog.naver.com/choiceagg/222515524093</td>\n",
       "    </tr>\n",
       "    <tr>\n",
       "      <th>18</th>\n",
       "      <td>소담스럽던 제주 맛집 소개</td>\n",
       "      <td>2021.10.16.</td>\n",
       "      <td>만족했던 제주 맛집이에요. 조만간 또 오게 될 것 같답니다 2. 매력식당 메뉴 : ...</td>\n",
       "      <td>https://blog.naver.com/0307khy/222538556655</td>\n",
       "    </tr>\n",
       "    <tr>\n",
       "      <th>19</th>\n",
       "      <td>마음뺏긴 소노캄 제주맛집 모음</td>\n",
       "      <td>2021.11.12.</td>\n",
       "      <td>저번에 제주 해수욕장으로 놀러 갔다가 횟집으로 유명한 소노캄 제주맛집에 다녀왔는데요...</td>\n",
       "      <td>https://blog.naver.com/lovely_k_mk/222565443629</td>\n",
       "    </tr>\n",
       "    <tr>\n",
       "      <th>20</th>\n",
       "      <td>화사했던 소노벨 제주 맛집</td>\n",
       "      <td>2021.10.30.</td>\n",
       "      <td>얼마 전 가족들과 소노벨 제주 맛집에서 입이 즐거운 맛은 물론 눈까지 즐겁게 만드는...</td>\n",
       "      <td>https://blog.naver.com/prisun/222553144628</td>\n",
       "    </tr>\n",
       "    <tr>\n",
       "      <th>21</th>\n",
       "      <td>참신했던 제주 맛집 소개</td>\n",
       "      <td>2021.11.10.</td>\n",
       "      <td>호불호가 갈리지 않는 음식을 만나보고 싶다면 제주 맛집에 방문하시길 바라요. 2. ...</td>\n",
       "      <td>https://blog.naver.com/bobo3044/222563191649</td>\n",
       "    </tr>\n",
       "    <tr>\n",
       "      <th>22</th>\n",
       "      <td>유일했던 제주맛집 추천</td>\n",
       "      <td>2021.11.20.</td>\n",
       "      <td>지난 주말 가족들과 함께 제주로 여행을 갔다가 현지에 사는 친구가 제주맛집 추천을 ...</td>\n",
       "      <td>https://blog.naver.com/ahrdkvkfk/222572971890</td>\n",
       "    </tr>\n",
       "    <tr>\n",
       "      <th>23</th>\n",
       "      <td>놀랍던 제주 맛집 추천 모음</td>\n",
       "      <td>2021.11.18.</td>\n",
       "      <td>얼마 전 친구들이랑 제주도로 여행을 간 김에 제주 맛집 추천 받은 곳을 다녀왔는데요...</td>\n",
       "      <td>https://blog.naver.com/vhsxm146/222571865451</td>\n",
       "    </tr>\n",
       "    <tr>\n",
       "      <th>24</th>\n",
       "      <td>제가생각하는 제주맛집이란--</td>\n",
       "      <td>2021.11.12.</td>\n",
       "      <td>매스컴에서소개된 방송..인스타..등등 그곳의 맛집 맛있죠. 그러기에 사람들이 몰리는...</td>\n",
       "      <td>https://cafe.naver.com/jejutip/2010981</td>\n",
       "    </tr>\n",
       "    <tr>\n",
       "      <th>25</th>\n",
       "      <td>인상적인 제주 맛집 추천 리스트</td>\n",
       "      <td>2021.08.09.</td>\n",
       "      <td>서비스는 물론 맛까지 퍼펙트해 제주 맛집 추천의 진가를 오롯이 경험하고 왔답니다. ...</td>\n",
       "      <td>https://blog.naver.com/roynmin/222463104840</td>\n",
       "    </tr>\n",
       "    <tr>\n",
       "      <th>26</th>\n",
       "      <td>믿음직한 소노벨 제주 맛집</td>\n",
       "      <td>2021.09.27.</td>\n",
       "      <td>마지막으로는 소노벨 제주 맛집 제주산 메밀 비빔냉면을 주문했어요. 비빔장도 사장님의...</td>\n",
       "      <td>https://blog.naver.com/lovelo82/222518455893</td>\n",
       "    </tr>\n",
       "    <tr>\n",
       "      <th>27</th>\n",
       "      <td>내가정한 제주 맛집 추천 소개</td>\n",
       "      <td>2021.10.13.</td>\n",
       "      <td>이처럼 식사 마지막으로 맛본 고등어동까지 모두 성공적이라 여러분들께 제주 맛집 추천...</td>\n",
       "      <td>https://blog.naver.com/amore_bh/222534672500</td>\n",
       "    </tr>\n",
       "    <tr>\n",
       "      <th>28</th>\n",
       "      <td>자부하는 제주맛집 추천</td>\n",
       "      <td>2021.10.14.</td>\n",
       "      <td>알려준 제주맛집 추천을 방문하였어요. 저렴한 가격으로 품질 좋은 흑돼지와 손맛이 깃...</td>\n",
       "      <td>https://blog.naver.com/mm_56/222536581380</td>\n",
       "    </tr>\n",
       "    <tr>\n",
       "      <th>29</th>\n",
       "      <td>극찬했던 소노캄제주 맛집 모음</td>\n",
       "      <td>2021.11.22.</td>\n",
       "      <td>얼마전에는 친구들과 같이 서귀포쪽에 갔다가 아는 지인분이 추천해줬던 소노캄제주 맛집...</td>\n",
       "      <td>https://blog.naver.com/qlsdyd1124/222573046232</td>\n",
       "    </tr>\n",
       "  </tbody>\n",
       "</table>\n",
       "</div>"
      ],
      "text/plain": [
       "                          제목           날짜  \\\n",
       "0              만족뿐인 제주 맛집 공유  2021.11.19.   \n",
       "1               또 생각났던 제주 맛집   2021.12.02   \n",
       "2             북적였던 제주 맛집 리스트  2021.11.13.   \n",
       "3              감격했던 제주 맛집 소개  2021.11.15.   \n",
       "4            제주도 가볼만한곳 제주 맛집   2021.12.01   \n",
       "5          예찬했던 소노캄 제주 맛집 모음  2021.11.12.   \n",
       "6   현지인이 소개해준 제주 맛집 추천드려보아요~  2021.11.30.   \n",
       "7             끊임없던 제주 맛집 리스트  2021.10.01.   \n",
       "8               쓱싹한 제주 맛집 공유  2021.11.09.   \n",
       "9             참신했던 소노캄 제주 맛집   2021.12.07   \n",
       "10           고퀄이었던 제주 맛집 리스트  2021.10.08.   \n",
       "11             신박했던 제주 맛집 목록   2021.12.06   \n",
       "12            만족할만한 제주 맛집 추천  2021.10.30.   \n",
       "13             출중했던 제주 맛집 소개  2021.08.01.   \n",
       "14             탁월했던 제주 맛집 추천  2021.11.12.   \n",
       "15                제주 맛집 한경가든  2021.11.25.   \n",
       "16           제주도 가볼만한곳 제주 맛집  2021.11.19.   \n",
       "17             쏠쏠했던 제주 맛집 소개  2021.09.24.   \n",
       "18            소담스럽던 제주 맛집 소개  2021.10.16.   \n",
       "19          마음뺏긴 소노캄 제주맛집 모음  2021.11.12.   \n",
       "20            화사했던 소노벨 제주 맛집  2021.10.30.   \n",
       "21             참신했던 제주 맛집 소개  2021.11.10.   \n",
       "22              유일했던 제주맛집 추천  2021.11.20.   \n",
       "23           놀랍던 제주 맛집 추천 모음  2021.11.18.   \n",
       "24           제가생각하는 제주맛집이란--  2021.11.12.   \n",
       "25         인상적인 제주 맛집 추천 리스트  2021.08.09.   \n",
       "26            믿음직한 소노벨 제주 맛집  2021.09.27.   \n",
       "27          내가정한 제주 맛집 추천 소개  2021.10.13.   \n",
       "28              자부하는 제주맛집 추천  2021.10.14.   \n",
       "29          극찬했던 소노캄제주 맛집 모음  2021.11.22.   \n",
       "\n",
       "                                                   내용  \\\n",
       "0   지난 주말 친구들과 제주여행을 떠났다가 이름알려진 제주 맛집에 갔다왔어요. 전복뚝배...   \n",
       "1   제가 시킨 제주 비빔국수는 갖은 야채들이 그릇에 알록달록 예쁘게 가득 채워져 있었는...   \n",
       "2   무엇보다 비린내 한번 느껴지지 않아 배가 부른 상태였음에도 쉽사리 남길 수가 없었던...   \n",
       "3   얼마 전 친구들과 제주로 여행갔다가 현지인께 추천받은 제주 맛집에 다녀왔어요. 갓 ...   \n",
       "4   제주도 가볼만한곳 제주 맛집은 깔끔한 메뉴가 푸짐하게 나오기로 소문 난 곳이라 부담...   \n",
       "5   또 해산물은 매장에서 먹었던 것과 동일한 신선도를 자랑해 역시 소문난 소노캄 제주 ...   \n",
       "6   위드코로나가 시작되고 지겨웠던 가택구금에서 해방되어 씩씩하게 제주도 구석구석을 돌아...   \n",
       "7   #제주맛집 #스시오타루 2. 참맛나김밥 ⊙ 열무국수 8,000원 / 햄김밥 3,50...   \n",
       "8   지난 주에는 지인들이 제주에 놀러와 유명한 제주 맛집에 데려갔어요. 선도 높은 신선...   \n",
       "9   소노캄 제주 맛집에서 주문한 흑돼지모둠은 제주돼지의 다양한 부위를 한 번에 맛볼 수...   \n",
       "10  지난 연휴 때 친구들과 제주도에 놀러 갔을 때 요즘 인기있는 제주 맛집에 방문했어요...   \n",
       "11  이처럼 다른 식당과는 차원이 다른 제주 맛집이라 조만간 또 들를 예정이랍니다. 2....   \n",
       "12  만족할만한 제주 맛집 추천 몇일전 제주로 가을 나들이를 다녀왔어요. 멋진 풍경들을 ...   \n",
       "13  지난달 친구들과 다녀온 제주도 여행에서는 스시오마카세로 유명한 제주 맛집에 들러 알...   \n",
       "14  싱싱한 쌈채소에 가득 싸서 먹는 제주 맛집 쌈은 역시 이번 제주여행에서 가장 기억에...   \n",
       "15  오시는곳이구나 맛집의 스멜이 확! 역시 제 감이 맞았답니다 제주맛집 한경가든 은갈치...   \n",
       "16  얼마 전 지인들과 협재로 나들이 갔다오는 길에 미리 생각해 두었던 제주도 가볼만한곳...   \n",
       "17  소스에 콕 찍어 음미하니 겉바속촉의 질감까지 제대로라 마지막까지 완벽했던 제주 맛집...   \n",
       "18  만족했던 제주 맛집이에요. 조만간 또 오게 될 것 같답니다 2. 매력식당 메뉴 : ...   \n",
       "19  저번에 제주 해수욕장으로 놀러 갔다가 횟집으로 유명한 소노캄 제주맛집에 다녀왔는데요...   \n",
       "20  얼마 전 가족들과 소노벨 제주 맛집에서 입이 즐거운 맛은 물론 눈까지 즐겁게 만드는...   \n",
       "21  호불호가 갈리지 않는 음식을 만나보고 싶다면 제주 맛집에 방문하시길 바라요. 2. ...   \n",
       "22  지난 주말 가족들과 함께 제주로 여행을 갔다가 현지에 사는 친구가 제주맛집 추천을 ...   \n",
       "23  얼마 전 친구들이랑 제주도로 여행을 간 김에 제주 맛집 추천 받은 곳을 다녀왔는데요...   \n",
       "24  매스컴에서소개된 방송..인스타..등등 그곳의 맛집 맛있죠. 그러기에 사람들이 몰리는...   \n",
       "25  서비스는 물론 맛까지 퍼펙트해 제주 맛집 추천의 진가를 오롯이 경험하고 왔답니다. ...   \n",
       "26  마지막으로는 소노벨 제주 맛집 제주산 메밀 비빔냉면을 주문했어요. 비빔장도 사장님의...   \n",
       "27  이처럼 식사 마지막으로 맛본 고등어동까지 모두 성공적이라 여러분들께 제주 맛집 추천...   \n",
       "28  알려준 제주맛집 추천을 방문하였어요. 저렴한 가격으로 품질 좋은 흑돼지와 손맛이 깃...   \n",
       "29  얼마전에는 친구들과 같이 서귀포쪽에 갔다가 아는 지인분이 추천해줬던 소노캄제주 맛집...   \n",
       "\n",
       "                                                href  \n",
       "0           https://blog.naver.com/tok4/222573156818  \n",
       "1         https://cafe.naver.com/ungsangstory/940466  \n",
       "2    https://blog.naver.com/caucommando/222564796496  \n",
       "3   https://blog.naver.com/topnotchlady/222568948674  \n",
       "4             https://cafe.naver.com/gangmok/1543161  \n",
       "5     https://blog.naver.com/monopoly15/222565611847  \n",
       "6           https://cafe.naver.com/cosmania/33668111  \n",
       "7       https://blog.naver.com/hloveh01/222521358271  \n",
       "8   https://blog.naver.com/mysalangiran/222563134415  \n",
       "9       https://blog.naver.com/dbfl8103/222589039029  \n",
       "10        https://blog.naver.com/p1ayme/222530052850  \n",
       "11       https://blog.naver.com/mcm2922/222588391988  \n",
       "12   https://blog.naver.com/startsh8022/222553687200  \n",
       "13     https://blog.naver.com/lightsout/222452878630  \n",
       "14      https://blog.naver.com/asas0957/222565400656  \n",
       "15      https://cafe.naver.com/secretcontessa/149953  \n",
       "16       https://cafe.naver.com/newkidsbattle/460293  \n",
       "17     https://blog.naver.com/choiceagg/222515524093  \n",
       "18       https://blog.naver.com/0307khy/222538556655  \n",
       "19   https://blog.naver.com/lovely_k_mk/222565443629  \n",
       "20        https://blog.naver.com/prisun/222553144628  \n",
       "21      https://blog.naver.com/bobo3044/222563191649  \n",
       "22     https://blog.naver.com/ahrdkvkfk/222572971890  \n",
       "23      https://blog.naver.com/vhsxm146/222571865451  \n",
       "24            https://cafe.naver.com/jejutip/2010981  \n",
       "25       https://blog.naver.com/roynmin/222463104840  \n",
       "26      https://blog.naver.com/lovelo82/222518455893  \n",
       "27      https://blog.naver.com/amore_bh/222534672500  \n",
       "28         https://blog.naver.com/mm_56/222536581380  \n",
       "29    https://blog.naver.com/qlsdyd1124/222573046232  "
      ]
     },
     "execution_count": 23,
     "metadata": {},
     "output_type": "execute_result"
    }
   ],
   "source": [
    "df1"
   ]
  },
  {
   "cell_type": "code",
   "execution_count": 24,
   "metadata": {},
   "outputs": [],
   "source": [
    "driver.close()"
   ]
  },
  {
   "cell_type": "code",
   "execution_count": null,
   "metadata": {},
   "outputs": [],
   "source": []
  }
 ],
 "metadata": {
  "interpreter": {
   "hash": "b3ba2566441a7c06988d0923437866b63cedc61552a5af99d1f4fb67d367b25f"
  },
  "kernelspec": {
   "display_name": "Python 3.8.8 64-bit ('base': conda)",
   "language": "python",
   "name": "python3"
  },
  "language_info": {
   "codemirror_mode": {
    "name": "ipython",
    "version": 3
   },
   "file_extension": ".py",
   "mimetype": "text/x-python",
   "name": "python",
   "nbconvert_exporter": "python",
   "pygments_lexer": "ipython3",
   "version": "3.8.8"
  },
  "orig_nbformat": 4
 },
 "nbformat": 4,
 "nbformat_minor": 2
}
