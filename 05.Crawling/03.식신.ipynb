{
 "cells": [
  {
   "cell_type": "markdown",
   "metadata": {},
   "source": [
    "# 식신 - 제주시청"
   ]
  },
  {
   "cell_type": "code",
   "execution_count": 1,
   "metadata": {},
   "outputs": [],
   "source": [
    "# 식신 - 제주시청"
   ]
  },
  {
   "cell_type": "code",
   "execution_count": 2,
   "metadata": {},
   "outputs": [],
   "source": [
    "import requests\n",
    "from urllib.parse import quote\n",
    "import pandas as pd\n",
    "from bs4 import BeautifulSoup"
   ]
  },
  {
   "cell_type": "markdown",
   "metadata": {},
   "source": [
    "### 1. 데이터 가져오기"
   ]
  },
  {
   "cell_type": "code",
   "execution_count": 3,
   "metadata": {},
   "outputs": [
    {
     "data": {
      "text/plain": [
       "str"
      ]
     },
     "execution_count": 3,
     "metadata": {},
     "output_type": "execute_result"
    }
   ],
   "source": [
    "site = 'https://www.siksinhot.com'\n",
    "url = f'{site}/search?keywords={quote(\"제주시청\")}'\n",
    "req = requests.get(url)\n",
    "html = req.text\n",
    "type(html)"
   ]
  },
  {
   "cell_type": "code",
   "execution_count": 4,
   "metadata": {},
   "outputs": [],
   "source": [
    "soup = BeautifulSoup(html,'html.parser')"
   ]
  },
  {
   "cell_type": "code",
   "execution_count": 5,
   "metadata": {},
   "outputs": [],
   "source": [
    "# type(soup)"
   ]
  },
  {
   "cell_type": "markdown",
   "metadata": {},
   "source": [
    "## # 2. 찾으려는 하는 데이터의 태그 찾기"
   ]
  },
  {
   "cell_type": "code",
   "execution_count": 6,
   "metadata": {},
   "outputs": [],
   "source": [
    "# lis = soup.select_one('div.listTy1').find_all('li') \n",
    "# len(lis)"
   ]
  },
  {
   "cell_type": "code",
   "execution_count": 7,
   "metadata": {},
   "outputs": [
    {
     "data": {
      "text/plain": [
       "12"
      ]
     },
     "execution_count": 7,
     "metadata": {},
     "output_type": "execute_result"
    }
   ],
   "source": [
    "lis = soup.select('div.listTy1> ul > li') # 자식 Selector\n",
    "len(lis)"
   ]
  },
  {
   "cell_type": "markdown",
   "metadata": {},
   "source": [
    "### 3. 하나를 선택해서 원하는 정보 추출\n",
    "- 상호, 평점, 메뉴 , 서브 페이지의 url\n",
    "- 전화번호, 주소"
   ]
  },
  {
   "cell_type": "code",
   "execution_count": 8,
   "metadata": {},
   "outputs": [],
   "source": [
    "li = lis[1]\n",
    "href = li.find('a')['href']\n"
   ]
  },
  {
   "cell_type": "code",
   "execution_count": 9,
   "metadata": {},
   "outputs": [
    {
     "data": {
      "text/plain": [
       "'3.4'"
      ]
     },
     "execution_count": 9,
     "metadata": {},
     "output_type": "execute_result"
    }
   ],
   "source": [
    "score = li.select_one(\".score\").string\n",
    "score"
   ]
  },
  {
   "cell_type": "code",
   "execution_count": 10,
   "metadata": {},
   "outputs": [
    {
     "data": {
      "text/plain": [
       "'안양돈까스 제주시점'"
      ]
     },
     "execution_count": 10,
     "metadata": {},
     "output_type": "execute_result"
    }
   ],
   "source": [
    "store = li.select_one(\".store\").string\n",
    "store"
   ]
  },
  {
   "cell_type": "code",
   "execution_count": 11,
   "metadata": {},
   "outputs": [
    {
     "data": {
      "text/plain": [
       "'돈까스 세트, 치즈돈까스 세트'"
      ]
     },
     "execution_count": 11,
     "metadata": {},
     "output_type": "execute_result"
    }
   ],
   "source": [
    "menu = li.find('p').get_text()\n",
    "menu"
   ]
  },
  {
   "cell_type": "code",
   "execution_count": 12,
   "metadata": {},
   "outputs": [
    {
     "data": {
      "text/plain": [
       "('3.4', '안양돈까스 제주시점', '돈까스 세트, 치즈돈까스 세트', '/P/466268')"
      ]
     },
     "execution_count": 12,
     "metadata": {},
     "output_type": "execute_result"
    }
   ],
   "source": [
    "score,store,menu,href"
   ]
  },
  {
   "cell_type": "code",
   "execution_count": 13,
   "metadata": {},
   "outputs": [
    {
     "data": {
      "text/plain": [
       "'https://www.siksinhot.com/P/466268'"
      ]
     },
     "execution_count": 13,
     "metadata": {},
     "output_type": "execute_result"
    }
   ],
   "source": [
    "sub_url = site + href\n",
    "sub_url\n"
   ]
  },
  {
   "cell_type": "code",
   "execution_count": 14,
   "metadata": {},
   "outputs": [],
   "source": [
    "sub_req = requests.get(sub_url)\n",
    "sub_html = sub_req.text\n",
    "sub_soup = BeautifulSoup(sub_html, 'html.parser')"
   ]
  },
  {
   "cell_type": "code",
   "execution_count": 15,
   "metadata": {},
   "outputs": [
    {
     "data": {
      "text/plain": [
       "'064-799-1434'"
      ]
     },
     "execution_count": 15,
     "metadata": {},
     "output_type": "execute_result"
    }
   ],
   "source": [
    "tel = sub_soup.select_one('.p_tel').find('p').get_text()\n",
    "tel"
   ]
  },
  {
   "cell_type": "code",
   "execution_count": 16,
   "metadata": {},
   "outputs": [
    {
     "data": {
      "text/plain": [
       "'제주특별자치도 제주시 애월읍 애월로 40'"
      ]
     },
     "execution_count": 16,
     "metadata": {},
     "output_type": "execute_result"
    }
   ],
   "source": [
    "addr = sub_soup.select_one('.txt_adr').get_text()\n",
    "addr"
   ]
  },
  {
   "cell_type": "code",
   "execution_count": 19,
   "metadata": {},
   "outputs": [
    {
     "name": "stdout",
     "output_type": "stream",
     "text": [
      "0\n"
     ]
    }
   ],
   "source": [
    "# try - except 를 이용해서 어디에서 에러가 발생하는지 확인하고 수정하기 \n",
    "lines=[]\n",
    "for index, li in enumerate(lis):\n",
    "    try:\n",
    "        href = li.find('a')['href']\n",
    "        score = li.select_one(\".score\").string\n",
    "        store = li.select_one(\".store\").get_text()\n",
    "        menu = li.find('p').get_text()\n",
    "        \n",
    "        sub_url = site + href\n",
    "        sub_req = requests.get(sub_url)\n",
    "        sub_html = sub_req.text\n",
    "        sub_soup = BeautifulSoup(sub_html, 'html.parser')\n",
    "        tel = sub_soup.select_one('.p_tel').find('p').get_text()\n",
    "        addr = sub_soup.select_one('.txt_adr').get_text()\n",
    "    except:\n",
    "        print(index)\n",
    "    \n",
    "    lines.append([store,score,menu,tel,addr])\n"
   ]
  },
  {
   "cell_type": "markdown",
   "metadata": {},
   "source": [
    "### 5. 에러난 부분을 처리할 수 있도록 수정"
   ]
  },
  {
   "cell_type": "code",
   "execution_count": 27,
   "metadata": {},
   "outputs": [
    {
     "data": {
      "text/plain": [
       "str"
      ]
     },
     "execution_count": 27,
     "metadata": {},
     "output_type": "execute_result"
    }
   ],
   "source": [
    "li = lis[0]\n",
    "score = li.select_one('.cnt>em').get_text()\n",
    "type(score)"
   ]
  },
  {
   "cell_type": "code",
   "execution_count": 28,
   "metadata": {},
   "outputs": [
    {
     "data": {
      "text/plain": [
       "str"
      ]
     },
     "execution_count": 28,
     "metadata": {},
     "output_type": "execute_result"
    }
   ],
   "source": [
    "li = lis[1]\n",
    "score = li.select_one('.cnt>em').get_text()\n",
    "type(score)"
   ]
  },
  {
   "cell_type": "markdown",
   "metadata": {},
   "source": [
    "### 6. 에러가 해결될 때 까지 5, 6을 반복"
   ]
  },
  {
   "cell_type": "code",
   "execution_count": 48,
   "metadata": {},
   "outputs": [],
   "source": [
    "lines=[]\n",
    "for index, li in enumerate(lis):\n",
    "    try:\n",
    "        href = li.find('a')['href']\n",
    "        score = li.select_one('.cnt>em').string\n",
    "        if score == '평가중':\n",
    "            score = None\n",
    "        store = li.select_one(\".store\").string\n",
    "        menu = li.find('p').get_text()\n",
    "        \n",
    "        sub_url = site + href\n",
    "        sub_req = requests.get(sub_url)\n",
    "        sub_html = sub_req.text\n",
    "        sub_soup = BeautifulSoup(sub_html, 'html.parser')\n",
    "        tel = sub_soup.select_one('.p_tel').find('p').get_text()\n",
    "        addr = sub_soup.select_one('.txt_adr').get_text()\n",
    "    \n",
    "    except:\n",
    "        print(index)\n",
    "    \n",
    "    lines.append([store,score,menu,tel,addr])"
   ]
  },
  {
   "cell_type": "markdown",
   "metadata": {},
   "source": []
  },
  {
   "cell_type": "code",
   "execution_count": 49,
   "metadata": {},
   "outputs": [
    {
     "data": {
      "text/plain": [
       "[['제주시새우리',\n",
       "  None,\n",
       "  '딱새우김밥, 간장새우김밥, 양념새우컵밥, 딱새우꼬막무침, 한라봉에이드',\n",
       "  '064-900-2527',\n",
       "  '제주특별자치도 제주시 무근성7길 21'],\n",
       " ['안양돈까스 제주시점',\n",
       "  '3.4',\n",
       "  '돈까스 세트, 치즈돈까스 세트',\n",
       "  '064-799-1434',\n",
       "  '제주특별자치도 제주시 애월읍 애월로 40'],\n",
       " ['올래국수', '3.8', '고기국수', '064-742-7355', '제주특별자치도 제주시 귀아랑길 24'],\n",
       " ['명진전복',\n",
       "  '3.8',\n",
       "  '전복죽, 전복돌솥밥, 전복구이, 전복회',\n",
       "  '064-782-9944',\n",
       "  '제주특별자치도 제주시 구좌읍 해맞이해안로 1282'],\n",
       " ['삼성혈해물탕',\n",
       "  '3.9',\n",
       "  '해물탕(특대), 해물탕(대), 해물탕(중), 해물탕(소), 전복회(소)',\n",
       "  '064-745-3000',\n",
       "  '제주특별자치도 제주시 선덕로5길 20'],\n",
       " ['자매국수',\n",
       "  '3.9',\n",
       "  '멸치국수, 고기국수, 비빔국수, 멸/고기국수, 아강발(미니족박), 콩국수',\n",
       "  '064-746-2222',\n",
       "  '제주특별자치도 제주시 탑동로11길 6 '],\n",
       " ['해녀촌', '3.7', '회국수, 성게국수, 소라국수', '064-783-5438', '제주특별자치도 제주시 구좌읍 동복로 33'],\n",
       " ['순옥이네명가',\n",
       "  '3.8',\n",
       "  '소라, 성게, 한치물회, 순옥이네물회, 전복물회',\n",
       "  '064-743-4813',\n",
       "  '제주특별자치도 제주시 도공로 8'],\n",
       " ['은희네해장국', '3.9', '소고기해장국, 해장국, 내장탕', '064-726-5622', ''],\n",
       " ['삼대국수회관 본점',\n",
       "  '3.9',\n",
       "  '고기국수, 비빔국수, 돔베고기 세트, 물만두 세트',\n",
       "  '064-759-6645',\n",
       "  '제주특별자치도 제주시 삼성로 41'],\n",
       " ['다가미',\n",
       "  '4.1',\n",
       "  '다가미김밥, 소고기롤, 단호박 샌드위치, 참치로얄, 매운 멸치쌈',\n",
       "  '064-758-5810',\n",
       "  '제주특별자치도 제주시 도남로 111'],\n",
       " ['보엠', '4.2', '버터프레첼', '064-711-9990', '제주특별자치도 제주시 원노형로 102']]"
      ]
     },
     "execution_count": 49,
     "metadata": {},
     "output_type": "execute_result"
    }
   ],
   "source": [
    "lines"
   ]
  },
  {
   "cell_type": "markdown",
   "metadata": {},
   "source": [
    "### 7. 데이터 프레임으로 만들기"
   ]
  },
  {
   "cell_type": "code",
   "execution_count": 50,
   "metadata": {},
   "outputs": [
    {
     "data": {
      "text/html": [
       "<div>\n",
       "<style scoped>\n",
       "    .dataframe tbody tr th:only-of-type {\n",
       "        vertical-align: middle;\n",
       "    }\n",
       "\n",
       "    .dataframe tbody tr th {\n",
       "        vertical-align: top;\n",
       "    }\n",
       "\n",
       "    .dataframe thead th {\n",
       "        text-align: right;\n",
       "    }\n",
       "</style>\n",
       "<table border=\"1\" class=\"dataframe\">\n",
       "  <thead>\n",
       "    <tr style=\"text-align: right;\">\n",
       "      <th></th>\n",
       "      <th>업소명</th>\n",
       "      <th>평점</th>\n",
       "      <th>메뉴</th>\n",
       "      <th>전화번호</th>\n",
       "      <th>주소</th>\n",
       "    </tr>\n",
       "  </thead>\n",
       "  <tbody>\n",
       "    <tr>\n",
       "      <th>0</th>\n",
       "      <td>제주시새우리</td>\n",
       "      <td>None</td>\n",
       "      <td>딱새우김밥, 간장새우김밥, 양념새우컵밥, 딱새우꼬막무침, 한라봉에이드</td>\n",
       "      <td>064-900-2527</td>\n",
       "      <td>제주특별자치도 제주시 무근성7길 21</td>\n",
       "    </tr>\n",
       "    <tr>\n",
       "      <th>1</th>\n",
       "      <td>안양돈까스 제주시점</td>\n",
       "      <td>3.4</td>\n",
       "      <td>돈까스 세트, 치즈돈까스 세트</td>\n",
       "      <td>064-799-1434</td>\n",
       "      <td>제주특별자치도 제주시 애월읍 애월로 40</td>\n",
       "    </tr>\n",
       "    <tr>\n",
       "      <th>2</th>\n",
       "      <td>올래국수</td>\n",
       "      <td>3.8</td>\n",
       "      <td>고기국수</td>\n",
       "      <td>064-742-7355</td>\n",
       "      <td>제주특별자치도 제주시 귀아랑길 24</td>\n",
       "    </tr>\n",
       "    <tr>\n",
       "      <th>3</th>\n",
       "      <td>명진전복</td>\n",
       "      <td>3.8</td>\n",
       "      <td>전복죽, 전복돌솥밥, 전복구이, 전복회</td>\n",
       "      <td>064-782-9944</td>\n",
       "      <td>제주특별자치도 제주시 구좌읍 해맞이해안로 1282</td>\n",
       "    </tr>\n",
       "    <tr>\n",
       "      <th>4</th>\n",
       "      <td>삼성혈해물탕</td>\n",
       "      <td>3.9</td>\n",
       "      <td>해물탕(특대), 해물탕(대), 해물탕(중), 해물탕(소), 전복회(소)</td>\n",
       "      <td>064-745-3000</td>\n",
       "      <td>제주특별자치도 제주시 선덕로5길 20</td>\n",
       "    </tr>\n",
       "    <tr>\n",
       "      <th>5</th>\n",
       "      <td>자매국수</td>\n",
       "      <td>3.9</td>\n",
       "      <td>멸치국수, 고기국수, 비빔국수, 멸/고기국수, 아강발(미니족박), 콩국수</td>\n",
       "      <td>064-746-2222</td>\n",
       "      <td>제주특별자치도 제주시 탑동로11길 6</td>\n",
       "    </tr>\n",
       "    <tr>\n",
       "      <th>6</th>\n",
       "      <td>해녀촌</td>\n",
       "      <td>3.7</td>\n",
       "      <td>회국수, 성게국수, 소라국수</td>\n",
       "      <td>064-783-5438</td>\n",
       "      <td>제주특별자치도 제주시 구좌읍 동복로 33</td>\n",
       "    </tr>\n",
       "    <tr>\n",
       "      <th>7</th>\n",
       "      <td>순옥이네명가</td>\n",
       "      <td>3.8</td>\n",
       "      <td>소라, 성게, 한치물회, 순옥이네물회, 전복물회</td>\n",
       "      <td>064-743-4813</td>\n",
       "      <td>제주특별자치도 제주시 도공로 8</td>\n",
       "    </tr>\n",
       "    <tr>\n",
       "      <th>8</th>\n",
       "      <td>은희네해장국</td>\n",
       "      <td>3.9</td>\n",
       "      <td>소고기해장국, 해장국, 내장탕</td>\n",
       "      <td>064-726-5622</td>\n",
       "      <td></td>\n",
       "    </tr>\n",
       "    <tr>\n",
       "      <th>9</th>\n",
       "      <td>삼대국수회관 본점</td>\n",
       "      <td>3.9</td>\n",
       "      <td>고기국수, 비빔국수, 돔베고기 세트, 물만두 세트</td>\n",
       "      <td>064-759-6645</td>\n",
       "      <td>제주특별자치도 제주시 삼성로 41</td>\n",
       "    </tr>\n",
       "    <tr>\n",
       "      <th>10</th>\n",
       "      <td>다가미</td>\n",
       "      <td>4.1</td>\n",
       "      <td>다가미김밥, 소고기롤, 단호박 샌드위치, 참치로얄, 매운 멸치쌈</td>\n",
       "      <td>064-758-5810</td>\n",
       "      <td>제주특별자치도 제주시 도남로 111</td>\n",
       "    </tr>\n",
       "    <tr>\n",
       "      <th>11</th>\n",
       "      <td>보엠</td>\n",
       "      <td>4.2</td>\n",
       "      <td>버터프레첼</td>\n",
       "      <td>064-711-9990</td>\n",
       "      <td>제주특별자치도 제주시 원노형로 102</td>\n",
       "    </tr>\n",
       "  </tbody>\n",
       "</table>\n",
       "</div>"
      ],
      "text/plain": [
       "           업소명    평점                                        메뉴          전화번호  \\\n",
       "0       제주시새우리  None    딱새우김밥, 간장새우김밥, 양념새우컵밥, 딱새우꼬막무침, 한라봉에이드  064-900-2527   \n",
       "1   안양돈까스 제주시점   3.4                          돈까스 세트, 치즈돈까스 세트  064-799-1434   \n",
       "2         올래국수   3.8                                      고기국수  064-742-7355   \n",
       "3         명진전복   3.8                     전복죽, 전복돌솥밥, 전복구이, 전복회  064-782-9944   \n",
       "4       삼성혈해물탕   3.9   해물탕(특대), 해물탕(대), 해물탕(중), 해물탕(소), 전복회(소)  064-745-3000   \n",
       "5         자매국수   3.9  멸치국수, 고기국수, 비빔국수, 멸/고기국수, 아강발(미니족박), 콩국수  064-746-2222   \n",
       "6          해녀촌   3.7                           회국수, 성게국수, 소라국수  064-783-5438   \n",
       "7       순옥이네명가   3.8                소라, 성게, 한치물회, 순옥이네물회, 전복물회  064-743-4813   \n",
       "8       은희네해장국   3.9                          소고기해장국, 해장국, 내장탕  064-726-5622   \n",
       "9    삼대국수회관 본점   3.9               고기국수, 비빔국수, 돔베고기 세트, 물만두 세트  064-759-6645   \n",
       "10         다가미   4.1       다가미김밥, 소고기롤, 단호박 샌드위치, 참치로얄, 매운 멸치쌈  064-758-5810   \n",
       "11          보엠   4.2                                     버터프레첼  064-711-9990   \n",
       "\n",
       "                             주소  \n",
       "0          제주특별자치도 제주시 무근성7길 21  \n",
       "1        제주특별자치도 제주시 애월읍 애월로 40  \n",
       "2           제주특별자치도 제주시 귀아랑길 24  \n",
       "3   제주특별자치도 제주시 구좌읍 해맞이해안로 1282  \n",
       "4          제주특별자치도 제주시 선덕로5길 20  \n",
       "5         제주특별자치도 제주시 탑동로11길 6   \n",
       "6        제주특별자치도 제주시 구좌읍 동복로 33  \n",
       "7             제주특별자치도 제주시 도공로 8  \n",
       "8                                \n",
       "9            제주특별자치도 제주시 삼성로 41  \n",
       "10          제주특별자치도 제주시 도남로 111  \n",
       "11         제주특별자치도 제주시 원노형로 102  "
      ]
     },
     "execution_count": 50,
     "metadata": {},
     "output_type": "execute_result"
    }
   ],
   "source": [
    "df = pd.DataFrame(lines, columns=['업소명','평점','메뉴','전화번호','주소'])\n",
    "df"
   ]
  },
  {
   "cell_type": "code",
   "execution_count": 43,
   "metadata": {},
   "outputs": [],
   "source": [
    "import seaborn as s\n",
    "\n",
    "\n"
   ]
  },
  {
   "cell_type": "code",
   "execution_count": null,
   "metadata": {},
   "outputs": [],
   "source": []
  }
 ],
 "metadata": {
  "interpreter": {
   "hash": "01028a136781fc040f4ca2fc342be4af38db445d6d6e41b2bf3d0a768d20aeda"
  },
  "kernelspec": {
   "display_name": "Python 3.8.8 64-bit (conda)",
   "language": "python",
   "name": "python3"
  },
  "language_info": {
   "codemirror_mode": {
    "name": "ipython",
    "version": 3
   },
   "file_extension": ".py",
   "mimetype": "text/x-python",
   "name": "python",
   "nbconvert_exporter": "python",
   "pygments_lexer": "ipython3",
   "version": "3.8.8"
  },
  "orig_nbformat": 4
 },
 "nbformat": 4,
 "nbformat_minor": 2
}
