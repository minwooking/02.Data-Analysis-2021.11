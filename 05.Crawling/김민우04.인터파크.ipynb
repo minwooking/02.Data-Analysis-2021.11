{
 "cells": [
  {
   "cell_type": "code",
   "execution_count": null,
   "metadata": {},
   "outputs": [],
   "source": [
    "import requests\n",
    "from urllib.parse import quote\n",
    "import pandas as pd\n",
    "from bs4 import BeautifulSoup"
   ]
  },
  {
   "cell_type": "code",
   "execution_count": null,
   "metadata": {},
   "outputs": [],
   "source": [
    "## 필요한거 url\n",
    "# url = 'http://book.interpark.com'"
   ]
  },
  {
   "cell_type": "markdown",
   "metadata": {},
   "source": [
    "http://book.interpark.com/product/BookDisplay.do?_method=detail&sc.shopNo=0000400000&sc.prdNo=354291316&sc.saNo=003003001&bid1=Best_zone&bid2=LiveRanking&bid3=PRD&bid4=001\n",
    "http://book.interpark.com/display/collectlist.do?_method=BestsellerHourNew201605&bestTp=1&dispNo=028"
   ]
  },
  {
   "cell_type": "code",
   "execution_count": null,
   "metadata": {},
   "outputs": [],
   "source": [
    "header = {'User-Agent':'Mozilla/5.0 (Windows NT 10.0; Win64; x64) AppleWebKit/537.36 (KHTML, like Gecko) Chrome/80.0.3987.122 Safari/537.36'}\n",
    "url = 'http://book.interpark.com/display/collectlist.do?_method=BestsellerHourNew201605&bestTp=1&dispNo=028#'\n",
    "req = requests.get(url, headers=header)\n",
    "html = req.text\n",
    "type(html)\n",
    "site = 'http://book.interpark.com'"
   ]
  },
  {
   "cell_type": "code",
   "execution_count": null,
   "metadata": {},
   "outputs": [],
   "source": [
    "sub_url = 'http://book.interpark.com/product/BookDisplay.do?_method=detail&sc.shopNo=0000400000&sc.prdNo=354069935&sc.saNo=003003001&bid1=Best_zone&bid2=LiveRanking&bid3=PRD&bid4=001'\n",
    "sub_req = requests.get(sub_url, headers=header)\n",
    "sub_html = sub_req.text\n",
    "type(sub_html)"
   ]
  },
  {
   "cell_type": "code",
   "execution_count": null,
   "metadata": {},
   "outputs": [],
   "source": [
    "sub_soup = BeautifulSoup(sub_html,'html.parser')\n",
    "sub_soup"
   ]
  },
  {
   "cell_type": "code",
   "execution_count": null,
   "metadata": {},
   "outputs": [],
   "source": [
    "soup = BeautifulSoup(html,'html.parser')\n",
    "soup"
   ]
  },
  {
   "cell_type": "code",
   "execution_count": null,
   "metadata": {},
   "outputs": [],
   "source": [
    "lis = soup.select('ol>li')\n",
    "len(lis)"
   ]
  },
  {
   "cell_type": "code",
   "execution_count": null,
   "metadata": {},
   "outputs": [],
   "source": [
    "sub_lis = sub_soup.select('.bInfo_txt>li')\n",
    "sub_lis[-2]"
   ]
  },
  {
   "cell_type": "code",
   "execution_count": null,
   "metadata": {},
   "outputs": [],
   "source": [
    "li = lis[14]\n",
    "li"
   ]
  },
  {
   "cell_type": "code",
   "execution_count": null,
   "metadata": {},
   "outputs": [],
   "source": [
    "## 순위, 책제목,저자 , 출판사  , 가격(정수로바꾸기 나중에) 발행일 ,  , 쪽수\n",
    "# main 에서 알수 있는거 제목, 저자 ,출판사  , 가격 "
   ]
  },
  {
   "cell_type": "markdown",
   "metadata": {},
   "source": [
    "순위"
   ]
  },
  {
   "cell_type": "code",
   "execution_count": null,
   "metadata": {},
   "outputs": [],
   "source": [
    "rank = li.select('.rankNumber.digit2>span')\n",
    "# # rank[1].split(\"_\")\n",
    "# # rank = rank[1].split(\"_\")\n",
    "# # rank = rank[1]\n",
    "# # rank = rank.split('0')\n",
    "# # rank = rank[1]\n",
    "# # rank\n",
    "# rank_1= rank[0]['class'][1].split('_')[1].split('0')[1]\n",
    "# rank_1\n",
    "rank"
   ]
  },
  {
   "cell_type": "code",
   "execution_count": null,
   "metadata": {},
   "outputs": [],
   "source": [
    "rank_2=rank[1]\n",
    "rank_2=rank_2['class']\n",
    "# rank_2=rank_2[1]\n",
    "# rank_2=rank_2.split('_')\n",
    "# rank_2=rank_2[1]\n",
    "# rank_2=rank_2.split()\n",
    "# rank_2=rank_2[0]\n",
    "# rank_2=rank_2[-1]\n",
    "rank_2"
   ]
  },
  {
   "cell_type": "code",
   "execution_count": null,
   "metadata": {},
   "outputs": [],
   "source": [
    "# rank_1+rank_2"
   ]
  },
  {
   "cell_type": "markdown",
   "metadata": {},
   "source": []
  },
  {
   "cell_type": "markdown",
   "metadata": {},
   "source": [
    "책제목"
   ]
  },
  {
   "cell_type": "code",
   "execution_count": null,
   "metadata": {},
   "outputs": [],
   "source": [
    "bookname = li.select_one('.itemName').string\n",
    "bookname"
   ]
  },
  {
   "cell_type": "markdown",
   "metadata": {},
   "source": []
  },
  {
   "cell_type": "markdown",
   "metadata": {},
   "source": [
    "저자"
   ]
  },
  {
   "cell_type": "code",
   "execution_count": null,
   "metadata": {},
   "outputs": [],
   "source": [
    "name = li.select_one('.author').string\n",
    "name"
   ]
  },
  {
   "cell_type": "markdown",
   "metadata": {},
   "source": [
    "출판사"
   ]
  },
  {
   "cell_type": "code",
   "execution_count": null,
   "metadata": {},
   "outputs": [],
   "source": [
    "publisher = li.select_one('.company').string\n",
    "publisher"
   ]
  },
  {
   "cell_type": "markdown",
   "metadata": {},
   "source": [
    "가격"
   ]
  },
  {
   "cell_type": "code",
   "execution_count": null,
   "metadata": {},
   "outputs": [],
   "source": [
    "price = li.select_one('.price').get_text().strip().split()\n",
    "# price = ''.join(price)\n",
    "price = price[0].split(',')\n",
    "price = ''.join(price)\n",
    "int(price)"
   ]
  },
  {
   "cell_type": "markdown",
   "metadata": {},
   "source": [
    "sub_url,발행일, 쪽수 \n"
   ]
  },
  {
   "cell_type": "code",
   "execution_count": null,
   "metadata": {},
   "outputs": [],
   "source": [
    "published_date = sub_lis[-3].string\n",
    "published_date"
   ]
  },
  {
   "cell_type": "code",
   "execution_count": null,
   "metadata": {},
   "outputs": [],
   "source": [
    "number_of_pages =  sub_lis[-2].string\n",
    "number_of_pages = number_of_pages.split()\n",
    "number_of_pages = number_of_pages[2]\n",
    "number_of_pages = int(number_of_pages)\n",
    "number_of_pages\n"
   ]
  },
  {
   "cell_type": "code",
   "execution_count": null,
   "metadata": {},
   "outputs": [],
   "source": [
    "rank,bookname,name,publisher,price,published_date,number_of_pages"
   ]
  },
  {
   "cell_type": "markdown",
   "metadata": {},
   "source": [
    "href"
   ]
  },
  {
   "cell_type": "code",
   "execution_count": null,
   "metadata": {},
   "outputs": [],
   "source": [
    "href = li.find('a')['href']\n",
    "href\n",
    "\n",
    "sub_url = site + href\n",
    "sub_url"
   ]
  },
  {
   "cell_type": "code",
   "execution_count": null,
   "metadata": {},
   "outputs": [],
   "source": [
    "# # rank\n",
    "# len_rank = len(li.select('.rankNumber.digit2>span'))\n",
    "# rank = rank_1+rank_2\n",
    "# rank \n",
    "# len_rank"
   ]
  },
  {
   "cell_type": "markdown",
   "metadata": {},
   "source": [
    "최종"
   ]
  },
  {
   "cell_type": "code",
   "execution_count": null,
   "metadata": {},
   "outputs": [],
   "source": [
    "lines=[]\n",
    "for index, li in enumerate(lis):\n",
    "    rank = li.select('.rankNumber.digit2>span')\n",
    "    if len(rank)>1:\n",
    "        rank_1= rank[0]['class'][1].split('_')[1].split('0')[1]\n",
    "        rank_2=rank[1]['class'][1].split('_')[1].split()[0][-1]\n",
    "        rank = rank_1+rank_2\n",
    "    else:   \n",
    "        rank = rank[0]['class']\n",
    "        rank[0].split(\"_\")\n",
    "        rank = li.select_one('.rankNumber.digit2').find('span')['class']\n",
    "        rank[0].split(\"_\")\n",
    "        rank = rank[1].split(\"_\")\n",
    "        rank = rank[1]\n",
    "        rank = rank.split('0')\n",
    "        rank = rank[1]\n",
    "\n",
    "\n",
    "    bookname = li.select_one('.itemName').string\n",
    "    name = li.select_one('.author').string\n",
    "    publisher = li.select_one('.company').string\n",
    "    price = li.select_one('.price').get_text().strip().split()\n",
    "    price = price[0].split(',')\n",
    "    price = ''.join(price)\n",
    "    int(price)\n",
    "    href = li.find('a')['href']\n",
    "\n",
    "    sub_url = site + href\n",
    "    sub_req = requests.get(sub_url)\n",
    "    sub_html = sub_req.text\n",
    "    sub_soup = BeautifulSoup(sub_html, 'html.parser')\n",
    "    published_date = sub_soup.select('.bInfo_txt>li')[-3].string\n",
    "    number_of_pages = sub_soup.select('.bInfo_txt>li')[-2].string\n",
    "    number_of_pages = number_of_pages.split()\n",
    "    number_of_pages = number_of_pages[2]\n",
    "    number_of_pages = int(number_of_pages)\n",
    "    \n",
    "    lines.append([rank,bookname,name,publisher,price,published_date,number_of_pages])"
   ]
  },
  {
   "cell_type": "code",
   "execution_count": 73,
   "metadata": {},
   "outputs": [
    {
     "data": {
      "text/html": [
       "<div>\n",
       "<style scoped>\n",
       "    .dataframe tbody tr th:only-of-type {\n",
       "        vertical-align: middle;\n",
       "    }\n",
       "\n",
       "    .dataframe tbody tr th {\n",
       "        vertical-align: top;\n",
       "    }\n",
       "\n",
       "    .dataframe thead th {\n",
       "        text-align: right;\n",
       "    }\n",
       "</style>\n",
       "<table border=\"1\" class=\"dataframe\">\n",
       "  <thead>\n",
       "    <tr style=\"text-align: right;\">\n",
       "      <th></th>\n",
       "      <th>순위</th>\n",
       "      <th>책제목</th>\n",
       "      <th>저자</th>\n",
       "      <th>출판사</th>\n",
       "      <th>가격</th>\n",
       "      <th>발행일</th>\n",
       "      <th>쪽수</th>\n",
       "    </tr>\n",
       "  </thead>\n",
       "  <tbody>\n",
       "    <tr>\n",
       "      <th>0</th>\n",
       "      <td>1</td>\n",
       "      <td>트렌드 코리아 2022</td>\n",
       "      <td>김난도(金蘭都), 전미영, 최지혜, 이향은, 이준영</td>\n",
       "      <td>미래의창</td>\n",
       "      <td>16200</td>\n",
       "      <td>발행 : 2021년 10월 06일</td>\n",
       "      <td>452</td>\n",
       "    </tr>\n",
       "    <tr>\n",
       "      <th>1</th>\n",
       "      <td>2</td>\n",
       "      <td>2022 현직교사들이 들려주는 면접레시피</td>\n",
       "      <td>류은진, 양왕경, 이광한, 이지혜, 양왕경, 이광한, 이지혜</td>\n",
       "      <td>미래가치</td>\n",
       "      <td>42300</td>\n",
       "      <td>발행 : 2021년 11월 12일</td>\n",
       "      <td>1104</td>\n",
       "    </tr>\n",
       "    <tr>\n",
       "      <th>2</th>\n",
       "      <td>3</td>\n",
       "      <td>거인의 포트폴리오</td>\n",
       "      <td>강환국</td>\n",
       "      <td>페이지2북스</td>\n",
       "      <td>16200</td>\n",
       "      <td>발행 : 2021년 11월 08일</td>\n",
       "      <td>404</td>\n",
       "    </tr>\n",
       "    <tr>\n",
       "      <th>3</th>\n",
       "      <td>3</td>\n",
       "      <td>거꾸로 읽는 세계사</td>\n",
       "      <td>유시민(柳時敏)</td>\n",
       "      <td>돌베개</td>\n",
       "      <td>15750</td>\n",
       "      <td>발행 : 2021년 10월 29일</td>\n",
       "      <td>404</td>\n",
       "    </tr>\n",
       "    <tr>\n",
       "      <th>4</th>\n",
       "      <td>5</td>\n",
       "      <td>아직 오지 않은 날들을 위하여</td>\n",
       "      <td>파스칼 브뤼크네르/이세진 역</td>\n",
       "      <td>인플루엔셜</td>\n",
       "      <td>14400</td>\n",
       "      <td>발행 : 2021년 11월 12일</td>\n",
       "      <td>320</td>\n",
       "    </tr>\n",
       "    <tr>\n",
       "      <th>5</th>\n",
       "      <td>6</td>\n",
       "      <td>작은 별이지만 빛나고 있어(10만 부 기념 한정판 에디션)</td>\n",
       "      <td>소윤</td>\n",
       "      <td>북로망스</td>\n",
       "      <td>13500</td>\n",
       "      <td>발행 : 2021년 09월 29일</td>\n",
       "      <td>274</td>\n",
       "    </tr>\n",
       "    <tr>\n",
       "      <th>6</th>\n",
       "      <td>7</td>\n",
       "      <td>투자는 디테일에 있다</td>\n",
       "      <td>김정환</td>\n",
       "      <td>부케이</td>\n",
       "      <td>16200</td>\n",
       "      <td>발행 : 2021년 12월 10일</td>\n",
       "      <td>424</td>\n",
       "    </tr>\n",
       "    <tr>\n",
       "      <th>7</th>\n",
       "      <td>7</td>\n",
       "      <td>웰씽킹(Wealthinking)</td>\n",
       "      <td>켈리 최</td>\n",
       "      <td>다산북스</td>\n",
       "      <td>14400</td>\n",
       "      <td>발행 : 2021년 11월 10일</td>\n",
       "      <td>316</td>\n",
       "    </tr>\n",
       "    <tr>\n",
       "      <th>8</th>\n",
       "      <td>7</td>\n",
       "      <td>오십에 읽는 논어</td>\n",
       "      <td>최종엽</td>\n",
       "      <td>유노북스</td>\n",
       "      <td>14400</td>\n",
       "      <td>발행 : 2021년 11월 03일</td>\n",
       "      <td>300</td>\n",
       "    </tr>\n",
       "    <tr>\n",
       "      <th>9</th>\n",
       "      <td>10</td>\n",
       "      <td>소크라테스 익스프레스(20만 부 기념 윈터 에디션)</td>\n",
       "      <td>에릭 와이너/김하현 역</td>\n",
       "      <td>어크로스</td>\n",
       "      <td>16200</td>\n",
       "      <td>발행 : 2021년 11월 26일</td>\n",
       "      <td>524</td>\n",
       "    </tr>\n",
       "    <tr>\n",
       "      <th>10</th>\n",
       "      <td>10</td>\n",
       "      <td>달러구트 꿈 백화점. 2</td>\n",
       "      <td>이미예</td>\n",
       "      <td>팩토리나인</td>\n",
       "      <td>12420</td>\n",
       "      <td>발행 : 2021년 07월 27일</td>\n",
       "      <td>308</td>\n",
       "    </tr>\n",
       "    <tr>\n",
       "      <th>11</th>\n",
       "      <td>12</td>\n",
       "      <td>불편한 편의점(15만부 기념 윈터 에디션)</td>\n",
       "      <td>김호연</td>\n",
       "      <td>나무옆의자</td>\n",
       "      <td>12600</td>\n",
       "      <td>발행 : 2021년 04월 20일</td>\n",
       "      <td>268</td>\n",
       "    </tr>\n",
       "    <tr>\n",
       "      <th>12</th>\n",
       "      <td>13</td>\n",
       "      <td>달러구트 꿈 백화점</td>\n",
       "      <td>이미예</td>\n",
       "      <td>팩토리나인</td>\n",
       "      <td>12420</td>\n",
       "      <td>발행 : 2020년 07월 08일</td>\n",
       "      <td>300</td>\n",
       "    </tr>\n",
       "    <tr>\n",
       "      <th>13</th>\n",
       "      <td>14</td>\n",
       "      <td>흔한남매. 9</td>\n",
       "      <td>흔한남매, 백난도/유난희 그림</td>\n",
       "      <td>미래엔아이세움</td>\n",
       "      <td>12150</td>\n",
       "      <td>발행 : 2021년 12월 09일</td>\n",
       "      <td>192</td>\n",
       "    </tr>\n",
       "    <tr>\n",
       "      <th>14</th>\n",
       "      <td>14</td>\n",
       "      <td>NFT 레볼루션</td>\n",
       "      <td>성소라, 롤프 회퍼, 스콧 맥러플린</td>\n",
       "      <td>더퀘스트</td>\n",
       "      <td>16200</td>\n",
       "      <td>발행 : 2021년 09월 01일</td>\n",
       "      <td>324</td>\n",
       "    </tr>\n",
       "  </tbody>\n",
       "</table>\n",
       "</div>"
      ],
      "text/plain": [
       "    순위                                책제목                                 저자  \\\n",
       "0    1                      트렌드 코리아 2022        김난도(金蘭都), 전미영, 최지혜, 이향은, 이준영   \n",
       "1    2            2022 현직교사들이 들려주는 면접레시피   류은진, 양왕경, 이광한, 이지혜, 양왕경, 이광한, 이지혜   \n",
       "2    3                         거인의 포트폴리오                                 강환국   \n",
       "3    3                        거꾸로 읽는 세계사                            유시민(柳時敏)   \n",
       "4    5                  아직 오지 않은 날들을 위하여                     파스칼 브뤼크네르/이세진 역   \n",
       "5    6  작은 별이지만 빛나고 있어(10만 부 기념 한정판 에디션)                                  소윤   \n",
       "6    7                       투자는 디테일에 있다                                 김정환   \n",
       "7    7                 웰씽킹(Wealthinking)                                켈리 최   \n",
       "8    7                         오십에 읽는 논어                                 최종엽   \n",
       "9   10      소크라테스 익스프레스(20만 부 기념 윈터 에디션)                        에릭 와이너/김하현 역   \n",
       "10  10                     달러구트 꿈 백화점. 2                                 이미예   \n",
       "11  12           불편한 편의점(15만부 기념 윈터 에디션)                                 김호연   \n",
       "12  13                        달러구트 꿈 백화점                                 이미예   \n",
       "13  14                           흔한남매. 9                    흔한남매, 백난도/유난희 그림   \n",
       "14  14                          NFT 레볼루션                 성소라, 롤프 회퍼, 스콧 맥러플린   \n",
       "\n",
       "        출판사     가격                 발행일    쪽수  \n",
       "0      미래의창  16200  발행 : 2021년 10월 06일   452  \n",
       "1      미래가치  42300  발행 : 2021년 11월 12일  1104  \n",
       "2    페이지2북스  16200  발행 : 2021년 11월 08일   404  \n",
       "3       돌베개  15750  발행 : 2021년 10월 29일   404  \n",
       "4     인플루엔셜  14400  발행 : 2021년 11월 12일   320  \n",
       "5      북로망스  13500  발행 : 2021년 09월 29일   274  \n",
       "6       부케이  16200  발행 : 2021년 12월 10일   424  \n",
       "7      다산북스  14400  발행 : 2021년 11월 10일   316  \n",
       "8      유노북스  14400  발행 : 2021년 11월 03일   300  \n",
       "9      어크로스  16200  발행 : 2021년 11월 26일   524  \n",
       "10    팩토리나인  12420  발행 : 2021년 07월 27일   308  \n",
       "11    나무옆의자  12600  발행 : 2021년 04월 20일   268  \n",
       "12    팩토리나인  12420  발행 : 2020년 07월 08일   300  \n",
       "13  미래엔아이세움  12150  발행 : 2021년 12월 09일   192  \n",
       "14     더퀘스트  16200  발행 : 2021년 09월 01일   324  "
      ]
     },
     "execution_count": 73,
     "metadata": {},
     "output_type": "execute_result"
    }
   ],
   "source": [
    "df = pd.DataFrame(lines, columns=['순위','책제목','저자','출판사','가격','발행일','쪽수'])\n",
    "df"
   ]
  },
  {
   "cell_type": "code",
   "execution_count": null,
   "metadata": {},
   "outputs": [],
   "source": []
  }
 ],
 "metadata": {
  "interpreter": {
   "hash": "01028a136781fc040f4ca2fc342be4af38db445d6d6e41b2bf3d0a768d20aeda"
  },
  "kernelspec": {
   "display_name": "Python 3.8.8 64-bit (conda)",
   "language": "python",
   "name": "python3"
  },
  "language_info": {
   "codemirror_mode": {
    "name": "ipython",
    "version": 3
   },
   "file_extension": ".py",
   "mimetype": "text/x-python",
   "name": "python",
   "nbconvert_exporter": "python",
   "pygments_lexer": "ipython3",
   "version": "3.8.8"
  },
  "orig_nbformat": 4
 },
 "nbformat": 4,
 "nbformat_minor": 2
}
