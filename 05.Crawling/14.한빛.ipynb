{
 "cells": [
  {
   "cell_type": "markdown",
   "metadata": {},
   "source": [
    "# 한빛 새로 나올책 1 ~ 10 page "
   ]
  },
  {
   "cell_type": "code",
   "execution_count": null,
   "metadata": {},
   "outputs": [],
   "source": [
    "# 제목, 저자, 역자, 출간일 , 페이지, 정가 , 환가, 마일리지 "
   ]
  },
  {
   "cell_type": "code",
   "execution_count": null,
   "metadata": {},
   "outputs": [],
   "source": [
    "##### 뷰티플 수프########\n",
    "from bs4 import BeautifulSoup\n",
    "###########판다스 ########\n",
    "import pandas as pd\n",
    "#### 셀레니움 ################\n",
    "from selenium import webdriver\n",
    "from selenium.webdriver.common.keys import Keys\n",
    "import time\n",
    "import requests"
   ]
  },
  {
   "cell_type": "code",
   "execution_count": null,
   "metadata": {},
   "outputs": [],
   "source": [
    "site = 'https://www.hanbit.co.kr'\n",
    "url = 'https://www.hanbit.co.kr/store/books/new_book_list.html'\n",
    "res = requests.get(url)\n",
    "type(res.text)"
   ]
  },
  {
   "cell_type": "code",
   "execution_count": null,
   "metadata": {},
   "outputs": [],
   "source": [
    "### 크롬 드라이버 실행  한빛 도서로 #### \n",
    "driver = webdriver.Chrome('chromedriver.exe')\n",
    "driver.get(url)"
   ]
  },
  {
   "cell_type": "code",
   "execution_count": null,
   "metadata": {},
   "outputs": [],
   "source": [
    "soup = BeautifulSoup(driver.page_source, 'html.parser')\n",
    "lis = soup.select_one('.sub_book_list_area').find_all('li')\n",
    "len(lis)"
   ]
  },
  {
   "cell_type": "code",
   "execution_count": null,
   "metadata": {},
   "outputs": [],
   "source": [
    "li = lis[16]"
   ]
  },
  {
   "cell_type": "markdown",
   "metadata": {},
   "source": [
    "### 제목"
   ]
  },
  {
   "cell_type": "code",
   "execution_count": null,
   "metadata": {},
   "outputs": [],
   "source": [
    "book_name = li.select_one('.book_tit').get_text()\n",
    "book_name"
   ]
  },
  {
   "cell_type": "markdown",
   "metadata": {},
   "source": [
    "# 저자"
   ]
  },
  {
   "cell_type": "code",
   "execution_count": null,
   "metadata": {},
   "outputs": [],
   "source": [
    "book_author = li.select_one('.book_writer').get_text()\n",
    "book_author"
   ]
  },
  {
   "cell_type": "markdown",
   "metadata": {},
   "source": [
    "# href"
   ]
  },
  {
   "cell_type": "code",
   "execution_count": null,
   "metadata": {},
   "outputs": [],
   "source": [
    "href = li.find('a')['href']\n",
    "href"
   ]
  },
  {
   "cell_type": "markdown",
   "metadata": {},
   "source": [
    "# 서브로 들어가서 구하기"
   ]
  },
  {
   "cell_type": "code",
   "execution_count": null,
   "metadata": {},
   "outputs": [],
   "source": [
    "sub_url = site+href\n",
    "sub_res = requests.get(sub_url)\n",
    "sub_soup = BeautifulSoup(sub_res.text, 'html.parser')\n",
    "sub_li = sub_soup.select('.info_list>li')\n",
    "len(sub_li),sub_li"
   ]
  },
  {
   "cell_type": "code",
   "execution_count": null,
   "metadata": {},
   "outputs": [],
   "source": [
    "len(str(sub_li[-1]))"
   ]
  },
  {
   "cell_type": "markdown",
   "metadata": {},
   "source": [
    "# 역자"
   ]
  },
  {
   "cell_type": "code",
   "execution_count": null,
   "metadata": {},
   "outputs": [],
   "source": [
    "# traductor = sub_li[1].get_text().split(':')[1]\n",
    "traductor = '역자없음'"
   ]
  },
  {
   "cell_type": "markdown",
   "metadata": {},
   "source": [
    "# 출간일"
   ]
  },
  {
   "cell_type": "code",
   "execution_count": null,
   "metadata": {},
   "outputs": [],
   "source": [
    "publication_date = sub_li[2].get_text().split(':')[1]\n",
    "publication_date"
   ]
  },
  {
   "cell_type": "markdown",
   "metadata": {},
   "source": [
    "# 페이지"
   ]
  },
  {
   "cell_type": "code",
   "execution_count": null,
   "metadata": {},
   "outputs": [],
   "source": [
    "page = sub_li[3].get_text().split('1:')\n",
    "page"
   ]
  },
  {
   "cell_type": "markdown",
   "metadata": {},
   "source": [
    "# 정가"
   ]
  },
  {
   "cell_type": "code",
   "execution_count": null,
   "metadata": {},
   "outputs": [],
   "source": [
    "price = sub_soup.select_one('.payment_box.curr').findAll('p')[0].get_text().split(':')[1]\n",
    "price"
   ]
  },
  {
   "cell_type": "markdown",
   "metadata": {},
   "source": [
    "# 할인가격"
   ]
  },
  {
   "cell_type": "code",
   "execution_count": null,
   "metadata": {},
   "outputs": [],
   "source": [
    "sale_price = sub_soup.select_one('.payment_box.curr').findAll('p')[1].get_text().split(':')[1].split('(')[0]\n",
    "sale_price"
   ]
  },
  {
   "cell_type": "markdown",
   "metadata": {},
   "source": [
    "# 마일리지"
   ]
  },
  {
   "cell_type": "code",
   "execution_count": null,
   "metadata": {},
   "outputs": [],
   "source": [
    "Mileage = sub_soup.select_one('.payment_box.curr').findAll('p')[2].get_text().split(':')[1].split('(')[0]\n",
    "Mileage"
   ]
  },
  {
   "cell_type": "code",
   "execution_count": null,
   "metadata": {},
   "outputs": [],
   "source": [
    "book_name,book_author,traductor,publication_date,page,price,sale_price,Mileage"
   ]
  },
  {
   "cell_type": "markdown",
   "metadata": {},
   "source": [
    "# 1페이지 데이터 프레임으로 표현하기 "
   ]
  },
  {
   "cell_type": "code",
   "execution_count": null,
   "metadata": {},
   "outputs": [],
   "source": [
    "url = f'https://www.hanbit.co.kr/store/books/new_book_list.html?page=1&brand=&cate1=&cate2=&searchKey=&keyWord='\n",
    "driver.get(url)\n",
    "soup = BeautifulSoup(driver.page_source, 'html.parser')\n",
    "lis = soup.select_one('.sub_book_list_area').find_all('li')\n",
    "lines = []\n",
    "for li in lis:\n",
    "    book_name = li.select_one('.book_tit').get_text()\n",
    "    book_author = li.select_one('.book_writer').get_text()\n",
    "    href = li.find('a')['href']\n",
    "\n",
    "    sub_url = site+href\n",
    "    sub_res = requests.get(sub_url)\n",
    "    sub_soup = BeautifulSoup(sub_res.text, 'html.parser')\n",
    "    sub_li = sub_soup.select_one('.info_list').find_all('li')\n",
    "\n",
    "    if len(sub_li) ==5:\n",
    "        traductor = '역자 없음'\n",
    "        publication_date = sub_li[1].get_text().split(':')[1]\n",
    "        page = sub_li[2].get_text().split(':')[1]\n",
    "        price = sub_soup.select_one('.payment_box.curr').findAll('p')[0].get_text().split(':')[1]\n",
    "        Mileage = sub_soup.select_one('.payment_box.curr').findAll('p')[2].get_text().split(':')[1].split('(')[0]\n",
    "        sale_price = sub_soup.select_one('.payment_box.curr').findAll('p')[1].get_text().split(':')[1].split('(')[0]\n",
    "    else:\n",
    "        if len(str(sub_li[-1])) > 100:\n",
    "            traductor = '역자 없음'\n",
    "            publication_date = sub_li[1].get_text().split(':')[1]\n",
    "            page = sub_li[2].get_text().split(':')[1]\n",
    "            price = sub_soup.select_one('.payment_box.curr').findAll('p')[0].get_text().split(':')[1]\n",
    "            sale_price = sub_soup.select_one('.payment_box.curr').findAll('p')[1].get_text().split(':')[1].split('(')[0]\n",
    "            Mileage = sub_soup.select_one('.payment_box.curr').findAll('p')[2].get_text().split(':')[1].split('(')[0]\n",
    "        else:   \n",
    "            traductor = sub_li[1].get_text().split(':')[1]\n",
    "            publication_date = sub_li[2].get_text().split(':')[1]\n",
    "            page = sub_li[3].get_text().split(':')[1]\n",
    "            price = sub_soup.select_one('.payment_box.curr').findAll('p')[0].get_text().split(':')[1]\n",
    "            sale_price = sub_soup.select_one('.payment_box.curr').findAll('p')[1].get_text().split(':')[1].split('(')[0]\n",
    "            Mileage = sub_soup.select_one('.payment_box.curr').findAll('p')[2].get_text().split(':')[1].split('(')[0]\n",
    "\n",
    "    lines.append([book_name,book_author,traductor,publication_date,page,price,sale_price,Mileage])"
   ]
  },
  {
   "cell_type": "code",
   "execution_count": null,
   "metadata": {},
   "outputs": [],
   "source": [
    "df = pd.DataFrame(lines,columns=['제목','저자','역자','출간일','페이지','정가','할인가격','마일리지'])\n",
    "df"
   ]
  },
  {
   "cell_type": "markdown",
   "metadata": {},
   "source": [
    "# n페이지 데이터 프레임으로 표현하기 "
   ]
  },
  {
   "cell_type": "code",
   "execution_count": null,
   "metadata": {},
   "outputs": [],
   "source": [
    "lines=[]\n",
    "for page in range(1,11):\n",
    "    url = f'https://www.hanbit.co.kr/store/books/new_book_list.html?page={page}'\n",
    "    driver.get(url)\n",
    "    time.sleep(2)\n",
    "    soup = BeautifulSoup(driver.page_source, 'html.parser')\n",
    "    lis = soup.select_one('.sub_book_list_area').find_all('li')\n",
    "    print(url)\n",
    "    for li in lis:\n",
    "        book_name = li.select_one('.book_tit').get_text()\n",
    "        book_author = li.select_one('.book_writer').get_text()\n",
    "        href = li.find('a')['href']\n",
    "\n",
    "        sub_url = site+href\n",
    "        sub_res = requests.get(sub_url)\n",
    "        sub_soup = BeautifulSoup(sub_res.text, 'html.parser')\n",
    "        sub_li = sub_soup.select_one('.info_list').find_all('li')\n",
    "\n",
    "        \n",
    "        if len(sub_li) ==5:\n",
    "            traductor = '역자 없음'\n",
    "            publication_date = sub_li[1].get_text().split(':')[1]\n",
    "            page       = sub_li[2].get_text().split(':')[1]\n",
    "            price      = sub_soup.select_one('.payment_box.curr').findAll('p')[0].get_text().split(':')[1]\n",
    "            Mileage    = sub_soup.select_one('.payment_box.curr').findAll('p')[2].get_text().split(':')[1].split('(')[0]\n",
    "            sale_price = sub_soup.select_one('.payment_box.curr').findAll('p')[1].get_text().split(':')[1].split('(')[0]\n",
    "        else:\n",
    "            if len(str(sub_li[-1])) > 100:\n",
    "                traductor = '역자 없음'\n",
    "                publication_date = sub_li[1].get_text().split(':')[1]\n",
    "                page = sub_li[2].get_text().split(':')[1]\n",
    "                price = sub_soup.select_one('.payment_box.curr').findAll('p')[0].get_text().split(':')[1]\n",
    "                sale_price = sub_soup.select_one('.payment_box.curr').findAll('p')[1].get_text().split(':')[1].split('(')[0]\n",
    "                Mileage = sub_soup.select_one('.payment_box.curr').findAll('p')[2].get_text().split(':')[1].split('(')[0]\n",
    "            else:   \n",
    "                traductor = sub_li[1].get_text().split(':')[1]\n",
    "                publication_date = sub_li[2].get_text().split(':')[1]\n",
    "                page = sub_li[3].get_text().split(':')[1]\n",
    "                price = sub_soup.select_one('.payment_box.curr').findAll('p')[0].get_text().split(':')[1]\n",
    "                sale_price = sub_soup.select_one('.payment_box.curr').findAll('p')[1].get_text().split(':')[1].split('(')[0]\n",
    "                Mileage = sub_soup.select_one('.payment_box.curr').findAll('p')[2].get_text().split(':')[1].split('(')[0]\n",
    "        \n",
    "        lines.append([book_name,book_author,traductor,publication_date,page,price,sale_price,Mileage])"
   ]
  },
  {
   "cell_type": "code",
   "execution_count": 41,
   "metadata": {},
   "outputs": [
    {
     "data": {
      "text/html": [
       "<div>\n",
       "<style scoped>\n",
       "    .dataframe tbody tr th:only-of-type {\n",
       "        vertical-align: middle;\n",
       "    }\n",
       "\n",
       "    .dataframe tbody tr th {\n",
       "        vertical-align: top;\n",
       "    }\n",
       "\n",
       "    .dataframe thead th {\n",
       "        text-align: right;\n",
       "    }\n",
       "</style>\n",
       "<table border=\"1\" class=\"dataframe\">\n",
       "  <thead>\n",
       "    <tr style=\"text-align: right;\">\n",
       "      <th></th>\n",
       "      <th>제목</th>\n",
       "      <th>저자</th>\n",
       "      <th>역자</th>\n",
       "      <th>출간일</th>\n",
       "      <th>페이지</th>\n",
       "      <th>정가</th>\n",
       "      <th>할인가격</th>\n",
       "      <th>마일리지</th>\n",
       "    </tr>\n",
       "  </thead>\n",
       "  <tbody>\n",
       "    <tr>\n",
       "      <th>0</th>\n",
       "      <td>하루 한 장 초등과학 365</td>\n",
       "      <td>치바 가즈요시</td>\n",
       "      <td>허영은 , 유우종 (감수)</td>\n",
       "      <td>2021-12-14</td>\n",
       "      <td>416 쪽</td>\n",
       "      <td>19,800원</td>\n",
       "      <td>17,820원</td>\n",
       "      <td>990점</td>\n",
       "    </tr>\n",
       "    <tr>\n",
       "      <th>1</th>\n",
       "      <td>다시, 배우다</td>\n",
       "      <td>폴 김</td>\n",
       "      <td>역자 없음</td>\n",
       "      <td>2021-12-10</td>\n",
       "      <td>304 쪽</td>\n",
       "      <td>16,000원</td>\n",
       "      <td>14,400원</td>\n",
       "      <td>800점</td>\n",
       "    </tr>\n",
       "    <tr>\n",
       "      <th>2</th>\n",
       "      <td>당당한 디자인 결정을 위한 9가지 방법</td>\n",
       "      <td>톰 그리버</td>\n",
       "      <td>김민성 , 곽서희</td>\n",
       "      <td>2021-12-10</td>\n",
       "      <td>376 쪽</td>\n",
       "      <td>22,000원</td>\n",
       "      <td>19,800원</td>\n",
       "      <td>1,100점</td>\n",
       "    </tr>\n",
       "    <tr>\n",
       "      <th>3</th>\n",
       "      <td>365 부모 말하기 연습 일력(스프링북)</td>\n",
       "      <td>박재연 , 공인영</td>\n",
       "      <td>역자 없음</td>\n",
       "      <td>2021-12-01</td>\n",
       "      <td>384 쪽</td>\n",
       "      <td>18,000원</td>\n",
       "      <td>16,200원</td>\n",
       "      <td>900점</td>\n",
       "    </tr>\n",
       "    <tr>\n",
       "      <th>4</th>\n",
       "      <td>공학도를 위한 수치해석(8판)</td>\n",
       "      <td>Steven C.Chapra , Raymond P. Canale</td>\n",
       "      <td>나양 , 이승배 , 임윤철</td>\n",
       "      <td>2021-11-30</td>\n",
       "      <td>600 쪽</td>\n",
       "      <td>36,000원</td>\n",
       "      <td>36,000원</td>\n",
       "      <td>1,080점</td>\n",
       "    </tr>\n",
       "    <tr>\n",
       "      <th>...</th>\n",
       "      <td>...</td>\n",
       "      <td>...</td>\n",
       "      <td>...</td>\n",
       "      <td>...</td>\n",
       "      <td>...</td>\n",
       "      <td>...</td>\n",
       "      <td>...</td>\n",
       "      <td>...</td>\n",
       "    </tr>\n",
       "    <tr>\n",
       "      <th>195</th>\n",
       "      <td>IT CookBook, C 언어 일취월장(2판)</td>\n",
       "      <td>신윤환</td>\n",
       "      <td>역자 없음</td>\n",
       "      <td>2021-02-24</td>\n",
       "      <td>800 쪽</td>\n",
       "      <td>28,000원</td>\n",
       "      <td>28,000원</td>\n",
       "      <td>840점</td>\n",
       "    </tr>\n",
       "    <tr>\n",
       "      <th>196</th>\n",
       "      <td>소비자행동</td>\n",
       "      <td>김학윤</td>\n",
       "      <td>역자 없음</td>\n",
       "      <td>2021-02-23</td>\n",
       "      <td>660 쪽</td>\n",
       "      <td>35,000원</td>\n",
       "      <td>35,000원</td>\n",
       "      <td>1,050점</td>\n",
       "    </tr>\n",
       "    <tr>\n",
       "      <th>197</th>\n",
       "      <td>재미있고 빠른 어휘력 동화 – 두근두근 이 마음은 뭘까</td>\n",
       "      <td>김세실 , 김도윤(그림)</td>\n",
       "      <td>역자 없음</td>\n",
       "      <td>2021-02-20</td>\n",
       "      <td>104 쪽</td>\n",
       "      <td>12,000원</td>\n",
       "      <td>10,800원</td>\n",
       "      <td>600점</td>\n",
       "    </tr>\n",
       "    <tr>\n",
       "      <th>198</th>\n",
       "      <td>재미있고 빠른 어휘력 동화 – 키득키득 재밌는 의성어 의태어</td>\n",
       "      <td>김예실 , 김희선(그림)</td>\n",
       "      <td>역자 없음</td>\n",
       "      <td>2021-02-20</td>\n",
       "      <td>104 쪽</td>\n",
       "      <td>12,000원</td>\n",
       "      <td>10,800원</td>\n",
       "      <td>600점</td>\n",
       "    </tr>\n",
       "    <tr>\n",
       "      <th>199</th>\n",
       "      <td>웹 애플리케이션 보안</td>\n",
       "      <td>앤드루 호프먼</td>\n",
       "      <td>최용</td>\n",
       "      <td>2021-02-19</td>\n",
       "      <td>372 쪽</td>\n",
       "      <td>30,000원</td>\n",
       "      <td>27,000원</td>\n",
       "      <td>1,500점</td>\n",
       "    </tr>\n",
       "  </tbody>\n",
       "</table>\n",
       "<p>200 rows × 8 columns</p>\n",
       "</div>"
      ],
      "text/plain": [
       "                                    제목                                    저자  \\\n",
       "0                      하루 한 장 초등과학 365                              치바 가즈요시    \n",
       "1                              다시, 배우다                                  폴 김    \n",
       "2                당당한 디자인 결정을 위한 9가지 방법                                톰 그리버    \n",
       "3               365 부모 말하기 연습 일력(스프링북)                            박재연 , 공인영    \n",
       "4                     공학도를 위한 수치해석(8판)  Steven C.Chapra , Raymond P. Canale    \n",
       "..                                 ...                                   ...   \n",
       "195         IT CookBook, C 언어 일취월장(2판)                                  신윤환    \n",
       "196                              소비자행동                                  김학윤    \n",
       "197     재미있고 빠른 어휘력 동화 – 두근두근 이 마음은 뭘까                        김세실 , 김도윤(그림)    \n",
       "198  재미있고 빠른 어휘력 동화 – 키득키득 재밌는 의성어 의태어                        김예실 , 김희선(그림)    \n",
       "199                        웹 애플리케이션 보안                              앤드루 호프먼    \n",
       "\n",
       "                   역자          출간일     페이지        정가      할인가격      마일리지  \n",
       "0     허영은 , 유우종 (감수)    2021-12-14   416 쪽   19,800원   17,820원     990점   \n",
       "1               역자 없음   2021-12-10   304 쪽   16,000원   14,400원     800점   \n",
       "2          김민성 , 곽서희    2021-12-10   376 쪽   22,000원   19,800원   1,100점   \n",
       "3               역자 없음   2021-12-01   384 쪽   18,000원   16,200원     900점   \n",
       "4     나양 , 이승배 , 임윤철    2021-11-30   600 쪽   36,000원   36,000원   1,080점   \n",
       "..                ...          ...     ...       ...       ...       ...  \n",
       "195             역자 없음   2021-02-24   800 쪽   28,000원   28,000원     840점   \n",
       "196             역자 없음   2021-02-23   660 쪽   35,000원   35,000원   1,050점   \n",
       "197             역자 없음   2021-02-20   104 쪽   12,000원   10,800원     600점   \n",
       "198             역자 없음   2021-02-20   104 쪽   12,000원   10,800원     600점   \n",
       "199               최용    2021-02-19   372 쪽   30,000원   27,000원   1,500점   \n",
       "\n",
       "[200 rows x 8 columns]"
      ]
     },
     "execution_count": 41,
     "metadata": {},
     "output_type": "execute_result"
    }
   ],
   "source": [
    "df = pd.DataFrame(lines,columns=['제목','저자','역자','출간일','페이지','정가','할인가격','마일리지'])\n",
    "df"
   ]
  },
  {
   "cell_type": "code",
   "execution_count": null,
   "metadata": {},
   "outputs": [],
   "source": [
    "df.to_csv('한빛새로나온책.csv',index=False)"
   ]
  },
  {
   "cell_type": "code",
   "execution_count": null,
   "metadata": {},
   "outputs": [],
   "source": [
    "df[['출간일']].to_csv('한빛출간일.csv',index=False)"
   ]
  },
  {
   "cell_type": "code",
   "execution_count": null,
   "metadata": {},
   "outputs": [],
   "source": []
  }
 ],
 "metadata": {
  "interpreter": {
   "hash": "b3ba2566441a7c06988d0923437866b63cedc61552a5af99d1f4fb67d367b25f"
  },
  "kernelspec": {
   "display_name": "Python 3.8.8 64-bit ('base': conda)",
   "language": "python",
   "name": "python3"
  },
  "language_info": {
   "codemirror_mode": {
    "name": "ipython",
    "version": 3
   },
   "file_extension": ".py",
   "mimetype": "text/x-python",
   "name": "python",
   "nbconvert_exporter": "python",
   "pygments_lexer": "ipython3",
   "version": "3.8.8"
  },
  "orig_nbformat": 4
 },
 "nbformat": 4,
 "nbformat_minor": 2
}
