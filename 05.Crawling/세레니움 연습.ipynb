{
 "cells": [
  {
   "cell_type": "code",
   "execution_count": 2,
   "metadata": {},
   "outputs": [],
   "source": [
    "from selenium import webdriver\n",
    "import time\n",
    "import pandas as pd\n",
    "from urllib.parse import quote"
   ]
  },
  {
   "cell_type": "code",
   "execution_count": 17,
   "metadata": {},
   "outputs": [],
   "source": [
    "site = 'https://kin.naver.com/search/list.naver?query='\n",
    "url = f'{site}{quote(\"갈비찜 만드는 방법\")}&page=1'\n",
    "driver = webdriver.Chrome('chromedriver.exe')\n",
    "driver.get(url)\n",
    "time.sleep(2)\n",
    "parent_window = driver.current_window_handle \n"
   ]
  },
  {
   "cell_type": "code",
   "execution_count": 18,
   "metadata": {},
   "outputs": [
    {
     "data": {
      "text/plain": [
       "[<selenium.webdriver.remote.webelement.WebElement (session=\"56b3e2cb89faf24f1c6b9966a418e244\", element=\"35fea38f-1112-454e-bafc-bc82d0105835\")>,\n",
       " <selenium.webdriver.remote.webelement.WebElement (session=\"56b3e2cb89faf24f1c6b9966a418e244\", element=\"07e70d75-27ba-4b04-aa13-18eb1ef9dfe1\")>,\n",
       " <selenium.webdriver.remote.webelement.WebElement (session=\"56b3e2cb89faf24f1c6b9966a418e244\", element=\"79877339-68f0-4ae5-a59a-df2e50d0fe5a\")>,\n",
       " <selenium.webdriver.remote.webelement.WebElement (session=\"56b3e2cb89faf24f1c6b9966a418e244\", element=\"6b9d4da9-6651-4714-8c35-48217bf3f0e5\")>,\n",
       " <selenium.webdriver.remote.webelement.WebElement (session=\"56b3e2cb89faf24f1c6b9966a418e244\", element=\"32545575-4d62-4901-a0b2-04db684ad2eb\")>,\n",
       " <selenium.webdriver.remote.webelement.WebElement (session=\"56b3e2cb89faf24f1c6b9966a418e244\", element=\"94b9a863-c6f4-44d1-b28e-2cc2faa519bf\")>,\n",
       " <selenium.webdriver.remote.webelement.WebElement (session=\"56b3e2cb89faf24f1c6b9966a418e244\", element=\"5c4954a7-2387-4b57-8db1-cafa90f7b257\")>,\n",
       " <selenium.webdriver.remote.webelement.WebElement (session=\"56b3e2cb89faf24f1c6b9966a418e244\", element=\"f48085db-118f-4826-a2d3-1c12b1ffbe6a\")>,\n",
       " <selenium.webdriver.remote.webelement.WebElement (session=\"56b3e2cb89faf24f1c6b9966a418e244\", element=\"c12b0994-4cce-470a-aeb5-bb62a9318a03\")>,\n",
       " <selenium.webdriver.remote.webelement.WebElement (session=\"56b3e2cb89faf24f1c6b9966a418e244\", element=\"3e5c38ad-fe7b-4bf3-b01a-fad60059745b\")>]"
      ]
     },
     "execution_count": 18,
     "metadata": {},
     "output_type": "execute_result"
    }
   ],
   "source": [
    "\n",
    "lis =driver.find_elements_by_css_selector('.basic1>li')\n",
    "lis"
   ]
  },
  {
   "cell_type": "markdown",
   "metadata": {},
   "source": [
    "제목, 내용, 날짜 "
   ]
  },
  {
   "cell_type": "code",
   "execution_count": 19,
   "metadata": {},
   "outputs": [
    {
     "data": {
      "text/plain": [
       "<selenium.webdriver.remote.webelement.WebElement (session=\"56b3e2cb89faf24f1c6b9966a418e244\", element=\"35fea38f-1112-454e-bafc-bc82d0105835\")>"
      ]
     },
     "execution_count": 19,
     "metadata": {},
     "output_type": "execute_result"
    }
   ],
   "source": [
    "li=lis[0]\n",
    "li"
   ]
  },
  {
   "cell_type": "code",
   "execution_count": 20,
   "metadata": {},
   "outputs": [
    {
     "data": {
      "text/plain": [
       "'갈비찜 만드는 방법'"
      ]
     },
     "execution_count": 20,
     "metadata": {},
     "output_type": "execute_result"
    }
   ],
   "source": [
    "title = li.find_element_by_xpath('//*[@id=\"s_content\"]/div[3]/ul/li[1]/dl/dt/a/b').text.strip()\n",
    "title"
   ]
  },
  {
   "cell_type": "code",
   "execution_count": 21,
   "metadata": {},
   "outputs": [
    {
     "data": {
      "text/plain": [
       "'... 갈비찜을 먹고 싶어서 엄마께 해달라하니 모른 다네요.ㅋㅋㅋ 그래서요 갈비찜 만드는 방법을 가르켜주세요. 제가 한번도 먹지 못해서 무슨 맛인지 잘보르거든요....'"
      ]
     },
     "execution_count": 21,
     "metadata": {},
     "output_type": "execute_result"
    }
   ],
   "source": [
    "# //*[@id=\"s_content\"]/div[3]/ul/li[1]/dl/dd[2]/b\n",
    "content = li.find_element_by_xpath('//*[@id=\"s_content\"]/div[3]/ul/li[1]/dl/dd[2]').text.strip()\n",
    "content"
   ]
  },
  {
   "cell_type": "code",
   "execution_count": 22,
   "metadata": {},
   "outputs": [
    {
     "data": {
      "text/plain": [
       "'2011.04.15.'"
      ]
     },
     "execution_count": 22,
     "metadata": {},
     "output_type": "execute_result"
    }
   ],
   "source": [
    "date = li.find_element_by_xpath('//*[@id=\"s_content\"]/div[3]/ul/li[1]/dl/dd[1]').text.strip()\n",
    "date"
   ]
  },
  {
   "cell_type": "code",
   "execution_count": 23,
   "metadata": {},
   "outputs": [
    {
     "data": {
      "text/plain": [
       "('갈비찜 만드는 방법',\n",
       " '... 갈비찜을 먹고 싶어서 엄마께 해달라하니 모른 다네요.ㅋㅋㅋ 그래서요 갈비찜 만드는 방법을 가르켜주세요. 제가 한번도 먹지 못해서 무슨 맛인지 잘보르거든요....',\n",
       " '2011.04.15.')"
      ]
     },
     "execution_count": 23,
     "metadata": {},
     "output_type": "execute_result"
    }
   ],
   "source": [
    "title,content,date"
   ]
  },
  {
   "cell_type": "markdown",
   "metadata": {},
   "source": [
    "서브로 들어가기"
   ]
  },
  {
   "cell_type": "code",
   "execution_count": 11,
   "metadata": {},
   "outputs": [],
   "source": [
    "driver.find_element_by_xpath('//*[@id=\"s_content\"]/div[3]/ul/li[1]/dl/dt/a').click()\n",
    "time.sleep(2)\n",
    "driver.switch_to.window(child_window) \n"
   ]
  },
  {
   "cell_type": "code",
   "execution_count": 16,
   "metadata": {},
   "outputs": [
    {
     "data": {
      "text/plain": [
       "list"
      ]
     },
     "execution_count": 16,
     "metadata": {},
     "output_type": "execute_result"
    }
   ],
   "source": [
    "div = driver.find_elements_by_css_selector('.answer-content')"
   ]
  },
  {
   "cell_type": "code",
   "execution_count": null,
   "metadata": {},
   "outputs": [],
   "source": []
  }
 ],
 "metadata": {
  "interpreter": {
   "hash": "b3ba2566441a7c06988d0923437866b63cedc61552a5af99d1f4fb67d367b25f"
  },
  "kernelspec": {
   "display_name": "Python 3.8.8 64-bit ('base': conda)",
   "language": "python",
   "name": "python3"
  },
  "language_info": {
   "codemirror_mode": {
    "name": "ipython",
    "version": 3
   },
   "file_extension": ".py",
   "mimetype": "text/x-python",
   "name": "python",
   "nbconvert_exporter": "python",
   "pygments_lexer": "ipython3",
   "version": "3.8.8"
  },
  "orig_nbformat": 4
 },
 "nbformat": 4,
 "nbformat_minor": 2
}
