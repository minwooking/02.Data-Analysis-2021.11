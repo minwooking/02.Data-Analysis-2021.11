{
 "cells": [
  {
   "cell_type": "markdown",
   "metadata": {},
   "source": [
    "# 넘파이란??\n",
    "- 빠르고 메모리 효율적인 벡터 연산과 세련된 브로드 캐스팅 기능을 제공하는 다차원 배열인 ndarray\n",
    "- 반복문을 작성할 필요 없이 전체 데이터 배열에 대한 빠른 연산을 제공하는 표준 수학 함수\n",
    "- 배열 데이터를 디스크에 쓰거나 읽을 수 있는 도구와 메모리에 올려진 파일을 사용하는 도구 \n",
    "- 선형대수, 난수 발생기, 푸리에 변환 가능\n",
    "- C, C++, 포틀란으로 쓰여진 코드를 통합하는 도구 \n",
    "특히 마지막기능으로 CAPI에서 제공하는 저수준으로 씌여진 외부 라이브러리를 쉽게 사용할 수 있도록 해준다. "
   ]
  },
  {
   "cell_type": "code",
   "execution_count": null,
   "metadata": {},
   "outputs": [],
   "source": []
  }
 ],
 "metadata": {
  "language_info": {
   "name": "python"
  },
  "orig_nbformat": 4
 },
 "nbformat": 4,
 "nbformat_minor": 2
}
