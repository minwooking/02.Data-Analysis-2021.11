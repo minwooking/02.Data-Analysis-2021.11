{
  "nbformat": 4,
  "nbformat_minor": 0,
  "metadata": {
    "kernelspec": {
      "display_name": "Python 3",
      "language": "python",
      "name": "python3"
    },
    "language_info": {
      "codemirror_mode": {
        "name": "ipython",
        "version": 3
      },
      "file_extension": ".py",
      "mimetype": "text/x-python",
      "name": "python",
      "nbconvert_exporter": "python",
      "pygments_lexer": "ipython3",
      "version": "3.7.6"
    },
    "toc": {
      "base_numbering": 1,
      "nav_menu": {},
      "number_sections": false,
      "sideBar": true,
      "skip_h1_title": false,
      "title_cell": "Table of Contents",
      "title_sidebar": "Contents",
      "toc_cell": false,
      "toc_position": {},
      "toc_section_display": true,
      "toc_window_display": false
    },
    "varInspector": {
      "cols": {
        "lenName": 16,
        "lenType": 16,
        "lenVar": 40
      },
      "kernels_config": {
        "python": {
          "delete_cmd_postfix": "",
          "delete_cmd_prefix": "del ",
          "library": "var_list.py",
          "varRefreshCmd": "print(var_dic_list())"
        },
        "r": {
          "delete_cmd_postfix": ") ",
          "delete_cmd_prefix": "rm(",
          "library": "var_list.r",
          "varRefreshCmd": "cat(var_dic_list()) "
        }
      },
      "types_to_exclude": [
        "module",
        "function",
        "builtin_function_or_method",
        "instance",
        "_Feature"
      ],
      "window_display": false
    },
    "colab": {
      "name": "StatisticsVsML.ipynb",
      "provenance": [],
      "include_colab_link": true
    }
  },
  "cells": [
    {
      "cell_type": "markdown",
      "metadata": {
        "id": "view-in-github",
        "colab_type": "text"
      },
      "source": [
        "<a href=\"https://colab.research.google.com/github/minwooking/Data-Analysis-2021.11/blob/main/StatisticsVsML.ipynb\" target=\"_parent\"><img src=\"https://colab.research.google.com/assets/colab-badge.svg\" alt=\"Open In Colab\"/></a>"
      ]
    },
    {
      "cell_type": "markdown",
      "metadata": {
        "id": "pZ35HsiC596J"
      },
      "source": [
        "$v^T \\cdot w = (v_1, v_2) \\cdot \\begin{bmatrix}w_{1}, w_{2}\\end{bmatrix} = v_1 * w_1 + v_2 * w_2$\n",
        "\n",
        "\n",
        "$\\cfrac{\\partial (v^T \\cdot w)}{\\partial w} = (\\cfrac{\\partial (v^T \\cdot w)}{\\partial w_1}, \\cfrac{\\partial (v^T \\cdot w)}{\\partial w_2}) = (v_1, v_2) = v$"
      ]
    },
    {
      "cell_type": "code",
      "metadata": {
        "id": "sK0mO2VX596N",
        "outputId": "76b67aca-550e-4f5a-9b63-dd14827d7ca2",
        "colab": {
          "base_uri": "https://localhost:8080/"
        }
      },
      "source": [
        "import numpy as np\n",
        "X = np.arange(6).reshape((2,3)) # 먼저 X 를 지정해줍니다. \n",
        "X # X를 확인"
      ],
      "execution_count": null,
      "outputs": [
        {
          "output_type": "execute_result",
          "data": {
            "text/plain": [
              "array([[0, 1, 2],\n",
              "       [3, 4, 5]])"
            ]
          },
          "metadata": {},
          "execution_count": 44
        }
      ]
    },
    {
      "cell_type": "markdown",
      "metadata": {
        "id": "NTBB1zcr596P"
      },
      "source": [
        "$X^T$ : tranposed a. $X^T_{ij} = X_{ji}$\n",
        "- 1 = X[0, 1] = $aX^T$[1, 0]\n",
        "- 5 = X[1, 2] = $X^T$[2, 1]"
      ]
    },
    {
      "cell_type": "code",
      "metadata": {
        "id": "2APW78ZM596P",
        "outputId": "bfaeafd5-6107-41f8-bade-d4eb44e330b9",
        "colab": {
          "base_uri": "https://localhost:8080/"
        }
      },
      "source": [
        "X.T # X.T를 했을때 X 의 모양  "
      ],
      "execution_count": null,
      "outputs": [
        {
          "output_type": "execute_result",
          "data": {
            "text/plain": [
              "array([[0, 3],\n",
              "       [1, 4],\n",
              "       [2, 5]])"
            ]
          },
          "metadata": {},
          "execution_count": 45
        }
      ]
    },
    {
      "cell_type": "code",
      "metadata": {
        "id": "H8FjEKRx596Q",
        "outputId": "6ac226fe-3553-4a38-819d-f10dc55fa8ae",
        "colab": {
          "base_uri": "https://localhost:8080/"
        }
      },
      "source": [
        "X[0,1] == X.T[1, 0]  # "
      ],
      "execution_count": null,
      "outputs": [
        {
          "output_type": "execute_result",
          "data": {
            "text/plain": [
              "True"
            ]
          },
          "metadata": {},
          "execution_count": 46
        }
      ]
    },
    {
      "cell_type": "code",
      "source": [
        "X[0,2]"
      ],
      "metadata": {
        "id": "x_5P5YWe8oG6"
      },
      "execution_count": null,
      "outputs": []
    },
    {
      "cell_type": "code",
      "metadata": {
        "id": "JWxSEso9596R",
        "outputId": "c5f7dd85-0181-4845-a5c3-1fa606f28fd9",
        "colab": {
          "base_uri": "https://localhost:8080/"
        }
      },
      "source": [
        "w = np.random.randn(3)\n",
        "b = 0.1\n",
        "w, b"
      ],
      "execution_count": null,
      "outputs": [
        {
          "output_type": "execute_result",
          "data": {
            "text/plain": [
              "(array([-1.82273098,  0.79765859,  0.14399333]), 0.1)"
            ]
          },
          "metadata": {},
          "execution_count": 47
        }
      ]
    },
    {
      "cell_type": "code",
      "metadata": {
        "id": "dSlJMmPU596R",
        "outputId": "63fb6a0c-561d-4487-f3fa-de38aa570810",
        "colab": {
          "base_uri": "https://localhost:8080/"
        }
      },
      "source": [
        "X.dot(w) + b"
      ],
      "execution_count": null,
      "outputs": [
        {
          "output_type": "execute_result",
          "data": {
            "text/plain": [
              "array([ 1.18564525, -1.45759191])"
            ]
          },
          "metadata": {},
          "execution_count": 48
        }
      ]
    },
    {
      "cell_type": "raw",
      "metadata": {
        "id": "zKT6hLeW596S"
      },
      "source": [
        "X.shape = (N, p)   |  y.shape = (N, )"
      ]
    },
    {
      "cell_type": "code",
      "metadata": {
        "id": "8zypveRm596T",
        "outputId": "95d97916-bfda-4029-c44f-94c433dfdc05",
        "colab": {
          "base_uri": "https://localhost:8080/"
        }
      },
      "source": [
        "X.dot(w) + b*np.array([[1,1]])"
      ],
      "execution_count": null,
      "outputs": [
        {
          "output_type": "execute_result",
          "data": {
            "text/plain": [
              "array([[ 1.18564525, -1.45759191]])"
            ]
          },
          "metadata": {},
          "execution_count": 49
        }
      ]
    },
    {
      "cell_type": "code",
      "metadata": {
        "id": "5fbeI8W3596U",
        "outputId": "823cef08-22bc-4f11-c3a9-7f7ca8173a9d",
        "colab": {
          "base_uri": "https://localhost:8080/"
        }
      },
      "source": [
        "X_ = np.hstack((np.array([1,1]).reshape((-1, 1)), X))\n",
        "X_"
      ],
      "execution_count": null,
      "outputs": [
        {
          "output_type": "execute_result",
          "data": {
            "text/plain": [
              "array([[1, 0, 1, 2],\n",
              "       [1, 3, 4, 5]])"
            ]
          },
          "metadata": {},
          "execution_count": 50
        }
      ]
    },
    {
      "cell_type": "code",
      "metadata": {
        "id": "F0PdHHqH596V",
        "outputId": "055b4c84-3aab-4d77-8d12-72138474663f",
        "colab": {
          "base_uri": "https://localhost:8080/"
        }
      },
      "source": [
        "w_ = np.hstack((b, w))\n",
        "w_"
      ],
      "execution_count": null,
      "outputs": [
        {
          "output_type": "execute_result",
          "data": {
            "text/plain": [
              "array([ 0.1       , -1.82273098,  0.79765859,  0.14399333])"
            ]
          },
          "metadata": {},
          "execution_count": 51
        }
      ]
    },
    {
      "cell_type": "code",
      "metadata": {
        "id": "2IM3opR4596V",
        "outputId": "d5cc6c13-0986-4ed7-aa0e-cb8705393971",
        "colab": {
          "base_uri": "https://localhost:8080/"
        }
      },
      "source": [
        "X_.shape, w_.shape"
      ],
      "execution_count": null,
      "outputs": [
        {
          "output_type": "execute_result",
          "data": {
            "text/plain": [
              "((2, 4), (4,))"
            ]
          },
          "metadata": {},
          "execution_count": 52
        }
      ]
    },
    {
      "cell_type": "code",
      "metadata": {
        "id": "rfuBdAe7596W",
        "outputId": "895958e5-a93f-47e0-c41d-f0ac64ba2b67",
        "colab": {
          "base_uri": "https://localhost:8080/"
        }
      },
      "source": [
        "X_.dot(w_)"
      ],
      "execution_count": null,
      "outputs": [
        {
          "output_type": "execute_result",
          "data": {
            "text/plain": [
              "array([ 1.18564525, -1.45759191])"
            ]
          },
          "metadata": {},
          "execution_count": 53
        }
      ]
    },
    {
      "cell_type": "markdown",
      "metadata": {
        "id": "GPK3vEKp596W"
      },
      "source": [
        "## 1. regression\n",
        "\n",
        "Set : $y = X \\cdot w + b + \\epsilon = X \\cdot w + \\epsilon$\n",
        "- assume for 1 observative : x = (1, x), w = (b, w)\n",
        "\n",
        "We know:  (here, y and X is constant about w)\n",
        "\n",
        "$$\\begin{align}\n",
        "\\cfrac {\\partial}{\\partial w} \\left( v^T \\cdot w \\right) &= v \\\\\n",
        "\\cfrac {\\partial}{\\partial w} \\left( w^T \\cdot v \\right) &= v \\\\\n",
        "(w^T \\cdot A)^T &= A^T \\cdot w \\\\\n",
        "\\cfrac {\\partial}{\\partial w} \\left( w^T \\cdot A \\cdot w \\right) &= A \\cdot w + A^T \\cdot w\n",
        "\\end{align}$$"
      ]
    },
    {
      "cell_type": "markdown",
      "metadata": {
        "id": "PLSnCEzK596X"
      },
      "source": [
        "So, We solve: y.shape = (N, ), X.shape=(N, p+1), w.shape = (p+1, )\n",
        "\n",
        "$$\\begin{align}\n",
        "y &= X \\cdot w + \\epsilon = \\hat y + \\epsilon\\\\\n",
        "Loss(w) &= \\epsilon ^2 =||y - \\hat y||^2 = (y - X \\cdot w)^T \\cdot (y - X \\cdot w)\\\\\n",
        "&= (y^T - w^T \\cdot X^T) \\cdot (y - X \\cdot w)\\\\\n",
        "&= y^T \\cdot y - w^T \\cdot X^T \\cdot y - y^T \\cdot X \\cdot w + w^T \\cdot X^T \\cdot X \\cdot w\\\\\n",
        "\\cfrac {\\partial Loss}{\\partial w} &= 2 (X^T \\cdot X) \\cdot w - 2X^T \\cdot y = 0 \n",
        "\\end{align}$$\n",
        "\n",
        "We get $\\hat w$ :\n",
        "$$ {\\cfrac {\\partial Loss}{\\partial w}} \\Bigg|_{w = \\hat w} = 0 \\Rightarrow \n",
        "\\hat w = (X^T \\cdot X)^{-1} \\cdot X^T \\cdot y $$\n",
        "\n",
        "### 1.1 Using statistical tool\n",
        "load_iris()는 bunch를 dict 형식의 python 객체를 리턴하는데, bunch는 dict와 유사해서 keys() 메소드로부터 key를 추출."
      ]
    },
    {
      "cell_type": "code",
      "metadata": {
        "id": "UsiqNADk596X",
        "outputId": "658005c6-0c94-41bd-b039-87a839b33e2d",
        "colab": {
          "base_uri": "https://localhost:8080/"
        }
      },
      "source": [
        "import pandas as pd\n",
        "import numpy as np\n",
        "from sklearn.datasets import load_iris\n",
        "bunch = load_iris()\n",
        "bunch.keys()"
      ],
      "execution_count": null,
      "outputs": [
        {
          "output_type": "execute_result",
          "data": {
            "text/plain": [
              "dict_keys(['data', 'target', 'frame', 'target_names', 'DESCR', 'feature_names', 'filename', 'data_module'])"
            ]
          },
          "metadata": {},
          "execution_count": 54
        }
      ]
    },
    {
      "cell_type": "code",
      "metadata": {
        "id": "vKLFyeQU596X",
        "outputId": "a5481380-4192-45ca-b088-4e486fecfcd6",
        "colab": {
          "base_uri": "https://localhost:8080/"
        }
      },
      "source": [
        "bunch.feature_names"
      ],
      "execution_count": null,
      "outputs": [
        {
          "output_type": "execute_result",
          "data": {
            "text/plain": [
              "['sepal length (cm)',\n",
              " 'sepal width (cm)',\n",
              " 'petal length (cm)',\n",
              " 'petal width (cm)']"
            ]
          },
          "metadata": {},
          "execution_count": 55
        }
      ]
    },
    {
      "cell_type": "code",
      "metadata": {
        "id": "XPeC5vlK596X",
        "outputId": "7755c8b6-a36e-4252-d7ae-699b5152da74",
        "colab": {
          "base_uri": "https://localhost:8080/"
        }
      },
      "source": [
        "bunch.data.shape"
      ],
      "execution_count": null,
      "outputs": [
        {
          "output_type": "execute_result",
          "data": {
            "text/plain": [
              "(150, 4)"
            ]
          },
          "metadata": {},
          "execution_count": 56
        }
      ]
    },
    {
      "cell_type": "code",
      "metadata": {
        "id": "9N4dX5-Q596Y",
        "outputId": "a1410520-a88a-4fa4-8e85-cfe180eb5fb5",
        "colab": {
          "base_uri": "https://localhost:8080/",
          "height": 206
        }
      },
      "source": [
        "iris = pd.DataFrame(bunch.data, columns=bunch.feature_names)\n",
        "iris.head()"
      ],
      "execution_count": null,
      "outputs": [
        {
          "output_type": "execute_result",
          "data": {
            "text/html": [
              "\n",
              "  <div id=\"df-4f454d22-f6d5-4be5-912a-3bd1427b792f\">\n",
              "    <div class=\"colab-df-container\">\n",
              "      <div>\n",
              "<style scoped>\n",
              "    .dataframe tbody tr th:only-of-type {\n",
              "        vertical-align: middle;\n",
              "    }\n",
              "\n",
              "    .dataframe tbody tr th {\n",
              "        vertical-align: top;\n",
              "    }\n",
              "\n",
              "    .dataframe thead th {\n",
              "        text-align: right;\n",
              "    }\n",
              "</style>\n",
              "<table border=\"1\" class=\"dataframe\">\n",
              "  <thead>\n",
              "    <tr style=\"text-align: right;\">\n",
              "      <th></th>\n",
              "      <th>sepal length (cm)</th>\n",
              "      <th>sepal width (cm)</th>\n",
              "      <th>petal length (cm)</th>\n",
              "      <th>petal width (cm)</th>\n",
              "    </tr>\n",
              "  </thead>\n",
              "  <tbody>\n",
              "    <tr>\n",
              "      <th>0</th>\n",
              "      <td>5.1</td>\n",
              "      <td>3.5</td>\n",
              "      <td>1.4</td>\n",
              "      <td>0.2</td>\n",
              "    </tr>\n",
              "    <tr>\n",
              "      <th>1</th>\n",
              "      <td>4.9</td>\n",
              "      <td>3.0</td>\n",
              "      <td>1.4</td>\n",
              "      <td>0.2</td>\n",
              "    </tr>\n",
              "    <tr>\n",
              "      <th>2</th>\n",
              "      <td>4.7</td>\n",
              "      <td>3.2</td>\n",
              "      <td>1.3</td>\n",
              "      <td>0.2</td>\n",
              "    </tr>\n",
              "    <tr>\n",
              "      <th>3</th>\n",
              "      <td>4.6</td>\n",
              "      <td>3.1</td>\n",
              "      <td>1.5</td>\n",
              "      <td>0.2</td>\n",
              "    </tr>\n",
              "    <tr>\n",
              "      <th>4</th>\n",
              "      <td>5.0</td>\n",
              "      <td>3.6</td>\n",
              "      <td>1.4</td>\n",
              "      <td>0.2</td>\n",
              "    </tr>\n",
              "  </tbody>\n",
              "</table>\n",
              "</div>\n",
              "      <button class=\"colab-df-convert\" onclick=\"convertToInteractive('df-4f454d22-f6d5-4be5-912a-3bd1427b792f')\"\n",
              "              title=\"Convert this dataframe to an interactive table.\"\n",
              "              style=\"display:none;\">\n",
              "        \n",
              "  <svg xmlns=\"http://www.w3.org/2000/svg\" height=\"24px\"viewBox=\"0 0 24 24\"\n",
              "       width=\"24px\">\n",
              "    <path d=\"M0 0h24v24H0V0z\" fill=\"none\"/>\n",
              "    <path d=\"M18.56 5.44l.94 2.06.94-2.06 2.06-.94-2.06-.94-.94-2.06-.94 2.06-2.06.94zm-11 1L8.5 8.5l.94-2.06 2.06-.94-2.06-.94L8.5 2.5l-.94 2.06-2.06.94zm10 10l.94 2.06.94-2.06 2.06-.94-2.06-.94-.94-2.06-.94 2.06-2.06.94z\"/><path d=\"M17.41 7.96l-1.37-1.37c-.4-.4-.92-.59-1.43-.59-.52 0-1.04.2-1.43.59L10.3 9.45l-7.72 7.72c-.78.78-.78 2.05 0 2.83L4 21.41c.39.39.9.59 1.41.59.51 0 1.02-.2 1.41-.59l7.78-7.78 2.81-2.81c.8-.78.8-2.07 0-2.86zM5.41 20L4 18.59l7.72-7.72 1.47 1.35L5.41 20z\"/>\n",
              "  </svg>\n",
              "      </button>\n",
              "      \n",
              "  <style>\n",
              "    .colab-df-container {\n",
              "      display:flex;\n",
              "      flex-wrap:wrap;\n",
              "      gap: 12px;\n",
              "    }\n",
              "\n",
              "    .colab-df-convert {\n",
              "      background-color: #E8F0FE;\n",
              "      border: none;\n",
              "      border-radius: 50%;\n",
              "      cursor: pointer;\n",
              "      display: none;\n",
              "      fill: #1967D2;\n",
              "      height: 32px;\n",
              "      padding: 0 0 0 0;\n",
              "      width: 32px;\n",
              "    }\n",
              "\n",
              "    .colab-df-convert:hover {\n",
              "      background-color: #E2EBFA;\n",
              "      box-shadow: 0px 1px 2px rgba(60, 64, 67, 0.3), 0px 1px 3px 1px rgba(60, 64, 67, 0.15);\n",
              "      fill: #174EA6;\n",
              "    }\n",
              "\n",
              "    [theme=dark] .colab-df-convert {\n",
              "      background-color: #3B4455;\n",
              "      fill: #D2E3FC;\n",
              "    }\n",
              "\n",
              "    [theme=dark] .colab-df-convert:hover {\n",
              "      background-color: #434B5C;\n",
              "      box-shadow: 0px 1px 3px 1px rgba(0, 0, 0, 0.15);\n",
              "      filter: drop-shadow(0px 1px 2px rgba(0, 0, 0, 0.3));\n",
              "      fill: #FFFFFF;\n",
              "    }\n",
              "  </style>\n",
              "\n",
              "      <script>\n",
              "        const buttonEl =\n",
              "          document.querySelector('#df-4f454d22-f6d5-4be5-912a-3bd1427b792f button.colab-df-convert');\n",
              "        buttonEl.style.display =\n",
              "          google.colab.kernel.accessAllowed ? 'block' : 'none';\n",
              "\n",
              "        async function convertToInteractive(key) {\n",
              "          const element = document.querySelector('#df-4f454d22-f6d5-4be5-912a-3bd1427b792f');\n",
              "          const dataTable =\n",
              "            await google.colab.kernel.invokeFunction('convertToInteractive',\n",
              "                                                     [key], {});\n",
              "          if (!dataTable) return;\n",
              "\n",
              "          const docLinkHtml = 'Like what you see? Visit the ' +\n",
              "            '<a target=\"_blank\" href=https://colab.research.google.com/notebooks/data_table.ipynb>data table notebook</a>'\n",
              "            + ' to learn more about interactive tables.';\n",
              "          element.innerHTML = '';\n",
              "          dataTable['output_type'] = 'display_data';\n",
              "          await google.colab.output.renderOutput(dataTable, element);\n",
              "          const docLink = document.createElement('div');\n",
              "          docLink.innerHTML = docLinkHtml;\n",
              "          element.appendChild(docLink);\n",
              "        }\n",
              "      </script>\n",
              "    </div>\n",
              "  </div>\n",
              "  "
            ],
            "text/plain": [
              "   sepal length (cm)  sepal width (cm)  petal length (cm)  petal width (cm)\n",
              "0                5.1               3.5                1.4               0.2\n",
              "1                4.9               3.0                1.4               0.2\n",
              "2                4.7               3.2                1.3               0.2\n",
              "3                4.6               3.1                1.5               0.2\n",
              "4                5.0               3.6                1.4               0.2"
            ]
          },
          "metadata": {},
          "execution_count": 57
        }
      ]
    },
    {
      "cell_type": "markdown",
      "metadata": {
        "id": "-32YesmO596Y"
      },
      "source": [
        "꽃받침의 길이와 너비, 꽃잎의 길이가 주어지면 꽃잎의 너비를 예측하는 회귀문제를 해결하려 한다면:\n",
        "- 통계에서의 회귀 formula: y ~ X, y ~ x1 + x2 + x3"
      ]
    },
    {
      "cell_type": "code",
      "metadata": {
        "id": "Tp5e7NRV596Y",
        "outputId": "279049fd-dff2-4653-8816-6e3422aa7b6c",
        "colab": {
          "base_uri": "https://localhost:8080/"
        }
      },
      "source": [
        "iris.columns = ['sl', 'sw', 'pl', 'pw']\n",
        "iris.info()"
      ],
      "execution_count": null,
      "outputs": [
        {
          "output_type": "stream",
          "name": "stdout",
          "text": [
            "<class 'pandas.core.frame.DataFrame'>\n",
            "RangeIndex: 150 entries, 0 to 149\n",
            "Data columns (total 4 columns):\n",
            " #   Column  Non-Null Count  Dtype  \n",
            "---  ------  --------------  -----  \n",
            " 0   sl      150 non-null    float64\n",
            " 1   sw      150 non-null    float64\n",
            " 2   pl      150 non-null    float64\n",
            " 3   pw      150 non-null    float64\n",
            "dtypes: float64(4)\n",
            "memory usage: 4.8 KB\n"
          ]
        }
      ]
    },
    {
      "cell_type": "markdown",
      "metadata": {
        "id": "SjDWcEM8596Y"
      },
      "source": [
        "petal width를 target으로 회귀식을 생성해보자."
      ]
    },
    {
      "cell_type": "code",
      "metadata": {
        "id": "uzA6ok7S596Z",
        "outputId": "b84c4b32-0798-4f76-9f8c-29d25aff5380",
        "colab": {
          "base_uri": "https://localhost:8080/",
          "height": 35
        }
      },
      "source": [
        "' + '.join(iris.columns[:3])"
      ],
      "execution_count": null,
      "outputs": [
        {
          "output_type": "execute_result",
          "data": {
            "application/vnd.google.colaboratory.intrinsic+json": {
              "type": "string"
            },
            "text/plain": [
              "'sl + sw + pl'"
            ]
          },
          "metadata": {},
          "execution_count": 59
        }
      ]
    },
    {
      "cell_type": "code",
      "metadata": {
        "id": "xgrk-_W9596Z",
        "outputId": "ccc6bb4d-e678-4bdf-d5ae-9fcf1c37457a",
        "colab": {
          "base_uri": "https://localhost:8080/",
          "height": 35
        }
      },
      "source": [
        "# formula = 'y ~ x1 + x2 + x3'\n",
        "formula = '%s ~ '%iris.columns[3]\n",
        "formula += ' + '.join(iris.columns[:3])\n",
        "formula"
      ],
      "execution_count": null,
      "outputs": [
        {
          "output_type": "execute_result",
          "data": {
            "application/vnd.google.colaboratory.intrinsic+json": {
              "type": "string"
            },
            "text/plain": [
              "'pw ~ sl + sw + pl'"
            ]
          },
          "metadata": {},
          "execution_count": 60
        }
      ]
    },
    {
      "cell_type": "code",
      "metadata": {
        "scrolled": false,
        "id": "lUbJn74m596Z",
        "outputId": "dd84c56d-2ad4-4636-de8e-de8327608447",
        "colab": {
          "base_uri": "https://localhost:8080/",
          "height": 488
        }
      },
      "source": [
        "import statsmodels.formula.api as smf\n",
        "\n",
        "model = smf.ols(formula = formula, data = iris)\n",
        "result = model.fit()\n",
        "result.summary()"
      ],
      "execution_count": null,
      "outputs": [
        {
          "output_type": "execute_result",
          "data": {
            "text/html": [
              "<table class=\"simpletable\">\n",
              "<caption>OLS Regression Results</caption>\n",
              "<tr>\n",
              "  <th>Dep. Variable:</th>           <td>pw</td>        <th>  R-squared:         </th> <td>   0.938</td>\n",
              "</tr>\n",
              "<tr>\n",
              "  <th>Model:</th>                   <td>OLS</td>       <th>  Adj. R-squared:    </th> <td>   0.937</td>\n",
              "</tr>\n",
              "<tr>\n",
              "  <th>Method:</th>             <td>Least Squares</td>  <th>  F-statistic:       </th> <td>   734.4</td>\n",
              "</tr>\n",
              "<tr>\n",
              "  <th>Date:</th>             <td>Mon, 27 Dec 2021</td> <th>  Prob (F-statistic):</th> <td>7.83e-88</td>\n",
              "</tr>\n",
              "<tr>\n",
              "  <th>Time:</th>                 <td>04:39:00</td>     <th>  Log-Likelihood:    </th> <td>  36.751</td>\n",
              "</tr>\n",
              "<tr>\n",
              "  <th>No. Observations:</th>      <td>   150</td>      <th>  AIC:               </th> <td>  -65.50</td>\n",
              "</tr>\n",
              "<tr>\n",
              "  <th>Df Residuals:</th>          <td>   146</td>      <th>  BIC:               </th> <td>  -53.46</td>\n",
              "</tr>\n",
              "<tr>\n",
              "  <th>Df Model:</th>              <td>     3</td>      <th>                     </th>     <td> </td>   \n",
              "</tr>\n",
              "<tr>\n",
              "  <th>Covariance Type:</th>      <td>nonrobust</td>    <th>                     </th>     <td> </td>   \n",
              "</tr>\n",
              "</table>\n",
              "<table class=\"simpletable\">\n",
              "<tr>\n",
              "      <td></td>         <th>coef</th>     <th>std err</th>      <th>t</th>      <th>P>|t|</th>  <th>[0.025</th>    <th>0.975]</th>  \n",
              "</tr>\n",
              "<tr>\n",
              "  <th>Intercept</th> <td>   -0.2403</td> <td>    0.178</td> <td>   -1.347</td> <td> 0.180</td> <td>   -0.593</td> <td>    0.112</td>\n",
              "</tr>\n",
              "<tr>\n",
              "  <th>sl</th>        <td>   -0.2073</td> <td>    0.048</td> <td>   -4.363</td> <td> 0.000</td> <td>   -0.301</td> <td>   -0.113</td>\n",
              "</tr>\n",
              "<tr>\n",
              "  <th>sw</th>        <td>    0.2228</td> <td>    0.049</td> <td>    4.553</td> <td> 0.000</td> <td>    0.126</td> <td>    0.320</td>\n",
              "</tr>\n",
              "<tr>\n",
              "  <th>pl</th>        <td>    0.5241</td> <td>    0.024</td> <td>   21.399</td> <td> 0.000</td> <td>    0.476</td> <td>    0.572</td>\n",
              "</tr>\n",
              "</table>\n",
              "<table class=\"simpletable\">\n",
              "<tr>\n",
              "  <th>Omnibus:</th>       <td> 5.609</td> <th>  Durbin-Watson:     </th> <td>   1.573</td>\n",
              "</tr>\n",
              "<tr>\n",
              "  <th>Prob(Omnibus):</th> <td> 0.061</td> <th>  Jarque-Bera (JB):  </th> <td>   6.811</td>\n",
              "</tr>\n",
              "<tr>\n",
              "  <th>Skew:</th>          <td> 0.223</td> <th>  Prob(JB):          </th> <td>  0.0332</td>\n",
              "</tr>\n",
              "<tr>\n",
              "  <th>Kurtosis:</th>      <td> 3.944</td> <th>  Cond. No.          </th> <td>    90.1</td>\n",
              "</tr>\n",
              "</table><br/><br/>Warnings:<br/>[1] Standard Errors assume that the covariance matrix of the errors is correctly specified."
            ],
            "text/plain": [
              "<class 'statsmodels.iolib.summary.Summary'>\n",
              "\"\"\"\n",
              "                            OLS Regression Results                            \n",
              "==============================================================================\n",
              "Dep. Variable:                     pw   R-squared:                       0.938\n",
              "Model:                            OLS   Adj. R-squared:                  0.937\n",
              "Method:                 Least Squares   F-statistic:                     734.4\n",
              "Date:                Mon, 27 Dec 2021   Prob (F-statistic):           7.83e-88\n",
              "Time:                        04:39:00   Log-Likelihood:                 36.751\n",
              "No. Observations:                 150   AIC:                            -65.50\n",
              "Df Residuals:                     146   BIC:                            -53.46\n",
              "Df Model:                           3                                         \n",
              "Covariance Type:            nonrobust                                         \n",
              "==============================================================================\n",
              "                 coef    std err          t      P>|t|      [0.025      0.975]\n",
              "------------------------------------------------------------------------------\n",
              "Intercept     -0.2403      0.178     -1.347      0.180      -0.593       0.112\n",
              "sl            -0.2073      0.048     -4.363      0.000      -0.301      -0.113\n",
              "sw             0.2228      0.049      4.553      0.000       0.126       0.320\n",
              "pl             0.5241      0.024     21.399      0.000       0.476       0.572\n",
              "==============================================================================\n",
              "Omnibus:                        5.609   Durbin-Watson:                   1.573\n",
              "Prob(Omnibus):                  0.061   Jarque-Bera (JB):                6.811\n",
              "Skew:                           0.223   Prob(JB):                       0.0332\n",
              "Kurtosis:                       3.944   Cond. No.                         90.1\n",
              "==============================================================================\n",
              "\n",
              "Warnings:\n",
              "[1] Standard Errors assume that the covariance matrix of the errors is correctly specified.\n",
              "\"\"\""
            ]
          },
          "metadata": {},
          "execution_count": 61
        }
      ]
    },
    {
      "cell_type": "code",
      "metadata": {
        "id": "QNCV4tHI596Z",
        "outputId": "debfa0ae-572b-429c-9f77-8464632d55e0",
        "colab": {
          "base_uri": "https://localhost:8080/"
        }
      },
      "source": [
        "result.params"
      ],
      "execution_count": null,
      "outputs": [
        {
          "output_type": "execute_result",
          "data": {
            "text/plain": [
              "Intercept   -0.240307\n",
              "sl          -0.207266\n",
              "sw           0.222829\n",
              "pl           0.524083\n",
              "dtype: float64"
            ]
          },
          "metadata": {},
          "execution_count": 62
        }
      ]
    },
    {
      "cell_type": "markdown",
      "metadata": {
        "id": "t5kI6XS2596a"
      },
      "source": [
        "### 1.2 Using numpy with linear algebra\n",
        "Now, we'll compute with numpy :\n",
        "$$ \\hat w =  (X^T \\cdot X)^{-1} \\cdot X^T \\cdot y $$"
      ]
    },
    {
      "cell_type": "markdown",
      "metadata": {
        "id": "0UOUFXNd596a"
      },
      "source": [
        "Set : $y = X \\cdot w + b + \\epsilon = X \\cdot w + \\epsilon$\n",
        "- assume: x = (1, x), w = (b, w). So,\n",
        "- y = X[:, 3]\n",
        "- X = np.hstack(np.ones(shape), X[:, :3])\n",
        "\n",
        "And then, you can use numpy.linalg.inv for inverse matrix."
      ]
    },
    {
      "cell_type": "code",
      "metadata": {
        "id": "hz4Dy94h596a",
        "outputId": "7d32bef3-8d28-4422-9769-339df5731378",
        "colab": {
          "base_uri": "https://localhost:8080/",
          "height": 206
        }
      },
      "source": [
        "iris.head()"
      ],
      "execution_count": null,
      "outputs": [
        {
          "output_type": "execute_result",
          "data": {
            "text/html": [
              "\n",
              "  <div id=\"df-052bfa8a-7081-4b6a-8bd1-9317e1011c44\">\n",
              "    <div class=\"colab-df-container\">\n",
              "      <div>\n",
              "<style scoped>\n",
              "    .dataframe tbody tr th:only-of-type {\n",
              "        vertical-align: middle;\n",
              "    }\n",
              "\n",
              "    .dataframe tbody tr th {\n",
              "        vertical-align: top;\n",
              "    }\n",
              "\n",
              "    .dataframe thead th {\n",
              "        text-align: right;\n",
              "    }\n",
              "</style>\n",
              "<table border=\"1\" class=\"dataframe\">\n",
              "  <thead>\n",
              "    <tr style=\"text-align: right;\">\n",
              "      <th></th>\n",
              "      <th>sl</th>\n",
              "      <th>sw</th>\n",
              "      <th>pl</th>\n",
              "      <th>pw</th>\n",
              "    </tr>\n",
              "  </thead>\n",
              "  <tbody>\n",
              "    <tr>\n",
              "      <th>0</th>\n",
              "      <td>5.1</td>\n",
              "      <td>3.5</td>\n",
              "      <td>1.4</td>\n",
              "      <td>0.2</td>\n",
              "    </tr>\n",
              "    <tr>\n",
              "      <th>1</th>\n",
              "      <td>4.9</td>\n",
              "      <td>3.0</td>\n",
              "      <td>1.4</td>\n",
              "      <td>0.2</td>\n",
              "    </tr>\n",
              "    <tr>\n",
              "      <th>2</th>\n",
              "      <td>4.7</td>\n",
              "      <td>3.2</td>\n",
              "      <td>1.3</td>\n",
              "      <td>0.2</td>\n",
              "    </tr>\n",
              "    <tr>\n",
              "      <th>3</th>\n",
              "      <td>4.6</td>\n",
              "      <td>3.1</td>\n",
              "      <td>1.5</td>\n",
              "      <td>0.2</td>\n",
              "    </tr>\n",
              "    <tr>\n",
              "      <th>4</th>\n",
              "      <td>5.0</td>\n",
              "      <td>3.6</td>\n",
              "      <td>1.4</td>\n",
              "      <td>0.2</td>\n",
              "    </tr>\n",
              "  </tbody>\n",
              "</table>\n",
              "</div>\n",
              "      <button class=\"colab-df-convert\" onclick=\"convertToInteractive('df-052bfa8a-7081-4b6a-8bd1-9317e1011c44')\"\n",
              "              title=\"Convert this dataframe to an interactive table.\"\n",
              "              style=\"display:none;\">\n",
              "        \n",
              "  <svg xmlns=\"http://www.w3.org/2000/svg\" height=\"24px\"viewBox=\"0 0 24 24\"\n",
              "       width=\"24px\">\n",
              "    <path d=\"M0 0h24v24H0V0z\" fill=\"none\"/>\n",
              "    <path d=\"M18.56 5.44l.94 2.06.94-2.06 2.06-.94-2.06-.94-.94-2.06-.94 2.06-2.06.94zm-11 1L8.5 8.5l.94-2.06 2.06-.94-2.06-.94L8.5 2.5l-.94 2.06-2.06.94zm10 10l.94 2.06.94-2.06 2.06-.94-2.06-.94-.94-2.06-.94 2.06-2.06.94z\"/><path d=\"M17.41 7.96l-1.37-1.37c-.4-.4-.92-.59-1.43-.59-.52 0-1.04.2-1.43.59L10.3 9.45l-7.72 7.72c-.78.78-.78 2.05 0 2.83L4 21.41c.39.39.9.59 1.41.59.51 0 1.02-.2 1.41-.59l7.78-7.78 2.81-2.81c.8-.78.8-2.07 0-2.86zM5.41 20L4 18.59l7.72-7.72 1.47 1.35L5.41 20z\"/>\n",
              "  </svg>\n",
              "      </button>\n",
              "      \n",
              "  <style>\n",
              "    .colab-df-container {\n",
              "      display:flex;\n",
              "      flex-wrap:wrap;\n",
              "      gap: 12px;\n",
              "    }\n",
              "\n",
              "    .colab-df-convert {\n",
              "      background-color: #E8F0FE;\n",
              "      border: none;\n",
              "      border-radius: 50%;\n",
              "      cursor: pointer;\n",
              "      display: none;\n",
              "      fill: #1967D2;\n",
              "      height: 32px;\n",
              "      padding: 0 0 0 0;\n",
              "      width: 32px;\n",
              "    }\n",
              "\n",
              "    .colab-df-convert:hover {\n",
              "      background-color: #E2EBFA;\n",
              "      box-shadow: 0px 1px 2px rgba(60, 64, 67, 0.3), 0px 1px 3px 1px rgba(60, 64, 67, 0.15);\n",
              "      fill: #174EA6;\n",
              "    }\n",
              "\n",
              "    [theme=dark] .colab-df-convert {\n",
              "      background-color: #3B4455;\n",
              "      fill: #D2E3FC;\n",
              "    }\n",
              "\n",
              "    [theme=dark] .colab-df-convert:hover {\n",
              "      background-color: #434B5C;\n",
              "      box-shadow: 0px 1px 3px 1px rgba(0, 0, 0, 0.15);\n",
              "      filter: drop-shadow(0px 1px 2px rgba(0, 0, 0, 0.3));\n",
              "      fill: #FFFFFF;\n",
              "    }\n",
              "  </style>\n",
              "\n",
              "      <script>\n",
              "        const buttonEl =\n",
              "          document.querySelector('#df-052bfa8a-7081-4b6a-8bd1-9317e1011c44 button.colab-df-convert');\n",
              "        buttonEl.style.display =\n",
              "          google.colab.kernel.accessAllowed ? 'block' : 'none';\n",
              "\n",
              "        async function convertToInteractive(key) {\n",
              "          const element = document.querySelector('#df-052bfa8a-7081-4b6a-8bd1-9317e1011c44');\n",
              "          const dataTable =\n",
              "            await google.colab.kernel.invokeFunction('convertToInteractive',\n",
              "                                                     [key], {});\n",
              "          if (!dataTable) return;\n",
              "\n",
              "          const docLinkHtml = 'Like what you see? Visit the ' +\n",
              "            '<a target=\"_blank\" href=https://colab.research.google.com/notebooks/data_table.ipynb>data table notebook</a>'\n",
              "            + ' to learn more about interactive tables.';\n",
              "          element.innerHTML = '';\n",
              "          dataTable['output_type'] = 'display_data';\n",
              "          await google.colab.output.renderOutput(dataTable, element);\n",
              "          const docLink = document.createElement('div');\n",
              "          docLink.innerHTML = docLinkHtml;\n",
              "          element.appendChild(docLink);\n",
              "        }\n",
              "      </script>\n",
              "    </div>\n",
              "  </div>\n",
              "  "
            ],
            "text/plain": [
              "    sl   sw   pl   pw\n",
              "0  5.1  3.5  1.4  0.2\n",
              "1  4.9  3.0  1.4  0.2\n",
              "2  4.7  3.2  1.3  0.2\n",
              "3  4.6  3.1  1.5  0.2\n",
              "4  5.0  3.6  1.4  0.2"
            ]
          },
          "metadata": {},
          "execution_count": 63
        }
      ]
    },
    {
      "cell_type": "code",
      "metadata": {
        "id": "AnULHKTw596a"
      },
      "source": [
        "y = bunch.data[:, 3]\n",
        "X = bunch.data[:, :3]"
      ],
      "execution_count": null,
      "outputs": []
    },
    {
      "cell_type": "markdown",
      "metadata": {
        "id": "KqbK9TcG596a"
      },
      "source": [
        "$$ \\hat w =  (X^T \\cdot X)^{-1} \\cdot X^T \\cdot y $$"
      ]
    },
    {
      "cell_type": "code",
      "metadata": {
        "id": "2Bzeuxt2596a",
        "outputId": "0c71828b-a369-4001-d91e-9f9330c31365",
        "colab": {
          "base_uri": "https://localhost:8080/"
        }
      },
      "source": [
        "X = np.hstack((np.ones(X.shape[0]).reshape(-1, 1), X))\n",
        "X"
      ],
      "execution_count": null,
      "outputs": [
        {
          "output_type": "execute_result",
          "data": {
            "text/plain": [
              "array([[1. , 5.1, 3.5, 1.4],\n",
              "       [1. , 4.9, 3. , 1.4],\n",
              "       [1. , 4.7, 3.2, 1.3],\n",
              "       [1. , 4.6, 3.1, 1.5],\n",
              "       [1. , 5. , 3.6, 1.4],\n",
              "       [1. , 5.4, 3.9, 1.7],\n",
              "       [1. , 4.6, 3.4, 1.4],\n",
              "       [1. , 5. , 3.4, 1.5],\n",
              "       [1. , 4.4, 2.9, 1.4],\n",
              "       [1. , 4.9, 3.1, 1.5],\n",
              "       [1. , 5.4, 3.7, 1.5],\n",
              "       [1. , 4.8, 3.4, 1.6],\n",
              "       [1. , 4.8, 3. , 1.4],\n",
              "       [1. , 4.3, 3. , 1.1],\n",
              "       [1. , 5.8, 4. , 1.2],\n",
              "       [1. , 5.7, 4.4, 1.5],\n",
              "       [1. , 5.4, 3.9, 1.3],\n",
              "       [1. , 5.1, 3.5, 1.4],\n",
              "       [1. , 5.7, 3.8, 1.7],\n",
              "       [1. , 5.1, 3.8, 1.5],\n",
              "       [1. , 5.4, 3.4, 1.7],\n",
              "       [1. , 5.1, 3.7, 1.5],\n",
              "       [1. , 4.6, 3.6, 1. ],\n",
              "       [1. , 5.1, 3.3, 1.7],\n",
              "       [1. , 4.8, 3.4, 1.9],\n",
              "       [1. , 5. , 3. , 1.6],\n",
              "       [1. , 5. , 3.4, 1.6],\n",
              "       [1. , 5.2, 3.5, 1.5],\n",
              "       [1. , 5.2, 3.4, 1.4],\n",
              "       [1. , 4.7, 3.2, 1.6],\n",
              "       [1. , 4.8, 3.1, 1.6],\n",
              "       [1. , 5.4, 3.4, 1.5],\n",
              "       [1. , 5.2, 4.1, 1.5],\n",
              "       [1. , 5.5, 4.2, 1.4],\n",
              "       [1. , 4.9, 3.1, 1.5],\n",
              "       [1. , 5. , 3.2, 1.2],\n",
              "       [1. , 5.5, 3.5, 1.3],\n",
              "       [1. , 4.9, 3.6, 1.4],\n",
              "       [1. , 4.4, 3. , 1.3],\n",
              "       [1. , 5.1, 3.4, 1.5],\n",
              "       [1. , 5. , 3.5, 1.3],\n",
              "       [1. , 4.5, 2.3, 1.3],\n",
              "       [1. , 4.4, 3.2, 1.3],\n",
              "       [1. , 5. , 3.5, 1.6],\n",
              "       [1. , 5.1, 3.8, 1.9],\n",
              "       [1. , 4.8, 3. , 1.4],\n",
              "       [1. , 5.1, 3.8, 1.6],\n",
              "       [1. , 4.6, 3.2, 1.4],\n",
              "       [1. , 5.3, 3.7, 1.5],\n",
              "       [1. , 5. , 3.3, 1.4],\n",
              "       [1. , 7. , 3.2, 4.7],\n",
              "       [1. , 6.4, 3.2, 4.5],\n",
              "       [1. , 6.9, 3.1, 4.9],\n",
              "       [1. , 5.5, 2.3, 4. ],\n",
              "       [1. , 6.5, 2.8, 4.6],\n",
              "       [1. , 5.7, 2.8, 4.5],\n",
              "       [1. , 6.3, 3.3, 4.7],\n",
              "       [1. , 4.9, 2.4, 3.3],\n",
              "       [1. , 6.6, 2.9, 4.6],\n",
              "       [1. , 5.2, 2.7, 3.9],\n",
              "       [1. , 5. , 2. , 3.5],\n",
              "       [1. , 5.9, 3. , 4.2],\n",
              "       [1. , 6. , 2.2, 4. ],\n",
              "       [1. , 6.1, 2.9, 4.7],\n",
              "       [1. , 5.6, 2.9, 3.6],\n",
              "       [1. , 6.7, 3.1, 4.4],\n",
              "       [1. , 5.6, 3. , 4.5],\n",
              "       [1. , 5.8, 2.7, 4.1],\n",
              "       [1. , 6.2, 2.2, 4.5],\n",
              "       [1. , 5.6, 2.5, 3.9],\n",
              "       [1. , 5.9, 3.2, 4.8],\n",
              "       [1. , 6.1, 2.8, 4. ],\n",
              "       [1. , 6.3, 2.5, 4.9],\n",
              "       [1. , 6.1, 2.8, 4.7],\n",
              "       [1. , 6.4, 2.9, 4.3],\n",
              "       [1. , 6.6, 3. , 4.4],\n",
              "       [1. , 6.8, 2.8, 4.8],\n",
              "       [1. , 6.7, 3. , 5. ],\n",
              "       [1. , 6. , 2.9, 4.5],\n",
              "       [1. , 5.7, 2.6, 3.5],\n",
              "       [1. , 5.5, 2.4, 3.8],\n",
              "       [1. , 5.5, 2.4, 3.7],\n",
              "       [1. , 5.8, 2.7, 3.9],\n",
              "       [1. , 6. , 2.7, 5.1],\n",
              "       [1. , 5.4, 3. , 4.5],\n",
              "       [1. , 6. , 3.4, 4.5],\n",
              "       [1. , 6.7, 3.1, 4.7],\n",
              "       [1. , 6.3, 2.3, 4.4],\n",
              "       [1. , 5.6, 3. , 4.1],\n",
              "       [1. , 5.5, 2.5, 4. ],\n",
              "       [1. , 5.5, 2.6, 4.4],\n",
              "       [1. , 6.1, 3. , 4.6],\n",
              "       [1. , 5.8, 2.6, 4. ],\n",
              "       [1. , 5. , 2.3, 3.3],\n",
              "       [1. , 5.6, 2.7, 4.2],\n",
              "       [1. , 5.7, 3. , 4.2],\n",
              "       [1. , 5.7, 2.9, 4.2],\n",
              "       [1. , 6.2, 2.9, 4.3],\n",
              "       [1. , 5.1, 2.5, 3. ],\n",
              "       [1. , 5.7, 2.8, 4.1],\n",
              "       [1. , 6.3, 3.3, 6. ],\n",
              "       [1. , 5.8, 2.7, 5.1],\n",
              "       [1. , 7.1, 3. , 5.9],\n",
              "       [1. , 6.3, 2.9, 5.6],\n",
              "       [1. , 6.5, 3. , 5.8],\n",
              "       [1. , 7.6, 3. , 6.6],\n",
              "       [1. , 4.9, 2.5, 4.5],\n",
              "       [1. , 7.3, 2.9, 6.3],\n",
              "       [1. , 6.7, 2.5, 5.8],\n",
              "       [1. , 7.2, 3.6, 6.1],\n",
              "       [1. , 6.5, 3.2, 5.1],\n",
              "       [1. , 6.4, 2.7, 5.3],\n",
              "       [1. , 6.8, 3. , 5.5],\n",
              "       [1. , 5.7, 2.5, 5. ],\n",
              "       [1. , 5.8, 2.8, 5.1],\n",
              "       [1. , 6.4, 3.2, 5.3],\n",
              "       [1. , 6.5, 3. , 5.5],\n",
              "       [1. , 7.7, 3.8, 6.7],\n",
              "       [1. , 7.7, 2.6, 6.9],\n",
              "       [1. , 6. , 2.2, 5. ],\n",
              "       [1. , 6.9, 3.2, 5.7],\n",
              "       [1. , 5.6, 2.8, 4.9],\n",
              "       [1. , 7.7, 2.8, 6.7],\n",
              "       [1. , 6.3, 2.7, 4.9],\n",
              "       [1. , 6.7, 3.3, 5.7],\n",
              "       [1. , 7.2, 3.2, 6. ],\n",
              "       [1. , 6.2, 2.8, 4.8],\n",
              "       [1. , 6.1, 3. , 4.9],\n",
              "       [1. , 6.4, 2.8, 5.6],\n",
              "       [1. , 7.2, 3. , 5.8],\n",
              "       [1. , 7.4, 2.8, 6.1],\n",
              "       [1. , 7.9, 3.8, 6.4],\n",
              "       [1. , 6.4, 2.8, 5.6],\n",
              "       [1. , 6.3, 2.8, 5.1],\n",
              "       [1. , 6.1, 2.6, 5.6],\n",
              "       [1. , 7.7, 3. , 6.1],\n",
              "       [1. , 6.3, 3.4, 5.6],\n",
              "       [1. , 6.4, 3.1, 5.5],\n",
              "       [1. , 6. , 3. , 4.8],\n",
              "       [1. , 6.9, 3.1, 5.4],\n",
              "       [1. , 6.7, 3.1, 5.6],\n",
              "       [1. , 6.9, 3.1, 5.1],\n",
              "       [1. , 5.8, 2.7, 5.1],\n",
              "       [1. , 6.8, 3.2, 5.9],\n",
              "       [1. , 6.7, 3.3, 5.7],\n",
              "       [1. , 6.7, 3. , 5.2],\n",
              "       [1. , 6.3, 2.5, 5. ],\n",
              "       [1. , 6.5, 3. , 5.2],\n",
              "       [1. , 6.2, 3.4, 5.4],\n",
              "       [1. , 5.9, 3. , 5.1]])"
            ]
          },
          "metadata": {},
          "execution_count": 65
        }
      ]
    },
    {
      "cell_type": "code",
      "metadata": {
        "id": "ngxaIRKO596b",
        "outputId": "8d47b493-190d-4737-e3ee-8ea3012e0d79",
        "colab": {
          "base_uri": "https://localhost:8080/"
        }
      },
      "source": [
        "from scipy.linalg import inv\n",
        "w = inv(X.T.dot(X)).dot(X.T).dot(y)\n",
        "w"
      ],
      "execution_count": null,
      "outputs": [
        {
          "output_type": "execute_result",
          "data": {
            "text/plain": [
              "array([-0.24030739, -0.20726607,  0.22282854,  0.52408311])"
            ]
          },
          "metadata": {},
          "execution_count": 66
        }
      ]
    },
    {
      "cell_type": "code",
      "metadata": {
        "id": "F386cwGq596b",
        "outputId": "67af062e-bb48-47bc-e330-0602d9357f9f",
        "colab": {
          "base_uri": "https://localhost:8080/"
        }
      },
      "source": [
        "result.params"
      ],
      "execution_count": null,
      "outputs": [
        {
          "output_type": "execute_result",
          "data": {
            "text/plain": [
              "Intercept   -0.240307\n",
              "sl          -0.207266\n",
              "sw           0.222829\n",
              "pl           0.524083\n",
              "dtype: float64"
            ]
          },
          "metadata": {},
          "execution_count": 67
        }
      ]
    },
    {
      "cell_type": "markdown",
      "metadata": {
        "id": "V8dLI_8C596b"
      },
      "source": [
        "### 1.3 Machine Learning Method"
      ]
    },
    {
      "cell_type": "code",
      "metadata": {
        "id": "t2Ep7Foi596b",
        "outputId": "d90caafb-57b7-4df0-aed1-16ac8da0faa3",
        "colab": {
          "base_uri": "https://localhost:8080/"
        }
      },
      "source": [
        "from numpy.random import shuffle, rand\n",
        "np.random.seed(234)\n",
        "w = rand(X.shape[-1]) - 0.5\n",
        "w"
      ],
      "execution_count": null,
      "outputs": [
        {
          "output_type": "execute_result",
          "data": {
            "text/plain": [
              "array([-0.46903266, -0.24571793,  0.41240044,  0.4701742 ])"
            ]
          },
          "metadata": {},
          "execution_count": 68
        }
      ]
    },
    {
      "cell_type": "markdown",
      "metadata": {
        "id": "FWX2l89J596b"
      },
      "source": [
        "1. 전체 학습데이터의 일부분(batch)을 이용하여 예측을 수행하고\n",
        "2. 실제 값에서 예측값을 빼서 error구해 손실을 계산하고\n",
        "3. 손실을 줄이는 방향으로 학습 파라미터(w)를 업데이트하고\n",
        "4. 1 ~ 3을 전체 학습데이터를 모두 이용할 때까지 반복한 후,\n",
        "5. 학습데이터를 다시 섞고 1 ~ 4의 과정을 EPOCH의 수만큼 반복한다."
      ]
    },
    {
      "cell_type": "markdown",
      "metadata": {
        "id": "aQ6O0AV1596b"
      },
      "source": [
        "$$\\begin{align}\n",
        "Loss(w) &= \\epsilon^2 = (y - X \\cdot w)^T \\cdot (y - X \\cdot w)\\\\\n",
        "dW = \\cfrac {\\partial Loss}{\\partial w} &= 2 (X^T \\cdot X) \\cdot w - 2X^T \\cdot y \\\\\n",
        "w(t+1) &= w(t) - \\text{lr} * \\cfrac {\\partial Loss}{\\partial w} \\Bigg|_{w =w(t)}\n",
        "\\end{align}$$"
      ]
    },
    {
      "cell_type": "code",
      "metadata": {
        "id": "Nfk7DcRf596c"
      },
      "source": [
        "EPOCH = 50000\n",
        "batch = 32\n",
        "lr = 0.0001\n",
        "rows = X.shape[0]\n",
        "losses = []\n",
        "randRow = np.arange(rows)\n",
        "\n",
        "for epoch in range(EPOCH):\n",
        "    # for each epoch, shuffle X, y\n",
        "    shuffle(randRow)\n",
        "    loss = 0\n",
        "    \n",
        "    for i in range(0, rows, batch):\n",
        "        batch_index = randRow[i:i+batch]\n",
        "        x_batch = X[batch_index]\n",
        "        y_batch = y[batch_index]\n",
        "        y_hat = x_batch.dot(w)\n",
        "        loss += (y_batch - y_hat).T.dot((y_batch - y_hat))\n",
        "        # dw = d Loss(w) / d(w)\n",
        "        dw = x_batch.T.dot(x_batch).dot(w) - x_batch.T.dot(y_batch) \n",
        "        w -= lr*dw\n",
        "        \n",
        "    loss /= rows\n",
        "    losses.append(loss)"
      ],
      "execution_count": null,
      "outputs": []
    },
    {
      "cell_type": "code",
      "metadata": {
        "id": "DpF2cKce596c",
        "outputId": "9c5e0136-51ea-43a6-b7df-5854838e62ec",
        "colab": {
          "base_uri": "https://localhost:8080/"
        }
      },
      "source": [
        "w"
      ],
      "execution_count": null,
      "outputs": [
        {
          "output_type": "execute_result",
          "data": {
            "text/plain": [
              "array([-0.24080432, -0.20653305,  0.22333685,  0.52462474])"
            ]
          },
          "metadata": {},
          "execution_count": 70
        }
      ]
    },
    {
      "cell_type": "code",
      "metadata": {
        "scrolled": true,
        "id": "xfDvy-vg596c",
        "outputId": "23626fd1-59f8-4078-c172-6909b8972977",
        "colab": {
          "base_uri": "https://localhost:8080/"
        }
      },
      "source": [
        "result.params.values"
      ],
      "execution_count": null,
      "outputs": [
        {
          "output_type": "execute_result",
          "data": {
            "text/plain": [
              "array([-0.24030739, -0.20726607,  0.22282854,  0.52408311])"
            ]
          },
          "metadata": {},
          "execution_count": 71
        }
      ]
    },
    {
      "cell_type": "code",
      "metadata": {
        "id": "U31IIhQr596c",
        "outputId": "898d9240-b8fe-44f5-9158-6fca743a41e4",
        "colab": {
          "base_uri": "https://localhost:8080/",
          "height": 283
        }
      },
      "source": [
        "import pandas as pd\n",
        "%matplotlib inline\n",
        "loss_df = pd.DataFrame(losses)\n",
        "loss_df.plot()"
      ],
      "execution_count": null,
      "outputs": [
        {
          "output_type": "execute_result",
          "data": {
            "text/plain": [
              "<matplotlib.axes._subplots.AxesSubplot at 0x7ff5357dc710>"
            ]
          },
          "metadata": {},
          "execution_count": 72
        },
        {
          "output_type": "display_data",
          "data": {
            "image/png": "[encoded data removed]",
            "text/plain": [
              "<Figure size 432x288 with 1 Axes>"
            ]
          },
          "metadata": {
            "needs_background": "light"
          }
        }
      ]
    },
    {
      "cell_type": "code",
      "metadata": {
        "id": "KVmt1aEC596c",
        "outputId": "63e374c3-0530-46c1-8976-838e4b9c8f6a",
        "colab": {
          "base_uri": "https://localhost:8080/",
          "height": 283
        }
      },
      "source": [
        "loss_df[40000:].plot()"
      ],
      "execution_count": null,
      "outputs": [
        {
          "output_type": "execute_result",
          "data": {
            "text/plain": [
              "<matplotlib.axes._subplots.AxesSubplot at 0x7ff535765bd0>"
            ]
          },
          "metadata": {},
          "execution_count": 73
        },
        {
          "output_type": "display_data",
          "data": {
            "image/png": "[encoded data removed]",
            "text/plain": [
              "<Figure size 432x288 with 1 Axes>"
            ]
          },
          "metadata": {
            "needs_background": "light"
          }
        }
      ]
    },
    {
      "cell_type": "markdown",
      "metadata": {
        "id": "dZ7nzfrk596c"
      },
      "source": [
        "### 1.4 sklearn 활용 방법"
      ]
    },
    {
      "cell_type": "code",
      "metadata": {
        "id": "0_VcgqpC596c",
        "colab": {
          "base_uri": "https://localhost:8080/"
        },
        "outputId": "4e0faa61-118e-44d1-a329-4003a532e06e"
      },
      "source": [
        "from sklearn.datasets import load_boston\n",
        "from sklearn.model_selection import train_test_split\n",
        "\n",
        "data = load_boston()\n",
        "X_train, X_test, y_train, y_test = train_test_split(data.data,\n",
        "                                                   data.target,\n",
        "                                                   random_state=42)"
      ],
      "execution_count": null,
      "outputs": [
        {
          "output_type": "stream",
          "name": "stderr",
          "text": [
            "/usr/local/lib/python3.7/dist-packages/sklearn/utils/deprecation.py:87: FutureWarning: Function load_boston is deprecated; `load_boston` is deprecated in 1.0 and will be removed in 1.2.\n",
            "\n",
            "    The Boston housing prices dataset has an ethical problem. You can refer to\n",
            "    the documentation of this function for further details.\n",
            "\n",
            "    The scikit-learn maintainers therefore strongly discourage the use of this\n",
            "    dataset unless the purpose of the code is to study and educate about\n",
            "    ethical issues in data science and machine learning.\n",
            "\n",
            "    In this special case, you can fetch the dataset from the original\n",
            "    source::\n",
            "\n",
            "        import pandas as pd\n",
            "        import numpy as np\n",
            "\n",
            "\n",
            "        data_url = \"http://lib.stat.cmu.edu/datasets/boston\"\n",
            "        raw_df = pd.read_csv(data_url, sep=\"\\s+\", skiprows=22, header=None)\n",
            "        data = np.hstack([raw_df.values[::2, :], raw_df.values[1::2, :2]])\n",
            "        target = raw_df.values[1::2, 2]\n",
            "\n",
            "    Alternative datasets include the California housing dataset (i.e.\n",
            "    :func:`~sklearn.datasets.fetch_california_housing`) and the Ames housing\n",
            "    dataset. You can load the datasets as follows::\n",
            "\n",
            "        from sklearn.datasets import fetch_california_housing\n",
            "        housing = fetch_california_housing()\n",
            "\n",
            "    for the California housing dataset and::\n",
            "\n",
            "        from sklearn.datasets import fetch_openml\n",
            "        housing = fetch_openml(name=\"house_prices\", as_frame=True)\n",
            "\n",
            "    for the Ames housing dataset.\n",
            "    \n",
            "  warnings.warn(msg, category=FutureWarning)\n"
          ]
        }
      ]
    },
    {
      "cell_type": "code",
      "metadata": {
        "id": "vwnIBl8d596d",
        "outputId": "fda93bf8-b466-4411-ee3b-62c83d3ac5c8",
        "colab": {
          "base_uri": "https://localhost:8080/"
        }
      },
      "source": [
        "print(data.DESCR)"
      ],
      "execution_count": null,
      "outputs": [
        {
          "output_type": "stream",
          "name": "stdout",
          "text": [
            ".. _boston_dataset:\n",
            "\n",
            "Boston house prices dataset\n",
            "---------------------------\n",
            "\n",
            "**Data Set Characteristics:**  \n",
            "\n",
            "    :Number of Instances: 506 \n",
            "\n",
            "    :Number of Attributes: 13 numeric/categorical predictive. Median Value (attribute 14) is usually the target.\n",
            "\n",
            "    :Attribute Information (in order):\n",
            "        - CRIM     per capita crime rate by town\n",
            "        - ZN       proportion of residential land zoned for lots over 25,000 sq.ft.\n",
            "        - INDUS    proportion of non-retail business acres per town\n",
            "        - CHAS     Charles River dummy variable (= 1 if tract bounds river; 0 otherwise)\n",
            "        - NOX      nitric oxides concentration (parts per 10 million)\n",
            "        - RM       average number of rooms per dwelling\n",
            "        - AGE      proportion of owner-occupied units built prior to 1940\n",
            "        - DIS      weighted distances to five Boston employment centres\n",
            "        - RAD      index of accessibility to radial highways\n",
            "        - TAX      full-value property-tax rate per $10,000\n",
            "        - PTRATIO  pupil-teacher ratio by town\n",
            "        - B        1000(Bk - 0.63)^2 where Bk is the proportion of black people by town\n",
            "        - LSTAT    % lower status of the population\n",
            "        - MEDV     Median value of owner-occupied homes in $1000's\n",
            "\n",
            "    :Missing Attribute Values: None\n",
            "\n",
            "    :Creator: Harrison, D. and Rubinfeld, D.L.\n",
            "\n",
            "This is a copy of UCI ML housing dataset.\n",
            "https://archive.ics.uci.edu/ml/machine-learning-databases/housing/\n",
            "\n",
            "\n",
            "This dataset was taken from the StatLib library which is maintained at Carnegie Mellon University.\n",
            "\n",
            "The Boston house-price data of Harrison, D. and Rubinfeld, D.L. 'Hedonic\n",
            "prices and the demand for clean air', J. Environ. Economics & Management,\n",
            "vol.5, 81-102, 1978.   Used in Belsley, Kuh & Welsch, 'Regression diagnostics\n",
            "...', Wiley, 1980.   N.B. Various transformations are used in the table on\n",
            "pages 244-261 of the latter.\n",
            "\n",
            "The Boston house-price data has been used in many machine learning papers that address regression\n",
            "problems.   \n",
            "     \n",
            ".. topic:: References\n",
            "\n",
            "   - Belsley, Kuh & Welsch, 'Regression diagnostics: Identifying Influential Data and Sources of Collinearity', Wiley, 1980. 244-261.\n",
            "   - Quinlan,R. (1993). Combining Instance-Based and Model-Based Learning. In Proceedings on the Tenth International Conference of Machine Learning, 236-243, University of Massachusetts, Amherst. Morgan Kaufmann.\n",
            "\n"
          ]
        }
      ]
    },
    {
      "cell_type": "code",
      "metadata": {
        "id": "29YQY9QS596d",
        "outputId": "26ab46db-c996-4f55-d4aa-bd1a883564ea",
        "colab": {
          "base_uri": "https://localhost:8080/"
        }
      },
      "source": [
        "X_train[:5], y_train[:5]"
      ],
      "execution_count": null,
      "outputs": [
        {
          "output_type": "execute_result",
          "data": {
            "text/plain": [
              "(array([[9.10300e-02, 0.00000e+00, 2.46000e+00, 0.00000e+00, 4.88000e-01,\n",
              "         7.15500e+00, 9.22000e+01, 2.70060e+00, 3.00000e+00, 1.93000e+02,\n",
              "         1.78000e+01, 3.94120e+02, 4.82000e+00],\n",
              "        [3.53501e+00, 0.00000e+00, 1.95800e+01, 1.00000e+00, 8.71000e-01,\n",
              "         6.15200e+00, 8.26000e+01, 1.74550e+00, 5.00000e+00, 4.03000e+02,\n",
              "         1.47000e+01, 8.80100e+01, 1.50200e+01],\n",
              "        [3.57800e-02, 2.00000e+01, 3.33000e+00, 0.00000e+00, 4.42900e-01,\n",
              "         7.82000e+00, 6.45000e+01, 4.69470e+00, 5.00000e+00, 2.16000e+02,\n",
              "         1.49000e+01, 3.87310e+02, 3.76000e+00],\n",
              "        [3.87350e-01, 0.00000e+00, 2.56500e+01, 0.00000e+00, 5.81000e-01,\n",
              "         5.61300e+00, 9.56000e+01, 1.75720e+00, 2.00000e+00, 1.88000e+02,\n",
              "         1.91000e+01, 3.59290e+02, 2.72600e+01],\n",
              "        [6.72400e-02, 0.00000e+00, 3.24000e+00, 0.00000e+00, 4.60000e-01,\n",
              "         6.33300e+00, 1.72000e+01, 5.21460e+00, 4.00000e+00, 4.30000e+02,\n",
              "         1.69000e+01, 3.75210e+02, 7.34000e+00]]),\n",
              " array([37.9, 15.6, 45.4, 15.7, 22.6]))"
            ]
          },
          "metadata": {},
          "execution_count": 76
        }
      ]
    },
    {
      "cell_type": "code",
      "metadata": {
        "id": "bbdz0eej596d",
        "outputId": "f98600aa-391c-4af1-ec06-d490c75bdb5f",
        "colab": {
          "base_uri": "https://localhost:8080/"
        }
      },
      "source": [
        "from sklearn.linear_model import LinearRegression\n",
        "\n",
        "model = LinearRegression()\n",
        "model.fit(X_train, y_train)"
      ],
      "execution_count": null,
      "outputs": [
        {
          "output_type": "execute_result",
          "data": {
            "text/plain": [
              "LinearRegression()"
            ]
          },
          "metadata": {},
          "execution_count": 77
        }
      ]
    },
    {
      "cell_type": "code",
      "metadata": {
        "id": "KhCyMaxe596d",
        "outputId": "6c2f6dd0-5388-481b-cb8b-6f81df5f94cf",
        "colab": {
          "base_uri": "https://localhost:8080/"
        }
      },
      "source": [
        "scoreTrn = model.score(X_train, y_train)\n",
        "scoreTst = model.score(X_test, y_test)\n",
        "print(f\"학습 결정계수 : {scoreTrn}\")\n",
        "print(f\"테스트 결정계수 : {scoreTst}\")"
      ],
      "execution_count": null,
      "outputs": [
        {
          "output_type": "stream",
          "name": "stdout",
          "text": [
            "학습 결정계수 : 0.748087259862344\n",
            "테스트 결정계수 : 0.6844267283527068\n"
          ]
        }
      ]
    },
    {
      "cell_type": "code",
      "metadata": {
        "id": "_aoGRgKl596d",
        "outputId": "5c8193f2-2936-4e6d-d7d8-a62e14b90c81",
        "colab": {
          "base_uri": "https://localhost:8080/"
        }
      },
      "source": [
        "np.sqrt(scoreTst)"
      ],
      "execution_count": null,
      "outputs": [
        {
          "output_type": "execute_result",
          "data": {
            "text/plain": [
              "0.8273008693049384"
            ]
          },
          "metadata": {},
          "execution_count": 79
        }
      ]
    },
    {
      "cell_type": "code",
      "metadata": {
        "scrolled": true,
        "id": "8k6mhGed596d",
        "outputId": "5e786e6f-d472-416f-ce29-bc738a6ad81e",
        "colab": {
          "base_uri": "https://localhost:8080/"
        }
      },
      "source": [
        "coefficient = model.coef_\n",
        "intercept = model.intercept_\n",
        "\n",
        "print(f\"회귀 계수: \\n {coefficient}\\n\")\n",
        "print(f\" y 절편 : \\n {intercept}\\n\")"
      ],
      "execution_count": null,
      "outputs": [
        {
          "output_type": "stream",
          "name": "stdout",
          "text": [
            "회귀 계수: \n",
            " [-1.28322638e-01  2.95517751e-02  4.88590934e-02  2.77350326e+00\n",
            " -1.62388292e+01  4.36875476e+00 -9.24808158e-03 -1.40086668e+00\n",
            "  2.57761243e-01 -9.95694820e-03 -9.23122944e-01  1.31854199e-02\n",
            " -5.17639519e-01]\n",
            "\n",
            " y 절편 : \n",
            " 29.836420163838596\n",
            "\n"
          ]
        }
      ]
    },
    {
      "cell_type": "markdown",
      "metadata": {
        "id": "jTdehTb7596d"
      },
      "source": [
        "결정계수 $R^2 = 1 - \\cfrac {SSE}{SST} = \\cfrac {\\sum_i (y - \\hat y)^2}{\\sum_j (y - \\bar y)^2}$"
      ]
    },
    {
      "cell_type": "code",
      "metadata": {
        "id": "tFqcUDlo596e"
      },
      "source": [
        "predTrn = model.predict(X_train)\n",
        "predTst = model.predict(X_test)"
      ],
      "execution_count": null,
      "outputs": []
    },
    {
      "cell_type": "code",
      "metadata": {
        "id": "q8fGmRCn596e",
        "outputId": "8b4284d3-7997-47f5-f221-304f556af334",
        "colab": {
          "base_uri": "https://localhost:8080/"
        }
      },
      "source": [
        "SST_trn = np.square(y_train - y_train.mean()).sum()\n",
        "SST_tst = np.square(y_test - y_test.mean()).sum()\n",
        "SSE_trn = np.square(y_train - predTrn).sum()\n",
        "SSE_tst = np.square(y_test - predTst).sum()\n",
        "R2_trn = 1 - SSE_trn/SST_trn\n",
        "R2_tst = 1 - SSE_tst/SST_tst\n",
        "print(R2_trn, R2_tst)"
      ],
      "execution_count": null,
      "outputs": [
        {
          "output_type": "stream",
          "name": "stdout",
          "text": [
            "0.748087259862344 0.6844267283527068\n"
          ]
        }
      ]
    },
    {
      "cell_type": "markdown",
      "metadata": {
        "id": "KZzfW0uS596e"
      },
      "source": [
        "학습데이터에 대해서는 SSR = SST - SSE가 성립하지만, 테스트데이터에 대해서는 성립하지 않는다."
      ]
    },
    {
      "cell_type": "code",
      "metadata": {
        "id": "O5rkI-X-596e",
        "outputId": "308f4773-93d4-4690-e3a5-c85dbc9ce53f",
        "colab": {
          "base_uri": "https://localhost:8080/"
        }
      },
      "source": [
        "SSR_trn = np.square(predTrn - y_train.mean()).sum()\n",
        "SSR_tst = np.square(predTst - y_test.mean()).sum()\n",
        "print(SSR_trn)\n",
        "print(SSR_tst)"
      ],
      "execution_count": null,
      "outputs": [
        {
          "output_type": "stream",
          "name": "stdout",
          "text": [
            "25143.494274272445\n",
            "8234.765875083527\n"
          ]
        }
      ]
    },
    {
      "cell_type": "code",
      "metadata": {
        "id": "f1PKxUJJ596e",
        "outputId": "3037fd0a-6ec2-41ea-ce1b-273e023d7e64",
        "colab": {
          "base_uri": "https://localhost:8080/"
        }
      },
      "source": [
        "print(SST_trn - SSE_trn)\n",
        "print(SST_tst - SSE_tst)"
      ],
      "execution_count": null,
      "outputs": [
        {
          "output_type": "stream",
          "name": "stdout",
          "text": [
            "25143.49427427221\n",
            "6086.913001052986\n"
          ]
        }
      ]
    },
    {
      "cell_type": "markdown",
      "metadata": {
        "id": "6fDfSf5C596e"
      },
      "source": [
        "\n",
        "---\n",
        "[Quiz] 위에서 구현한 numpy 코드를 이용하여 머신러닝 기법으로 보스턴 집값 데이터에 대한 회귀모델을 작성해보자.\n",
        "\n",
        "이를 위해서는 아래와 같은 작업이 필요하다.\n",
        "Set : $y = X \\cdot w + b + \\epsilon = X \\cdot w + \\epsilon$\n",
        "- rewriting: X = (1, X), w = (b, w)\n"
      ]
    },
    {
      "cell_type": "code",
      "metadata": {
        "id": "Q4VxV9eD596e",
        "outputId": "c7c3d19c-3bbd-4d57-e34d-a484741472c1",
        "colab": {
          "base_uri": "https://localhost:8080/"
        }
      },
      "source": [
        "data = load_boston()\n",
        "X_train, X_test, y_train, y_test = train_test_split(data.data,\n",
        "                                                   data.target,\n",
        "                                                   random_state=42)\n",
        "\n",
        "Xtr = np.hstack((np.ones(X_train.shape[0]).reshape((-1,1)), X_train))\n",
        "Xts = np.hstack((np.ones(X_test.shape[0]).reshape((-1,1)), X_test))\n",
        "\n",
        "np.random.seed(234)\n",
        "w = np.random.rand(Xtr.shape[1]) - .5\n",
        "w"
      ],
      "execution_count": null,
      "outputs": [
        {
          "output_type": "stream",
          "name": "stderr",
          "text": [
            "/usr/local/lib/python3.7/dist-packages/sklearn/utils/deprecation.py:87: FutureWarning: Function load_boston is deprecated; `load_boston` is deprecated in 1.0 and will be removed in 1.2.\n",
            "\n",
            "    The Boston housing prices dataset has an ethical problem. You can refer to\n",
            "    the documentation of this function for further details.\n",
            "\n",
            "    The scikit-learn maintainers therefore strongly discourage the use of this\n",
            "    dataset unless the purpose of the code is to study and educate about\n",
            "    ethical issues in data science and machine learning.\n",
            "\n",
            "    In this special case, you can fetch the dataset from the original\n",
            "    source::\n",
            "\n",
            "        import pandas as pd\n",
            "        import numpy as np\n",
            "\n",
            "\n",
            "        data_url = \"http://lib.stat.cmu.edu/datasets/boston\"\n",
            "        raw_df = pd.read_csv(data_url, sep=\"\\s+\", skiprows=22, header=None)\n",
            "        data = np.hstack([raw_df.values[::2, :], raw_df.values[1::2, :2]])\n",
            "        target = raw_df.values[1::2, 2]\n",
            "\n",
            "    Alternative datasets include the California housing dataset (i.e.\n",
            "    :func:`~sklearn.datasets.fetch_california_housing`) and the Ames housing\n",
            "    dataset. You can load the datasets as follows::\n",
            "\n",
            "        from sklearn.datasets import fetch_california_housing\n",
            "        housing = fetch_california_housing()\n",
            "\n",
            "    for the California housing dataset and::\n",
            "\n",
            "        from sklearn.datasets import fetch_openml\n",
            "        housing = fetch_openml(name=\"house_prices\", as_frame=True)\n",
            "\n",
            "    for the Ames housing dataset.\n",
            "    \n",
            "  warnings.warn(msg, category=FutureWarning)\n"
          ]
        },
        {
          "output_type": "execute_result",
          "data": {
            "text/plain": [
              "array([-0.46903266, -0.24571793,  0.41240044,  0.4701742 , -0.25338022,\n",
              "        0.19880741,  0.36642932,  0.13952185, -0.04315635, -0.00120525,\n",
              "        0.22047501, -0.22874681,  0.30061903,  0.00925268])"
            ]
          },
          "metadata": {},
          "execution_count": 85
        }
      ]
    },
    {
      "cell_type": "code",
      "metadata": {
        "id": "AaaVAhci596f",
        "outputId": "36409aff-f1b7-42dc-feb5-021cb6bdd612",
        "colab": {
          "base_uri": "https://localhost:8080/"
        }
      },
      "source": [
        "Xtr[:5]"
      ],
      "execution_count": null,
      "outputs": [
        {
          "output_type": "execute_result",
          "data": {
            "text/plain": [
              "array([[1.00000e+00, 9.10300e-02, 0.00000e+00, 2.46000e+00, 0.00000e+00,\n",
              "        4.88000e-01, 7.15500e+00, 9.22000e+01, 2.70060e+00, 3.00000e+00,\n",
              "        1.93000e+02, 1.78000e+01, 3.94120e+02, 4.82000e+00],\n",
              "       [1.00000e+00, 3.53501e+00, 0.00000e+00, 1.95800e+01, 1.00000e+00,\n",
              "        8.71000e-01, 6.15200e+00, 8.26000e+01, 1.74550e+00, 5.00000e+00,\n",
              "        4.03000e+02, 1.47000e+01, 8.80100e+01, 1.50200e+01],\n",
              "       [1.00000e+00, 3.57800e-02, 2.00000e+01, 3.33000e+00, 0.00000e+00,\n",
              "        4.42900e-01, 7.82000e+00, 6.45000e+01, 4.69470e+00, 5.00000e+00,\n",
              "        2.16000e+02, 1.49000e+01, 3.87310e+02, 3.76000e+00],\n",
              "       [1.00000e+00, 3.87350e-01, 0.00000e+00, 2.56500e+01, 0.00000e+00,\n",
              "        5.81000e-01, 5.61300e+00, 9.56000e+01, 1.75720e+00, 2.00000e+00,\n",
              "        1.88000e+02, 1.91000e+01, 3.59290e+02, 2.72600e+01],\n",
              "       [1.00000e+00, 6.72400e-02, 0.00000e+00, 3.24000e+00, 0.00000e+00,\n",
              "        4.60000e-01, 6.33300e+00, 1.72000e+01, 5.21460e+00, 4.00000e+00,\n",
              "        4.30000e+02, 1.69000e+01, 3.75210e+02, 7.34000e+00]])"
            ]
          },
          "metadata": {},
          "execution_count": 86
        }
      ]
    },
    {
      "cell_type": "code",
      "metadata": {
        "id": "WkG8moEy596f",
        "outputId": "ba4dc373-52f1-449c-e1d1-b91b98668092",
        "colab": {
          "base_uri": "https://localhost:8080/"
        }
      },
      "source": [
        "X_train[:5]"
      ],
      "execution_count": null,
      "outputs": [
        {
          "output_type": "execute_result",
          "data": {
            "text/plain": [
              "array([[9.10300e-02, 0.00000e+00, 2.46000e+00, 0.00000e+00, 4.88000e-01,\n",
              "        7.15500e+00, 9.22000e+01, 2.70060e+00, 3.00000e+00, 1.93000e+02,\n",
              "        1.78000e+01, 3.94120e+02, 4.82000e+00],\n",
              "       [3.53501e+00, 0.00000e+00, 1.95800e+01, 1.00000e+00, 8.71000e-01,\n",
              "        6.15200e+00, 8.26000e+01, 1.74550e+00, 5.00000e+00, 4.03000e+02,\n",
              "        1.47000e+01, 8.80100e+01, 1.50200e+01],\n",
              "       [3.57800e-02, 2.00000e+01, 3.33000e+00, 0.00000e+00, 4.42900e-01,\n",
              "        7.82000e+00, 6.45000e+01, 4.69470e+00, 5.00000e+00, 2.16000e+02,\n",
              "        1.49000e+01, 3.87310e+02, 3.76000e+00],\n",
              "       [3.87350e-01, 0.00000e+00, 2.56500e+01, 0.00000e+00, 5.81000e-01,\n",
              "        5.61300e+00, 9.56000e+01, 1.75720e+00, 2.00000e+00, 1.88000e+02,\n",
              "        1.91000e+01, 3.59290e+02, 2.72600e+01],\n",
              "       [6.72400e-02, 0.00000e+00, 3.24000e+00, 0.00000e+00, 4.60000e-01,\n",
              "        6.33300e+00, 1.72000e+01, 5.21460e+00, 4.00000e+00, 4.30000e+02,\n",
              "        1.69000e+01, 3.75210e+02, 7.34000e+00]])"
            ]
          },
          "metadata": {},
          "execution_count": 87
        }
      ]
    },
    {
      "cell_type": "code",
      "metadata": {
        "id": "AoK4GbRV596f",
        "outputId": "c209e960-7318-4284-de9d-a4ddc0003d09",
        "colab": {
          "base_uri": "https://localhost:8080/"
        }
      },
      "source": [
        "Xtr.shape"
      ],
      "execution_count": null,
      "outputs": [
        {
          "output_type": "execute_result",
          "data": {
            "text/plain": [
              "(379, 14)"
            ]
          },
          "metadata": {},
          "execution_count": 88
        }
      ]
    },
    {
      "cell_type": "code",
      "metadata": {
        "id": "v_u5GHiO596f",
        "outputId": "b78db8ab-5f4f-4434-9969-fac65a0d257e",
        "colab": {
          "base_uri": "https://localhost:8080/"
        }
      },
      "source": [
        "X_train.shape"
      ],
      "execution_count": null,
      "outputs": [
        {
          "output_type": "execute_result",
          "data": {
            "text/plain": [
              "(379, 13)"
            ]
          },
          "metadata": {},
          "execution_count": 89
        }
      ]
    },
    {
      "cell_type": "code",
      "metadata": {
        "id": "HKwGknQ-596f",
        "outputId": "12f0b2a1-288c-428a-e7ce-e142023aeb89",
        "colab": {
          "base_uri": "https://localhost:8080/"
        }
      },
      "source": [
        "np.random.seed(234)\n",
        "w = np.random.rand(Xtr.shape[1]) - .5\n",
        "w"
      ],
      "execution_count": null,
      "outputs": [
        {
          "output_type": "execute_result",
          "data": {
            "text/plain": [
              "array([-0.46903266, -0.24571793,  0.41240044,  0.4701742 , -0.25338022,\n",
              "        0.19880741,  0.36642932,  0.13952185, -0.04315635, -0.00120525,\n",
              "        0.22047501, -0.22874681,  0.30061903,  0.00925268])"
            ]
          },
          "metadata": {},
          "execution_count": 90
        }
      ]
    },
    {
      "cell_type": "code",
      "metadata": {
        "id": "p2vDNdGX596f",
        "outputId": "c20f6423-2ed4-4f25-e05e-9a00af7a0f8f",
        "colab": {
          "base_uri": "https://localhost:8080/"
        }
      },
      "source": [
        "EPOCH = 10\n",
        "batch = 32\n",
        "lr = 0.0001\n",
        "rows = Xtr.shape[0]\n",
        "losses = []\n",
        "randRow = np.arange(rows)\n",
        "\n",
        "for epoch in range(EPOCH):\n",
        "    shuffle(randRow)\n",
        "    loss = 0\n",
        "    \n",
        "    for i in range(0, rows, batch):\n",
        "        batch_index = randRow[i:i+batch]\n",
        "        x_batch = Xtr[batch_index]\n",
        "        y_batch = y_train[batch_index]\n",
        "        y_hat = x_batch.dot(w)\n",
        "        loss += (y_batch - y_hat).T.dot((y_batch - y_hat))\n",
        "        # dw = d Loss(w) / d(w)\n",
        "        dw = x_batch.T.dot(x_batch).dot(w) - x_batch.T.dot(y_batch)\n",
        "        w -= lr*dw\n",
        "        print(w)\n",
        "        \n",
        "    loss /= rows\n",
        "    losses.append(loss)"
      ],
      "execution_count": null,
      "outputs": [
        {
          "output_type": "stream",
          "name": "stdout",
          "text": [
            "[-1.09071503e+00 -4.13091126e+00 -5.15501719e+00 -7.24276276e+00\n",
            " -2.96044006e-01 -1.66916077e-01 -3.50111540e+00 -4.38141754e+01\n",
            " -2.07574196e+00 -7.44766949e+00 -2.85607532e+02 -1.15976230e+01\n",
            " -2.21724428e+02 -8.61261996e+00]\n",
            "[6.22393385e+02 3.51754747e+03 6.36820202e+03 6.69148468e+03\n",
            " 4.77947570e+01 3.36561004e+02 3.94281555e+03 3.85111963e+04\n",
            " 2.59080569e+03 6.06542564e+03 2.55905583e+05 1.15293862e+04\n",
            " 2.32585553e+05 8.30982821e+03]\n",
            "[-5.98223884e+05 -2.37812498e+06 -4.77809119e+06 -7.27709866e+06\n",
            " -6.41979961e+04 -3.38280106e+05 -3.69425098e+06 -4.29052391e+07\n",
            " -2.19753900e+06 -5.29312277e+06 -2.44753833e+08 -1.15065310e+07\n",
            " -2.15748031e+08 -7.86673604e+06]\n",
            "[5.91052876e+08 4.44708897e+09 3.71513278e+09 7.74194756e+09\n",
            " 5.81088822e+07 3.57203926e+08 3.66717159e+09 4.52800954e+10\n",
            " 1.82765209e+09 6.71254989e+09 2.71423311e+11 1.08866144e+10\n",
            " 2.12379200e+11 8.30197236e+09]\n",
            "[-5.85820673e+11 -1.82673981e+12 -1.20271773e+13 -6.20876656e+12\n",
            " -4.35051730e+10 -3.20872828e+11 -3.82891196e+12 -4.09347781e+13\n",
            " -2.34391202e+12 -6.05741302e+12 -2.40993824e+14 -1.05308445e+13\n",
            " -2.09857044e+14 -7.21312503e+12]\n",
            "[5.72465543e+14 2.76915087e+15 7.26290828e+15 6.72329547e+15\n",
            " 1.72747459e+13 3.22892332e+14 3.64256171e+15 3.89887166e+16\n",
            " 2.15275158e+15 6.85628451e+15 2.55365626e+17 1.05578857e+16\n",
            " 2.07794183e+17 7.28052971e+15]\n",
            "[-6.23354648e+17 -2.92319772e+18 -5.37975188e+18 -9.13081494e+18\n",
            " -6.89942757e+16 -3.78948538e+17 -3.85492080e+18 -4.83786243e+19\n",
            " -1.94353898e+18 -8.86550790e+18 -3.18867768e+20 -1.17310249e+19\n",
            " -2.12822744e+20 -8.64896722e+18]\n",
            "[6.85771806e+20 2.08370375e+21 4.74588345e+21 9.51539628e+21\n",
            " 5.48955515e+19 4.02296171e+20 4.30764609e+21 5.21598099e+22\n",
            " 2.21221928e+21 8.12290686e+21 3.18961871e+23 1.29876901e+22\n",
            " 2.31012886e+23 8.58671286e+21]\n",
            "[-6.76146813e+23 -2.15698530e+24 -6.83463764e+24 -7.32434063e+24\n",
            " -4.87070165e+22 -3.79639103e+23 -4.25078132e+24 -4.71186973e+25\n",
            " -2.45594252e+24 -7.87255240e+24 -2.92439577e+26 -1.24208874e+25\n",
            " -2.40639782e+26 -8.08017935e+24]\n",
            "[6.28309840e+26 7.58280138e+26 8.21541845e+27 6.04930689e+27\n",
            " 3.05834925e+25 3.43636098e+26 3.97486493e+27 4.44838306e+28\n",
            " 2.52242380e+27 4.41473591e+27 2.39430420e+29 1.13442618e+28\n",
            " 2.32863492e+29 7.98513054e+27]\n",
            "[-6.01317436e+29 -2.72603409e+30 -5.01984388e+30 -7.61296098e+30\n",
            " -4.14972660e+28 -3.48972871e+29 -3.75641028e+30 -4.29774174e+31\n",
            " -1.89256042e+30 -7.02381081e+30 -2.67931234e+32 -1.10334682e+31\n",
            " -2.21615043e+32 -8.81905714e+30]\n",
            "[4.97017397e+32 1.76854454e+33 5.38834965e+33 5.58580646e+33\n",
            " 4.80256005e+31 2.81106416e+32 3.10508297e+33 3.66687730e+34\n",
            " 1.88595724e+33 4.14031132e+33 1.95678073e+35 9.00928624e+33\n",
            " 1.84312037e+35 6.19187973e+33]\n",
            "[-4.62786307e+35 -1.99735315e+36 -8.08667843e+36 -4.70388280e+36\n",
            " -1.28118828e+34 -2.46869516e+35 -2.89135908e+36 -2.95287472e+37\n",
            " -1.96446864e+36 -4.20766381e+36 -1.86739604e+38 -8.50302607e+36\n",
            " -1.69101744e+38 -5.43548132e+36]\n",
            "[4.22734031e+38 1.19046572e+39 7.63656754e+39 4.12292306e+39\n",
            " 8.17132054e+37 2.25493379e+38 2.72903432e+39 2.70729433e+40\n",
            " 1.74149099e+39 4.07099399e+39 1.66374711e+41 7.82334803e+39\n",
            " 1.57137764e+41 4.56551349e+39]\n",
            "[-4.06149961e+41 -1.47819349e+42 -5.16951509e+42 -4.71458469e+42\n",
            " -4.20879618e+40 -2.44458870e+41 -2.50613886e+42 -2.99332318e+43\n",
            " -1.38800763e+42 -5.01975078e+42 -1.84326239e+44 -7.41172206e+42\n",
            " -1.41181553e+44 -5.79878741e+42]\n",
            "[3.88137640e+44 1.51439421e+45 4.25528498e+45 3.89979516e+45\n",
            " 2.89089235e+43 2.13455922e+44 2.52069714e+45 2.63641719e+46\n",
            " 1.42959142e+45 4.21993449e+45 1.59092543e+47 7.07971531e+45\n",
            " 1.35810858e+47 4.65416034e+45]\n",
            "[-3.65750382e+47 -9.09166436e+47 -2.79984026e+48 -4.68125763e+48\n",
            " -1.00114714e+46 -2.10994460e+47 -2.26272221e+48 -2.81230478e+49\n",
            " -1.15565213e+48 -3.36251711e+48 -1.57293872e+50 -6.67466415e+48\n",
            " -1.29917776e+50 -5.13909854e+48]\n",
            "[3.48357158e+50 9.39313966e+50 4.19021208e+51 3.60491714e+51\n",
            " 1.01336356e+49 1.89536479e+50 2.23742775e+51 2.32075462e+52\n",
            " 1.44456859e+51 3.26165802e+51 1.40895545e+53 6.48568413e+51\n",
            " 1.25777101e+53 4.36509935e+51]\n",
            "[-3.62687320e+53 -2.97868722e+54 -2.43240809e+54 -5.67475973e+54\n",
            " -4.24937607e+52 -2.25388366e+53 -2.28442700e+54 -2.92912087e+55\n",
            " -1.02293057e+54 -4.69943496e+54 -1.80996444e+56 -6.80328521e+54\n",
            " -1.32234534e+56 -4.85584009e+54]\n",
            "[3.73679481e+56 1.32423091e+57 2.46803124e+57 4.50812649e+57\n",
            " 2.05440662e+55 2.14710981e+56 2.34920923e+57 2.70468506e+58\n",
            " 1.37707454e+57 3.20272218e+57 1.48619750e+59 6.77329555e+57\n",
            " 1.31395212e+59 4.91456483e+57]\n",
            "[-3.69375730e+59 -1.79123182e+60 -2.60887250e+60 -4.52504377e+60\n",
            " -5.12655114e+58 -2.18371451e+59 -2.37020660e+60 -2.77490270e+61\n",
            " -1.14878249e+60 -4.80548649e+60 -1.75071194e+62 -6.83038422e+60\n",
            " -1.36143098e+62 -4.61733445e+60]\n",
            "[4.11498476e+62 2.84766132e+63 3.16273761e+63 5.62838829e+63\n",
            " 3.70009665e+61 2.42226526e+62 2.47947579e+63 2.99634896e+64\n",
            " 1.45269348e+63 5.25432948e+63 1.97595970e+65 7.71131667e+63\n",
            " 1.44585713e+65 6.71141983e+63]\n",
            "[-4.17378525e+65 -1.66871411e+66 -2.59920453e+66 -4.91290067e+66\n",
            " -2.70544325e+64 -2.31661398e+65 -2.64731118e+66 -2.76530814e+67\n",
            " -1.47919211e+66 -3.85073876e+66 -1.73205459e+68 -7.65161526e+66\n",
            " -1.50790338e+68 -5.07149936e+66]\n",
            "[ 3.54970390e+68  1.48973002e+69  4.26651110e+69  4.74371465e+69\n",
            " -2.70544325e+64  2.07967556e+68  2.15217808e+69  2.73057383e+70\n",
            "  1.21709279e+69  4.39734423e+69  1.66478029e+71  6.71270726e+69\n",
            "  1.28185417e+71  5.23418563e+69]\n",
            "[-3.47928736e+71 -7.95732905e+71 -4.36200351e+72 -3.98781649e+72\n",
            " -8.48666298e+69 -1.89725108e+71 -2.18553964e+72 -2.58393216e+73\n",
            " -1.35917447e+72 -2.87701715e+72 -1.39324618e+74 -6.45202016e+72\n",
            " -1.22247416e+74 -4.98220507e+72]\n",
            "[ 3.21191662e+74  2.17153110e+75  4.81541574e+75  3.87084589e+75\n",
            " -8.48666298e+69  1.79691000e+74  2.01021851e+75  2.26083557e+76\n",
            "  1.23838382e+75  3.11873220e+75  1.37782732e+77  5.98453327e+75\n",
            "  1.10712719e+77  4.08416970e+75]\n",
            "[-3.15243258e+77 -1.28804740e+78 -1.97715284e+78 -4.17821251e+78\n",
            " -4.05893952e+76 -1.91845411e+77 -1.93581758e+78 -2.32961104e+79\n",
            " -9.81036224e+77 -3.55972590e+78 -1.39373072e+80 -5.76825674e+78\n",
            " -1.16744934e+80 -4.37550597e+78]\n",
            "[3.31264594e+80 1.21497503e+81 3.48466673e+81 3.95875677e+81\n",
            " 4.51011994e+79 1.88994010e+80 2.09020870e+81 2.57312038e+82\n",
            " 1.10487848e+81 3.78017356e+81 1.49358310e+83 6.33033784e+81\n",
            " 1.22714498e+83 4.05994412e+81]\n",
            "[-3.44653297e+83 -1.47353207e+84 -3.72904020e+84 -4.01432455e+84\n",
            " -2.91902972e+82 -2.00386510e+83 -2.16104667e+84 -2.47316106e+85\n",
            " -1.15930571e+84 -3.88462643e+84 -1.51599552e+86 -6.17618073e+84\n",
            " -1.25610084e+86 -4.50923013e+84]\n",
            "[ 3.46725789e+86  1.66953751e+87  3.08049707e+87  4.28314294e+87\n",
            " -2.91902972e+82  1.97810439e+86  2.19727206e+87  2.56073270e+88\n",
            "  1.19696483e+87  4.11357810e+87  1.51671400e+89  6.42913994e+87\n",
            "  1.26040299e+89  4.51570982e+87]\n",
            "[-3.52490561e+89 -2.57312947e+90 -3.63101840e+90 -4.55752578e+90\n",
            " -2.76030657e+88 -2.02472842e+89 -2.21447495e+90 -2.45846692e+91\n",
            " -1.32353332e+90 -4.53821128e+90 -1.61326638e+92 -6.59691932e+90\n",
            " -1.23789701e+92 -4.54184897e+90]\n",
            "[3.57234104e+92 1.18873549e+93 2.25425130e+93 4.53136113e+93\n",
            " 3.46983350e+91 2.05846209e+92 2.27403097e+93 2.58855737e+94\n",
            " 1.17071266e+93 4.37972012e+93 1.61843839e+95 6.65319301e+93\n",
            " 1.17919757e+95 4.51708865e+93]\n",
            "[-3.48647639e+95 -1.34835862e+96 -3.95942329e+96 -3.70415800e+96\n",
            " -3.73151064e+94 -1.91412849e+95 -2.15040823e+96 -2.34767708e+97\n",
            " -1.36679937e+96 -3.41286047e+96 -1.46160612e+98 -6.27610627e+96\n",
            " -1.31926629e+98 -4.83195495e+96]\n",
            "[3.61128203e+098 1.30773403e+099 3.24344132e+099 4.65023195e+099\n",
            " 3.63741117e+097 2.16407338e+098 2.29682624e+099 2.64811598e+100\n",
            " 1.20308470e+099 4.13331052e+099 1.67425607e+101 6.57014205e+099\n",
            " 1.31340238e+101 5.40342863e+099]\n",
            "[-3.64382374e+101 -1.67525274e+102 -4.50657828e+102 -3.83842888e+102\n",
            " -1.00605673e+100 -2.00134082e+101 -2.29359881e+102 -2.32547123e+103\n",
            " -1.40085376e+102 -3.33381943e+102 -1.54070533e+104 -6.68568362e+102\n",
            " -1.25792155e+104 -4.55168188e+102]\n",
            "[2.95789345e+104 1.10264784e+105 3.11463944e+105 3.49982553e+105\n",
            " 4.52830312e+103 1.72807774e+104 1.86930834e+105 2.07473111e+106\n",
            " 1.06008827e+105 3.16394460e+105 1.27441573e+107 5.55717109e+105\n",
            " 1.10710607e+107 3.47061614e+105]\n",
            "[-2.85816127e+107 -8.25452956e+107 -3.89194801e+108 -3.05459367e+108\n",
            " -3.87556290e+106 -1.62975066e+107 -1.76676544e+108 -2.03531895e+109\n",
            " -1.07317311e+108 -2.44711410e+108 -1.15190068e+110 -5.14962815e+108\n",
            " -1.00635811e+110 -3.95328707e+108]\n",
            "[2.88905490e+110 1.31526607e+111 4.43031953e+111 3.75202726e+111\n",
            " 4.18321793e+109 1.65211900e+110 1.81746764e+111 2.12643189e+112\n",
            " 9.87794391e+110 3.60142674e+111 1.39226223e+113 5.44125381e+111\n",
            " 1.04255727e+113 3.76981629e+111]\n",
            "[-3.07525437e+113 -2.89546212e+114 -2.97808097e+114 -3.52333347e+114\n",
            " -2.20670973e+112 -1.74768887e+113 -1.98578541e+114 -2.20470983e+115\n",
            " -1.13660567e+114 -3.66924597e+114 -1.36141741e+116 -5.80605653e+114\n",
            " -1.11103805e+116 -3.82749344e+114]\n",
            "[3.00426185e+116 8.42873743e+116 3.69787930e+117 3.63130858e+117\n",
            " 1.00082258e+115 1.75203424e+116 1.90723022e+117 2.15328154e+118\n",
            " 1.02480055e+117 2.72860713e+117 1.25405969e+119 5.39510800e+117\n",
            " 1.05584011e+119 3.87013661e+117]\n",
            "[-3.01413288e+119 -9.75016167e+119 -3.12972269e+120 -3.29984929e+120\n",
            " -7.85335036e+117 -1.70883824e+119 -1.90931158e+120 -2.17070914e+121\n",
            " -1.15083548e+120 -3.77619463e+120 -1.37960514e+122 -5.66986356e+120\n",
            " -1.15762033e+122 -4.07620055e+120]\n",
            "[2.99457579e+122 8.88093685e+122 1.89904111e+123 3.62326165e+123\n",
            " 2.19138663e+121 1.65844093e+122 1.87265433e+123 2.14815531e+124\n",
            " 1.10382645e+123 2.70209895e+123 1.18624460e+125 5.47195805e+123\n",
            " 1.06452248e+125 3.56097713e+123]\n",
            "[-2.75898080e+125 -1.48202466e+126 -3.01607663e+126 -3.37256936e+126\n",
            " -3.05474051e+124 -1.60166962e+125 -1.71926724e+126 -1.97381098e+127\n",
            " -9.44534197e+125 -2.42516879e+126 -1.15804429e+128 -4.93652318e+126\n",
            " -9.76427433e+127 -3.48479834e+126]\n",
            "[2.76518568e+128 1.06782740e+129 2.04642979e+129 3.72426022e+129\n",
            " 3.06460577e+127 1.63877041e+128 1.71064418e+129 2.00256682e+130\n",
            " 8.34282324e+128 3.03986189e+129 1.27502080e+131 5.08307189e+129\n",
            " 1.02273644e+131 3.73730619e+129]\n",
            "[-2.80013617e+131 -1.23600047e+132 -2.35999763e+132 -3.31705442e+132\n",
            " -2.24204126e+130 -1.56138073e+131 -1.74562379e+132 -1.94214029e+133\n",
            " -1.07159715e+132 -3.04651534e+132 -1.20107995e+134 -5.29498014e+132\n",
            " -9.70409087e+133 -3.79388252e+132]\n",
            "[ 2.75121213e+134  1.18864534e+135  2.82748800e+135  3.33626978e+135\n",
            " -2.24204126e+130  1.54722278e+134  1.72107793e+135  1.92541973e+136\n",
            "  9.83655427e+134  3.35425991e+135  1.25143365e+137  5.14803244e+135\n",
            "  9.49046428e+136  4.04794524e+135]\n",
            "[-2.74820064e+137 -8.31385215e+137 -3.01206226e+138 -3.25527825e+138\n",
            " -3.06578067e+136 -1.57107656e+137 -1.75729620e+138 -1.78060007e+139\n",
            " -1.04749251e+138 -2.94904025e+138 -1.16897703e+140 -4.98956952e+138\n",
            " -1.02087473e+140 -3.13915253e+138]\n",
            "[2.33033637e+140 1.28628601e+141 1.70315657e+141 2.88082384e+141\n",
            " 6.68005412e+138 1.37637716e+140 1.44768038e+141 1.86122286e+142\n",
            " 7.59808243e+140 2.97263382e+141 1.05159782e+143 4.37389564e+141\n",
            " 8.26630869e+142 3.40929588e+141]\n",
            "[-2.29754045e+143 -1.43113279e+144 -3.02342909e+144 -2.68119723e+144\n",
            " -3.01205007e+142 -1.29631099e+143 -1.44376559e+144 -1.53761274e+145\n",
            " -9.54450361e+143 -2.61499720e+144 -1.00200469e+146 -4.19638662e+144\n",
            " -7.84290390e+145 -2.96946428e+144]\n",
            "[2.21489340e+146 7.17888743e+146 2.92253577e+147 2.63097507e+147\n",
            " 2.79272576e+145 1.25727975e+146 1.33617229e+147 1.61872292e+148\n",
            " 8.38700134e+146 2.28734989e+147 9.35092252e+148 4.15343524e+147\n",
            " 8.08644332e+148 3.23286174e+147]\n",
            "[-2.06288772e+149 -8.79099565e+149 -1.05852425e+150 -2.92871604e+150\n",
            " -3.51866398e+148 -1.25133754e+149 -1.30510288e+150 -1.71001450e+151\n",
            " -5.35471860e+149 -1.83641462e+150 -8.54545458e+151 -3.69198032e+150\n",
            " -6.84788781e+151 -2.53101621e+150]\n",
            "[2.03647196e+152 7.32262104e+152 3.10111820e+153 2.44619329e+153\n",
            " 1.03284287e+151 1.18933619e+152 1.29925061e+153 1.50469845e+154\n",
            " 7.63429701e+152 2.63468324e+153 9.64349760e+154 3.79732845e+153\n",
            " 7.26710817e+154 2.64176413e+153]\n",
            "[-2.16461893e+155 -8.49496773e+155 -2.97671918e+156 -2.35441272e+156\n",
            " -1.25060231e+154 -1.23024956e+155 -1.40208487e+156 -1.43436445e+157\n",
            " -8.27761579e+155 -2.54073659e+156 -9.73264636e+157 -3.98300996e+156\n",
            " -7.88666937e+157 -2.69514849e+156]\n",
            "[2.28365720e+158 9.05968517e+158 2.98740141e+159 2.62435458e+159\n",
            " 1.30172812e+157 1.25157088e+158 1.43914563e+159 1.48359890e+160\n",
            " 8.55781192e+158 2.50765363e+159 1.02099367e+161 4.23916355e+159\n",
            " 8.62569279e+160 2.86704217e+159]\n",
            "[-2.35285733e+161 -8.57091602e+161 -1.83201938e+162 -2.84887415e+162\n",
            " -1.03220401e+160 -1.36983203e+161 -1.48081497e+162 -1.70639393e+163\n",
            " -8.17444819e+161 -2.51266317e+162 -1.01488066e+164 -4.46428090e+162\n",
            " -8.57538973e+163 -3.18150425e+162]\n",
            "[ 2.30660132e+164  8.99734686e+164  1.14781478e+165  2.47131621e+165\n",
            " -1.03220401e+160  1.30002986e+164  1.46515896e+165  1.58921840e+166\n",
            "  7.71976696e+164  2.47289858e+165  9.82738437e+166  4.29416399e+165\n",
            "  8.17919850e+166  2.92512013e+165]\n",
            "[-2.19089479e+167 -1.40941458e+168 -2.38249101e+168 -2.75647368e+168\n",
            " -1.47957823e+166 -1.30643693e+167 -1.37969530e+168 -1.58940951e+169\n",
            " -7.30221586e+167 -2.07009364e+168 -9.01994358e+169 -3.82194952e+168\n",
            " -7.93470830e+169 -3.12248642e+168]\n",
            "[2.08973985e+170 8.47446609e+170 2.04033263e+171 2.50274334e+171\n",
            " 2.46668158e+169 1.17563482e+170 1.26510336e+171 1.49528878e+172\n",
            " 7.45019859e+170 2.13135625e+171 8.83840360e+172 3.82359168e+171\n",
            " 7.67991688e+172 2.93473422e+171]\n",
            "[-2.17127951e+173 -7.75676691e+173 -1.73632207e+174 -2.94543747e+174\n",
            " -1.42765287e+172 -1.21000600e+173 -1.35646019e+174 -1.47084839e+175\n",
            " -8.26728317e+173 -2.54880714e+174 -1.02829211e+176 -4.14871147e+174\n",
            " -8.13056265e+175 -2.65804295e+174]\n",
            "[1.92076322e+176 1.17519585e+177 1.44006210e+177 2.14163199e+177\n",
            " 9.86049302e+174 1.09917540e+176 1.21945233e+177 1.54164965e+178\n",
            " 6.06445123e+176 2.10124377e+177 8.35009262e+178 3.57570431e+177\n",
            " 6.56495035e+178 2.62844356e+177]\n",
            "[-1.81540687e+179 -5.26221358e+179 -2.18133853e+180 -2.17887650e+180\n",
            " -8.82068192e+177 -1.02221117e+179 -1.16402640e+180 -1.23178103e+181\n",
            " -6.30631257e+179 -1.92703326e+180 -7.71209252e+181 -3.28043121e+180\n",
            " -6.22249088e+181 -1.91105820e+180]\n",
            "[1.75354637e+182 5.04364663e+182 8.41716780e+182 1.96486379e+183\n",
            " 9.62140154e+180 1.00493742e+182 1.11454496e+183 1.34719050e+184\n",
            " 6.11599394e+182 1.93208506e+183 7.47833441e+184 3.27779406e+183\n",
            " 6.72377177e+184 2.28832869e+183]\n",
            "[-1.73541957e+185 -5.05377431e+185 -1.94805824e+186 -2.09862159e+186\n",
            "  9.62140154e+180 -9.73526044e+184 -1.12655608e+186 -1.21128923e+187\n",
            " -6.74673161e+185 -1.66368076e+186 -7.14463335e+187 -3.19401505e+186\n",
            " -6.34002078e+187 -2.25754057e+186]\n",
            "[1.65881183e+188 1.41909845e+189 1.60624424e+189 2.05350100e+189\n",
            " 1.98981862e+187 9.62341438e+187 1.06347957e+189 1.25790740e+190\n",
            " 5.96741773e+188 1.86436868e+189 6.98162451e+190 3.12463809e+189\n",
            " 6.06508649e+190 1.97171388e+189]\n",
            "[-1.62091031e+191 -5.81678186e+191 -1.17970311e+192 -1.94647054e+192\n",
            " -1.47551783e+190 -9.68251284e+190 -9.92414419e+191 -1.23801206e+193\n",
            " -5.32471199e+191 -1.65318564e+192 -7.01596709e+193 -2.93142483e+192\n",
            " -5.66683985e+193 -2.45476278e+192]\n",
            "[1.56593546e+194 4.57961788e+194 9.61054778e+194 2.01254152e+195\n",
            " 1.98847044e+193 9.02887877e+193 1.00640939e+195 1.21150745e+196\n",
            " 5.08076058e+194 1.53402955e+195 6.69512115e+196 2.92229357e+195\n",
            " 5.62560212e+196 2.10589404e+195]\n",
            "[-1.59276187e+197 -5.04998887e+197 -2.18505503e+198 -1.71906295e+198\n",
            " -3.21363815e+196 -9.19540141e+196 -9.71439179e+197 -1.10064477e+199\n",
            " -5.79054058e+197 -1.79269648e+198 -7.14375293e+199 -2.98887126e+198\n",
            " -5.98555309e+199 -2.20880869e+198]\n",
            "[1.66855495e+200 8.43250546e+200 1.39945445e+201 2.04931909e+201\n",
            " 8.58073849e+198 9.91007024e+199 1.04997381e+201 1.20828391e+202\n",
            " 5.89623712e+200 2.13642136e+201 7.67897461e+202 3.11946603e+201\n",
            " 5.81299221e+202 2.29428483e+201]\n",
            "[-1.78127368e+203 -1.30708280e+204 -1.98504036e+204 -2.22275234e+204\n",
            " -1.29610489e+202 -1.03804048e+203 -1.11143398e+204 -1.21752683e+205\n",
            " -6.14701204e+203 -2.19280906e+204 -8.35421279e+205 -3.27139715e+204\n",
            " -6.62684053e+205 -2.42885038e+204]\n",
            "[ 1.84566250e+206  7.84810394e+206  3.43649509e+207  2.27777024e+207\n",
            " -1.29610489e+202  9.94335270e+205  1.15256369e+207  1.28299011e+208\n",
            "  6.77411218e+206  1.55379047e+207  8.11144344e+208  3.38081144e+207\n",
            "  6.22290469e+208  2.49770801e+207]\n",
            "[-1.80606847e+209 -9.91656096e+209 -2.11460471e+210 -2.25097017e+210\n",
            " -4.17777949e+207 -1.00845591e+209 -1.12259590e+210 -1.22428998e+211\n",
            " -6.84107075e+209 -2.12689561e+210 -8.05783726e+211 -3.30880542e+210\n",
            " -6.44705747e+211 -2.24931955e+210]\n",
            "[1.53536971e+212 4.70468600e+212 1.29439060e+213 1.74614641e+213\n",
            " 2.30995870e+211 8.67854058e+211 9.30019981e+212 1.03964195e+214\n",
            " 5.59639653e+212 1.70442306e+213 6.76104826e+214 2.82825788e+213\n",
            " 5.34886921e+214 2.09664101e+213]\n",
            "[-1.48368955e+215 -4.29484067e+215 -1.29079837e+216 -1.83477107e+216\n",
            " -1.54040672e+214 -8.31817109e+214 -9.21660966e+215 -1.01320746e+217\n",
            " -5.32307561e+215 -1.44733563e+216 -6.30707032e+217 -2.75327296e+216\n",
            " -5.24301195e+217 -1.76006172e+216]\n",
            "[1.39120573e+218 3.94228243e+218 1.39538870e+219 1.48841878e+219\n",
            " 1.83951256e+217 8.05034878e+217 8.80223622e+218 1.03065454e+220\n",
            " 5.33149594e+218 1.32633288e+219 5.61239394e+220 2.47814814e+219\n",
            " 4.93726623e+220 1.85995859e+219]\n",
            "[-1.27319670e+221 -7.80365694e+221 -1.91940166e+222 -1.40163519e+222\n",
            " -1.29609950e+220 -7.00994488e+220 -8.34446526e+221 -8.45285561e+222\n",
            " -5.15638568e+221 -1.18535863e+222 -5.20447025e+223 -2.32897140e+222\n",
            " -4.52402060e+223 -1.40068868e+222]\n",
            "[1.19395629e+224 1.95230288e+224 1.58898082e+225 1.41087415e+225\n",
            " 6.89247785e+222 6.74447529e+223 7.54977891e+224 8.29000235e+225\n",
            " 4.16306057e+224 1.03521994e+225 4.84056423e+226 2.15389799e+225\n",
            " 4.57516100e+226 1.48823116e+225]\n",
            "[-1.13317418e+227 -3.47569818e+227 -1.51999976e+228 -1.26821772e+228\n",
            " -1.46242474e+226 -6.35311252e+226 -7.31010325e+227 -8.22534097e+228\n",
            " -3.99567677e+227 -1.09917251e+228 -4.64556523e+229 -2.01145631e+228\n",
            " -3.97150163e+229 -1.36726675e+228]\n",
            "[ 1.11229643e+230  5.19326931e+230  6.19706615e+230  1.39774322e+231\n",
            " -1.46242474e+226  6.40476813e+229  7.01143301e+230  7.84879148e+231\n",
            "  4.05435848e+230  1.36088986e+231  5.16356866e+232  2.16132329e+231\n",
            "  3.98132075e+232  1.45205845e+231]\n",
            "[-1.15800350e+233 -3.01044338e+233 -1.15063845e+234 -1.25219250e+234\n",
            " -9.62138859e+231 -6.31077355e+232 -7.46570228e+233 -7.39313062e+234\n",
            " -4.96676018e+233 -1.23140606e+234 -4.96287309e+235 -2.14653184e+234\n",
            " -4.39596120e+235 -1.34386529e+234]\n",
            "[1.26137406e+236 7.78357326e+236 6.57618647e+236 1.97187884e+237\n",
            " 1.35565996e+235 7.74646213e+235 7.68473187e+236 9.83307375e+237\n",
            " 3.55267244e+236 1.84540454e+237 6.53392933e+238 2.42842553e+237\n",
            " 4.33487079e+238 1.99111657e+237]\n",
            "[-1.34136947e+239 -4.60795446e+239 -2.09434726e+240 -1.42283281e+240\n",
            "  1.35565996e+235 -7.41022341e+238 -8.18873632e+239 -9.25683440e+240\n",
            " -5.48364459e+239 -1.42962204e+240 -5.75041351e+241 -2.51049728e+240\n",
            " -4.86340948e+241 -1.74912790e+240]\n",
            "[1.32242691e+242 3.48284495e+242 1.35781851e+243 1.52839083e+243\n",
            " 9.22690074e+240 7.71498257e+241 8.29884454e+242 9.28543348e+243\n",
            " 4.40269674e+242 1.41965726e+243 5.74162023e+244 2.42193897e+243\n",
            " 4.66563107e+244 1.72087323e+243]\n",
            "[-1.38232837e+245 -1.37638915e+246 -1.18140586e+246 -1.76419519e+246\n",
            " -3.32385782e+243 -8.19069583e+244 -8.67309839e+245 -1.10859770e+247\n",
            " -3.94362338e+245 -1.79013811e+246 -6.56362319e+247 -2.59556562e+246\n",
            " -5.08797743e+247 -2.09333656e+246]\n",
            "[1.21075875e+248 7.26082957e+248 1.07302967e+249 1.55804769e+249\n",
            " 1.76108882e+247 7.09796233e+247 7.26975625e+248 9.19850296e+249\n",
            " 3.96325550e+248 1.29114288e+249 5.23921009e+250 2.16502360e+249\n",
            " 4.18859797e+250 1.86967064e+249]\n",
            "[-1.23680173e+251 -5.32472622e+251 -8.81198290e+251 -1.60238040e+252\n",
            " -1.03206667e+250 -7.39526180e+250 -7.82159711e+251 -9.48809602e+252\n",
            " -4.18320922e+251 -1.58935991e+252 -5.75843536e+253 -2.32080758e+252\n",
            " -4.45873064e+253 -1.65638799e+252]\n",
            "[1.20802974e+254 2.39416584e+254 8.18198014e+254 1.29726642e+255\n",
            " 1.35707427e+253 6.71929233e+253 7.87719408e+254 7.79537928e+255\n",
            " 4.34487345e+254 1.15622356e+255 4.67568670e+256 2.16644940e+255\n",
            " 4.52927601e+256 1.13344031e+255]\n",
            "[-1.18170703e+257 -1.10367440e+258 -1.60003711e+258 -1.49537057e+258\n",
            " -4.96800616e+255 -6.86017877e+256 -7.24068704e+257 -8.38761314e+258\n",
            " -4.04124364e+257 -1.68097125e+258 -5.72583329e+259 -2.21379584e+258\n",
            " -4.11722472e+259 -1.66487724e+258]\n",
            "[1.21820882e+260 2.80394352e+260 1.23996187e+261 1.60977882e+261\n",
            " 1.81036372e+259 7.16111603e+259 7.66033245e+260 8.71439853e+261\n",
            " 4.48837964e+260 1.08067389e+261 5.28595781e+262 2.28898561e+261\n",
            " 4.24407865e+262 1.70556781e+261]\n",
            "[-1.12612617e+263 -3.91696126e+263 -1.59456810e+264 -1.05929397e+264\n",
            " -7.20565725e+261 -6.02650880e+262 -7.36780090e+263 -7.23458846e+264\n",
            " -4.86914752e+263 -1.02664367e+264 -4.42307201e+265 -2.05421636e+264\n",
            " -4.09341396e+265 -1.37014462e+264]\n",
            "[1.05894663e+266 6.59848667e+266 1.52000306e+267 1.28548857e+267\n",
            " 8.99031741e+264 5.95787165e+265 6.41459693e+266 7.19193968e+267\n",
            " 4.03222206e+266 1.04748127e+267 4.48269552e+268 1.95430924e+267\n",
            " 3.85949975e+268 1.47648747e+267]\n",
            "[-1.02248379e+269 -3.72353507e+269 -9.48127350e+269 -1.26816111e+270\n",
            " -1.05726379e+268 -5.77737602e+268 -6.56223872e+269 -7.61098212e+270\n",
            " -3.56144142e+269 -1.11602738e+270 -4.29027430e+271 -1.88463549e+270\n",
            " -3.70655961e+271 -1.18346703e+270]\n",
            "[ 1.01100124e+272  2.45661456e+272  9.54005663e+272  1.08243701e+273\n",
            " -1.05726379e+268  5.75840998e+271  6.51643935e+272  7.03974196e+273\n",
            "  3.42491558e+272  9.40121100e+272  4.27979500e+274  1.87576473e+273\n",
            "  3.81465152e+274  1.25602635e+273]\n",
            "[-1.08093431e+275 -5.00540765e+275 -7.11753860e+275 -1.49273236e+276\n",
            " -1.06924981e+274 -6.69203950e+274 -6.76570372e+275 -8.41430145e+276\n",
            " -3.30668400e+275 -1.31771806e+276 -5.33788154e+277 -1.98754425e+276\n",
            " -3.79048401e+277 -1.62621709e+276]\n",
            "[1.17639668e+278 6.73090697e+278 1.38347933e+279 1.47375313e+279\n",
            " 8.37289767e+276 6.42848575e+277 7.15201916e+278 8.34218138e+279\n",
            " 4.08514158e+278 1.42801476e+279 5.48784057e+280 2.16762860e+279\n",
            " 4.02546475e+280 1.79102640e+279]\n",
            "[-1.20955783e+281 -6.80403219e+281 -1.22192697e+282 -1.56608704e+282\n",
            " -1.06378873e+280 -7.22453348e+280 -7.46684122e+281 -9.39146102e+282\n",
            " -4.17893360e+281 -1.48631517e+282 -5.51694466e+283 -2.22984410e+282\n",
            " -4.26034855e+283 -1.59232524e+282]\n",
            "[9.78046826e+283 1.72297480e+284 1.03704569e+285 9.83391211e+284\n",
            " 3.10716505e+282 5.27019113e+283 6.03144978e+284 6.97642151e+285\n",
            " 3.65940937e+284 7.60395046e+284 3.71879681e+286 1.80306061e+285\n",
            " 3.57933160e+286 1.28114010e+285]\n",
            "[-9.27962760e+286 -3.50369827e+287 -9.41631523e+287 -1.06631412e+288\n",
            " -1.96310588e+286 -5.28548287e+286 -6.14233278e+287 -6.56808328e+288\n",
            " -3.21627938e+287 -1.13427697e+288 -4.16579333e+289 -1.70202991e+288\n",
            " -3.39154958e+289 -1.02610486e+288]\n",
            "[9.38879162e+289 2.19112402e+290 1.03788696e+291 1.14565560e+291\n",
            " 8.20101593e+288 5.39588649e+289 5.74696920e+290 6.40569638e+291\n",
            " 3.56493734e+290 7.86587142e+290 3.99752294e+292 1.74197760e+291\n",
            " 3.44112634e+292 1.25456664e+291]\n",
            "[-9.29047689e+292 -3.94347604e+293 -1.15631098e+294 -1.13048558e+294\n",
            " -8.52512018e+291 -5.28953142e+292 -5.83429067e+293 -6.56866523e+294\n",
            " -3.61543819e+293 -1.01012103e+294 -4.04297691e+295 -1.71003033e+294\n",
            " -3.34040971e+295 -1.18454277e+294]\n",
            "[9.31005483e+295 7.65072165e+296 4.58510651e+296 1.15996095e+297\n",
            " 5.16507581e+294 5.47994072e+295 5.77774272e+296 7.04292895e+297\n",
            " 3.14053914e+296 1.17414945e+297 4.29541551e+298 1.71171357e+297\n",
            " 3.08534523e+298 1.32725978e+297]\n",
            "[-9.02894981e+298 -2.52695873e+299 -1.33472476e+300 -8.92024015e+299\n",
            " -9.39563543e+297 -5.02096991e+298 -5.81219900e+299 -6.04024909e+300\n",
            " -3.24563587e+299 -8.55986610e+299 -3.71926970e+301 -1.60001355e+300\n",
            " -3.20907493e+301 -1.07817818e+300]\n",
            "[8.83964265e+301 3.72785019e+302 5.10492748e+302 1.13804299e+303\n",
            " 7.51233207e+300 5.19438588e+301 5.50510758e+302 6.76589618e+303\n",
            " 2.75143793e+302 9.76567462e+302             inf 1.62907985e+303\n",
            "             inf 1.27205475e+303]\n",
            "[-inf -inf -inf -inf -inf -inf -inf -inf -inf -inf  nan -inf  nan -inf]\n",
            "[nan nan nan nan nan nan nan nan nan nan nan nan nan nan]\n",
            "[nan nan nan nan nan nan nan nan nan nan nan nan nan nan]\n",
            "[nan nan nan nan nan nan nan nan nan nan nan nan nan nan]\n",
            "[nan nan nan nan nan nan nan nan nan nan nan nan nan nan]\n",
            "[nan nan nan nan nan nan nan nan nan nan nan nan nan nan]\n",
            "[nan nan nan nan nan nan nan nan nan nan nan nan nan nan]\n",
            "[nan nan nan nan nan nan nan nan nan nan nan nan nan nan]\n",
            "[nan nan nan nan nan nan nan nan nan nan nan nan nan nan]\n",
            "[nan nan nan nan nan nan nan nan nan nan nan nan nan nan]\n",
            "[nan nan nan nan nan nan nan nan nan nan nan nan nan nan]\n",
            "[nan nan nan nan nan nan nan nan nan nan nan nan nan nan]\n",
            "[nan nan nan nan nan nan nan nan nan nan nan nan nan nan]\n",
            "[nan nan nan nan nan nan nan nan nan nan nan nan nan nan]\n",
            "[nan nan nan nan nan nan nan nan nan nan nan nan nan nan]\n",
            "[nan nan nan nan nan nan nan nan nan nan nan nan nan nan]\n",
            "[nan nan nan nan nan nan nan nan nan nan nan nan nan nan]\n",
            "[nan nan nan nan nan nan nan nan nan nan nan nan nan nan]\n"
          ]
        },
        {
          "output_type": "stream",
          "name": "stderr",
          "text": [
            "/usr/local/lib/python3.7/dist-packages/ipykernel_launcher.py:20: RuntimeWarning: invalid value encountered in subtract\n"
          ]
        }
      ]
    },
    {
      "cell_type": "code",
      "metadata": {
        "id": "gCrM0z6H596g",
        "outputId": "0356111b-d792-499d-8d87-f1712edf334b",
        "colab": {
          "base_uri": "https://localhost:8080/"
        }
      },
      "source": [
        "print(f\"회귀 계수: \\n {coefficient}\\n\")\n",
        "print(f\" y 절편 : \\n {intercept}\\n\")"
      ],
      "execution_count": null,
      "outputs": [
        {
          "output_type": "stream",
          "name": "stdout",
          "text": [
            "회귀 계수: \n",
            " [-1.28322638e-01  2.95517751e-02  4.88590934e-02  2.77350326e+00\n",
            " -1.62388292e+01  4.36875476e+00 -9.24808158e-03 -1.40086668e+00\n",
            "  2.57761243e-01 -9.95694820e-03 -9.23122944e-01  1.31854199e-02\n",
            " -5.17639519e-01]\n",
            "\n",
            " y 절편 : \n",
            " 29.836420163838596\n",
            "\n"
          ]
        }
      ]
    },
    {
      "cell_type": "code",
      "metadata": {
        "id": "dEDW0F16596g",
        "outputId": "d14a1014-c7b4-401a-ae1d-85e3bbfea567",
        "colab": {
          "base_uri": "https://localhost:8080/"
        }
      },
      "source": [
        "w"
      ],
      "execution_count": null,
      "outputs": [
        {
          "output_type": "execute_result",
          "data": {
            "text/plain": [
              "array([nan, nan, nan, nan, nan, nan, nan, nan, nan, nan, nan, nan, nan,\n",
              "       nan])"
            ]
          },
          "metadata": {},
          "execution_count": 93
        }
      ]
    },
    {
      "cell_type": "code",
      "metadata": {
        "id": "RLPRFQUG596g",
        "outputId": "f07ee15f-6745-4c76-fca5-f119e86b4ced",
        "colab": {
          "base_uri": "https://localhost:8080/"
        }
      },
      "source": [
        "np.random.seed(123)\n",
        "w = np.random.rand(Xtr.shape[1]) - .5\n",
        "w"
      ],
      "execution_count": null,
      "outputs": [
        {
          "output_type": "execute_result",
          "data": {
            "text/plain": [
              "array([ 0.19646919, -0.21386067, -0.27314855,  0.05131477,  0.21946897,\n",
              "       -0.07689354,  0.4807642 ,  0.18482974, -0.0190681 , -0.10788248,\n",
              "       -0.15682198,  0.22904971, -0.06142776, -0.4403221 ])"
            ]
          },
          "metadata": {},
          "execution_count": 94
        }
      ]
    },
    {
      "cell_type": "code",
      "metadata": {
        "id": "2NcL59WV596g",
        "outputId": "df9c0a10-06da-4694-c764-2de2bf673757",
        "colab": {
          "base_uri": "https://localhost:8080/"
        }
      },
      "source": [
        "EPOCH = 50\n",
        "batch = 32\n",
        "lr = 0.00000001\n",
        "rows = Xtr.shape[0]\n",
        "losses = []\n",
        "randRow = np.arange(rows)\n",
        "alpha = .01\n",
        "\n",
        "for epoch in range(EPOCH):\n",
        "    shuffle(randRow)\n",
        "    loss = 0\n",
        "    \n",
        "    for i in range(0, rows, batch):\n",
        "        batch_index = randRow[i:i+batch]\n",
        "        x_batch = Xtr[batch_index]\n",
        "        y_batch = y_train[batch_index]\n",
        "        y_hat = x_batch.dot(w)\n",
        "        loss += (y_batch - y_hat).T.dot((y_batch - y_hat)) + alpha*.5*w.T.dot(w)\n",
        "        # dw = d Loss(w) / d(w)\n",
        "        dw = x_batch.T.dot(x_batch).dot(w) - x_batch.T.dot(y_batch) + alpha*w\n",
        "        w -= lr*dw\n",
        "        \n",
        "    loss /= rows\n",
        "    print(loss)\n",
        "    print(w)\n",
        "    losses.append(loss)"
      ],
      "execution_count": null,
      "outputs": [
        {
          "output_type": "stream",
          "name": "stdout",
          "text": [
            "4242.729804815162\n",
            "[ 0.19669466 -0.21289219 -0.27011701  0.05389239  0.2194876  -0.07676665\n",
            "  0.48219366  0.20018283 -0.01822325 -0.10543911 -0.05866731  0.23318649\n",
            "  0.01884521 -0.43750207]\n",
            "498.44989173685894\n",
            "[ 0.19675986 -0.21259539 -0.26861957  0.05454604  0.21949299 -0.07673153\n",
            "  0.48261885  0.20403979 -0.01794397 -0.10472744 -0.03041706  0.23435033\n",
            "  0.04172438 -0.43679026]\n",
            "189.29129433926732\n",
            "[ 0.19677955 -0.21251234 -0.26760451  0.05464939  0.21949495 -0.07672242\n",
            "  0.48275879  0.2046457  -0.01782879 -0.10451756 -0.0222807   0.23467244\n",
            "  0.04811814 -0.43668425]\n",
            "163.3636558993418\n",
            "[ 0.19678663 -0.21248696 -0.26672169  0.05460121  0.21949596 -0.07672058\n",
            "  0.48281907  0.20434383 -0.01775793 -0.10444753 -0.01967298  0.23476295\n",
            "  0.05001956 -0.43674243]\n",
            "160.72049093841144\n",
            "[ 0.19678957 -0.21248239 -0.26588243  0.05450247  0.21949668 -0.07672114\n",
            "  0.48285334  0.20374457 -0.01770164 -0.10442517 -0.0189179   0.23477623\n",
            "  0.05043935 -0.43685682]\n",
            "160.16073192027199\n",
            "[ 0.19679168 -0.21248084 -0.26505431  0.05439411  0.21949736 -0.07672216\n",
            "  0.4828824   0.20308679 -0.01764844 -0.1044109  -0.01851941  0.23477464\n",
            "  0.05055849 -0.43698191]\n",
            "159.24562218222272\n",
            "[ 0.19679337 -0.21248153 -0.26423207  0.05428088  0.21949799 -0.07672341\n",
            "  0.4829088   0.20240203 -0.01759686 -0.10440215 -0.01831532  0.23476509\n",
            "  0.05052909 -0.43711219]\n",
            "158.58036319091403\n",
            "[ 0.19679439 -0.21248503 -0.26341957  0.05415944  0.21949856 -0.07672505\n",
            "  0.4829309   0.20167111 -0.01754782 -0.10440095 -0.01841381  0.23474294\n",
            "  0.05025996 -0.43725139]\n",
            "157.88733705770576\n",
            "[ 0.19679702 -0.21248221 -0.2625922   0.05405767  0.21949928 -0.07672575\n",
            "  0.48296319  0.2010586  -0.0174933  -0.10438279 -0.01781665  0.23475061\n",
            "  0.05058211 -0.43736907]\n",
            "157.35338590645148\n",
            "[ 0.196799   -0.21248198 -0.26177214  0.0539478   0.21949993 -0.07672683\n",
            "  0.48299142  0.20039923 -0.01744093 -0.10437251 -0.01751725  0.23474639\n",
            "  0.05067635 -0.43749527]\n",
            "156.88149191942705\n",
            "[ 0.19680044 -0.21248435 -0.26096082  0.05383205  0.21950054 -0.07672822\n",
            "  0.48301612  0.19970476 -0.01739082 -0.10436824 -0.01745966  0.23473198\n",
            "  0.05056358 -0.43762801]\n",
            "156.16961918739824\n",
            "[ 0.19680198 -0.21248645 -0.26014856  0.05371722  0.21950114 -0.07672955\n",
            "  0.4830415   0.19901951 -0.01734034 -0.10436352 -0.01737251  0.23471943\n",
            "  0.05050013 -0.43775988]\n",
            "155.79622242383965\n",
            "[ 0.19680316 -0.21249111 -0.25934123  0.05359793  0.21950173 -0.07673109\n",
            "  0.48306462  0.19830765 -0.01729115 -0.10436326 -0.01745353  0.23470031\n",
            "  0.0503099  -0.43789632]\n",
            "155.0869766257454\n",
            "[ 0.19680463 -0.21249288 -0.25853474  0.05348298  0.21950234 -0.07673244\n",
            "  0.48308954  0.19762237 -0.01724123 -0.10435862 -0.01737915  0.23468676\n",
            "  0.05021367 -0.43802779]\n",
            "154.40551403283936\n",
            "[ 0.1968069  -0.21249162 -0.25772168  0.0533779   0.21950303 -0.07673333\n",
            "  0.48311951  0.19699487 -0.01718858 -0.10434595 -0.01697587  0.23468778\n",
            "  0.05041126 -0.43814895]\n",
            "153.703065108019\n",
            "[ 0.1968072  -0.21249873 -0.25693286  0.05325     0.21950357 -0.07673534\n",
            "  0.483137    0.1962308  -0.01714325 -0.10435389 -0.0174175   0.23465258\n",
            "  0.04989331 -0.43829559]\n",
            "153.27981233088798\n",
            "[ 0.19680886 -0.21249964 -0.25613062  0.05313821  0.21950422 -0.07673656\n",
            "  0.4831631   0.1955653  -0.01709304 -0.10434711 -0.01727098  0.23464273\n",
            "  0.04987098 -0.43842406]\n",
            "152.9851561440808\n",
            "[ 0.19681087 -0.21249916 -0.25532722  0.05303108  0.21950492 -0.07673758\n",
            "  0.48319133  0.19492773 -0.01704195 -0.10433692 -0.01698056  0.23463897\n",
            "  0.04996881 -0.43854788]\n",
            "151.97077331974802\n",
            "[ 0.196812   -0.21250404 -0.25453427  0.05291229  0.21950553 -0.07673912\n",
            "  0.48321415  0.19422652 -0.01699378 -0.1043383  -0.01711137  0.23461907\n",
            "  0.04976712 -0.4386842 ]\n",
            "151.6264754463242\n",
            "[ 0.19681483 -0.21250203 -0.25372519  0.05281404  0.21950628 -0.07673968\n",
            "  0.48324763  0.19364868 -0.01693974 -0.10432187 -0.01651152  0.2346304\n",
            "  0.05017803 -0.43879814]\n",
            "150.74566409486033\n",
            "[ 0.1968169  -0.21250261 -0.25292698  0.05270767  0.21950696 -0.07674066\n",
            "  0.48327629  0.19301938 -0.01688856 -0.10431245 -0.01622204  0.23462795\n",
            "  0.0503113  -0.43892094]\n",
            "150.18377967388517\n",
            "[ 0.19681796 -0.21250717 -0.25214279  0.05258966  0.21950757 -0.07674221\n",
            "  0.48329852  0.19232095 -0.01684125 -0.10431384 -0.01636885  0.23460679\n",
            "  0.05007473 -0.43905637]\n",
            "149.85913027015198\n",
            "[ 0.1968189  -0.21251176 -0.25136023  0.05247093  0.21950818 -0.07674382\n",
            "  0.48331999  0.19161597 -0.01679448 -0.10431588 -0.01655509  0.23458377\n",
            "  0.04979903 -0.43919309]\n",
            "149.12998487009477\n",
            "[ 0.19682055 -0.21251359 -0.25057287  0.05236067  0.21950885 -0.07674502\n",
            "  0.48334594  0.1909643  -0.01674523 -0.10431064 -0.01643967  0.2345738\n",
            "  0.04977289 -0.43932017]\n",
            "148.85642476982147\n",
            "[ 0.19682251 -0.21251441 -0.24978338  0.05225434  0.21950952 -0.07674605\n",
            "  0.48337378  0.19033594 -0.01669504 -0.10430276 -0.01620178  0.23456929\n",
            "  0.04985319 -0.43944306]\n",
            "148.0700327684791\n",
            "[ 0.19682436 -0.21251582 -0.24899732  0.05214637  0.21951023 -0.07674713\n",
            "  0.48340096  0.18970268 -0.01664526 -0.10429611 -0.01601713  0.23456289\n",
            "  0.04990443 -0.43956751]\n",
            "147.24067338880627\n",
            "[ 0.19682599 -0.21251838 -0.24821682  0.05203625  0.2195109  -0.07674833\n",
            "  0.48342672  0.18905589 -0.01659655 -0.10429187 -0.01593161  0.23455249\n",
            "  0.04987561 -0.43969452]\n",
            "146.57211106862405\n",
            "[ 0.19682787 -0.21251841 -0.24743563  0.05193002  0.21951159 -0.07674937\n",
            "  0.48345406  0.18843133 -0.01654711 -0.10428413 -0.01571432  0.234547\n",
            "  0.04993846 -0.43981726]\n",
            "146.0584097040675\n",
            "[ 0.19682939 -0.21252125 -0.24666046  0.05181909  0.21951224 -0.07675063\n",
            "  0.48347908  0.18778048 -0.01649901 -0.10428138 -0.0156818   0.23453454\n",
            "  0.04987418 -0.43994535]\n",
            "145.7840624255344\n",
            "[ 0.19683111 -0.21252296 -0.24588507  0.05171122  0.21951293 -0.07675176\n",
            "  0.48350543  0.18714717 -0.01645034 -0.10427603 -0.01555195  0.23452615\n",
            "  0.04988101 -0.44007028]\n",
            "145.28964394815762\n",
            "[ 0.1968327  -0.21252507 -0.24511246  0.051602    0.21951361 -0.07675296\n",
            "  0.4835309   0.18650666 -0.01640231 -0.10427201 -0.01547902  0.23451529\n",
            "  0.04983911 -0.4401965 ]\n",
            "144.59165599376442\n",
            "[ 0.19683382 -0.21252966 -0.24434769  0.05148728  0.21951426 -0.07675442\n",
            "  0.48355338  0.18583442 -0.01635619 -0.10427342 -0.01562167  0.23449553\n",
            "  0.0496247  -0.44032875]\n",
            "144.04784029826476\n",
            "[ 0.19683649 -0.21252763 -0.24356915  0.05139081  0.21951502 -0.076755\n",
            "  0.48358565  0.18527374 -0.01630447 -0.10425856 -0.01509841  0.23450455\n",
            "  0.04997974 -0.4404408 ]\n",
            "143.34759251773437\n",
            "[ 0.19683736 -0.21253373 -0.2428108   0.051273    0.21951564 -0.07675661\n",
            "  0.48360658  0.18458752 -0.01625928 -0.10426399 -0.01537113  0.23448028\n",
            "  0.0496845  -0.44057603]\n",
            "142.75679939503155\n",
            "[ 0.1968395  -0.21253351 -0.24204227  0.05117145  0.21951637 -0.07675747\n",
            "  0.48363548  0.18399612 -0.01620985 -0.10425479 -0.01507548  0.23447968\n",
            "  0.049847   -0.4406942 ]\n",
            "142.59015861899795\n",
            "[ 0.19684169 -0.21253386 -0.24127358  0.05107003  0.2195171  -0.0767583\n",
            "  0.48366469  0.18340838 -0.01616029 -0.10424546 -0.01476795  0.23447979\n",
            "  0.05002016 -0.44081184]\n",
            "141.9093348132392\n",
            "[ 0.19684241 -0.21254039 -0.24052226  0.05095138  0.21951774 -0.07675998\n",
            "  0.48368464  0.18271876 -0.01611612 -0.10425242 -0.01510873  0.23445308\n",
            "  0.04966775 -0.44094833]\n",
            "141.22228348313456\n",
            "[ 0.19684468 -0.21253948 -0.2397583   0.05085213  0.21951848 -0.07676076\n",
            "  0.48371425  0.18214169 -0.01606667 -0.1042417  -0.01475567  0.2344549\n",
            "  0.04986995 -0.4410639 ]\n",
            "141.17731180559903\n",
            "[ 0.19684639 -0.21254125 -0.23900028  0.05074626  0.21951916 -0.07676185\n",
            "  0.4837404   0.18152544 -0.01601914 -0.10423757 -0.01464875  0.23444661\n",
            "  0.04987139 -0.44118679]\n",
            "140.18990714287747\n",
            "[ 0.19684846 -0.21254141 -0.23824259  0.05064515  0.21951989 -0.07676273\n",
            "  0.48376875  0.18093982 -0.01597069 -0.10422923 -0.01438322  0.23444476\n",
            "  0.04999782 -0.44130414]\n",
            "139.73866993353525\n",
            "[ 0.19684989 -0.21254454 -0.23749337  0.05053693  0.21952056 -0.07676396\n",
            "  0.48379308  0.18031004 -0.01592468 -0.10422766 -0.01439556  0.23443121\n",
            "  0.04989974 -0.44142972]\n",
            "139.16643339559087\n",
            "[ 0.1968514  -0.21254743 -0.23674635  0.05042976  0.21952126 -0.07676514\n",
            "  0.48381787  0.1796878  -0.01587856 -0.10422514 -0.01437931  0.2344191\n",
            "  0.04982058 -0.44155427]\n",
            "138.65352494341914\n",
            "[ 0.19685245 -0.21255259 -0.23600419  0.05031727  0.21952194 -0.07676659\n",
            "  0.48383978  0.17903477 -0.01583407 -0.10422823 -0.01457295  0.23439858\n",
            "  0.04958832 -0.44168449]\n",
            "138.06761449185228\n",
            "[ 0.19685429 -0.21255377 -0.23525607  0.05021438  0.21952266 -0.07676757\n",
            "  0.48386663  0.17844148 -0.01578698 -0.10422255 -0.01441785  0.23439258\n",
            "  0.0496343  -0.4418043 ]\n",
            "137.6366572735179\n",
            "[ 0.19685622 -0.21255466 -0.23450899  0.05011286  0.21952339 -0.0767685\n",
            "  0.48389411  0.17785674 -0.01573967 -0.10421617 -0.01422523  0.23438847\n",
            "  0.04971788 -0.44192252]\n",
            "137.26140654344147\n",
            "[ 0.19685783 -0.21255674 -0.23376723  0.05000773  0.2195241  -0.07676961\n",
            "  0.4839195   0.17724967 -0.01569364 -0.10421305 -0.01417006  0.23437847\n",
            "  0.04967935 -0.44204474]\n",
            "136.66035848419205\n",
            "[ 0.19686007 -0.21255619 -0.23302165  0.04991061  0.21952488 -0.07677035\n",
            "  0.48394887  0.17669187 -0.01564555 -0.10420324 -0.01384017  0.23438007\n",
            "  0.04986883 -0.44215851]\n",
            "136.2463413339559\n",
            "[ 0.19686171 -0.21255807 -0.23228457  0.04980655  0.21952561 -0.07677143\n",
            "  0.48397439  0.17609206 -0.01559981 -0.10419975 -0.0137756   0.23437046\n",
            "  0.04984089 -0.44228023]\n",
            "135.69097768356747\n",
            "[ 0.19686343 -0.2125595  -0.23154775  0.04970385  0.21952634 -0.07677245\n",
            "  0.48400046  0.1755006  -0.01555377 -0.10419518 -0.01366945  0.23436267\n",
            "  0.04984356 -0.44240018]\n",
            "135.12776620936023\n",
            "[ 0.1968646  -0.21256339 -0.23081864  0.0495946   0.21952702 -0.07677379\n",
            "  0.48402304  0.17487182 -0.01550984 -0.10419697 -0.01381074  0.23434474\n",
            "  0.04964785 -0.44252709]\n"
          ]
        }
      ]
    },
    {
      "cell_type": "code",
      "metadata": {
        "collapsed": true,
        "id": "txstlRbz596h",
        "outputId": "845072a2-b8d4-41bf-fc91-e01172fc6dfc",
        "colab": {
          "base_uri": "https://localhost:8080/"
        }
      },
      "source": [
        "losses"
      ],
      "execution_count": null,
      "outputs": [
        {
          "output_type": "execute_result",
          "data": {
            "text/plain": [
              "[4242.729804815162,\n",
              " 498.44989173685894,\n",
              " 189.29129433926732,\n",
              " 163.3636558993418,\n",
              " 160.72049093841144,\n",
              " 160.16073192027199,\n",
              " 159.24562218222272,\n",
              " 158.58036319091403,\n",
              " 157.88733705770576,\n",
              " 157.35338590645148,\n",
              " 156.88149191942705,\n",
              " 156.16961918739824,\n",
              " 155.79622242383965,\n",
              " 155.0869766257454,\n",
              " 154.40551403283936,\n",
              " 153.703065108019,\n",
              " 153.27981233088798,\n",
              " 152.9851561440808,\n",
              " 151.97077331974802,\n",
              " 151.6264754463242,\n",
              " 150.74566409486033,\n",
              " 150.18377967388517,\n",
              " 149.85913027015198,\n",
              " 149.12998487009477,\n",
              " 148.85642476982147,\n",
              " 148.0700327684791,\n",
              " 147.24067338880627,\n",
              " 146.57211106862405,\n",
              " 146.0584097040675,\n",
              " 145.7840624255344,\n",
              " 145.28964394815762,\n",
              " 144.59165599376442,\n",
              " 144.04784029826476,\n",
              " 143.34759251773437,\n",
              " 142.75679939503155,\n",
              " 142.59015861899795,\n",
              " 141.9093348132392,\n",
              " 141.22228348313456,\n",
              " 141.17731180559903,\n",
              " 140.18990714287747,\n",
              " 139.73866993353525,\n",
              " 139.16643339559087,\n",
              " 138.65352494341914,\n",
              " 138.06761449185228,\n",
              " 137.6366572735179,\n",
              " 137.26140654344147,\n",
              " 136.66035848419205,\n",
              " 136.2463413339559,\n",
              " 135.69097768356747,\n",
              " 135.12776620936023]"
            ]
          },
          "metadata": {},
          "execution_count": 96
        }
      ]
    },
    {
      "cell_type": "code",
      "metadata": {
        "id": "EVzR3lre596h",
        "outputId": "131bed28-76dc-4b8c-cc1b-99cd517d1fc3",
        "colab": {
          "base_uri": "https://localhost:8080/"
        }
      },
      "source": [
        "w"
      ],
      "execution_count": null,
      "outputs": [
        {
          "output_type": "execute_result",
          "data": {
            "text/plain": [
              "array([ 0.1968646 , -0.21256339, -0.23081864,  0.0495946 ,  0.21952702,\n",
              "       -0.07677379,  0.48402304,  0.17487182, -0.01550984, -0.10419697,\n",
              "       -0.01381074,  0.23434474,  0.04964785, -0.44252709])"
            ]
          },
          "metadata": {},
          "execution_count": 97
        }
      ]
    },
    {
      "cell_type": "code",
      "metadata": {
        "id": "QrK008EG596h",
        "outputId": "fefa9f96-751d-4f20-bf20-6e50fb1916d4",
        "colab": {
          "base_uri": "https://localhost:8080/"
        }
      },
      "source": [
        "print(f\"회귀 계수: \\n {coefficient}\\n\")\n",
        "print(f\" y 절편 : \\n {intercept}\\n\")"
      ],
      "execution_count": null,
      "outputs": [
        {
          "output_type": "stream",
          "name": "stdout",
          "text": [
            "회귀 계수: \n",
            " [-1.28322638e-01  2.95517751e-02  4.88590934e-02  2.77350326e+00\n",
            " -1.62388292e+01  4.36875476e+00 -9.24808158e-03 -1.40086668e+00\n",
            "  2.57761243e-01 -9.95694820e-03 -9.23122944e-01  1.31854199e-02\n",
            " -5.17639519e-01]\n",
            "\n",
            " y 절편 : \n",
            " 29.836420163838596\n",
            "\n"
          ]
        }
      ]
    },
    {
      "cell_type": "code",
      "metadata": {
        "id": "c-F1u2GA596h"
      },
      "source": [
        "predTrn = Xtr.dot(w)\n",
        "predTst = Xts.dot(w)"
      ],
      "execution_count": null,
      "outputs": []
    },
    {
      "cell_type": "code",
      "metadata": {
        "id": "_UgS924a596h",
        "outputId": "ebd79016-ef60-4617-cc17-5c0a23afbf7e",
        "colab": {
          "base_uri": "https://localhost:8080/"
        }
      },
      "source": [
        "SST_trn = np.square(y_train - y_train.mean()).sum()\n",
        "SST_tst = np.square(y_test - y_test.mean()).sum()\n",
        "SSE_trn = np.square(y_train - predTrn).sum()\n",
        "SSE_tst = np.square(y_test - predTst).sum()\n",
        "R2_trn = 1 - SSE_trn/SST_trn\n",
        "R2_tst = 1 - SSE_tst/SST_tst\n",
        "print(R2_trn, R2_tst)"
      ],
      "execution_count": null,
      "outputs": [
        {
          "output_type": "stream",
          "name": "stdout",
          "text": [
            "-0.5188437301521689 -1.095012289658695\n"
          ]
        }
      ]
    },
    {
      "cell_type": "markdown",
      "metadata": {
        "id": "a3HaLSk3596h"
      },
      "source": [
        "## 2. classification\n",
        "We consider binary classification, and want to predict not directly <font color='red'>y</font> but <font color='blue'>p(y=1)</font>.\n",
        "\n",
        "We Set:\n",
        "\n",
        "$$\\begin{align}\n",
        "\\hat y &= P(y=1) = \\sigma(X \\cdot w) \\\\\n",
        "\\sigma(z) &= \\cfrac 1 {1+\\exp(-z)}\\\\\n",
        "\\cfrac {\\partial \\sigma(z)}{\\partial z} &= \\cfrac {\\exp(-z)} {(1+\\exp(-z))^2} = \\sigma(z)(1-\\sigma(z))\\\\\n",
        "Loss(w) &= NLL(w) \n",
        "= - \\left[ y^T \\cdot \\log P(y=1) \\right] - \\left[ (1-y)^T \\cdot \\log (1-P(y=1)) \\right] \\\\\n",
        "\\cfrac {\\partial Loss}{\\partial w} &= - X^T \\cdot \\left[ y \\cdot (1 - P(y=1)) \\right] + X^T \\cdot \\left[(1-y) \\cdot P(y=1) \\right] \\\\\n",
        "&= X^T \\cdot (\\hat y - y)\n",
        "\\end{align}$$\n",
        "\n",
        "We update w with :\n",
        "$$w(t+1) = w(t) - lr * \\cfrac {\\partial Loss}{\\partial w} \\Bigg|_{w =w(t)}$$"
      ]
    },
    {
      "cell_type": "markdown",
      "metadata": {
        "id": "owUvYZLA596h"
      },
      "source": [
        "likelyhood(y) = $P(y=1)^y * (1-P(y=1))^{1-y}$\n",
        "- P(y = 0) + P(y = 1) = 1\n",
        "- P(y = 0) = 1 - P(y = 1)\n",
        "\n",
        "---\n",
        "n 개의 데이터 전체에 걸친 우도값:\n",
        "$$\\begin{align}\n",
        "Likelyhood(Y) &= \\prod_{i=1}^n {P(y_i=1)^{y_i} * (1-P(y_i=1))^{1-y_i}}\\\\\n",
        "\\log{Likelyhood(Y)} = LL(Y) &= \\sum_{i=1}^n \\left[ {y_i \\log(P(y_i=1)) + (1-y_i) \\log((1-P(y_i=1))} \\right] \\\\\n",
        "Loss(Y) = NLL(Y) &= - \\sum_{i=1}^n \\left[ {y_i \\log(P(y_i=1)) + (1-y_i)\\log((1-P(y_i=1))} \\right] \n",
        "\\end{align}$$\n",
        "\n",
        "---\n",
        "하나의 데이터에 대해 y와 P(y=1)로 계산한 loss 함수"
      ]
    },
    {
      "cell_type": "code",
      "metadata": {
        "id": "peICp0lr596i"
      },
      "source": [
        "import numpy as np\n",
        "def loss(y, py1):\n",
        "    return -y*np.log(py1) - (1-y)*np.log(1-py1)"
      ],
      "execution_count": null,
      "outputs": []
    },
    {
      "cell_type": "markdown",
      "metadata": {
        "id": "nqWADXkJ596i"
      },
      "source": [
        "[Quiz] y = 1일때, P(y=1)이 0.01 ~ 0.99까지 0.01씩 변할 때, loss의 값을 계산하여 p, loss로 그래프를 그려라."
      ]
    },
    {
      "cell_type": "code",
      "metadata": {
        "collapsed": true,
        "id": "tdyd3cLe596i",
        "outputId": "54f421e8-57e3-4255-cca3-a1536b1553cf",
        "colab": {
          "base_uri": "https://localhost:8080/"
        }
      },
      "source": [
        "py1 = np.arange(1, 100)*.01\n",
        "py1"
      ],
      "execution_count": null,
      "outputs": [
        {
          "output_type": "execute_result",
          "data": {
            "text/plain": [
              "array([0.01, 0.02, 0.03, 0.04, 0.05, 0.06, 0.07, 0.08, 0.09, 0.1 , 0.11,\n",
              "       0.12, 0.13, 0.14, 0.15, 0.16, 0.17, 0.18, 0.19, 0.2 , 0.21, 0.22,\n",
              "       0.23, 0.24, 0.25, 0.26, 0.27, 0.28, 0.29, 0.3 , 0.31, 0.32, 0.33,\n",
              "       0.34, 0.35, 0.36, 0.37, 0.38, 0.39, 0.4 , 0.41, 0.42, 0.43, 0.44,\n",
              "       0.45, 0.46, 0.47, 0.48, 0.49, 0.5 , 0.51, 0.52, 0.53, 0.54, 0.55,\n",
              "       0.56, 0.57, 0.58, 0.59, 0.6 , 0.61, 0.62, 0.63, 0.64, 0.65, 0.66,\n",
              "       0.67, 0.68, 0.69, 0.7 , 0.71, 0.72, 0.73, 0.74, 0.75, 0.76, 0.77,\n",
              "       0.78, 0.79, 0.8 , 0.81, 0.82, 0.83, 0.84, 0.85, 0.86, 0.87, 0.88,\n",
              "       0.89, 0.9 , 0.91, 0.92, 0.93, 0.94, 0.95, 0.96, 0.97, 0.98, 0.99])"
            ]
          },
          "metadata": {},
          "execution_count": 102
        }
      ]
    },
    {
      "cell_type": "code",
      "metadata": {
        "collapsed": true,
        "id": "2IPzcoXm596i",
        "outputId": "19cc1e76-b042-4e7a-d3d9-2c3c47ab079e",
        "colab": {
          "base_uri": "https://localhost:8080/"
        }
      },
      "source": [
        "Loss = loss(1, py1)\n",
        "Loss"
      ],
      "execution_count": null,
      "outputs": [
        {
          "output_type": "execute_result",
          "data": {
            "text/plain": [
              "array([4.60517019, 3.91202301, 3.5065579 , 3.21887582, 2.99573227,\n",
              "       2.81341072, 2.65926004, 2.52572864, 2.40794561, 2.30258509,\n",
              "       2.20727491, 2.12026354, 2.04022083, 1.96611286, 1.89711998,\n",
              "       1.83258146, 1.77195684, 1.71479843, 1.66073121, 1.60943791,\n",
              "       1.56064775, 1.51412773, 1.46967597, 1.42711636, 1.38629436,\n",
              "       1.34707365, 1.30933332, 1.27296568, 1.23787436, 1.2039728 ,\n",
              "       1.17118298, 1.13943428, 1.10866262, 1.07880966, 1.04982212,\n",
              "       1.02165125, 0.99425227, 0.96758403, 0.94160854, 0.91629073,\n",
              "       0.89159812, 0.86750057, 0.84397007, 0.82098055, 0.7985077 ,\n",
              "       0.77652879, 0.75502258, 0.73396918, 0.71334989, 0.69314718,\n",
              "       0.67334455, 0.65392647, 0.63487827, 0.61618614, 0.597837  ,\n",
              "       0.5798185 , 0.56211892, 0.54472718, 0.52763274, 0.51082562,\n",
              "       0.49429632, 0.4780358 , 0.46203546, 0.4462871 , 0.43078292,\n",
              "       0.41551544, 0.40047757, 0.38566248, 0.37106368, 0.35667494,\n",
              "       0.34249031, 0.32850407, 0.31471074, 0.30110509, 0.28768207,\n",
              "       0.27443685, 0.26136476, 0.24846136, 0.23572233, 0.22314355,\n",
              "       0.21072103, 0.19845094, 0.18632958, 0.17435339, 0.16251893,\n",
              "       0.15082289, 0.13926207, 0.12783337, 0.11653382, 0.10536052,\n",
              "       0.09431068, 0.08338161, 0.07257069, 0.0618754 , 0.05129329,\n",
              "       0.04082199, 0.03045921, 0.02020271, 0.01005034])"
            ]
          },
          "metadata": {},
          "execution_count": 103
        }
      ]
    },
    {
      "cell_type": "code",
      "metadata": {
        "id": "ZwY9udVJ596i",
        "outputId": "c6253dae-3052-40dd-9a39-719fa31542f4",
        "colab": {
          "base_uri": "https://localhost:8080/",
          "height": 297
        }
      },
      "source": [
        "import pandas as pd\n",
        "lossDf = pd.DataFrame({'py1':py1, 'loss':Loss})\n",
        "lossDf.plot.scatter('py1', 'loss')"
      ],
      "execution_count": null,
      "outputs": [
        {
          "output_type": "execute_result",
          "data": {
            "text/plain": [
              "<matplotlib.axes._subplots.AxesSubplot at 0x7ff533a89650>"
            ]
          },
          "metadata": {},
          "execution_count": 104
        },
        {
          "output_type": "display_data",
          "data": {
            "image/png": "[encoded data removed]",
            "text/plain": [
              "<Figure size 432x288 with 1 Axes>"
            ]
          },
          "metadata": {
            "needs_background": "light"
          }
        }
      ]
    },
    {
      "cell_type": "code",
      "metadata": {
        "id": "iTAkAzxv596i",
        "outputId": "0baddea8-ecca-4c62-9184-4876d339d454",
        "colab": {
          "base_uri": "https://localhost:8080/",
          "height": 297
        }
      },
      "source": [
        "lossDf.plot('py1', 'loss', kind='scatter')"
      ],
      "execution_count": null,
      "outputs": [
        {
          "output_type": "execute_result",
          "data": {
            "text/plain": [
              "<matplotlib.axes._subplots.AxesSubplot at 0x7ff5379889d0>"
            ]
          },
          "metadata": {},
          "execution_count": 105
        },
        {
          "output_type": "display_data",
          "data": {
            "image/png": "[encoded data removed]",
            "text/plain": [
              "<Figure size 432x288 with 1 Axes>"
            ]
          },
          "metadata": {
            "needs_background": "light"
          }
        }
      ]
    },
    {
      "cell_type": "code",
      "metadata": {
        "id": "yvf1n3ze596i",
        "outputId": "91d2c380-c22f-4068-cfeb-a0f39880e455",
        "colab": {
          "base_uri": "https://localhost:8080/",
          "height": 206
        }
      },
      "source": [
        "lossDf.head()"
      ],
      "execution_count": null,
      "outputs": [
        {
          "output_type": "execute_result",
          "data": {
            "text/html": [
              "\n",
              "  <div id=\"df-1a00413e-ef23-4aa3-af6f-e1f6b87dbf67\">\n",
              "    <div class=\"colab-df-container\">\n",
              "      <div>\n",
              "<style scoped>\n",
              "    .dataframe tbody tr th:only-of-type {\n",
              "        vertical-align: middle;\n",
              "    }\n",
              "\n",
              "    .dataframe tbody tr th {\n",
              "        vertical-align: top;\n",
              "    }\n",
              "\n",
              "    .dataframe thead th {\n",
              "        text-align: right;\n",
              "    }\n",
              "</style>\n",
              "<table border=\"1\" class=\"dataframe\">\n",
              "  <thead>\n",
              "    <tr style=\"text-align: right;\">\n",
              "      <th></th>\n",
              "      <th>py1</th>\n",
              "      <th>loss</th>\n",
              "    </tr>\n",
              "  </thead>\n",
              "  <tbody>\n",
              "    <tr>\n",
              "      <th>0</th>\n",
              "      <td>0.01</td>\n",
              "      <td>4.605170</td>\n",
              "    </tr>\n",
              "    <tr>\n",
              "      <th>1</th>\n",
              "      <td>0.02</td>\n",
              "      <td>3.912023</td>\n",
              "    </tr>\n",
              "    <tr>\n",
              "      <th>2</th>\n",
              "      <td>0.03</td>\n",
              "      <td>3.506558</td>\n",
              "    </tr>\n",
              "    <tr>\n",
              "      <th>3</th>\n",
              "      <td>0.04</td>\n",
              "      <td>3.218876</td>\n",
              "    </tr>\n",
              "    <tr>\n",
              "      <th>4</th>\n",
              "      <td>0.05</td>\n",
              "      <td>2.995732</td>\n",
              "    </tr>\n",
              "  </tbody>\n",
              "</table>\n",
              "</div>\n",
              "      <button class=\"colab-df-convert\" onclick=\"convertToInteractive('df-1a00413e-ef23-4aa3-af6f-e1f6b87dbf67')\"\n",
              "              title=\"Convert this dataframe to an interactive table.\"\n",
              "              style=\"display:none;\">\n",
              "        \n",
              "  <svg xmlns=\"http://www.w3.org/2000/svg\" height=\"24px\"viewBox=\"0 0 24 24\"\n",
              "       width=\"24px\">\n",
              "    <path d=\"M0 0h24v24H0V0z\" fill=\"none\"/>\n",
              "    <path d=\"M18.56 5.44l.94 2.06.94-2.06 2.06-.94-2.06-.94-.94-2.06-.94 2.06-2.06.94zm-11 1L8.5 8.5l.94-2.06 2.06-.94-2.06-.94L8.5 2.5l-.94 2.06-2.06.94zm10 10l.94 2.06.94-2.06 2.06-.94-2.06-.94-.94-2.06-.94 2.06-2.06.94z\"/><path d=\"M17.41 7.96l-1.37-1.37c-.4-.4-.92-.59-1.43-.59-.52 0-1.04.2-1.43.59L10.3 9.45l-7.72 7.72c-.78.78-.78 2.05 0 2.83L4 21.41c.39.39.9.59 1.41.59.51 0 1.02-.2 1.41-.59l7.78-7.78 2.81-2.81c.8-.78.8-2.07 0-2.86zM5.41 20L4 18.59l7.72-7.72 1.47 1.35L5.41 20z\"/>\n",
              "  </svg>\n",
              "      </button>\n",
              "      \n",
              "  <style>\n",
              "    .colab-df-container {\n",
              "      display:flex;\n",
              "      flex-wrap:wrap;\n",
              "      gap: 12px;\n",
              "    }\n",
              "\n",
              "    .colab-df-convert {\n",
              "      background-color: #E8F0FE;\n",
              "      border: none;\n",
              "      border-radius: 50%;\n",
              "      cursor: pointer;\n",
              "      display: none;\n",
              "      fill: #1967D2;\n",
              "      height: 32px;\n",
              "      padding: 0 0 0 0;\n",
              "      width: 32px;\n",
              "    }\n",
              "\n",
              "    .colab-df-convert:hover {\n",
              "      background-color: #E2EBFA;\n",
              "      box-shadow: 0px 1px 2px rgba(60, 64, 67, 0.3), 0px 1px 3px 1px rgba(60, 64, 67, 0.15);\n",
              "      fill: #174EA6;\n",
              "    }\n",
              "\n",
              "    [theme=dark] .colab-df-convert {\n",
              "      background-color: #3B4455;\n",
              "      fill: #D2E3FC;\n",
              "    }\n",
              "\n",
              "    [theme=dark] .colab-df-convert:hover {\n",
              "      background-color: #434B5C;\n",
              "      box-shadow: 0px 1px 3px 1px rgba(0, 0, 0, 0.15);\n",
              "      filter: drop-shadow(0px 1px 2px rgba(0, 0, 0, 0.3));\n",
              "      fill: #FFFFFF;\n",
              "    }\n",
              "  </style>\n",
              "\n",
              "      <script>\n",
              "        const buttonEl =\n",
              "          document.querySelector('#df-1a00413e-ef23-4aa3-af6f-e1f6b87dbf67 button.colab-df-convert');\n",
              "        buttonEl.style.display =\n",
              "          google.colab.kernel.accessAllowed ? 'block' : 'none';\n",
              "\n",
              "        async function convertToInteractive(key) {\n",
              "          const element = document.querySelector('#df-1a00413e-ef23-4aa3-af6f-e1f6b87dbf67');\n",
              "          const dataTable =\n",
              "            await google.colab.kernel.invokeFunction('convertToInteractive',\n",
              "                                                     [key], {});\n",
              "          if (!dataTable) return;\n",
              "\n",
              "          const docLinkHtml = 'Like what you see? Visit the ' +\n",
              "            '<a target=\"_blank\" href=https://colab.research.google.com/notebooks/data_table.ipynb>data table notebook</a>'\n",
              "            + ' to learn more about interactive tables.';\n",
              "          element.innerHTML = '';\n",
              "          dataTable['output_type'] = 'display_data';\n",
              "          await google.colab.output.renderOutput(dataTable, element);\n",
              "          const docLink = document.createElement('div');\n",
              "          docLink.innerHTML = docLinkHtml;\n",
              "          element.appendChild(docLink);\n",
              "        }\n",
              "      </script>\n",
              "    </div>\n",
              "  </div>\n",
              "  "
            ],
            "text/plain": [
              "    py1      loss\n",
              "0  0.01  4.605170\n",
              "1  0.02  3.912023\n",
              "2  0.03  3.506558\n",
              "3  0.04  3.218876\n",
              "4  0.05  2.995732"
            ]
          },
          "metadata": {},
          "execution_count": 106
        }
      ]
    },
    {
      "cell_type": "markdown",
      "source": [
        "[Quiz] z = np.linspace(-10, 10, 1000)일 때:\n",
        "- sigmoid(z)을 정의하고\n",
        "- z, sigmoid(z)에 대해 그래프를 그려라"
      ],
      "metadata": {
        "id": "Qy-CZthYjuwN"
      }
    },
    {
      "cell_type": "code",
      "source": [
        "z = np.linspace(-10, 10, 1000)\n",
        "sigmoid = lambda x: 1/(1 + np.exp(-x))\n",
        "\n",
        "import matplotlib.pyplot as plt\n",
        "fig, ax = plt.subplots(1,1, figsize=(12,6))\n",
        "ax.plot(z, sigmoid(z))\n",
        "ax.hlines(0.5, -10, 10, 'k', '-')\n",
        "ax.vlines(0, 0, 1, 'k', '--')"
      ],
      "metadata": {
        "colab": {
          "base_uri": "https://localhost:8080/",
          "height": 392
        },
        "id": "OXxjYeN-jvkL",
        "outputId": "2345cd15-e3ae-4106-da41-a0155e0175be"
      },
      "execution_count": null,
      "outputs": [
        {
          "output_type": "execute_result",
          "data": {
            "text/plain": [
              "<matplotlib.collections.LineCollection at 0x7ff5358e9e90>"
            ]
          },
          "metadata": {},
          "execution_count": 107
        },
        {
          "output_type": "display_data",
          "data": {
            "image/png": "[encoded data removed]",
            "text/plain": [
              "<Figure size 864x432 with 1 Axes>"
            ]
          },
          "metadata": {
            "needs_background": "light"
          }
        }
      ]
    },
    {
      "cell_type": "markdown",
      "source": [
        "[Quiz] 10000개의 P(y=1)가 있다. 10000개의 y값이 있다.\n",
        "- 이때, seed를 123 고정해서 p, y을 생성하고\n",
        "- likelihood와 log likelihood를 계산해보고, 이를 비교해보자.\n",
        "\n",
        "$$\\begin{align}\n",
        "Likelyhood(Y) &= \\prod_{i=1}^n {P(y_i=1)^{y_i} * (1-P(y_i=1))^{1-y_i}}\\\\\n",
        "\\log{Likelyhood(Y)} = LL(Y) &= \\sum_{i=1}^n \\left[ {y_i \\log(P(y_i=1)) + (1-y_i) \\log((1-P(y_i=1))} \\right] \\\\\n",
        "Loss(Y) = NLL(Y) &= - \\sum_{i=1}^n \\left[ {y_i \\log(P(y_i=1)) + (1-y_i)\\log((1-P(y_i=1))} \\right] \n",
        "\\end{align}$$"
      ],
      "metadata": {
        "id": "doX11O0hphKp"
      }
    },
    {
      "cell_type": "code",
      "source": [
        "np.random.seed(123)\n",
        "py1 = np.random.random(10000)\n",
        "randy = np.random.randint(0, 2, 10000)\n",
        "goody = np.where(py1 + np.random.random(10000)*.2 > .5, 1, 0)"
      ],
      "metadata": {
        "id": "Gua9b3OGpg4-"
      },
      "execution_count": null,
      "outputs": []
    },
    {
      "cell_type": "code",
      "source": [
        "Lrandy = np.cumprod(py1**randy * (1 - py1)**(1-randy))[-1]\n",
        "LLrandy = np.sum(randy*np.log(py1) + (1-randy)*np.log(1-py1))\n",
        "Lossrandy = - LLrandy\n",
        "Lrandy, LLrandy, Lossrandy"
      ],
      "metadata": {
        "colab": {
          "base_uri": "https://localhost:8080/"
        },
        "id": "G2SxyAwlqP-F",
        "outputId": "75092048-1439-4cce-ab02-88b8cbd15041"
      },
      "execution_count": null,
      "outputs": [
        {
          "output_type": "execute_result",
          "data": {
            "text/plain": [
              "(0.0, -10099.305164935557, 10099.305164935557)"
            ]
          },
          "metadata": {},
          "execution_count": 109
        }
      ]
    },
    {
      "cell_type": "code",
      "source": [
        "Lgoody = np.cumprod(py1**goody * (1 - py1)**(1-goody))[-1]\n",
        "LLgoody = np.sum(goody*np.log(py1) + (1-goody)*np.log(1-py1))\n",
        "Lossgoody = - LLgoody\n",
        "Lgoody, LLgoody, Lossgoody"
      ],
      "metadata": {
        "colab": {
          "base_uri": "https://localhost:8080/"
        },
        "id": "uVGshGdztPeL",
        "outputId": "4eb41906-2d57-4ccb-8efc-4a14702e7b6a"
      },
      "execution_count": null,
      "outputs": [
        {
          "output_type": "execute_result",
          "data": {
            "text/plain": [
              "(0.0, -3330.566343448386, 3330.566343448386)"
            ]
          },
          "metadata": {},
          "execution_count": 110
        }
      ]
    },
    {
      "cell_type": "code",
      "source": [
        "Lrandy = 1\n",
        "for p, y in zip(py1, randy):\n",
        "    Lrandy *= p**y * (1-p)**(1-y)\n",
        "Lrandy"
      ],
      "metadata": {
        "colab": {
          "base_uri": "https://localhost:8080/"
        },
        "id": "wHOLU2ZA2QRM",
        "outputId": "83dfc1d0-c918-4ea4-837d-9c01193ddec5"
      },
      "execution_count": null,
      "outputs": [
        {
          "output_type": "execute_result",
          "data": {
            "text/plain": [
              "0.0"
            ]
          },
          "metadata": {},
          "execution_count": 111
        }
      ]
    },
    {
      "cell_type": "code",
      "source": [
        "a = np.array([2, 3, 5])\n",
        "a"
      ],
      "metadata": {
        "colab": {
          "base_uri": "https://localhost:8080/"
        },
        "id": "Zh99at9x1q9h",
        "outputId": "5abe567b-b567-4cd9-db78-cfd1a1f99263"
      },
      "execution_count": null,
      "outputs": [
        {
          "output_type": "execute_result",
          "data": {
            "text/plain": [
              "array([2, 3, 5])"
            ]
          },
          "metadata": {},
          "execution_count": 112
        }
      ]
    },
    {
      "cell_type": "code",
      "source": [
        "np.cumprod(a)"
      ],
      "metadata": {
        "colab": {
          "base_uri": "https://localhost:8080/"
        },
        "id": "JkM7LUiB1v6o",
        "outputId": "37d95aa3-6f85-4398-a068-4f4ef9abd941"
      },
      "execution_count": null,
      "outputs": [
        {
          "output_type": "execute_result",
          "data": {
            "text/plain": [
              "array([ 2,  6, 30])"
            ]
          },
          "metadata": {},
          "execution_count": 113
        }
      ]
    },
    {
      "cell_type": "markdown",
      "metadata": {
        "id": "uIxiz2Om596i"
      },
      "source": [
        "### 2.1 statistical tool\n",
        "binary case만을 고려하기 위해, 인위적인 분류문제를 생성하자."
      ]
    },
    {
      "cell_type": "code",
      "metadata": {
        "id": "UF964Dp2596j",
        "outputId": "4a6557da-94ff-4c97-a6dd-ef394d5f6f1f",
        "colab": {
          "base_uri": "https://localhost:8080/"
        }
      },
      "source": [
        "from sklearn.datasets import make_classification\n",
        "\n",
        "X, y = make_classification(n_features=4, n_redundant=0, n_informative=1,\n",
        "                           n_clusters_per_class=1, random_state=4)\n",
        "print(X.shape)\n",
        "X[:5]"
      ],
      "execution_count": null,
      "outputs": [
        {
          "output_type": "stream",
          "name": "stdout",
          "text": [
            "(100, 4)\n"
          ]
        },
        {
          "output_type": "execute_result",
          "data": {
            "text/plain": [
              "array([[-0.31629979,  0.70803893, -2.29291305,  0.28220666],\n",
              "       [-0.67690095, -0.77936232, -1.12511459, -0.85295128],\n",
              "       [ 2.70496343,  1.81256131,  0.09005406,  0.62008331],\n",
              "       [ 0.5868326 ,  0.36681905, -0.45731792, -0.46723319],\n",
              "       [ 0.65746416, -1.15725619, -0.03396529, -0.40039299]])"
            ]
          },
          "metadata": {},
          "execution_count": 114
        }
      ]
    },
    {
      "cell_type": "code",
      "metadata": {
        "id": "KDrBfPsf596j",
        "outputId": "43878fde-968c-4084-b06d-263527c22ec1",
        "colab": {
          "base_uri": "https://localhost:8080/"
        }
      },
      "source": [
        "y.shape"
      ],
      "execution_count": null,
      "outputs": [
        {
          "output_type": "execute_result",
          "data": {
            "text/plain": [
              "(100,)"
            ]
          },
          "metadata": {},
          "execution_count": 115
        }
      ]
    },
    {
      "cell_type": "code",
      "metadata": {
        "id": "xEfNoTnb596j",
        "outputId": "54ba7658-1837-409e-ecf3-84045e74e7c9",
        "colab": {
          "base_uri": "https://localhost:8080/"
        }
      },
      "source": [
        "y[:5]"
      ],
      "execution_count": null,
      "outputs": [
        {
          "output_type": "execute_result",
          "data": {
            "text/plain": [
              "array([1, 0, 1, 1, 0])"
            ]
          },
          "metadata": {},
          "execution_count": 116
        }
      ]
    },
    {
      "cell_type": "code",
      "metadata": {
        "id": "fbCDd5wB596j",
        "outputId": "ee882a18-8362-428a-b8f7-a20b4ce2b763",
        "colab": {
          "base_uri": "https://localhost:8080/"
        }
      },
      "source": [
        "import statsmodels.api as sm\n",
        "X = sm.add_constant(X)\n",
        "print(X.shape)\n",
        "X[:5]"
      ],
      "execution_count": null,
      "outputs": [
        {
          "output_type": "stream",
          "name": "stdout",
          "text": [
            "(100, 5)\n"
          ]
        },
        {
          "output_type": "execute_result",
          "data": {
            "text/plain": [
              "array([[ 1.        , -0.31629979,  0.70803893, -2.29291305,  0.28220666],\n",
              "       [ 1.        , -0.67690095, -0.77936232, -1.12511459, -0.85295128],\n",
              "       [ 1.        ,  2.70496343,  1.81256131,  0.09005406,  0.62008331],\n",
              "       [ 1.        ,  0.5868326 ,  0.36681905, -0.45731792, -0.46723319],\n",
              "       [ 1.        ,  0.65746416, -1.15725619, -0.03396529, -0.40039299]])"
            ]
          },
          "metadata": {},
          "execution_count": 117
        }
      ]
    },
    {
      "cell_type": "markdown",
      "metadata": {
        "id": "zpQFCAnR596j"
      },
      "source": [
        "통계 formla는 y ~ X 형식으로 나타나기 때문에, sklearn과 달리 X보다 y를 먼서 써준다."
      ]
    },
    {
      "cell_type": "code",
      "metadata": {
        "id": "J6WHX9RZ596j",
        "outputId": "74742867-96e6-4fd5-d0a6-938cd74712b4",
        "colab": {
          "base_uri": "https://localhost:8080/",
          "height": 452
        }
      },
      "source": [
        "model = sm.Logit(y, X)\n",
        "result = model.fit()\n",
        "result.summary()"
      ],
      "execution_count": null,
      "outputs": [
        {
          "output_type": "stream",
          "name": "stdout",
          "text": [
            "Optimization terminated successfully.\n",
            "         Current function value: 0.124262\n",
            "         Iterations 9\n"
          ]
        },
        {
          "output_type": "execute_result",
          "data": {
            "text/html": [
              "<table class=\"simpletable\">\n",
              "<caption>Logit Regression Results</caption>\n",
              "<tr>\n",
              "  <th>Dep. Variable:</th>           <td>y</td>        <th>  No. Observations:  </th>  <td>   100</td>  \n",
              "</tr>\n",
              "<tr>\n",
              "  <th>Model:</th>                 <td>Logit</td>      <th>  Df Residuals:      </th>  <td>    95</td>  \n",
              "</tr>\n",
              "<tr>\n",
              "  <th>Method:</th>                 <td>MLE</td>       <th>  Df Model:          </th>  <td>     4</td>  \n",
              "</tr>\n",
              "<tr>\n",
              "  <th>Date:</th>            <td>Mon, 27 Dec 2021</td> <th>  Pseudo R-squ.:     </th>  <td>0.8207</td>  \n",
              "</tr>\n",
              "<tr>\n",
              "  <th>Time:</th>                <td>04:39:26</td>     <th>  Log-Likelihood:    </th> <td> -12.426</td> \n",
              "</tr>\n",
              "<tr>\n",
              "  <th>converged:</th>             <td>True</td>       <th>  LL-Null:           </th> <td> -69.295</td> \n",
              "</tr>\n",
              "<tr>\n",
              "  <th>Covariance Type:</th>     <td>nonrobust</td>    <th>  LLR p-value:       </th> <td>1.161e-23</td>\n",
              "</tr>\n",
              "</table>\n",
              "<table class=\"simpletable\">\n",
              "<tr>\n",
              "    <td></td>       <th>coef</th>     <th>std err</th>      <th>z</th>      <th>P>|z|</th>  <th>[0.025</th>    <th>0.975]</th>  \n",
              "</tr>\n",
              "<tr>\n",
              "  <th>const</th> <td>    0.3037</td> <td>    0.603</td> <td>    0.503</td> <td> 0.615</td> <td>   -0.879</td> <td>    1.486</td>\n",
              "</tr>\n",
              "<tr>\n",
              "  <th>x1</th>    <td>   -1.0410</td> <td>    0.731</td> <td>   -1.423</td> <td> 0.155</td> <td>   -2.474</td> <td>    0.392</td>\n",
              "</tr>\n",
              "<tr>\n",
              "  <th>x2</th>    <td>    5.6889</td> <td>    1.538</td> <td>    3.700</td> <td> 0.000</td> <td>    2.675</td> <td>    8.703</td>\n",
              "</tr>\n",
              "<tr>\n",
              "  <th>x3</th>    <td>   -0.2788</td> <td>    0.553</td> <td>   -0.504</td> <td> 0.614</td> <td>   -1.363</td> <td>    0.805</td>\n",
              "</tr>\n",
              "<tr>\n",
              "  <th>x4</th>    <td>   -0.8798</td> <td>    0.659</td> <td>   -1.336</td> <td> 0.182</td> <td>   -2.171</td> <td>    0.411</td>\n",
              "</tr>\n",
              "</table><br/><br/>Possibly complete quasi-separation: A fraction 0.16 of observations can be<br/>perfectly predicted. This might indicate that there is complete<br/>quasi-separation. In this case some parameters will not be identified."
            ],
            "text/plain": [
              "<class 'statsmodels.iolib.summary.Summary'>\n",
              "\"\"\"\n",
              "                           Logit Regression Results                           \n",
              "==============================================================================\n",
              "Dep. Variable:                      y   No. Observations:                  100\n",
              "Model:                          Logit   Df Residuals:                       95\n",
              "Method:                           MLE   Df Model:                            4\n",
              "Date:                Mon, 27 Dec 2021   Pseudo R-squ.:                  0.8207\n",
              "Time:                        04:39:26   Log-Likelihood:                -12.426\n",
              "converged:                       True   LL-Null:                       -69.295\n",
              "Covariance Type:            nonrobust   LLR p-value:                 1.161e-23\n",
              "==============================================================================\n",
              "                 coef    std err          z      P>|z|      [0.025      0.975]\n",
              "------------------------------------------------------------------------------\n",
              "const          0.3037      0.603      0.503      0.615      -0.879       1.486\n",
              "x1            -1.0410      0.731     -1.423      0.155      -2.474       0.392\n",
              "x2             5.6889      1.538      3.700      0.000       2.675       8.703\n",
              "x3            -0.2788      0.553     -0.504      0.614      -1.363       0.805\n",
              "x4            -0.8798      0.659     -1.336      0.182      -2.171       0.411\n",
              "==============================================================================\n",
              "\n",
              "Possibly complete quasi-separation: A fraction 0.16 of observations can be\n",
              "perfectly predicted. This might indicate that there is complete\n",
              "quasi-separation. In this case some parameters will not be identified.\n",
              "\"\"\""
            ]
          },
          "metadata": {},
          "execution_count": 118
        }
      ]
    },
    {
      "cell_type": "code",
      "metadata": {
        "id": "E4F-HXH4596j",
        "outputId": "ba95ccaa-6d70-4d19-f233-1ef11f8df34f",
        "colab": {
          "base_uri": "https://localhost:8080/"
        }
      },
      "source": [
        "result.params"
      ],
      "execution_count": null,
      "outputs": [
        {
          "output_type": "execute_result",
          "data": {
            "text/plain": [
              "array([ 0.30366162, -1.04095437,  5.68894902, -0.27882206, -0.87983546])"
            ]
          },
          "metadata": {},
          "execution_count": 120
        }
      ]
    },
    {
      "cell_type": "markdown",
      "metadata": {
        "id": "oqtEEeCV596j"
      },
      "source": [
        "P(y=1)과 y의 값을 비교해서 보자."
      ]
    },
    {
      "cell_type": "code",
      "metadata": {
        "id": "2y6rZLCB596k",
        "outputId": "b2a3099d-7044-40e2-b130-c703e25915a8",
        "colab": {
          "base_uri": "https://localhost:8080/"
        }
      },
      "source": [
        "import numpy as np\n",
        "def sigmoid(z):\n",
        "    return 1/(1+np.exp(-z))\n",
        "\n",
        "# Prob(y=1) = Sigmoid(X.W)\n",
        "prob = sigmoid(X.dot(result.params))\n",
        "np.hstack((y.reshape(-1, 1), prob.reshape(-1, 1)))[:10]"
      ],
      "execution_count": null,
      "outputs": [
        {
          "output_type": "execute_result",
          "data": {
            "text/plain": [
              "array([[1.        , 0.9936437 ],\n",
              "       [0.        , 0.08617143],\n",
              "       [1.        , 0.99927514],\n",
              "       [1.        , 0.91037393],\n",
              "       [0.        , 0.00135507],\n",
              "       [1.        , 0.99995576],\n",
              "       [0.        , 0.00141865],\n",
              "       [1.        , 0.99893419],\n",
              "       [0.        , 0.0844124 ],\n",
              "       [1.        , 0.96469283]])"
            ]
          },
          "metadata": {},
          "execution_count": 121
        }
      ]
    },
    {
      "cell_type": "markdown",
      "metadata": {
        "id": "KDXSFKdS596k"
      },
      "source": [
        "[Quiz] 이 모델의 정확도를 구하라."
      ]
    },
    {
      "cell_type": "code",
      "metadata": {
        "id": "q9K3p0Jr596k"
      },
      "source": [
        "preds = np.where(result.predict(X) > 0.5, 1, 0)"
      ],
      "execution_count": null,
      "outputs": []
    },
    {
      "cell_type": "code",
      "metadata": {
        "id": "G4V6oEAy596k",
        "outputId": "42ce2aee-78ac-47c9-8b81-dcc65afa430f",
        "colab": {
          "base_uri": "https://localhost:8080/"
        }
      },
      "source": [
        "(preds == y).mean()"
      ],
      "execution_count": null,
      "outputs": [
        {
          "output_type": "execute_result",
          "data": {
            "text/plain": [
              "0.97"
            ]
          },
          "metadata": {},
          "execution_count": 123
        }
      ]
    },
    {
      "cell_type": "markdown",
      "metadata": {
        "id": "vGCn94pj596k"
      },
      "source": [
        "[Quiz] 정확하지 않은 데이터의 색인은 무엇이고, 이때의 데이터는 어떤 값인가?"
      ]
    },
    {
      "cell_type": "code",
      "metadata": {
        "id": "PYktb7b1596k",
        "outputId": "1ccabef9-76ba-4c01-88c2-0d993e8ef701",
        "colab": {
          "base_uri": "https://localhost:8080/"
        }
      },
      "source": [
        "falseIdx = np.where(preds != y)[0]\n",
        "falseIdx"
      ],
      "execution_count": null,
      "outputs": [
        {
          "output_type": "execute_result",
          "data": {
            "text/plain": [
              "array([56, 61, 79])"
            ]
          },
          "metadata": {},
          "execution_count": 124
        }
      ]
    },
    {
      "cell_type": "code",
      "metadata": {
        "id": "DfcOu3fq596k",
        "outputId": "29ee49cd-eb5e-4bb5-a7a4-d3cb03394e5a",
        "colab": {
          "base_uri": "https://localhost:8080/"
        }
      },
      "source": [
        "X[falseIdx]"
      ],
      "execution_count": null,
      "outputs": [
        {
          "output_type": "execute_result",
          "data": {
            "text/plain": [
              "array([[ 1.        , -0.40668098, -0.40132266, -0.42305624, -0.25653788],\n",
              "       [ 1.        ,  0.77399926, -0.08399356, -0.75187076, -0.11374508],\n",
              "       [ 1.        ,  0.32793911,  1.1056454 , -0.27680916,  1.13384332]])"
            ]
          },
          "metadata": {},
          "execution_count": 125
        }
      ]
    },
    {
      "cell_type": "code",
      "metadata": {
        "id": "SSn0u80p596k",
        "outputId": "7d7496a1-fa9f-4842-d809-efe7d4455cc2",
        "colab": {
          "base_uri": "https://localhost:8080/"
        }
      },
      "source": [
        "(y[falseIdx], prob[falseIdx])"
      ],
      "execution_count": null,
      "outputs": [
        {
          "output_type": "execute_result",
          "data": {
            "text/plain": [
              "(array([1, 1, 0]), array([0.22927002, 0.33846185, 0.99518809]))"
            ]
          },
          "metadata": {},
          "execution_count": 126
        }
      ]
    },
    {
      "cell_type": "markdown",
      "metadata": {
        "id": "AEVB_iT7596l"
      },
      "source": [
        "### 2.2 Using numpy with linear algebra\n",
        "can't get exact solution, but approximation method with Hessian Matrix"
      ]
    },
    {
      "cell_type": "markdown",
      "metadata": {
        "id": "k1l4UqKM596l"
      },
      "source": [
        "### 2.3 Machine Learning Method\n",
        "#### 1) SGD(확률적 경사하강법)"
      ]
    },
    {
      "cell_type": "markdown",
      "metadata": {
        "id": "hTGu2jhH596l"
      },
      "source": [
        "1. 전체 학습데이터의 일부분(batch)을 이용하여 예측을 수행하고\n",
        "2. 예측결과를 실제 값과 구분하여 손실을 계산하고\n",
        "3. 손실을 줄이는 방향으로 학습 파라미터(w)를 업데이트하고\n",
        "4. 1 ~ 3을 전체 학습데이터를 모두 이용할 때까지 반복한 후,\n",
        "5. 학습데이터를 다시 섞고 1 ~ 4의 과정을 EPOCH의 수만큼 반복한다."
      ]
    },
    {
      "cell_type": "code",
      "metadata": {
        "id": "4RM5Kgck596l",
        "outputId": "644c9d54-e74d-414b-f65a-48219e3672f1",
        "colab": {
          "base_uri": "https://localhost:8080/"
        }
      },
      "source": [
        "import numpy as np\n",
        "from numpy.random import shuffle, rand\n",
        "np.random.seed(234)\n",
        "w = rand(X.shape[-1]) - 0.5\n",
        "w"
      ],
      "execution_count": null,
      "outputs": [
        {
          "output_type": "execute_result",
          "data": {
            "text/plain": [
              "array([-0.46903266, -0.24571793,  0.41240044,  0.4701742 , -0.25338022])"
            ]
          },
          "metadata": {},
          "execution_count": 127
        }
      ]
    },
    {
      "cell_type": "code",
      "metadata": {
        "id": "sXyE7M-7596l"
      },
      "source": [
        "EPOCH = 150000 # 50000\n",
        "batch = 34 # 2^n이 좋으나 데이터가 100개라 1/3로 함\n",
        "lrs = [0.0005, 0.00005, 0.00001] # stepwise learning rate\n",
        "rows = X.shape[0]\n",
        "losses = []\n",
        "randRow = np.arange(rows)\n",
        "MIN = 10**(-8)\n",
        "\n",
        "def sigmoid(z):\n",
        "    return 1 / (1 + np.exp(-z))\n",
        "\n",
        "for epoch in range(EPOCH):\n",
        "    # for each epoch, shuffle X, y\n",
        "    shuffle(randRow)\n",
        "    loss = 0\n",
        "    if epoch < 50000:\n",
        "        lr = lrs[0]\n",
        "    elif epoch < 100000:\n",
        "        lr = lrs[1]\n",
        "    else: lr = lrs[2]\n",
        "    \n",
        "    for i in range(0, rows, batch):\n",
        "        batch_index = randRow[i:i+batch]\n",
        "        x_batch = X[batch_index]\n",
        "        y_batch = y[batch_index]\n",
        "        # 아래는 직접 구현해보세요.\n",
        "        # zero devide error를 막기 위해 작은 MIN 값을 log에 넣어준다.\n",
        "        yhat = sigmoid(x_batch.dot(w))\n",
        "        loss += - y_batch.T.dot(np.log(yhat + MIN)) \\\n",
        "                - (1-y_batch).T.dot(np.log(1-yhat + MIN))\n",
        "        w -= lr*x_batch.T.dot(yhat - y_batch)\n",
        "        \n",
        "    loss /= rows\n",
        "    losses.append(loss)"
      ],
      "execution_count": null,
      "outputs": []
    },
    {
      "cell_type": "markdown",
      "metadata": {
        "id": "OiqlnSJN596l"
      },
      "source": [
        "$$\\begin{align}\n",
        "\\hat y &= P(y=1) = \\sigma(X \\cdot w) \\\\\n",
        "Loss(w) &= NLL(w) \n",
        "= - \\left[ y^T \\cdot \\log P(y=1) \\right] - \\left[ (1-y)^T \\cdot \\log (1-P(y=1)) \\right] \\\\\n",
        "\\cfrac {\\partial Loss}{\\partial w} &= X^T \\cdot (\\hat y - y) = dw \\\\\n",
        "w &= w - lr * dw\n",
        "\\end{align}$$"
      ]
    },
    {
      "cell_type": "code",
      "metadata": {
        "scrolled": true,
        "id": "ldLeMcUX596m",
        "outputId": "ddff457c-6b61-4348-a103-fc3783d672bd",
        "colab": {
          "base_uri": "https://localhost:8080/"
        }
      },
      "source": [
        "w"
      ],
      "execution_count": null,
      "outputs": [
        {
          "output_type": "execute_result",
          "data": {
            "text/plain": [
              "array([ 0.30365817, -1.04094798,  5.68892956, -0.27881875, -0.87982798])"
            ]
          },
          "metadata": {},
          "execution_count": 134
        }
      ]
    },
    {
      "cell_type": "code",
      "metadata": {
        "id": "sppXgrqG596m",
        "outputId": "0d17663f-0877-4a2d-d1c1-f2c964fc6169",
        "colab": {
          "base_uri": "https://localhost:8080/"
        }
      },
      "source": [
        "result.params"
      ],
      "execution_count": null,
      "outputs": [
        {
          "output_type": "execute_result",
          "data": {
            "text/plain": [
              "array([ 0.30366162, -1.04095437,  5.68894902, -0.27882206, -0.87983546])"
            ]
          },
          "metadata": {},
          "execution_count": 135
        }
      ]
    },
    {
      "cell_type": "code",
      "metadata": {
        "id": "zRySoDHH596m"
      },
      "source": [
        "import pandas as pd\n",
        "loss_df = pd.DataFrame(losses, columns=['loss'])"
      ],
      "execution_count": null,
      "outputs": []
    },
    {
      "cell_type": "code",
      "metadata": {
        "scrolled": true,
        "id": "ybt1XUBN596m",
        "outputId": "0014b674-18e5-4bc4-f2ec-595d59882be8",
        "colab": {
          "base_uri": "https://localhost:8080/",
          "height": 283
        }
      },
      "source": [
        "loss_df[40000:].plot()"
      ],
      "execution_count": null,
      "outputs": [
        {
          "output_type": "execute_result",
          "data": {
            "text/plain": [
              "<matplotlib.axes._subplots.AxesSubplot at 0x7ff5335307d0>"
            ]
          },
          "metadata": {},
          "execution_count": 140
        },
        {
          "output_type": "display_data",
          "data": {
            "image/png": "[encoded data removed]",
            "text/plain": [
              "<Figure size 432x288 with 1 Axes>"
            ]
          },
          "metadata": {
            "needs_background": "light"
          }
        }
      ]
    },
    {
      "cell_type": "markdown",
      "metadata": {
        "id": "lp7LRrJD596m"
      },
      "source": [
        "[Quiz] 정확도를 계산하세요."
      ]
    },
    {
      "cell_type": "code",
      "metadata": {
        "id": "ieG-VFU5596m",
        "outputId": "e6e2c22f-4221-462e-98c1-6a1fea9a6f79",
        "colab": {
          "base_uri": "https://localhost:8080/"
        }
      },
      "source": [
        "(np.where(sigmoid(X.dot(w)) > .5, 1, 0) == y).mean()"
      ],
      "execution_count": null,
      "outputs": [
        {
          "output_type": "execute_result",
          "data": {
            "text/plain": [
              "0.97"
            ]
          },
          "metadata": {},
          "execution_count": 141
        }
      ]
    },
    {
      "cell_type": "markdown",
      "metadata": {
        "id": "6PvIxaDc596m"
      },
      "source": [
        "[Quiz] epoch는 그대로 유지하고, \n",
        "- lrs = [0.0005, 0.00005, 0.00001, 0.000005]를 \n",
        "- epoch가 30000, 60000, 90000 일때 각각 적용해서 \n",
        "- loss가 이전과 달리 어떻게 변화하는 지 그래프로 그려보자."
      ]
    },
    {
      "cell_type": "code",
      "metadata": {
        "id": "LufnKfxD596m",
        "outputId": "8292def3-af91-4d41-e75e-8ac32c01d57d",
        "colab": {
          "base_uri": "https://localhost:8080/"
        }
      },
      "source": [
        "np.random.seed(234)\n",
        "w = rand(X.shape[-1]) - 0.5\n",
        "w"
      ],
      "execution_count": null,
      "outputs": [
        {
          "output_type": "execute_result",
          "data": {
            "text/plain": [
              "array([-0.46903266, -0.24571793,  0.41240044,  0.4701742 , -0.25338022])"
            ]
          },
          "metadata": {},
          "execution_count": 142
        }
      ]
    },
    {
      "cell_type": "code",
      "metadata": {
        "id": "kk7F3wrQ596n"
      },
      "source": [
        "EPOCH = 150000 # 50000\n",
        "batch = 34 # 2^n이 좋으나 데이터가 100개라 1/3로 함\n",
        "lrs = [0.0005, 0.00005, 0.00001, 0.000005] # stepwise learning rate\n",
        "rows = X.shape[0]\n",
        "losses = []\n",
        "randRow = np.arange(rows)\n",
        "MIN = 10**(-8)\n",
        "\n",
        "def sigmoid(z):\n",
        "    return 1 / (1 + np.exp(-z))\n",
        "\n",
        "for epoch in range(EPOCH):\n",
        "    # for each epoch, shuffle X, y\n",
        "    shuffle(randRow)\n",
        "    loss = 0\n",
        "    if epoch < 30000: lr = lrs[0]\n",
        "    elif epoch < 60000: lr = lrs[1]\n",
        "    elif epoch < 90000: lr = lrs[2]\n",
        "    else: lr = lrs[3]\n",
        "    \n",
        "    for i in range(0, rows, batch):\n",
        "        batch_index = randRow[i:i+batch]\n",
        "        x_batch = X[batch_index]\n",
        "        y_batch = y[batch_index]\n",
        "        # 아래는 직접 구현해보세요.\n",
        "        # zero devide error를 막기 위해 작은 MIN 값을 log에 넣어준다.\n",
        "        yhat = sigmoid(x_batch.dot(w))\n",
        "        loss += - y_batch.T.dot(np.log(yhat + MIN)) \\\n",
        "                - (1-y_batch).T.dot(np.log(1-yhat + MIN))\n",
        "        w -= lr*x_batch.T.dot(yhat - y_batch)\n",
        "        \n",
        "    loss /= rows\n",
        "    losses.append(loss)"
      ],
      "execution_count": null,
      "outputs": []
    },
    {
      "cell_type": "code",
      "metadata": {
        "id": "CoL415ox596n"
      },
      "source": [
        "loss_df = pd.DataFrame(losses, columns=['loss'])"
      ],
      "execution_count": null,
      "outputs": []
    },
    {
      "cell_type": "code",
      "metadata": {
        "id": "13Rp2ear596n",
        "outputId": "16e8168d-2a04-4af3-ef3a-67e5904a68f2"
      },
      "source": [
        "loss_df[20000:].plot()"
      ],
      "execution_count": null,
      "outputs": [
        {
          "data": {
            "text/plain": [
              "<AxesSubplot:>"
            ]
          },
          "execution_count": 108,
          "metadata": {},
          "output_type": "execute_result"
        },
        {
          "data": {
            "image/png": "[encoded data removed]",
            "text/plain": [
              "<Figure size 432x288 with 1 Axes>"
            ]
          },
          "metadata": {
            "needs_background": "light"
          },
          "output_type": "display_data"
        }
      ]
    },
    {
      "cell_type": "code",
      "metadata": {
        "id": "EKGXUJQJ596n",
        "outputId": "363fd178-6153-422d-b326-17f4dbd02b50"
      },
      "source": [
        "loss_df[80000:].plot()"
      ],
      "execution_count": null,
      "outputs": [
        {
          "data": {
            "text/plain": [
              "<AxesSubplot:>"
            ]
          },
          "execution_count": 109,
          "metadata": {},
          "output_type": "execute_result"
        },
        {
          "data": {
            "image/png": "[encoded data removed]",
            "text/plain": [
              "<Figure size 432x288 with 1 Axes>"
            ]
          },
          "metadata": {
            "needs_background": "light"
          },
          "output_type": "display_data"
        }
      ]
    },
    {
      "cell_type": "code",
      "metadata": {
        "id": "1tGohCbC596n",
        "outputId": "ccea49f1-0a10-48cb-9b7b-916d109e0777"
      },
      "source": [
        "(np.where(sigmoid(X.dot(w)) > .5, 1, 0) == y).mean()"
      ],
      "execution_count": null,
      "outputs": [
        {
          "data": {
            "text/plain": [
              "0.97"
            ]
          },
          "execution_count": 110,
          "metadata": {},
          "output_type": "execute_result"
        }
      ]
    },
    {
      "cell_type": "markdown",
      "metadata": {
        "id": "dlzwUc8m596n"
      },
      "source": [
        "#### 2) [모멘텀 기법](https://cs231n.github.io/neural-networks-3/) 사용하기\n",
        "<참고> https://twinw.tistory.com/247\n",
        "$$v(t+1) = m * v(t) - \\alpha \\cfrac {\\partial \\text{Loss}(w)}{\\partial w} \\\\\n",
        "w(t+1) = w(t) + v(t+1)$$\n",
        "\n",
        "```\n",
        "v(t+1) = m * v(t) - a * dW(t)\n",
        "W(t+1) = W(t) + v(t+1)\n",
        "\n",
        "v(0) = 0, m = 0.9\n",
        "v(1) = - a * dW(0)\n",
        "W(1) = W(0) + v(1) = W(0) - a * dW(0)\n",
        "\n",
        "v(2) = m * v(1) - a * dW(1) = - 0.9 * a * dW(0) - a * dW(1)\n",
        "W(2) = W(1) - a * [ 0.9 * dW(0) + dW(1) ]\n",
        "\n",
        "v(3) = m * v(2) - a * dW(2) = - a * [ 0.9 * 0.9 * dW(0) + 0.9 * dW(1) + dW(2) ]\n",
        "W(3) = W(2) + v(3) = W(2) - a * [ 0.9 * 0.9 * dW(0) + 0.9 * dW(1) + dW(2) ]\n",
        "```\n",
        "- a: learning rate\n",
        "- m: momentum. memory of prior velocity. generally 0.9 ~ 0.99\n",
        "- v: velocity. moving speed and direction.\n",
        "\n",
        "```python\n",
        "v = m * v - learning_rate * dW\n",
        "W += v\n",
        "```"
      ]
    },
    {
      "cell_type": "code",
      "metadata": {
        "id": "vgNbFmMI596n",
        "outputId": "a74c5107-88b4-4970-edc3-bd49fecb21f3"
      },
      "source": [
        "import numpy as np\n",
        "from numpy.random import shuffle, rand\n",
        "np.random.seed(123)\n",
        "w = rand(X.shape[-1]) - 0.5\n",
        "w"
      ],
      "execution_count": null,
      "outputs": [
        {
          "data": {
            "text/plain": [
              "array([ 0.19646919, -0.21386067, -0.27314855,  0.05131477,  0.21946897])"
            ]
          },
          "execution_count": 123,
          "metadata": {},
          "output_type": "execute_result"
        }
      ]
    },
    {
      "cell_type": "code",
      "metadata": {
        "id": "TOx40rvv596o"
      },
      "source": [
        "EPOCH = 50000 # 50000\n",
        "batch = 34\n",
        "lrs = [0.0005, 0.00005, 0.00001]\n",
        "lr = 0.00005\n",
        "rows = X.shape[0]\n",
        "losses = []\n",
        "randRow = np.arange(rows)\n",
        "m = 0.95\n",
        "v = np.zeros(w.shape)\n",
        "\n",
        "def sigmoid(z):\n",
        "    return 1 / (1 + np.exp(-z))\n",
        "\n",
        "for epoch in range(EPOCH):\n",
        "    # for each epoch, shuffle X, y\n",
        "    shuffle(randRow)\n",
        "    epochLoss = 0\n",
        "    if epoch < 20000:\n",
        "        lr = lrs[0]\n",
        "    elif epoch < 40000:\n",
        "        lr = lrs[1]\n",
        "    else: lr = lrs[2]\n",
        "    \n",
        "    for i in range(0, rows, batch):\n",
        "        batch_index = randRow[i:i+batch]\n",
        "        x_batch = X[batch_index]\n",
        "        y_batch = y[batch_index]\n",
        "        # 아래 사항은 구현하세요.\n",
        "        yhat = sigmoid(x_batch.dot(w))\n",
        "        epochLoss += - y_batch.T.dot(np.log(yhat + MIN)) \\\n",
        "                    - (1-y_batch).T.dot(np.log(1-yhat + MIN))\n",
        "        dw = x_batch.T.dot(yhat - y_batch)\n",
        "        v = m*v - lr*dw\n",
        "        w += v\n",
        "    epochLoss /= rows\n",
        "    losses.append(epochLoss)"
      ],
      "execution_count": null,
      "outputs": []
    },
    {
      "cell_type": "markdown",
      "metadata": {
        "id": "c9ttI3q4596o"
      },
      "source": [
        "$$v(t+1) = m * v(t) - \\alpha \\cfrac {\\partial \\text{Loss}(w)}{\\partial w} \\\\\n",
        "w(t+1) = w(t) + v(t+1)$$"
      ]
    },
    {
      "cell_type": "code",
      "metadata": {
        "scrolled": true,
        "id": "GJtEvOAB596o",
        "outputId": "ea9ab5f6-ceef-4741-c12e-1bfdaa0a935c",
        "colab": {
          "base_uri": "https://localhost:8080/"
        }
      },
      "source": [
        "w"
      ],
      "execution_count": null,
      "outputs": [
        {
          "output_type": "execute_result",
          "data": {
            "text/plain": [
              "array([ 0.30364301, -1.04097375,  5.68894839, -0.27882388, -0.87984082])"
            ]
          },
          "metadata": {},
          "execution_count": 144
        }
      ]
    },
    {
      "cell_type": "code",
      "metadata": {
        "id": "2--EMVVZ596o",
        "outputId": "f7c130b4-6746-4845-a7e1-55f63ec7f4f9",
        "colab": {
          "base_uri": "https://localhost:8080/"
        }
      },
      "source": [
        "result.params"
      ],
      "execution_count": null,
      "outputs": [
        {
          "output_type": "execute_result",
          "data": {
            "text/plain": [
              "array([ 0.30366162, -1.04095437,  5.68894902, -0.27882206, -0.87983546])"
            ]
          },
          "metadata": {},
          "execution_count": 145
        }
      ]
    },
    {
      "cell_type": "code",
      "metadata": {
        "id": "g_DzmgCd596o",
        "outputId": "f63418bc-318f-48cd-cabb-a74895e9f844",
        "colab": {
          "base_uri": "https://localhost:8080/",
          "height": 283
        }
      },
      "source": [
        "lossdf = pd.DataFrame(losses[15000:], columns=[\"loss\"])\n",
        "lossdf.plot()"
      ],
      "execution_count": null,
      "outputs": [
        {
          "output_type": "execute_result",
          "data": {
            "text/plain": [
              "<matplotlib.axes._subplots.AxesSubplot at 0x7ff5334b6990>"
            ]
          },
          "metadata": {},
          "execution_count": 146
        },
        {
          "output_type": "display_data",
          "data": {
            "image/png": "[encoded data removed]",
            "text/plain": [
              "<Figure size 432x288 with 1 Axes>"
            ]
          },
          "metadata": {
            "needs_background": "light"
          }
        }
      ]
    },
    {
      "cell_type": "markdown",
      "metadata": {
        "id": "kSChSXYL596o"
      },
      "source": [
        "[Quiz] 정확도 계산하기"
      ]
    },
    {
      "cell_type": "code",
      "metadata": {
        "id": "QS0EQh2J596o",
        "outputId": "c10f66a9-818b-464e-f1cb-43dd74ffd4dc",
        "colab": {
          "base_uri": "https://localhost:8080/"
        }
      },
      "source": [
        "(np.where(sigmoid(X.dot(w)) > .5, 1, 0) == y).mean()"
      ],
      "execution_count": null,
      "outputs": [
        {
          "output_type": "execute_result",
          "data": {
            "text/plain": [
              "0.97"
            ]
          },
          "metadata": {},
          "execution_count": 147
        }
      ]
    },
    {
      "cell_type": "markdown",
      "metadata": {
        "id": "ua0a0yoh596p"
      },
      "source": [
        "#### 3) Nesterov 기법 사용하기\n",
        "![](https://t1.daumcdn.net/cfile/tistory/996E494B5B0D03A003)\n",
        "\n",
        "```python\n",
        "v = m * v - learning_rate * d(w + m*v)\n",
        "w += v\n",
        "```"
      ]
    },
    {
      "cell_type": "code",
      "metadata": {
        "id": "NNHisE3b596p",
        "outputId": "ebe75043-18e6-481e-a28f-818c7fbf68f7"
      },
      "source": [
        "import numpy as np\n",
        "from numpy.random import shuffle, rand\n",
        "np.random.seed(234)\n",
        "w = rand(X.shape[-1]) - 0.5\n",
        "w"
      ],
      "execution_count": null,
      "outputs": [
        {
          "data": {
            "text/plain": [
              "array([-0.46903266, -0.24571793,  0.41240044,  0.4701742 , -0.25338022])"
            ]
          },
          "execution_count": 134,
          "metadata": {},
          "output_type": "execute_result"
        }
      ]
    },
    {
      "cell_type": "code",
      "metadata": {
        "id": "r7WfR0wt596p"
      },
      "source": [
        "EPOCH = 50000 # 50000\n",
        "batch = 34\n",
        "lrs = [0.0005, 0.00005, 0.00001, 0.000005]\n",
        "lr = 0.00005\n",
        "rows = X.shape[0]\n",
        "losses = []\n",
        "randRow = np.arange(rows)\n",
        "m = 0.95\n",
        "v = 0\n",
        "\n",
        "def sigma(z):\n",
        "    return 1 / (1 + np.exp(-z))\n",
        "\n",
        "for epoch in range(EPOCH):\n",
        "    # for each epoch, shuffle X, y\n",
        "    shuffle(randRow)\n",
        "    epochLoss = 0\n",
        "    if epoch < 10000:\n",
        "        lr = lrs[0]\n",
        "    elif epoch < 20000:\n",
        "        lr = lrs[1]\n",
        "    elif epoch < 40000:\n",
        "        lr = lrs[2]\n",
        "    else: lr = lrs[3]\n",
        "    \n",
        "    for i in range(0, rows, batch):\n",
        "        batch_index = randRow[i:i+batch]\n",
        "        x_batch = X[batch_index]\n",
        "        y_batch = y[batch_index]\n",
        "        y_hat_batch = sigma(x_batch.dot(w))         # = P(y=1)\n",
        "        loss_batch = - y_batch.T.dot(np.log(y_hat_batch)) \\\n",
        "                     - (1 - y_batch).T.dot(np.log(1 - y_hat_batch))\n",
        "        epochLoss += loss_batch\n",
        "        # 아래 사항을 구현하세요.\n",
        "        # dw = x_batch.T.dot(y_hat_batch - y_batch)\n",
        "        y_hat_batch_withV = sigma(x_batch.dot(w + m*v))\n",
        "        dw_withV = x_batch.T.dot(y_hat_batch_withV - y_batch)\n",
        "        v = m*v - lr*dw_withV\n",
        "        w += v\n",
        "        \n",
        "    epochLoss /= rows\n",
        "    losses.append(epochLoss)"
      ],
      "execution_count": null,
      "outputs": []
    },
    {
      "cell_type": "markdown",
      "metadata": {
        "id": "qz-lqq2X596p"
      },
      "source": [
        "```\n",
        "v = m * v - learning_rate * d(w + m*v)\n",
        "w += v\n",
        "```"
      ]
    },
    {
      "cell_type": "code",
      "metadata": {
        "scrolled": true,
        "id": "kCqFoTE8596p",
        "outputId": "153ccf5c-ea21-4bae-af2f-2c3191fd1673",
        "colab": {
          "base_uri": "https://localhost:8080/"
        }
      },
      "source": [
        "w"
      ],
      "execution_count": null,
      "outputs": [
        {
          "output_type": "execute_result",
          "data": {
            "text/plain": [
              "array([ 0.30364431, -1.04096383,  5.6889458 , -0.27881809, -0.87984588])"
            ]
          },
          "metadata": {},
          "execution_count": 149
        }
      ]
    },
    {
      "cell_type": "code",
      "metadata": {
        "id": "oxCSXGbh596p",
        "outputId": "abf2261e-2793-47ae-e6b5-b3406a30bcd6",
        "colab": {
          "base_uri": "https://localhost:8080/"
        }
      },
      "source": [
        "result.params"
      ],
      "execution_count": null,
      "outputs": [
        {
          "output_type": "execute_result",
          "data": {
            "text/plain": [
              "array([ 0.30366162, -1.04095437,  5.68894902, -0.27882206, -0.87983546])"
            ]
          },
          "metadata": {},
          "execution_count": 150
        }
      ]
    },
    {
      "cell_type": "code",
      "metadata": {
        "id": "e9vpVqxJ596p",
        "outputId": "625d5bf6-98ab-4b19-d8da-f2228612be1b",
        "colab": {
          "base_uri": "https://localhost:8080/",
          "height": 294
        }
      },
      "source": [
        "lossdf = pd.DataFrame(losses, columns=[\"loss\"])\n",
        "lossdf[10000:].plot()"
      ],
      "execution_count": null,
      "outputs": [
        {
          "output_type": "execute_result",
          "data": {
            "text/plain": [
              "<matplotlib.axes._subplots.AxesSubplot at 0x7ff5338b2350>"
            ]
          },
          "metadata": {},
          "execution_count": 151
        },
        {
          "output_type": "display_data",
          "data": {
            "image/png": "[encoded data removed]",
            "text/plain": [
              "<Figure size 432x288 with 1 Axes>"
            ]
          },
          "metadata": {
            "needs_background": "light"
          }
        }
      ]
    },
    {
      "cell_type": "markdown",
      "metadata": {
        "id": "94tuRHCu596p"
      },
      "source": [
        "#### 4) RMSprop 사용하기\n",
        "```python\n",
        "v = m * v + (1 - m) * dw**2\n",
        "w += - learning_rate * dw / (np.sqrt(v) + eps)\n",
        "```"
      ]
    },
    {
      "cell_type": "code",
      "metadata": {
        "id": "IQ1rjlp_596q",
        "outputId": "653ff1e1-276a-40fb-a430-24a18f2891eb",
        "colab": {
          "base_uri": "https://localhost:8080/"
        }
      },
      "source": [
        "import numpy as np\n",
        "from numpy.random import shuffle, rand\n",
        "np.random.seed(234)\n",
        "w = rand(X.shape[-1]) - 0.5\n",
        "w"
      ],
      "execution_count": null,
      "outputs": [
        {
          "output_type": "execute_result",
          "data": {
            "text/plain": [
              "array([-0.46903266, -0.24571793,  0.41240044,  0.4701742 , -0.25338022])"
            ]
          },
          "metadata": {},
          "execution_count": 155
        }
      ]
    },
    {
      "cell_type": "code",
      "metadata": {
        "id": "jRAmPPwv596q"
      },
      "source": [
        "EPOCH = 50000 # 50000\n",
        "batch = 34\n",
        "# lrs = [0.0005, 0.00005, 0.00001, 0.000005]\n",
        "lr = 0.0005\n",
        "rows = X.shape[0]\n",
        "losses = []\n",
        "randRow = np.arange(rows)\n",
        "m = 0.95\n",
        "v = np.zeros(w.shape)\n",
        "eps=1e-10\n",
        "\n",
        "\n",
        "def sigmoid(z):\n",
        "    return 1 / (1 + np.exp(-z))\n",
        "\n",
        "for epoch in range(EPOCH):\n",
        "    # for each epoch, shuffle X, y\n",
        "    shuffle(randRow)\n",
        "    epochLoss = 0\n",
        "    \n",
        "    for i in range(0, rows, batch):\n",
        "        batch_index = randRow[i:i+batch]\n",
        "        x_batch = X[batch_index]\n",
        "        y_batch = y[batch_index]\n",
        "        y_hat_batch = sigmoid(x_batch.dot(w))\n",
        "        # 아래 사항 구현하세요.\n",
        "        dw = x_batch.T.dot(y_hat_batch - y_batch)\n",
        "        v = m * v + (1 - m) * dw**2\n",
        "        w += - lr * dw / (np.sqrt(v) + eps)\n",
        "        \n",
        "    epochLoss /= rows\n",
        "    losses.append(epochLoss)"
      ],
      "execution_count": null,
      "outputs": []
    },
    {
      "cell_type": "markdown",
      "metadata": {
        "id": "R_mMd6pd596q"
      },
      "source": [
        "```python\n",
        "v = m * v + (1 - m) * dw**2\n",
        "w += - learning_rate * dw / (np.sqrt(v) + eps)\n",
        "```"
      ]
    },
    {
      "cell_type": "code",
      "metadata": {
        "id": "i3uOQbHw596q",
        "outputId": "04faff7c-3a45-4ab3-9c58-2a2d54e1c8b9",
        "colab": {
          "base_uri": "https://localhost:8080/"
        }
      },
      "source": [
        "w"
      ],
      "execution_count": null,
      "outputs": [
        {
          "output_type": "execute_result",
          "data": {
            "text/plain": [
              "array([ 0.30795988, -1.04916538,  5.71735805, -0.2813089 , -0.8835331 ])"
            ]
          },
          "metadata": {},
          "execution_count": 157
        }
      ]
    },
    {
      "cell_type": "code",
      "metadata": {
        "id": "Pgm5H_3X596q",
        "outputId": "168db60c-b00b-4ae8-e327-483b3fad3831",
        "colab": {
          "base_uri": "https://localhost:8080/"
        }
      },
      "source": [
        "result.params"
      ],
      "execution_count": null,
      "outputs": [
        {
          "output_type": "execute_result",
          "data": {
            "text/plain": [
              "array([ 0.30366162, -1.04095437,  5.68894902, -0.27882206, -0.87983546])"
            ]
          },
          "metadata": {},
          "execution_count": 158
        }
      ]
    },
    {
      "cell_type": "code",
      "metadata": {
        "id": "Gs1y1nV4596q",
        "outputId": "84257159-31b7-4d12-d65f-1b282b58d5b7",
        "colab": {
          "base_uri": "https://localhost:8080/"
        }
      },
      "source": [
        "probs = sigma(X.dot(w))\n",
        "preds = np.where(probs > 0.5, 1, 0)\n",
        "(y == preds).mean()"
      ],
      "execution_count": null,
      "outputs": [
        {
          "output_type": "execute_result",
          "data": {
            "text/plain": [
              "0.97"
            ]
          },
          "metadata": {},
          "execution_count": 159
        }
      ]
    },
    {
      "cell_type": "markdown",
      "metadata": {
        "id": "eZ84jnUz596q"
      },
      "source": [
        "추가적으로 이외에도 다양한 optimizer:\n",
        "- adam\n",
        "- adadelta\n",
        "\n",
        "주로 많이 사용하는 optimizer는 adam, nesterov, rmsprop 등을 많이 사용합니다.\n",
        "\n",
        "추가적으로는 아래 자료를 참고하세요.\n",
        "- https://velog.io/@goe87088/Optimizer-%EC%A0%95%EB%A6%AC\n",
        "- https://www.tensorflow.org/api_docs/python/tf/keras/optimizers"
      ]
    },
    {
      "cell_type": "code",
      "metadata": {
        "id": "Bmlgp_Z1596r",
        "outputId": "f2930c0e-096c-462a-af8e-cd014ee3d835"
      },
      "source": [
        "!pip install cvxopt"
      ],
      "execution_count": null,
      "outputs": [
        {
          "name": "stdout",
          "output_type": "stream",
          "text": [
            "Collecting cvxopt\n",
            "  Downloading cvxopt-1.2.6-cp38-cp38-win_amd64.whl (9.5 MB)\n",
            "Installing collected packages: cvxopt\n",
            "Successfully installed cvxopt-1.2.6\n"
          ]
        }
      ]
    },
    {
      "cell_type": "code",
      "metadata": {
        "id": "oAi0SVdF596r"
      },
      "source": [
        "import numpy as np\n",
        "import cvxopt\n",
        "from sklearn.datasets import make_blobs\n",
        "from sklearn.model_selection import train_test_split\n",
        "from matplotlib import pyplot as plt\n",
        "from sklearn.svm import LinearSVC\n",
        "from sklearn.metrics import confusion_matrix"
      ],
      "execution_count": null,
      "outputs": []
    },
    {
      "cell_type": "code",
      "metadata": {
        "id": "gj1hDxL3596r"
      },
      "source": [
        "class SVM:\n",
        "    def fit(self, X, y):\n",
        "        n_samples, n_features = X.shape\n",
        "        # P = X^T X\n",
        "        K = np.zeros((n_samples, n_samples))\n",
        "        for i in range(n_samples):\n",
        "            for j in range(n_samples):\n",
        "                K[i,j] = np.dot(X[i], X[j])\n",
        "        P = cvxopt.matrix(np.outer(y, y) * K)\n",
        "        # q = -1 (1xN)\n",
        "        q = cvxopt.matrix(np.ones(n_samples) * -1)\n",
        "        # A = y^T \n",
        "        A = cvxopt.matrix(y, (1, n_samples))\n",
        "        # b = 0 \n",
        "        b = cvxopt.matrix(0.0)\n",
        "        # -1 (NxN)\n",
        "        G = cvxopt.matrix(np.diag(np.ones(n_samples) * -1))\n",
        "        # 0 (1xN)\n",
        "        h = cvxopt.matrix(np.zeros(n_samples))\n",
        "        solution = cvxopt.solvers.qp(P, q, G, h, A, b)\n",
        "        # Lagrange multipliers\n",
        "        a = np.ravel(solution['x'])\n",
        "        # Lagrange have non zero lagrange multipliers\n",
        "        sv = a > 1e-5\n",
        "        ind = np.arange(len(a))[sv]\n",
        "        self.a = a[sv]\n",
        "        self.sv = X[sv]\n",
        "        self.sv_y = y[sv]\n",
        "        # Intercept\n",
        "        self.b = 0\n",
        "        for n in range(len(self.a)):\n",
        "            self.b += self.sv_y[n]\n",
        "            self.b -= np.sum(self.a * self.sv_y * K[ind[n], sv])\n",
        "        self.b /= len(self.a)\n",
        "        # Weights\n",
        "        self.w = np.zeros(n_features)\n",
        "        for n in range(len(self.a)):\n",
        "            self.w += self.a[n] * self.sv_y[n] * self.sv[n]\n",
        "        \n",
        "    def project(self, X):\n",
        "        return np.dot(X, self.w) + self.b\n",
        "    \n",
        "    \n",
        "    def predict(self, X):\n",
        "        return np.sign(self.project(X))"
      ],
      "execution_count": null,
      "outputs": []
    },
    {
      "cell_type": "code",
      "metadata": {
        "id": "Cuw-fHT6596r"
      },
      "source": [
        "X, y = make_blobs(n_samples=250, centers=2,\n",
        "                  random_state=0, cluster_std=0.60)\n",
        "y[y == 0] = -1\n",
        "tmp = np.ones(len(X))\n",
        "y = tmp * y"
      ],
      "execution_count": null,
      "outputs": []
    },
    {
      "cell_type": "code",
      "metadata": {
        "id": "9YzrF-PC596r",
        "outputId": "a74f7f85-181e-415d-dcf4-a4ff003d407c"
      },
      "source": [
        "plt.scatter(X[:, 0], X[:, 1], c=y, cmap='winter')"
      ],
      "execution_count": null,
      "outputs": [
        {
          "data": {
            "text/plain": [
              "<matplotlib.collections.PathCollection at 0x1e09855dac0>"
            ]
          },
          "execution_count": 7,
          "metadata": {},
          "output_type": "execute_result"
        },
        {
          "data": {
            "image/png": "[encoded data removed]",
            "text/plain": [
              "<Figure size 432x288 with 1 Axes>"
            ]
          },
          "metadata": {
            "needs_background": "light"
          },
          "output_type": "display_data"
        }
      ]
    },
    {
      "cell_type": "code",
      "metadata": {
        "id": "smSAojXU596r"
      },
      "source": [
        "X_train, X_test, y_train, y_test = train_test_split(X, y, random_state=0)"
      ],
      "execution_count": null,
      "outputs": []
    },
    {
      "cell_type": "code",
      "metadata": {
        "id": "WykeVJ_I596r",
        "outputId": "dd9f31db-4e1c-4d63-ee3a-c01f4ddd35b8"
      },
      "source": [
        "svm = SVM()\n",
        "svm.fit(X_train, y_train)"
      ],
      "execution_count": null,
      "outputs": [
        {
          "name": "stdout",
          "output_type": "stream",
          "text": [
            "     pcost       dcost       gap    pres   dres\n",
            " 0: -1.8226e+01 -3.4458e+01  6e+02  2e+01  2e+00\n",
            " 1: -2.5252e+01 -1.8773e+01  2e+02  9e+00  7e-01\n",
            " 2: -5.3459e+01 -3.2711e+01  2e+02  7e+00  6e-01\n",
            " 3: -7.8360e+01 -2.6482e+01  1e+02  4e+00  3e-01\n",
            " 4: -5.6818e+00 -5.1750e+00  1e+01  2e-01  1e-02\n",
            " 5: -3.6906e+00 -4.1082e+00  4e-01  1e-15  9e-15\n",
            " 6: -4.0061e+00 -4.0104e+00  4e-03  1e-15  5e-15\n",
            " 7: -4.0094e+00 -4.0094e+00  4e-05  1e-16  8e-15\n",
            " 8: -4.0094e+00 -4.0094e+00  4e-07  1e-15  4e-15\n",
            "Optimal solution found.\n"
          ]
        }
      ]
    },
    {
      "cell_type": "code",
      "metadata": {
        "id": "MFkMeu5M596r",
        "outputId": "af318221-600e-4533-b087-ab72453b8fe0"
      },
      "source": [
        "def f(x, w, b, c=0):\n",
        "    return (-w[0] * x - b + c) / w[1]\n",
        "plt.scatter(X_train[:, 0], X_train[:, 1], c=y_train, cmap='winter')\n",
        "# w.x + b = 0\n",
        "a0 = -4; a1 = f(a0, svm.w, svm.b)\n",
        "b0 = 4; b1 = f(b0, svm.w, svm.b)\n",
        "plt.plot([a0,b0], [a1,b1], 'k')\n",
        "# w.x + b = 1\n",
        "a0 = -4; a1 = f(a0, svm.w, svm.b, 1)\n",
        "b0 = 4; b1 = f(b0, svm.w, svm.b, 1)\n",
        "plt.plot([a0,b0], [a1,b1], 'k--')\n",
        "# w.x + b = -1\n",
        "a0 = -4; a1 = f(a0, svm.w, svm.b, -1)\n",
        "b0 = 4; b1 = f(b0, svm.w, svm.b, -1)\n",
        "plt.plot([a0,b0], [a1,b1], 'k--')"
      ],
      "execution_count": null,
      "outputs": [
        {
          "data": {
            "text/plain": [
              "[<matplotlib.lines.Line2D at 0x1e09d6569d0>]"
            ]
          },
          "execution_count": 10,
          "metadata": {},
          "output_type": "execute_result"
        },
        {
          "data": {
            "image/png": "[encoded data removed]",
            "text/plain": [
              "<Figure size 432x288 with 1 Axes>"
            ]
          },
          "metadata": {
            "needs_background": "light"
          },
          "output_type": "display_data"
        }
      ]
    },
    {
      "cell_type": "code",
      "metadata": {
        "id": "LX5XNZy5596s",
        "outputId": "51187c14-5311-4ec1-bcb6-43315825a9ed"
      },
      "source": [
        "y_pred = svm.predict(X_test)\n",
        "confusion_matrix(y_test, y_pred)"
      ],
      "execution_count": null,
      "outputs": [
        {
          "data": {
            "text/plain": [
              "array([[29,  0],\n",
              "       [ 0, 34]], dtype=int64)"
            ]
          },
          "execution_count": 11,
          "metadata": {},
          "output_type": "execute_result"
        }
      ]
    },
    {
      "cell_type": "code",
      "metadata": {
        "id": "S-YyLvIW596s",
        "outputId": "b056309d-f5d4-4a8f-96d6-76d281462761"
      },
      "source": [
        "svc = LinearSVC()\n",
        "svc.fit(X_train, y_train)"
      ],
      "execution_count": null,
      "outputs": [
        {
          "data": {
            "text/plain": [
              "LinearSVC()"
            ]
          },
          "execution_count": 12,
          "metadata": {},
          "output_type": "execute_result"
        }
      ]
    },
    {
      "cell_type": "code",
      "metadata": {
        "id": "RfItFoG-596s",
        "outputId": "6c5565ab-5abb-4284-a3a0-224281625875"
      },
      "source": [
        "plt.scatter(X_train[:, 0], X_train[:, 1], c=y_train, cmap='winter');\n",
        "ax = plt.gca()\n",
        "xlim = ax.get_xlim()\n",
        "w = svc.coef_[0]\n",
        "a = -w[0] / w[1]\n",
        "xx = np.linspace(xlim[0], xlim[1])\n",
        "yy = a * xx - svc.intercept_[0] / w[1]\n",
        "plt.plot(xx, yy)\n",
        "yy = a * xx - (svc.intercept_[0] - 1) / w[1]\n",
        "plt.plot(xx, yy, 'k--')\n",
        "yy = a * xx - (svc.intercept_[0] + 1) / w[1]\n",
        "plt.plot(xx, yy, 'k--')"
      ],
      "execution_count": null,
      "outputs": [
        {
          "data": {
            "text/plain": [
              "[<matplotlib.lines.Line2D at 0x1e09d6d67c0>]"
            ]
          },
          "execution_count": 13,
          "metadata": {},
          "output_type": "execute_result"
        },
        {
          "data": {
            "image/png": "[encoded data removed]",
            "text/plain": [
              "<Figure size 432x288 with 1 Axes>"
            ]
          },
          "metadata": {
            "needs_background": "light"
          },
          "output_type": "display_data"
        }
      ]
    },
    {
      "cell_type": "code",
      "metadata": {
        "id": "OtThGP5O596s",
        "outputId": "dc1b7975-f0fe-449d-d59f-5f6a57877854"
      },
      "source": [
        "y_pred = svc.predict(X_test)\n",
        "confusion_matrix(y_test, y_pred)"
      ],
      "execution_count": null,
      "outputs": [
        {
          "data": {
            "text/plain": [
              "array([[29,  0],\n",
              "       [ 0, 34]], dtype=int64)"
            ]
          },
          "execution_count": 14,
          "metadata": {},
          "output_type": "execute_result"
        }
      ]
    },
    {
      "cell_type": "markdown",
      "metadata": {
        "id": "dHqEYC3Q596s"
      },
      "source": [
        "또다른 솔루션:"
      ]
    },
    {
      "cell_type": "code",
      "metadata": {
        "id": "kZA5TMUM596s"
      },
      "source": [
        "def svm_function(x,y):\n",
        "    #initilizing weight\n",
        "    w = np.zeros(len(x[0]))\n",
        "    #initialize learning rate\n",
        "    l_rate = 1\n",
        "    #epoch\n",
        "    epoch = 100000\n",
        "    #output list\n",
        "    out = []\n",
        "    #training svm\n",
        "    for e in range(epoch):\n",
        "        for i, val in enumerate(x):\n",
        "            val1 = np.dot(x[i], w)\n",
        "            if (y[i]*val1 < 1):\n",
        "                w = w + l_rate * ((y[i]*x[i]) - (2*(1/epoch)*w))\n",
        "            else:\n",
        "                w = w + l_rate * (-2*(1/epoch)*w)\n",
        "    \n",
        "    for i, val in enumerate(x):\n",
        "        out.append(np.dot(x[i], w))\n",
        "    \n",
        "    return w, out"
      ],
      "execution_count": null,
      "outputs": []
    },
    {
      "cell_type": "code",
      "metadata": {
        "id": "yZIF_4VG596s"
      },
      "source": [
        "class SVM(EPOCH=1000, C= )"
      ],
      "execution_count": null,
      "outputs": []
    },
    {
      "cell_type": "code",
      "metadata": {
        "id": "W4TGpipF596s"
      },
      "source": [
        "import numpy as np\n",
        "from sklearn.base import BaseEstimator, ClassifierMixin\n",
        "from sklearn.utils.validation import check_X_y, check_array, check_is_fitted\n",
        "from sklearn.utils.multiclass import unique_labels\n",
        "from sklearn.metrics import euclidean_distances\n",
        "from numpy.random import shuffle, rand\n",
        "\n",
        "\n",
        "class SVM(BaseEstimator, ClassifierMixin):\n",
        "\n",
        "    def __init__(self, epochs=1000, C=1., eps=1e-10, seed=234):\n",
        "        self.epochs = epochs\n",
        "        self.C = C\n",
        "        self.eps = eps\n",
        "        self.seed = seed\n",
        "        np.random.seed(self.seed)\n",
        "\n",
        "    def fit(self, X, y, lr=0.0005, batch=34, m=.95, w=None):\n",
        "\n",
        "        # Check that X and y have correct shape\n",
        "        X, y = check_X_y(X, y)\n",
        "        # Store the classes seen during fit\n",
        "        self.classes_ = unique_labels(y)\n",
        "\n",
        "        self.X_ = X\n",
        "        self.y_ = y\n",
        "        self.losses_ = []\n",
        "        if w: self.w = rand(self.X_.shape[-1]) - 0.5\n",
        "        else: self.w = w\n",
        "        self.lr = lr\n",
        "        self.m = .95\n",
        "        self.yprime = np.where(self.y_, self.y_, -1)\n",
        "        self.v = np.zeros(self.w.shape)\n",
        "        rows = self.X_.shape[0]\n",
        "        randRow = np.arange(rows)\n",
        "        \n",
        "        for epoch in range(self.epochs):\n",
        "            shuffle(randRow)\n",
        "            loss = 0\n",
        "\n",
        "            for i in range(0, rows, batch):\n",
        "                batch_index = randRow[i:i+batch]\n",
        "                x_batch = self.X_[batch_index]\n",
        "                y_batch = self.yprime[batch_index]\n",
        "                yhat = x_batch.dot(self.w)\n",
        "                slacks = 1 - y_batch*yhat\n",
        "                slackIdx = slacks > 0\n",
        "                loss += .5*self.w.T.dot(self.w) + C*slacks[slackIdx].sum()\n",
        "                dw = self.w - C*(x_batch.T*slackIdx*y_batch).sum(axis=1)\n",
        "                self.v = self.m * self.v + (1 - self.m) * dw**2\n",
        "                self.w += - self.lr * self.dw / (np.sqrt(self.v) + self.eps)\n",
        "\n",
        "            loss /= rows\n",
        "            self.losses.append(loss)\n",
        "        \n",
        "        return self\n",
        "\n",
        "    def predict(self, X):\n",
        "\n",
        "        # Check is fit had been called\n",
        "        check_is_fitted(self)\n",
        "\n",
        "        # Input validation\n",
        "        X = check_array(X)\n",
        "\n",
        "        return np.where(X.dot(self.w)>0, 1, 0)\n",
        "    \n",
        "    def score(self, X, y):\n",
        "        return (np.where(X.dot(w) > 0, 1, 0) == y).mean()"
      ],
      "execution_count": null,
      "outputs": []
    },
    {
      "cell_type": "code",
      "metadata": {
        "id": "5BwCwPOG596t"
      },
      "source": [
        ""
      ],
      "execution_count": null,
      "outputs": []
    }
  ]
}